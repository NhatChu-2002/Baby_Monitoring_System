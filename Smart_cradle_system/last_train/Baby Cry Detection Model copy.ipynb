{
 "cells": [
  {
   "cell_type": "code",
   "execution_count": 1,
   "metadata": {},
   "outputs": [
    {
     "name": "stderr",
     "output_type": "stream",
     "text": [
      "C:\\Users\\chunh\\AppData\\Roaming\\Python\\Python37\\site-packages\\pydub\\utils.py:170: RuntimeWarning: Couldn't find ffmpeg or avconv - defaulting to ffmpeg, but may not work\n",
      "  warn(\"Couldn't find ffmpeg or avconv - defaulting to ffmpeg, but may not work\", RuntimeWarning)\n"
     ]
    }
   ],
   "source": [
    "import librosa\n",
    "from os.path import isfile,join\n",
    "from os import listdir\n",
    "import matplotlib.pyplot as plt\n",
    "from scipy import hamming\n",
    "import soundfile as sf\n",
    "import scipy\n",
    "from python_speech_features import mfcc\n",
    "from scipy.io import wavfile\n",
    "import soundfile as sf\n",
    "import math\n",
    "import tensorflow\n",
    "from keras.utils import np_utils\n",
    "from keras.models import Sequential\n",
    "from keras.models import model_from_yaml\n",
    "from keras.models import model_from_json\n",
    "from keras.layers import Dense\n",
    "from keras import backend\n",
    "from keras.layers import Embedding\n",
    "from keras.layers import LSTM\n",
    "from sklearn.model_selection import train_test_split\n",
    "from pydub import AudioSegment\n",
    "import librosa.display\n",
    "import numpy as np\n"
   ]
  },
  {
   "cell_type": "code",
   "execution_count": 25,
   "metadata": {},
   "outputs": [],
   "source": [
    "# Thư mục chứa các thư mục con chứa các file âm thanh cần chuẩn hóa\n",
    "parent_folder_path = 'D:\\\\HK2-Năm 3\\\\PBL5\\\\Code\\\\data'\n",
    "\n",
    "# Tần số và âm lượng cần chuẩn hóa tất cả các file âm thanh về\n",
    "target_sample_rate = 44100\n",
    "target_volume = -20.0\n",
    "\n",
    "# Thư mục chứa các file âm thanh đã chuẩn hóa\n",
    "output_folder_path = 'D:\\\\HK2-Năm 3\\\\PBL5\\\\Code\\\\data\\\\normalized'\n",
    "\n",
    "\n",
    "for folder_name in ['Crying','Silence', 'Laugh', 'Noise']:\n",
    "    input_folder_path = os.path.join(parent_folder_path, folder_name)\n",
    "    \n",
    "    for filename in os.listdir(input_folder_path):\n",
    "        if filename.endswith('.wav'):\n",
    "            input_file_path = os.path.join(input_folder_path, filename)\n",
    "            output_file_path = os.path.join(output_folder_path, folder_name, filename)\n",
    "            signal, sr = librosa.load(input_file_path, sr=None)\n",
    "\n",
    "            # Chuẩn hóa tần số\n",
    "            if sr != target_sample_rate:\n",
    "                signal = librosa.resample(signal, sr, target_sample_rate)\n",
    "                sr = target_sample_rate\n",
    "\n",
    "            # Chuẩn hóa âm lượng\n",
    "            loudness_diff = target_volume - librosa.power_to_db(np.max(np.abs(signal)))\n",
    "            signal *= librosa.db_to_amplitude(loudness_diff)\n",
    "\n",
    "            os.makedirs(os.path.dirname(output_file_path), exist_ok=True)\n",
    "\n",
    "            sf.write(output_file_path, signal, sr, format='wav')\n"
   ]
  },
  {
   "cell_type": "code",
   "execution_count": 2,
   "metadata": {},
   "outputs": [],
   "source": [
    "babycry=[f for f in listdir('D:\\\\HK2-Năm 3\\\\PBL5\\\\Code\\\\data\\\\normalized\\\\Crying') if isfile(join('D:\\\\HK2-Năm 3\\\\PBL5\\\\Code\\\\data\\\\normalized\\\\Crying', f))]\n",
    "\n",
    "nonbabycry=[f for f in listdir('D:\\\\HK2-Năm 3\\\\PBL5\\\\Code\\\\data\\\\normalized\\\\Noise') if isfile(join('D:\\\\HK2-Năm 3\\\\PBL5\\\\Code\\\\data\\\\normalized\\\\Noise', f))]\n",
    "\n",
    "babysilence=[f for f in listdir('D:\\\\HK2-Năm 3\\\\PBL5\\\\Code\\\\data\\\\normalized\\\\Silence') if isfile(join('D:\\\\HK2-Năm 3\\\\PBL5\\\\Code\\\\data\\\\normalized\\\\Silence', f))]\n",
    "\n",
    "babylaugh=[f for f in listdir('D:\\\\HK2-Năm 3\\\\PBL5\\\\Code\\\\data\\\\normalized\\\\Laugh') if isfile(join('D:\\\\HK2-Năm 3\\\\PBL5\\\\Code\\\\data\\\\normalized\\\\Laugh',f))]\n",
    "\n"
   ]
  },
  {
   "cell_type": "code",
   "execution_count": 3,
   "metadata": {},
   "outputs": [],
   "source": [
    "baby_cry=[]\n",
    "for each in range(0,len(babycry)) :\n",
    "    cry='D:\\\\HK2-Năm 3\\\\PBL5\\\\Code\\\\data\\\\normalized\\\\Crying' + '\\\\' + babycry[each] \n",
    "    baby_cry.append(cry)\n"
   ]
  },
  {
   "cell_type": "code",
   "execution_count": 4,
   "metadata": {},
   "outputs": [
    {
     "data": {
      "text/plain": [
       "549"
      ]
     },
     "execution_count": 4,
     "metadata": {},
     "output_type": "execute_result"
    }
   ],
   "source": [
    "len(baby_cry)"
   ]
  },
  {
   "cell_type": "code",
   "execution_count": 5,
   "metadata": {},
   "outputs": [],
   "source": [
    "non_babycry=[]\n",
    "for each in range(0,len(nonbabycry)) :\n",
    "    x='D:\\\\HK2-Năm 3\\\\PBL5\\\\Code\\\\data\\\\normalized\\\\Noise' + '\\\\' + nonbabycry[each] \n",
    "    non_babycry.append(x)"
   ]
  },
  {
   "cell_type": "code",
   "execution_count": 6,
   "metadata": {},
   "outputs": [],
   "source": [
    "baby_silence=[]\n",
    "for each in range(0,len(babysilence)) :\n",
    "    silence='D:\\\\HK2-Năm 3\\\\PBL5\\\\Code\\\\data\\\\normalized\\\\Silence' + '\\\\' + babysilence[each] \n",
    "    baby_silence.append(silence)\n"
   ]
  },
  {
   "cell_type": "code",
   "execution_count": 7,
   "metadata": {},
   "outputs": [],
   "source": [
    "baby_laugh=[]\n",
    "for each in range(0,len(babylaugh)) :\n",
    "    laugh='D:\\\\HK2-Năm 3\\\\PBL5\\\\Code\\\\data\\\\normalized\\\\Laugh' + '\\\\' + babylaugh[each] \n",
    "    baby_laugh.append(laugh)\n",
    "  "
   ]
  },
  {
   "cell_type": "code",
   "execution_count": 8,
   "metadata": {},
   "outputs": [],
   "source": [
    "nonbaby_cry=baby_silence+baby_laugh+non_babycry"
   ]
  },
  {
   "cell_type": "code",
   "execution_count": 9,
   "metadata": {},
   "outputs": [
    {
     "data": {
      "text/plain": [
       "553"
      ]
     },
     "execution_count": 9,
     "metadata": {},
     "output_type": "execute_result"
    }
   ],
   "source": [
    "len(nonbaby_cry)"
   ]
  },
  {
   "cell_type": "code",
   "execution_count": 10,
   "metadata": {},
   "outputs": [],
   "source": [
    "def Mfcc(audiofile):\n",
    "    s,r=sf.read(audiofile)\n",
    "    \n",
    "    x=np.array_split(s,64)\n",
    "    \n",
    "    logg=np.zeros((64,12))\n",
    "    for i in range(len(x)):\n",
    "        \n",
    "        m=np.mean(mfcc(x[i],r, numcep=12,nfft=2048),axis=0)\n",
    "        logg[i,:]=m\n",
    "\n",
    "    return logg\n"
   ]
  },
  {
   "cell_type": "code",
   "execution_count": 11,
   "metadata": {},
   "outputs": [],
   "source": [
    "data=np.zeros((len(nonbaby_cry) + len(baby_cry),64,12))\n",
    "output=[]\n",
    "for i in range(0,len(baby_cry)):\n",
    "       r=Mfcc(baby_cry[i])\n",
    "       \n",
    "       data[i,:,:]=r\n",
    "       output.append(1) \n",
    "        \n",
    "all=baby_cry+nonbaby_cry\n",
    "for i in range(len(baby_cry)-1,len(all)-1):\n",
    " \n",
    "       r=Mfcc(all[i])\n",
    "       \n",
    "       data[i,:,:]=r\n",
    "       output.append(0)  "
   ]
  },
  {
   "cell_type": "code",
   "execution_count": 12,
   "metadata": {},
   "outputs": [
    {
     "data": {
      "text/plain": [
       "1102"
      ]
     },
     "execution_count": 12,
     "metadata": {},
     "output_type": "execute_result"
    }
   ],
   "source": [
    "len(data)"
   ]
  },
  {
   "cell_type": "code",
   "execution_count": 13,
   "metadata": {},
   "outputs": [],
   "source": [
    "input=data"
   ]
  },
  {
   "cell_type": "code",
   "execution_count": 14,
   "metadata": {},
   "outputs": [],
   "source": [
    "from sklearn.model_selection import train_test_split\n",
    "X_train, X_temp, y_train, y_temp = train_test_split(input, output, test_size=0.3, random_state=None,stratify = output)\n",
    "X_val, X_test, y_val, y_test = train_test_split(X_temp, y_temp, test_size=0.5, random_state=None,stratify = y_temp)"
   ]
  },
  {
   "cell_type": "code",
   "execution_count": 15,
   "metadata": {},
   "outputs": [
    {
     "name": "stdout",
     "output_type": "stream",
     "text": [
      "Shape of X_train: (771, 64, 12)\n",
      "Shape of X_val: (165, 64, 12)\n",
      "Shape of X_test: (166, 64, 12)\n",
      "Length of y_train: 771\n"
     ]
    }
   ],
   "source": [
    "print('Shape of X_train:',X_train.shape)\n",
    "print('Shape of X_val:',X_val.shape)\n",
    "print('Shape of X_test:',X_test.shape)\n",
    "print('Length of y_train:',len(y_train))\n"
   ]
  },
  {
   "cell_type": "code",
   "execution_count": 16,
   "metadata": {},
   "outputs": [],
   "source": [
    "from keras.layers import Reshape, Flatten, Dropout, Concatenate, BatchNormalization\n",
    "from keras.models import Sequential,model_from_json\n",
    "from keras.layers import Conv2D,Conv1D,MaxPooling1D,GlobalAveragePooling1D,GlobalMaxPooling1D\n",
    "from keras.layers import MaxPooling2D\n",
    "from keras.layers import Flatten,Dropout\n",
    "from keras import optimizers, callbacks\n",
    "import numpy as np\n",
    "from keras.layers import Dense,Activation\n",
    "from keras.preprocessing import image\n",
    "from keras.preprocessing.image import ImageDataGenerator\n",
    "from tensorflow.keras.utils import img_to_array\n",
    "from keras.layers import Reshape, Flatten, Dropout, Concatenate, BatchNormalization\n",
    "from keras.optimizers import Adam"
   ]
  },
  {
   "cell_type": "code",
   "execution_count": 17,
   "metadata": {},
   "outputs": [],
   "source": [
    "\n",
    "model1 = Sequential()\n",
    "model1.add(Conv1D(64, 2, activation='relu', input_shape=(64, 12))) \n",
    "model1.add(Conv1D(40,2,padding='valid', activation='relu',strides=1)) \n",
    "model1.add(Dropout(0.2))\n",
    "model1.add(GlobalMaxPooling1D())\n",
    "model1.add(Dense(40))\n",
    "model1.add(Dropout(0.2))\n",
    "model1.add(Activation('relu'))\n",
    "model1.add(BatchNormalization(epsilon=0.001, momentum=0.9, weights=None))\n",
    "model1.add(Dense(1))\n",
    "model1.add(Activation('sigmoid'))"
   ]
  },
  {
   "cell_type": "code",
   "execution_count": 18,
   "metadata": {},
   "outputs": [],
   "source": [
    "\n",
    "model1.compile(loss='binary_crossentropy',optimizer='adam',metrics=['accuracy'])"
   ]
  },
  {
   "cell_type": "code",
   "execution_count": 19,
   "metadata": {},
   "outputs": [
    {
     "name": "stdout",
     "output_type": "stream",
     "text": [
      "Epoch 1/100\n",
      "78/78 - 2s - loss: 0.5463 - accuracy: 0.7160 - val_loss: 0.4149 - val_accuracy: 0.8545 - 2s/epoch - 31ms/step\n",
      "Epoch 2/100\n",
      "78/78 - 0s - loss: 0.4043 - accuracy: 0.8054 - val_loss: 0.3716 - val_accuracy: 0.8364 - 403ms/epoch - 5ms/step\n",
      "Epoch 3/100\n",
      "78/78 - 0s - loss: 0.3334 - accuracy: 0.8586 - val_loss: 0.3115 - val_accuracy: 0.8667 - 401ms/epoch - 5ms/step\n",
      "Epoch 4/100\n",
      "78/78 - 0s - loss: 0.2823 - accuracy: 0.8936 - val_loss: 0.2745 - val_accuracy: 0.8788 - 407ms/epoch - 5ms/step\n",
      "Epoch 5/100\n",
      "78/78 - 0s - loss: 0.2536 - accuracy: 0.8975 - val_loss: 0.2735 - val_accuracy: 0.8727 - 402ms/epoch - 5ms/step\n",
      "Epoch 6/100\n",
      "78/78 - 0s - loss: 0.1997 - accuracy: 0.9287 - val_loss: 0.2099 - val_accuracy: 0.9212 - 393ms/epoch - 5ms/step\n",
      "Epoch 7/100\n",
      "78/78 - 0s - loss: 0.1752 - accuracy: 0.9403 - val_loss: 0.2128 - val_accuracy: 0.9091 - 485ms/epoch - 6ms/step\n",
      "Epoch 8/100\n",
      "78/78 - 0s - loss: 0.1336 - accuracy: 0.9624 - val_loss: 0.1786 - val_accuracy: 0.9333 - 394ms/epoch - 5ms/step\n",
      "Epoch 9/100\n",
      "78/78 - 0s - loss: 0.1266 - accuracy: 0.9546 - val_loss: 0.1574 - val_accuracy: 0.9515 - 394ms/epoch - 5ms/step\n",
      "Epoch 10/100\n",
      "78/78 - 0s - loss: 0.1062 - accuracy: 0.9650 - val_loss: 0.1688 - val_accuracy: 0.9394 - 420ms/epoch - 5ms/step\n",
      "Epoch 11/100\n",
      "78/78 - 0s - loss: 0.1160 - accuracy: 0.9663 - val_loss: 0.1342 - val_accuracy: 0.9515 - 390ms/epoch - 5ms/step\n",
      "Epoch 12/100\n",
      "78/78 - 0s - loss: 0.0883 - accuracy: 0.9754 - val_loss: 0.1394 - val_accuracy: 0.9515 - 394ms/epoch - 5ms/step\n",
      "Epoch 13/100\n",
      "78/78 - 0s - loss: 0.0889 - accuracy: 0.9728 - val_loss: 0.1317 - val_accuracy: 0.9515 - 375ms/epoch - 5ms/step\n",
      "Epoch 14/100\n",
      "78/78 - 0s - loss: 0.0652 - accuracy: 0.9780 - val_loss: 0.1279 - val_accuracy: 0.9455 - 337ms/epoch - 4ms/step\n",
      "Epoch 15/100\n",
      "78/78 - 0s - loss: 0.0466 - accuracy: 0.9883 - val_loss: 0.1052 - val_accuracy: 0.9576 - 386ms/epoch - 5ms/step\n",
      "Epoch 16/100\n",
      "78/78 - 0s - loss: 0.0836 - accuracy: 0.9676 - val_loss: 0.1324 - val_accuracy: 0.9394 - 368ms/epoch - 5ms/step\n",
      "Epoch 17/100\n",
      "78/78 - 0s - loss: 0.0451 - accuracy: 0.9870 - val_loss: 0.1257 - val_accuracy: 0.9455 - 329ms/epoch - 4ms/step\n",
      "Epoch 18/100\n",
      "78/78 - 0s - loss: 0.0487 - accuracy: 0.9870 - val_loss: 0.1182 - val_accuracy: 0.9515 - 375ms/epoch - 5ms/step\n",
      "Epoch 19/100\n",
      "78/78 - 0s - loss: 0.0371 - accuracy: 0.9922 - val_loss: 0.1046 - val_accuracy: 0.9636 - 331ms/epoch - 4ms/step\n",
      "Epoch 20/100\n",
      "78/78 - 0s - loss: 0.0620 - accuracy: 0.9780 - val_loss: 0.1808 - val_accuracy: 0.9455 - 329ms/epoch - 4ms/step\n",
      "Epoch 21/100\n",
      "78/78 - 0s - loss: 0.0661 - accuracy: 0.9780 - val_loss: 0.1911 - val_accuracy: 0.9333 - 336ms/epoch - 4ms/step\n",
      "Epoch 22/100\n",
      "78/78 - 0s - loss: 0.0489 - accuracy: 0.9818 - val_loss: 0.1517 - val_accuracy: 0.9394 - 357ms/epoch - 5ms/step\n",
      "Epoch 23/100\n",
      "78/78 - 0s - loss: 0.0353 - accuracy: 0.9922 - val_loss: 0.1951 - val_accuracy: 0.9333 - 335ms/epoch - 4ms/step\n",
      "Epoch 24/100\n",
      "78/78 - 0s - loss: 0.0321 - accuracy: 0.9883 - val_loss: 0.1904 - val_accuracy: 0.9394 - 375ms/epoch - 5ms/step\n",
      "Epoch 25/100\n",
      "78/78 - 0s - loss: 0.0344 - accuracy: 0.9883 - val_loss: 0.2390 - val_accuracy: 0.9394 - 333ms/epoch - 4ms/step\n",
      "Epoch 26/100\n",
      "78/78 - 0s - loss: 0.0317 - accuracy: 0.9909 - val_loss: 0.1350 - val_accuracy: 0.9455 - 351ms/epoch - 5ms/step\n",
      "Epoch 27/100\n",
      "78/78 - 0s - loss: 0.0288 - accuracy: 0.9935 - val_loss: 0.1781 - val_accuracy: 0.9212 - 463ms/epoch - 6ms/step\n",
      "Epoch 28/100\n",
      "78/78 - 0s - loss: 0.0311 - accuracy: 0.9896 - val_loss: 0.1075 - val_accuracy: 0.9455 - 480ms/epoch - 6ms/step\n",
      "Epoch 29/100\n",
      "78/78 - 1s - loss: 0.0215 - accuracy: 0.9974 - val_loss: 0.1521 - val_accuracy: 0.9394 - 636ms/epoch - 8ms/step\n",
      "Epoch 30/100\n",
      "78/78 - 1s - loss: 0.0224 - accuracy: 0.9922 - val_loss: 0.1047 - val_accuracy: 0.9636 - 547ms/epoch - 7ms/step\n",
      "Epoch 31/100\n",
      "78/78 - 1s - loss: 0.0175 - accuracy: 0.9974 - val_loss: 0.1160 - val_accuracy: 0.9576 - 561ms/epoch - 7ms/step\n",
      "Epoch 32/100\n",
      "78/78 - 0s - loss: 0.0332 - accuracy: 0.9883 - val_loss: 0.1532 - val_accuracy: 0.9333 - 440ms/epoch - 6ms/step\n",
      "Epoch 33/100\n",
      "78/78 - 0s - loss: 0.0293 - accuracy: 0.9935 - val_loss: 0.1663 - val_accuracy: 0.9455 - 479ms/epoch - 6ms/step\n",
      "Epoch 34/100\n",
      "78/78 - 1s - loss: 0.0197 - accuracy: 0.9948 - val_loss: 0.0958 - val_accuracy: 0.9455 - 569ms/epoch - 7ms/step\n",
      "Epoch 35/100\n",
      "78/78 - 1s - loss: 0.0344 - accuracy: 0.9909 - val_loss: 0.1435 - val_accuracy: 0.9515 - 560ms/epoch - 7ms/step\n",
      "Epoch 36/100\n",
      "78/78 - 1s - loss: 0.0208 - accuracy: 0.9974 - val_loss: 0.1538 - val_accuracy: 0.9455 - 618ms/epoch - 8ms/step\n",
      "Epoch 37/100\n",
      "78/78 - 1s - loss: 0.0368 - accuracy: 0.9870 - val_loss: 0.1584 - val_accuracy: 0.9515 - 559ms/epoch - 7ms/step\n",
      "Epoch 38/100\n",
      "78/78 - 0s - loss: 0.0311 - accuracy: 0.9948 - val_loss: 0.2120 - val_accuracy: 0.9394 - 475ms/epoch - 6ms/step\n",
      "Epoch 39/100\n",
      "78/78 - 1s - loss: 0.0383 - accuracy: 0.9883 - val_loss: 0.1726 - val_accuracy: 0.9515 - 504ms/epoch - 6ms/step\n",
      "Epoch 40/100\n",
      "78/78 - 0s - loss: 0.0274 - accuracy: 0.9896 - val_loss: 0.1299 - val_accuracy: 0.9576 - 458ms/epoch - 6ms/step\n",
      "Epoch 41/100\n",
      "78/78 - 0s - loss: 0.0113 - accuracy: 0.9987 - val_loss: 0.1226 - val_accuracy: 0.9636 - 439ms/epoch - 6ms/step\n",
      "Epoch 42/100\n",
      "78/78 - 0s - loss: 0.0159 - accuracy: 0.9961 - val_loss: 0.1532 - val_accuracy: 0.9394 - 435ms/epoch - 6ms/step\n",
      "Epoch 43/100\n",
      "78/78 - 0s - loss: 0.0186 - accuracy: 0.9948 - val_loss: 0.1640 - val_accuracy: 0.9515 - 452ms/epoch - 6ms/step\n",
      "Epoch 44/100\n",
      "78/78 - 1s - loss: 0.0177 - accuracy: 0.9935 - val_loss: 0.0931 - val_accuracy: 0.9758 - 513ms/epoch - 7ms/step\n",
      "Epoch 45/100\n",
      "78/78 - 1s - loss: 0.0249 - accuracy: 0.9922 - val_loss: 0.0894 - val_accuracy: 0.9576 - 531ms/epoch - 7ms/step\n",
      "Epoch 46/100\n",
      "78/78 - 1s - loss: 0.0227 - accuracy: 0.9896 - val_loss: 0.1526 - val_accuracy: 0.9515 - 549ms/epoch - 7ms/step\n",
      "Epoch 47/100\n",
      "78/78 - 0s - loss: 0.0358 - accuracy: 0.9909 - val_loss: 0.1356 - val_accuracy: 0.9636 - 439ms/epoch - 6ms/step\n",
      "Epoch 48/100\n",
      "78/78 - 0s - loss: 0.0218 - accuracy: 0.9896 - val_loss: 0.1202 - val_accuracy: 0.9636 - 444ms/epoch - 6ms/step\n",
      "Epoch 49/100\n",
      "78/78 - 0s - loss: 0.0164 - accuracy: 0.9948 - val_loss: 0.3536 - val_accuracy: 0.8909 - 439ms/epoch - 6ms/step\n",
      "Epoch 50/100\n",
      "78/78 - 0s - loss: 0.0414 - accuracy: 0.9844 - val_loss: 0.1165 - val_accuracy: 0.9576 - 439ms/epoch - 6ms/step\n",
      "Epoch 51/100\n",
      "78/78 - 0s - loss: 0.0352 - accuracy: 0.9883 - val_loss: 0.1539 - val_accuracy: 0.9515 - 467ms/epoch - 6ms/step\n",
      "Epoch 52/100\n",
      "78/78 - 0s - loss: 0.0303 - accuracy: 0.9896 - val_loss: 0.1148 - val_accuracy: 0.9697 - 437ms/epoch - 6ms/step\n",
      "Epoch 53/100\n",
      "78/78 - 0s - loss: 0.0228 - accuracy: 0.9935 - val_loss: 0.1638 - val_accuracy: 0.9576 - 449ms/epoch - 6ms/step\n",
      "Epoch 54/100\n",
      "78/78 - 0s - loss: 0.0200 - accuracy: 0.9922 - val_loss: 0.1259 - val_accuracy: 0.9636 - 422ms/epoch - 5ms/step\n",
      "Epoch 55/100\n",
      "78/78 - 0s - loss: 0.0169 - accuracy: 0.9935 - val_loss: 0.2617 - val_accuracy: 0.9455 - 425ms/epoch - 5ms/step\n",
      "Epoch 56/100\n",
      "78/78 - 0s - loss: 0.0312 - accuracy: 0.9883 - val_loss: 0.1461 - val_accuracy: 0.9515 - 456ms/epoch - 6ms/step\n",
      "Epoch 57/100\n",
      "78/78 - 0s - loss: 0.0148 - accuracy: 0.9961 - val_loss: 0.1816 - val_accuracy: 0.9455 - 330ms/epoch - 4ms/step\n",
      "Epoch 58/100\n",
      "78/78 - 0s - loss: 0.0274 - accuracy: 0.9896 - val_loss: 0.1664 - val_accuracy: 0.9515 - 330ms/epoch - 4ms/step\n",
      "Epoch 59/100\n",
      "78/78 - 0s - loss: 0.0183 - accuracy: 0.9909 - val_loss: 0.1223 - val_accuracy: 0.9697 - 398ms/epoch - 5ms/step\n",
      "Epoch 60/100\n",
      "78/78 - 0s - loss: 0.0146 - accuracy: 0.9961 - val_loss: 0.1437 - val_accuracy: 0.9697 - 372ms/epoch - 5ms/step\n",
      "Epoch 61/100\n",
      "78/78 - 0s - loss: 0.0224 - accuracy: 0.9948 - val_loss: 0.2403 - val_accuracy: 0.9394 - 490ms/epoch - 6ms/step\n",
      "Epoch 62/100\n",
      "78/78 - 1s - loss: 0.0121 - accuracy: 0.9974 - val_loss: 0.2222 - val_accuracy: 0.9394 - 508ms/epoch - 7ms/step\n",
      "Epoch 63/100\n",
      "78/78 - 0s - loss: 0.0156 - accuracy: 0.9935 - val_loss: 0.1901 - val_accuracy: 0.9394 - 472ms/epoch - 6ms/step\n",
      "Epoch 64/100\n",
      "78/78 - 0s - loss: 0.0153 - accuracy: 0.9961 - val_loss: 0.1561 - val_accuracy: 0.9273 - 339ms/epoch - 4ms/step\n",
      "Epoch 65/100\n",
      "78/78 - 0s - loss: 0.0178 - accuracy: 0.9948 - val_loss: 0.1395 - val_accuracy: 0.9576 - 348ms/epoch - 4ms/step\n",
      "Epoch 66/100\n",
      "78/78 - 0s - loss: 0.0191 - accuracy: 0.9935 - val_loss: 0.1044 - val_accuracy: 0.9758 - 323ms/epoch - 4ms/step\n",
      "Epoch 67/100\n",
      "78/78 - 0s - loss: 0.0121 - accuracy: 0.9948 - val_loss: 0.1640 - val_accuracy: 0.9515 - 329ms/epoch - 4ms/step\n",
      "Epoch 68/100\n",
      "78/78 - 0s - loss: 0.0271 - accuracy: 0.9935 - val_loss: 0.3951 - val_accuracy: 0.9273 - 387ms/epoch - 5ms/step\n",
      "Epoch 69/100\n",
      "78/78 - 1s - loss: 0.0402 - accuracy: 0.9870 - val_loss: 0.0983 - val_accuracy: 0.9758 - 505ms/epoch - 6ms/step\n",
      "Epoch 70/100\n",
      "78/78 - 1s - loss: 0.0193 - accuracy: 0.9948 - val_loss: 0.1397 - val_accuracy: 0.9636 - 558ms/epoch - 7ms/step\n",
      "Epoch 71/100\n",
      "78/78 - 1s - loss: 0.0315 - accuracy: 0.9896 - val_loss: 0.1416 - val_accuracy: 0.9758 - 599ms/epoch - 8ms/step\n",
      "Epoch 72/100\n",
      "78/78 - 1s - loss: 0.0193 - accuracy: 0.9948 - val_loss: 0.1472 - val_accuracy: 0.9636 - 616ms/epoch - 8ms/step\n",
      "Epoch 73/100\n",
      "78/78 - 1s - loss: 0.0123 - accuracy: 0.9948 - val_loss: 0.1718 - val_accuracy: 0.9515 - 601ms/epoch - 8ms/step\n",
      "Epoch 74/100\n",
      "78/78 - 1s - loss: 0.0211 - accuracy: 0.9896 - val_loss: 0.2014 - val_accuracy: 0.9515 - 569ms/epoch - 7ms/step\n",
      "Epoch 75/100\n",
      "78/78 - 0s - loss: 0.0099 - accuracy: 0.9974 - val_loss: 0.1581 - val_accuracy: 0.9455 - 434ms/epoch - 6ms/step\n",
      "Epoch 76/100\n",
      "78/78 - 0s - loss: 0.0170 - accuracy: 0.9948 - val_loss: 0.1296 - val_accuracy: 0.9636 - 439ms/epoch - 6ms/step\n",
      "Epoch 77/100\n",
      "78/78 - 0s - loss: 0.0076 - accuracy: 0.9974 - val_loss: 0.2105 - val_accuracy: 0.9455 - 393ms/epoch - 5ms/step\n",
      "Epoch 78/100\n",
      "78/78 - 0s - loss: 0.0161 - accuracy: 0.9948 - val_loss: 0.1909 - val_accuracy: 0.9576 - 405ms/epoch - 5ms/step\n",
      "Epoch 79/100\n",
      "78/78 - 0s - loss: 0.0075 - accuracy: 0.9987 - val_loss: 0.1667 - val_accuracy: 0.9515 - 333ms/epoch - 4ms/step\n",
      "Epoch 80/100\n",
      "78/78 - 0s - loss: 0.0070 - accuracy: 0.9974 - val_loss: 0.1095 - val_accuracy: 0.9697 - 363ms/epoch - 5ms/step\n",
      "Epoch 81/100\n",
      "78/78 - 0s - loss: 0.0063 - accuracy: 0.9987 - val_loss: 0.1326 - val_accuracy: 0.9636 - 309ms/epoch - 4ms/step\n",
      "Epoch 82/100\n",
      "78/78 - 0s - loss: 0.0154 - accuracy: 0.9922 - val_loss: 0.2153 - val_accuracy: 0.9394 - 354ms/epoch - 5ms/step\n",
      "Epoch 83/100\n",
      "78/78 - 0s - loss: 0.0277 - accuracy: 0.9922 - val_loss: 0.1585 - val_accuracy: 0.9576 - 340ms/epoch - 4ms/step\n",
      "Epoch 84/100\n",
      "78/78 - 0s - loss: 0.0236 - accuracy: 0.9909 - val_loss: 0.3000 - val_accuracy: 0.9333 - 342ms/epoch - 4ms/step\n",
      "Epoch 85/100\n",
      "78/78 - 0s - loss: 0.0401 - accuracy: 0.9831 - val_loss: 0.3131 - val_accuracy: 0.9212 - 314ms/epoch - 4ms/step\n",
      "Epoch 86/100\n",
      "78/78 - 0s - loss: 0.0358 - accuracy: 0.9870 - val_loss: 0.2818 - val_accuracy: 0.9091 - 312ms/epoch - 4ms/step\n",
      "Epoch 87/100\n",
      "78/78 - 0s - loss: 0.0262 - accuracy: 0.9922 - val_loss: 0.2318 - val_accuracy: 0.9394 - 307ms/epoch - 4ms/step\n",
      "Epoch 88/100\n",
      "78/78 - 0s - loss: 0.0110 - accuracy: 0.9974 - val_loss: 0.2192 - val_accuracy: 0.9333 - 364ms/epoch - 5ms/step\n",
      "Epoch 89/100\n",
      "78/78 - 0s - loss: 0.0157 - accuracy: 0.9948 - val_loss: 0.3472 - val_accuracy: 0.9333 - 395ms/epoch - 5ms/step\n",
      "Epoch 90/100\n",
      "78/78 - 0s - loss: 0.0216 - accuracy: 0.9935 - val_loss: 0.1552 - val_accuracy: 0.9636 - 428ms/epoch - 5ms/step\n",
      "Epoch 91/100\n",
      "78/78 - 1s - loss: 0.0243 - accuracy: 0.9935 - val_loss: 0.1576 - val_accuracy: 0.9576 - 538ms/epoch - 7ms/step\n",
      "Epoch 92/100\n",
      "78/78 - 0s - loss: 0.0256 - accuracy: 0.9909 - val_loss: 0.2073 - val_accuracy: 0.9576 - 488ms/epoch - 6ms/step\n",
      "Epoch 93/100\n",
      "78/78 - 0s - loss: 0.0076 - accuracy: 0.9987 - val_loss: 0.1682 - val_accuracy: 0.9515 - 472ms/epoch - 6ms/step\n",
      "Epoch 94/100\n",
      "78/78 - 1s - loss: 0.0162 - accuracy: 0.9974 - val_loss: 0.1777 - val_accuracy: 0.9515 - 527ms/epoch - 7ms/step\n",
      "Epoch 95/100\n",
      "78/78 - 1s - loss: 0.0134 - accuracy: 0.9948 - val_loss: 0.3030 - val_accuracy: 0.9152 - 531ms/epoch - 7ms/step\n",
      "Epoch 96/100\n",
      "78/78 - 0s - loss: 0.0109 - accuracy: 0.9961 - val_loss: 0.1896 - val_accuracy: 0.9455 - 447ms/epoch - 6ms/step\n",
      "Epoch 97/100\n",
      "78/78 - 0s - loss: 0.0191 - accuracy: 0.9922 - val_loss: 0.1780 - val_accuracy: 0.9515 - 372ms/epoch - 5ms/step\n",
      "Epoch 98/100\n",
      "78/78 - 0s - loss: 0.0187 - accuracy: 0.9922 - val_loss: 0.1782 - val_accuracy: 0.9576 - 379ms/epoch - 5ms/step\n",
      "Epoch 99/100\n",
      "78/78 - 0s - loss: 0.0062 - accuracy: 0.9987 - val_loss: 0.8781 - val_accuracy: 0.8485 - 349ms/epoch - 4ms/step\n",
      "Epoch 100/100\n",
      "78/78 - 0s - loss: 0.0356 - accuracy: 0.9870 - val_loss: 0.1341 - val_accuracy: 0.9636 - 339ms/epoch - 4ms/step\n"
     ]
    }
   ],
   "source": [
    "train_x = np.asarray(X_train)\n",
    "train_y = np.asarray(y_train)\n",
    "validation_x = np.asarray(X_val)\n",
    "validation_y = np.asarray(y_val)\n",
    "history = model1.fit(train_x, train_y, epochs=100, validation_data=(validation_x,validation_y),batch_size=10, shuffle=False,verbose=2)\n"
   ]
  },
  {
   "cell_type": "code",
   "execution_count": 44,
   "metadata": {},
   "outputs": [
    {
     "name": "stdout",
     "output_type": "stream",
     "text": [
      "dict_keys(['loss', 'accuracy', 'val_loss', 'val_accuracy'])\n"
     ]
    },
    {
     "data": {
      "image/png": "[encoded data removed]",
      "text/plain": [
       "<Figure size 640x480 with 1 Axes>"
      ]
     },
     "metadata": {},
     "output_type": "display_data"
    },
    {
     "data": {
      "image/png": "[encoded data removed]",
      "text/plain": [
       "<Figure size 640x480 with 1 Axes>"
      ]
     },
     "metadata": {},
     "output_type": "display_data"
    }
   ],
   "source": [
    "print(history.history.keys())\n",
    "#  \"Accuracy\"\n",
    "plt.plot(history.history['accuracy'])\n",
    "plt.plot(history.history['val_accuracy'])\n",
    "plt.title('model accuracy')\n",
    "plt.ylabel('accuracy')\n",
    "plt.xlabel('epoch')\n",
    "plt.legend(['train', 'validation'], loc='upper left')\n",
    "plt.show()\n",
    "# \"Loss\"\n",
    "plt.plot(history.history['loss'])\n",
    "plt.plot(history.history['val_loss'])\n",
    "plt.title('model loss')\n",
    "plt.ylabel('loss')\n",
    "plt.xlabel('epoch')\n",
    "plt.legend(['train', 'test'], loc='upper left')\n",
    "plt.show()"
   ]
  },
  {
   "cell_type": "code",
   "execution_count": 47,
   "metadata": {},
   "outputs": [
    {
     "name": "stdout",
     "output_type": "stream",
     "text": [
      "6/6 [==============================] - 0s 3ms/step - loss: 0.1341 - accuracy: 0.9636\n"
     ]
    },
    {
     "data": {
      "text/plain": [
       "[0.1341060996055603, 0.9636363387107849]"
      ]
     },
     "execution_count": 47,
     "metadata": {},
     "output_type": "execute_result"
    }
   ],
   "source": [
    "validation_x = np.asarray(X_val)\n",
    "validation_y = np.asarray(y_val)\n",
    "model1.evaluate(validation_x,validation_y)\n",
    "\n"
   ]
  },
  {
   "cell_type": "code",
   "execution_count": 52,
   "metadata": {},
   "outputs": [
    {
     "name": "stdout",
     "output_type": "stream",
     "text": [
      "6/6 [==============================] - 0s 3ms/step\n"
     ]
    },
    {
     "data": {
      "text/plain": [
       "165"
      ]
     },
     "execution_count": 52,
     "metadata": {},
     "output_type": "execute_result"
    }
   ],
   "source": [
    "y_pred = model1.predict(validation_x)\n",
    "y_pred = np.where(y_pred >= 0.5, 1, 0)\n",
    "len(validation_y)"
   ]
  },
  {
   "cell_type": "code",
   "execution_count": 53,
   "metadata": {},
   "outputs": [
    {
     "data": {
      "image/png": "[encoded data removed]",
      "text/plain": [
       "<Figure size 640x480 with 2 Axes>"
      ]
     },
     "metadata": {},
     "output_type": "display_data"
    }
   ],
   "source": [
    "import seaborn as sns\n",
    "import matplotlib.pyplot as plt\n",
    "from sklearn.metrics import confusion_matrix\n",
    "\n",
    "cm = confusion_matrix(validation_y, y_pred)\n",
    "\n",
    "sns.heatmap(cm, annot=True, cmap=\"YlGnBu\", fmt=\"d\")\n",
    "plt.title(\"Confusion Matrix\")\n",
    "\n",
    "plt.show()"
   ]
  },
  {
   "cell_type": "code",
   "execution_count": 54,
   "metadata": {},
   "outputs": [
    {
     "name": "stdout",
     "output_type": "stream",
     "text": [
      "6/6 [==============================] - 0s 4ms/step - loss: 0.0547 - accuracy: 0.9819\n"
     ]
    },
    {
     "data": {
      "text/plain": [
       "[0.05471448600292206, 0.9819276928901672]"
      ]
     },
     "execution_count": 54,
     "metadata": {},
     "output_type": "execute_result"
    }
   ],
   "source": [
    "test_x = np.asarray(X_test)\n",
    "test_y = np.asarray(y_test)\n",
    "model1.evaluate(test_x,test_y)"
   ]
  },
  {
   "cell_type": "code",
   "execution_count": 55,
   "metadata": {},
   "outputs": [
    {
     "name": "stdout",
     "output_type": "stream",
     "text": [
      "6/6 [==============================] - 0s 2ms/step\n"
     ]
    }
   ],
   "source": [
    "y_pred = model1.predict(test_x)\n",
    "y_pred = np.where(y_pred >= 0.5, 1, 0)\n"
   ]
  },
  {
   "cell_type": "code",
   "execution_count": 57,
   "metadata": {},
   "outputs": [
    {
     "data": {
      "image/png": "[encoded data removed]",
      "text/plain": [
       "<Figure size 640x480 with 2 Axes>"
      ]
     },
     "metadata": {},
     "output_type": "display_data"
    }
   ],
   "source": [
    "\n",
    "cm = confusion_matrix(test_y, y_pred)\n",
    "\n",
    "sns.heatmap(cm, annot=True, cmap=\"YlGnBu\", fmt=\"d\")\n",
    "plt.title(\"Confusion Matrix\")\n",
    "\n",
    "plt.show()"
   ]
  },
  {
   "cell_type": "code",
   "execution_count": 23,
   "metadata": {},
   "outputs": [],
   "source": [
    "with open('cnn.json','w') as f:\n",
    "    f.write(model1.to_json())\n",
    "model1.save_weights(\"cnn.h5\")"
   ]
  },
  {
   "cell_type": "code",
   "execution_count": 24,
   "metadata": {},
   "outputs": [
    {
     "data": {
      "text/plain": [
       "SVC(C=25, gamma=0.001)"
      ]
     },
     "execution_count": 24,
     "metadata": {},
     "output_type": "execute_result"
    }
   ],
   "source": [
    "from sklearn import svm\n",
    "\n",
    "train_x = np.asarray(X_train)\n",
    "train_y = np.asarray(y_train)\n",
    "validation_x = np.asarray(X_val)\n",
    "validation_y = np.asarray(y_val)\n",
    "test_x = np.asarray(X_test)\n",
    "test_y = np.asarray(y_test)\n",
    "\n",
    "# biến đổi tập train test thành vecto 2 chiều\n",
    "n_samples = train_x.shape[0]\n",
    "n_features = train_x.shape[1] * train_x.shape[2]\n",
    "train_x = train_x.reshape(n_samples, n_features)\n",
    "# Đặt tham số cho SVM\n",
    "C = 25\n",
    "kernel = 'rbf'\n",
    "svm_classifier = svm.SVC(C=C, kernel=kernel, gamma=0.001)\n",
    "# train mô hình\n",
    "svm_classifier.fit(train_x, train_y)"
   ]
  },
  {
   "cell_type": "code",
   "execution_count": 25,
   "metadata": {},
   "outputs": [
    {
     "name": "stdout",
     "output_type": "stream",
     "text": [
      "0.5060240963855421\n"
     ]
    }
   ],
   "source": [
    "n_samples = test_x.shape[0]\n",
    "n_features = test_x.shape[1] * test_x.shape[2]\n",
    "test_x = test_x.reshape(n_samples, n_features)\n",
    "accuracy = svm_classifier.score(test_x,test_y)\n",
    "print(accuracy)"
   ]
  },
  {
   "cell_type": "code",
   "execution_count": 26,
   "metadata": {},
   "outputs": [
    {
     "name": "stdout",
     "output_type": "stream",
     "text": [
      "0.5333333333333333\n"
     ]
    }
   ],
   "source": [
    "n_samples = validation_x.shape[0]\n",
    "n_features = validation_x.shape[1] * validation_x.shape[2]\n",
    "validation_x = validation_x.reshape(n_samples, n_features)\n",
    "accuracy = svm_classifier.score(validation_x,validation_y)\n",
    "print(accuracy)"
   ]
  },
  {
   "attachments": {},
   "cell_type": "markdown",
   "metadata": {},
   "source": []
  }
 ],
 "metadata": {
  "kernelspec": {
   "display_name": "Python 3",
   "language": "python",
   "name": "python3"
  },
  "language_info": {
   "codemirror_mode": {
    "name": "ipython",
    "version": 3
   },
   "file_extension": ".py",
   "mimetype": "text/x-python",
   "name": "python",
   "nbconvert_exporter": "python",
   "pygments_lexer": "ipython3",
   "version": "3.7.9"
  }
 },
 "nbformat": 4,
 "nbformat_minor": 2
}
