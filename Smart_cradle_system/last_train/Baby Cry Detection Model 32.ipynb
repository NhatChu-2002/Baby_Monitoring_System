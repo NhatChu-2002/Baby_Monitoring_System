{
 "cells": [
  {
   "cell_type": "code",
   "execution_count": 1,
   "metadata": {},
   "outputs": [],
   "source": [
    "import librosa\n",
    "import numpy as np\n",
    "from os.path import isfile,join\n",
    "from os import listdir\n",
    "import matplotlib.pyplot as plt\n",
    "from scipy import hamming\n",
    "import soundfile as sf\n",
    "import scipy\n",
    "import numpy\n",
    "from python_speech_features import mfcc\n",
    "from scipy.io import wavfile\n",
    "import soundfile as sf\n",
    "import math\n",
    "import tensorflow\n",
    "from keras.utils import np_utils\n",
    "from keras.models import Sequential\n",
    "from keras.models import model_from_yaml\n",
    "from keras.models import model_from_json\n",
    "from keras.layers import Dense\n",
    "from keras import backend\n",
    "from keras.layers import Embedding\n",
    "from keras.layers import LSTM\n",
    "from sklearn.model_selection import train_test_split"
   ]
  },
  {
   "cell_type": "code",
   "execution_count": 2,
   "metadata": {},
   "outputs": [],
   "source": [
    "babycry=[f for f in listdir('D:\\\\HK2-Năm 3\\\\PBL5\\\\Code\\\\New data\\\\Crying') if isfile(join('D:\\\\HK2-Năm 3\\\\PBL5\\\\Code\\\\New data\\\\Crying', f))]\n",
    "\n",
    "nonbabycry=[f for f in listdir('D:\\\\HK2-Năm 3\\\\PBL5\\\\Code\\\\New data\\\\Noise') if isfile(join('D:\\\\HK2-Năm 3\\\\PBL5\\\\Code\\\\New data\\\\Noise', f))]\n",
    "babysilence=[f for f in listdir('D:\\\\HK2-Năm 3\\\\PBL5\\\\Code\\\\New data\\\\Silence') if isfile(join('D:\\\\HK2-Năm 3\\\\PBL5\\\\Code\\\\New data\\\\Silence', f))]\n",
    "babylaugh=[f for f in listdir('D:\\\\HK2-Năm 3\\\\PBL5\\\\Code\\\\New data\\\\Laugh') if isfile(join('D:\\\\HK2-Năm 3\\\\PBL5\\\\Code\\\\New data\\\\Laugh',f))]\n",
    "realbabylaugh=[f for f in listdir('D:\\\\HK2-Năm 3\\\\PBL5\\\\Code\\\\RealBaby_data\\\\Laugh') if isfile(join('D:\\\\HK2-Năm 3\\\\PBL5\\\\Code\\\\RealBaby_data\\\\Laugh',f))]\n",
    "realbabycry=[f for f in listdir('D:\\\\HK2-Năm 3\\\\PBL5\\\\Code\\\\RealBaby_data\\\\Crying') if isfile(join('D:\\\\HK2-Năm 3\\\\PBL5\\\\Code\\\\RealBaby_data\\\\Crying',f))]\n",
    "\n"
   ]
  },
  {
   "cell_type": "code",
   "execution_count": 3,
   "metadata": {},
   "outputs": [],
   "source": [
    "baby_cry=[]\n",
    "for each in range(0,len(babycry)) :\n",
    "    cry='D:\\\\HK2-Năm 3\\\\PBL5\\\\Code\\\\New data\\\\Crying' + '\\\\' + babycry[each] \n",
    "    baby_cry.append(cry)\n"
   ]
  },
  {
   "cell_type": "code",
   "execution_count": 4,
   "metadata": {},
   "outputs": [
    {
     "data": {
      "text/plain": [
       "500"
      ]
     },
     "execution_count": 4,
     "metadata": {},
     "output_type": "execute_result"
    }
   ],
   "source": [
    "len(baby_cry)"
   ]
  },
  {
   "cell_type": "code",
   "execution_count": 5,
   "metadata": {},
   "outputs": [],
   "source": [
    "non_babycry=[]\n",
    "for each in range(0,len(nonbabycry)) :\n",
    "    x='D:\\\\HK2-Năm 3\\\\PBL5\\\\Code\\\\New data\\\\Noise' + '\\\\' + nonbabycry[each] \n",
    "    non_babycry.append(x)"
   ]
  },
  {
   "cell_type": "code",
   "execution_count": 6,
   "metadata": {},
   "outputs": [],
   "source": [
    "baby_silence=[]\n",
    "for each in range(0,len(babysilence)) :\n",
    "    silence='D:\\\\HK2-Năm 3\\\\PBL5\\\\Code\\\\New data\\\\Silence' + '\\\\' + babysilence[each] \n",
    "    baby_silence.append(silence)\n"
   ]
  },
  {
   "cell_type": "code",
   "execution_count": 7,
   "metadata": {},
   "outputs": [],
   "source": [
    "baby_laugh=[]\n",
    "for each in range(0,len(babylaugh)) :\n",
    "    laugh='D:\\\\HK2-Năm 3\\\\PBL5\\\\Code\\\\New data\\\\Laugh' + '\\\\' + babylaugh[each] \n",
    "    baby_laugh.append(laugh)\n",
    "  "
   ]
  },
  {
   "cell_type": "code",
   "execution_count": 8,
   "metadata": {},
   "outputs": [],
   "source": [
    "nonbaby_cry=baby_silence+baby_laugh+non_babycry"
   ]
  },
  {
   "cell_type": "code",
   "execution_count": 9,
   "metadata": {},
   "outputs": [
    {
     "data": {
      "text/plain": [
       "503"
      ]
     },
     "execution_count": 9,
     "metadata": {},
     "output_type": "execute_result"
    }
   ],
   "source": [
    "len(nonbaby_cry)"
   ]
  },
  {
   "cell_type": "code",
   "execution_count": 10,
   "metadata": {},
   "outputs": [
    {
     "name": "stdout",
     "output_type": "stream",
     "text": [
      "49\n",
      "50\n"
     ]
    }
   ],
   "source": [
    "real_baby_cry=[]\n",
    "for each in range(0,len(realbabycry)) :\n",
    "    cry ='D:\\\\HK2-Năm 3\\\\PBL5\\\\Code\\\\RealBaby_data\\\\Crying' + '\\\\' + realbabycry[each] \n",
    "    real_baby_cry.append(cry)\n",
    "real_baby_laugh=[]\n",
    "for each in range(0,len(realbabylaugh)) :\n",
    "    laugh='D:\\\\HK2-Năm 3\\\\PBL5\\\\Code\\\\RealBaby_data\\\\Laugh' + '\\\\' + realbabylaugh[each] \n",
    "    real_baby_laugh.append(laugh)\n",
    "print(len(real_baby_cry))\n",
    "print(len(real_baby_laugh))"
   ]
  },
  {
   "cell_type": "code",
   "execution_count": 11,
   "metadata": {},
   "outputs": [],
   "source": [
    "def Mfcc(audiofile):\n",
    "    s,r=sf.read(audiofile)\n",
    "    \n",
    "    x=np.array_split(s,32)\n",
    "    \n",
    "    logg=np.zeros((32,12))\n",
    "    for i in range(len(x)):\n",
    "        \n",
    "        m=np.mean(mfcc(x[i],r, numcep=12,nfft=2048),axis=0)\n",
    "        logg[i,:]=m\n",
    "\n",
    "    return logg\n"
   ]
  },
  {
   "cell_type": "code",
   "execution_count": 12,
   "metadata": {},
   "outputs": [],
   "source": [
    "data=np.zeros((len(nonbaby_cry) + len(baby_cry),32,12))\n",
    "output=[]\n",
    "for i in range(0,len(baby_cry)):\n",
    "       r=Mfcc(baby_cry[i])\n",
    "       \n",
    "       data[i,:,:]=r\n",
    "       output.append(1) \n",
    "        \n",
    "all=baby_cry+nonbaby_cry\n",
    "for i in range(len(baby_cry)-1,len(all)-1):\n",
    " \n",
    "       r=Mfcc(all[i])\n",
    "       \n",
    "       data[i,:,:]=r\n",
    "       output.append(0)  "
   ]
  },
  {
   "cell_type": "code",
   "execution_count": 13,
   "metadata": {},
   "outputs": [],
   "source": [
    "data_real_baby=np.zeros((len(real_baby_laugh) + len(real_baby_cry),32,12))\n",
    "data_real_baby_label=[]\n",
    "for i in range(0,len(real_baby_cry)):\n",
    "       r=Mfcc(real_baby_cry[i])\n",
    "       \n",
    "       data_real_baby[i,:,:]=r\n",
    "       data_real_baby_label.append(1) \n",
    "        \n",
    "all2 = real_baby_cry + real_baby_laugh\n",
    "for i in range(len(real_baby_cry)-1,len(all2)-1):\n",
    " \n",
    "       r=Mfcc(all2[i])\n",
    "       \n",
    "       data_real_baby[i,:,:]=r\n",
    "       data_real_baby_label.append(0)  "
   ]
  },
  {
   "cell_type": "code",
   "execution_count": 14,
   "metadata": {},
   "outputs": [
    {
     "data": {
      "text/plain": [
       "99"
      ]
     },
     "execution_count": 14,
     "metadata": {},
     "output_type": "execute_result"
    }
   ],
   "source": [
    "len(data_real_baby_label)"
   ]
  },
  {
   "cell_type": "code",
   "execution_count": 15,
   "metadata": {},
   "outputs": [
    {
     "data": {
      "text/plain": [
       "1003"
      ]
     },
     "execution_count": 15,
     "metadata": {},
     "output_type": "execute_result"
    }
   ],
   "source": [
    "len(data)"
   ]
  },
  {
   "cell_type": "code",
   "execution_count": 16,
   "metadata": {},
   "outputs": [],
   "source": [
    "input=data"
   ]
  },
  {
   "cell_type": "code",
   "execution_count": 54,
   "metadata": {},
   "outputs": [],
   "source": [
    "from sklearn.model_selection import train_test_split\n",
    "X_train, X_temp, y_train, y_temp = train_test_split(input, output, test_size=0.3, random_state=None,stratify = output)\n",
    "X_val, X_test, y_val, y_test = train_test_split(X_temp, y_temp, test_size=0.5, random_state=None,stratify = y_temp)"
   ]
  },
  {
   "cell_type": "code",
   "execution_count": 55,
   "metadata": {},
   "outputs": [
    {
     "name": "stdout",
     "output_type": "stream",
     "text": [
      "Shape of X_train: (702, 32, 12)\n",
      "Shape of X_val: (150, 32, 12)\n",
      "Shape of X_test: (151, 32, 12)\n",
      "Length of y_train: 702\n"
     ]
    }
   ],
   "source": [
    "print('Shape of X_train:',X_train.shape)\n",
    "print('Shape of X_val:',X_val.shape)\n",
    "print('Shape of X_test:',X_test.shape)\n",
    "print('Length of y_train:',len(y_train))\n"
   ]
  },
  {
   "cell_type": "code",
   "execution_count": 56,
   "metadata": {},
   "outputs": [],
   "source": [
    "from keras.layers import Reshape, Flatten, Dropout, Concatenate, BatchNormalization\n",
    "from keras.models import Sequential,model_from_json\n",
    "from keras.layers import Conv2D,Conv1D,MaxPooling1D,GlobalAveragePooling1D,GlobalMaxPooling1D\n",
    "from keras.layers import MaxPooling2D\n",
    "from keras.layers import Flatten,Dropout\n",
    "from keras import optimizers, callbacks\n",
    "import numpy as np\n",
    "from keras.layers import Dense,Activation\n",
    "from keras.preprocessing import image\n",
    "from keras.preprocessing.image import ImageDataGenerator\n",
    "from tensorflow.keras.utils import img_to_array\n",
    "from keras.layers import Reshape, Flatten, Dropout, Concatenate, BatchNormalization\n",
    "from keras.optimizers import Adam"
   ]
  },
  {
   "cell_type": "code",
   "execution_count": 57,
   "metadata": {},
   "outputs": [],
   "source": [
    "\n",
    "\n",
    "model1 = Sequential()\n",
    "model1.add(Conv1D(64, 2, activation='relu', input_shape=(32, 12))) \n",
    "model1.add(Conv1D(40,2,padding='valid', activation='relu',strides=1)) \n",
    "model1.add(Dropout(0.2))\n",
    "model1.add(GlobalMaxPooling1D())\n",
    "model1.add(Dense(40))\n",
    "model1.add(Dropout(0.2))\n",
    "model1.add(Activation('relu'))\n",
    "model1.add(BatchNormalization(epsilon=0.001, momentum=0.9, weights=None))\n",
    "model1.add(Dense(1))\n",
    "model1.add(Activation('sigmoid'))\n",
    "\n"
   ]
  },
  {
   "cell_type": "code",
   "execution_count": 58,
   "metadata": {},
   "outputs": [],
   "source": [
    "\n",
    "model1.compile(loss='binary_crossentropy',optimizer='adam',metrics=['accuracy'])"
   ]
  },
  {
   "cell_type": "code",
   "execution_count": 59,
   "metadata": {},
   "outputs": [
    {
     "name": "stdout",
     "output_type": "stream",
     "text": [
      "Epoch 1/100\n",
      "71/71 - 2s - loss: 0.6231 - accuracy: 0.6496 - val_loss: 0.4259 - val_accuracy: 0.8200 - 2s/epoch - 31ms/step\n",
      "Epoch 2/100\n",
      "71/71 - 0s - loss: 0.4186 - accuracy: 0.8006 - val_loss: 0.3538 - val_accuracy: 0.8733 - 300ms/epoch - 4ms/step\n",
      "Epoch 3/100\n",
      "71/71 - 0s - loss: 0.3424 - accuracy: 0.8490 - val_loss: 0.3077 - val_accuracy: 0.8933 - 282ms/epoch - 4ms/step\n",
      "Epoch 4/100\n",
      "71/71 - 0s - loss: 0.2832 - accuracy: 0.8917 - val_loss: 0.2677 - val_accuracy: 0.9067 - 267ms/epoch - 4ms/step\n",
      "Epoch 5/100\n",
      "71/71 - 0s - loss: 0.2351 - accuracy: 0.9060 - val_loss: 0.2401 - val_accuracy: 0.9067 - 284ms/epoch - 4ms/step\n",
      "Epoch 6/100\n",
      "71/71 - 0s - loss: 0.1851 - accuracy: 0.9231 - val_loss: 0.2143 - val_accuracy: 0.9333 - 269ms/epoch - 4ms/step\n",
      "Epoch 7/100\n",
      "71/71 - 0s - loss: 0.1479 - accuracy: 0.9473 - val_loss: 0.1855 - val_accuracy: 0.9333 - 261ms/epoch - 4ms/step\n",
      "Epoch 8/100\n",
      "71/71 - 0s - loss: 0.1159 - accuracy: 0.9658 - val_loss: 0.1680 - val_accuracy: 0.9533 - 255ms/epoch - 4ms/step\n",
      "Epoch 9/100\n",
      "71/71 - 0s - loss: 0.1105 - accuracy: 0.9644 - val_loss: 0.1538 - val_accuracy: 0.9467 - 278ms/epoch - 4ms/step\n",
      "Epoch 10/100\n",
      "71/71 - 0s - loss: 0.0857 - accuracy: 0.9772 - val_loss: 0.1693 - val_accuracy: 0.9333 - 257ms/epoch - 4ms/step\n",
      "Epoch 11/100\n",
      "71/71 - 0s - loss: 0.0760 - accuracy: 0.9801 - val_loss: 0.1557 - val_accuracy: 0.9400 - 279ms/epoch - 4ms/step\n",
      "Epoch 12/100\n",
      "71/71 - 0s - loss: 0.0936 - accuracy: 0.9744 - val_loss: 0.1511 - val_accuracy: 0.9467 - 343ms/epoch - 5ms/step\n",
      "Epoch 13/100\n",
      "71/71 - 0s - loss: 0.0841 - accuracy: 0.9715 - val_loss: 0.1403 - val_accuracy: 0.9600 - 311ms/epoch - 4ms/step\n",
      "Epoch 14/100\n",
      "71/71 - 0s - loss: 0.0542 - accuracy: 0.9915 - val_loss: 0.1476 - val_accuracy: 0.9600 - 301ms/epoch - 4ms/step\n",
      "Epoch 15/100\n",
      "71/71 - 0s - loss: 0.0553 - accuracy: 0.9815 - val_loss: 0.1293 - val_accuracy: 0.9667 - 273ms/epoch - 4ms/step\n",
      "Epoch 16/100\n",
      "71/71 - 0s - loss: 0.0362 - accuracy: 0.9943 - val_loss: 0.1459 - val_accuracy: 0.9600 - 329ms/epoch - 5ms/step\n",
      "Epoch 17/100\n",
      "71/71 - 0s - loss: 0.0379 - accuracy: 0.9900 - val_loss: 0.2077 - val_accuracy: 0.9333 - 259ms/epoch - 4ms/step\n",
      "Epoch 18/100\n",
      "71/71 - 0s - loss: 0.0403 - accuracy: 0.9872 - val_loss: 0.1542 - val_accuracy: 0.9467 - 275ms/epoch - 4ms/step\n",
      "Epoch 19/100\n",
      "71/71 - 0s - loss: 0.0247 - accuracy: 0.9957 - val_loss: 0.1269 - val_accuracy: 0.9667 - 317ms/epoch - 4ms/step\n",
      "Epoch 20/100\n",
      "71/71 - 0s - loss: 0.0392 - accuracy: 0.9886 - val_loss: 0.1386 - val_accuracy: 0.9667 - 272ms/epoch - 4ms/step\n",
      "Epoch 21/100\n",
      "71/71 - 0s - loss: 0.0316 - accuracy: 0.9915 - val_loss: 0.1232 - val_accuracy: 0.9733 - 292ms/epoch - 4ms/step\n",
      "Epoch 22/100\n",
      "71/71 - 0s - loss: 0.0260 - accuracy: 0.9943 - val_loss: 0.1368 - val_accuracy: 0.9533 - 304ms/epoch - 4ms/step\n",
      "Epoch 23/100\n",
      "71/71 - 0s - loss: 0.0151 - accuracy: 0.9986 - val_loss: 0.1421 - val_accuracy: 0.9667 - 289ms/epoch - 4ms/step\n",
      "Epoch 24/100\n",
      "71/71 - 0s - loss: 0.0145 - accuracy: 0.9986 - val_loss: 0.1317 - val_accuracy: 0.9667 - 289ms/epoch - 4ms/step\n",
      "Epoch 25/100\n",
      "71/71 - 0s - loss: 0.0156 - accuracy: 0.9972 - val_loss: 0.1277 - val_accuracy: 0.9467 - 283ms/epoch - 4ms/step\n",
      "Epoch 26/100\n",
      "71/71 - 0s - loss: 0.0154 - accuracy: 0.9986 - val_loss: 0.1426 - val_accuracy: 0.9667 - 322ms/epoch - 5ms/step\n",
      "Epoch 27/100\n",
      "71/71 - 0s - loss: 0.0398 - accuracy: 0.9843 - val_loss: 0.1920 - val_accuracy: 0.9467 - 273ms/epoch - 4ms/step\n",
      "Epoch 28/100\n",
      "71/71 - 0s - loss: 0.0380 - accuracy: 0.9915 - val_loss: 0.1688 - val_accuracy: 0.9600 - 253ms/epoch - 4ms/step\n",
      "Epoch 29/100\n",
      "71/71 - 0s - loss: 0.0451 - accuracy: 0.9858 - val_loss: 0.1740 - val_accuracy: 0.9600 - 293ms/epoch - 4ms/step\n",
      "Epoch 30/100\n",
      "71/71 - 0s - loss: 0.0472 - accuracy: 0.9829 - val_loss: 0.1582 - val_accuracy: 0.9733 - 255ms/epoch - 4ms/step\n",
      "Epoch 31/100\n",
      "71/71 - 0s - loss: 0.0190 - accuracy: 0.9957 - val_loss: 0.1407 - val_accuracy: 0.9667 - 261ms/epoch - 4ms/step\n",
      "Epoch 32/100\n",
      "71/71 - 0s - loss: 0.0194 - accuracy: 0.9929 - val_loss: 0.1457 - val_accuracy: 0.9467 - 268ms/epoch - 4ms/step\n",
      "Epoch 33/100\n",
      "71/71 - 0s - loss: 0.0155 - accuracy: 0.9957 - val_loss: 0.1329 - val_accuracy: 0.9600 - 288ms/epoch - 4ms/step\n",
      "Epoch 34/100\n",
      "71/71 - 0s - loss: 0.0124 - accuracy: 0.9972 - val_loss: 0.1394 - val_accuracy: 0.9667 - 264ms/epoch - 4ms/step\n",
      "Epoch 35/100\n",
      "71/71 - 0s - loss: 0.0100 - accuracy: 0.9986 - val_loss: 0.1348 - val_accuracy: 0.9733 - 263ms/epoch - 4ms/step\n",
      "Epoch 36/100\n",
      "71/71 - 0s - loss: 0.0153 - accuracy: 0.9957 - val_loss: 0.1252 - val_accuracy: 0.9733 - 256ms/epoch - 4ms/step\n",
      "Epoch 37/100\n",
      "71/71 - 0s - loss: 0.0115 - accuracy: 0.9972 - val_loss: 0.1528 - val_accuracy: 0.9600 - 268ms/epoch - 4ms/step\n",
      "Epoch 38/100\n",
      "71/71 - 0s - loss: 0.0070 - accuracy: 1.0000 - val_loss: 0.1371 - val_accuracy: 0.9667 - 253ms/epoch - 4ms/step\n",
      "Epoch 39/100\n",
      "71/71 - 0s - loss: 0.0178 - accuracy: 0.9957 - val_loss: 0.1820 - val_accuracy: 0.9467 - 282ms/epoch - 4ms/step\n",
      "Epoch 40/100\n",
      "71/71 - 0s - loss: 0.0138 - accuracy: 0.9972 - val_loss: 0.1335 - val_accuracy: 0.9667 - 282ms/epoch - 4ms/step\n",
      "Epoch 41/100\n",
      "71/71 - 0s - loss: 0.0055 - accuracy: 1.0000 - val_loss: 0.1330 - val_accuracy: 0.9667 - 266ms/epoch - 4ms/step\n",
      "Epoch 42/100\n",
      "71/71 - 0s - loss: 0.0091 - accuracy: 0.9986 - val_loss: 0.1329 - val_accuracy: 0.9600 - 265ms/epoch - 4ms/step\n",
      "Epoch 43/100\n",
      "71/71 - 0s - loss: 0.0655 - accuracy: 0.9801 - val_loss: 0.2045 - val_accuracy: 0.9533 - 253ms/epoch - 4ms/step\n",
      "Epoch 44/100\n",
      "71/71 - 0s - loss: 0.0345 - accuracy: 0.9929 - val_loss: 0.1214 - val_accuracy: 0.9533 - 301ms/epoch - 4ms/step\n",
      "Epoch 45/100\n",
      "71/71 - 0s - loss: 0.0380 - accuracy: 0.9858 - val_loss: 0.1435 - val_accuracy: 0.9667 - 260ms/epoch - 4ms/step\n",
      "Epoch 46/100\n",
      "71/71 - 0s - loss: 0.0244 - accuracy: 0.9929 - val_loss: 0.1724 - val_accuracy: 0.9533 - 269ms/epoch - 4ms/step\n",
      "Epoch 47/100\n",
      "71/71 - 0s - loss: 0.0161 - accuracy: 0.9943 - val_loss: 0.1368 - val_accuracy: 0.9667 - 265ms/epoch - 4ms/step\n",
      "Epoch 48/100\n",
      "71/71 - 0s - loss: 0.0114 - accuracy: 0.9986 - val_loss: 0.1502 - val_accuracy: 0.9600 - 284ms/epoch - 4ms/step\n",
      "Epoch 49/100\n",
      "71/71 - 0s - loss: 0.0092 - accuracy: 0.9972 - val_loss: 0.1646 - val_accuracy: 0.9533 - 266ms/epoch - 4ms/step\n",
      "Epoch 50/100\n",
      "71/71 - 0s - loss: 0.0069 - accuracy: 1.0000 - val_loss: 0.1813 - val_accuracy: 0.9533 - 277ms/epoch - 4ms/step\n",
      "Epoch 51/100\n",
      "71/71 - 0s - loss: 0.0059 - accuracy: 1.0000 - val_loss: 0.1523 - val_accuracy: 0.9733 - 310ms/epoch - 4ms/step\n",
      "Epoch 52/100\n",
      "71/71 - 0s - loss: 0.0059 - accuracy: 1.0000 - val_loss: 0.1753 - val_accuracy: 0.9733 - 306ms/epoch - 4ms/step\n",
      "Epoch 53/100\n",
      "71/71 - 0s - loss: 0.0044 - accuracy: 1.0000 - val_loss: 0.1609 - val_accuracy: 0.9733 - 272ms/epoch - 4ms/step\n",
      "Epoch 54/100\n",
      "71/71 - 0s - loss: 0.0045 - accuracy: 1.0000 - val_loss: 0.1597 - val_accuracy: 0.9733 - 271ms/epoch - 4ms/step\n",
      "Epoch 55/100\n",
      "71/71 - 0s - loss: 0.0033 - accuracy: 1.0000 - val_loss: 0.1542 - val_accuracy: 0.9733 - 283ms/epoch - 4ms/step\n",
      "Epoch 56/100\n",
      "71/71 - 0s - loss: 0.0028 - accuracy: 1.0000 - val_loss: 0.1396 - val_accuracy: 0.9667 - 269ms/epoch - 4ms/step\n",
      "Epoch 57/100\n",
      "71/71 - 0s - loss: 0.0025 - accuracy: 1.0000 - val_loss: 0.1474 - val_accuracy: 0.9733 - 268ms/epoch - 4ms/step\n",
      "Epoch 58/100\n",
      "71/71 - 0s - loss: 0.0035 - accuracy: 1.0000 - val_loss: 0.1476 - val_accuracy: 0.9600 - 318ms/epoch - 4ms/step\n",
      "Epoch 59/100\n",
      "71/71 - 0s - loss: 0.0072 - accuracy: 0.9972 - val_loss: 0.2224 - val_accuracy: 0.9533 - 286ms/epoch - 4ms/step\n",
      "Epoch 60/100\n",
      "71/71 - 0s - loss: 0.0071 - accuracy: 1.0000 - val_loss: 0.1808 - val_accuracy: 0.9467 - 256ms/epoch - 4ms/step\n",
      "Epoch 61/100\n",
      "71/71 - 0s - loss: 0.0132 - accuracy: 0.9943 - val_loss: 0.2184 - val_accuracy: 0.9533 - 267ms/epoch - 4ms/step\n",
      "Epoch 62/100\n",
      "71/71 - 0s - loss: 0.0407 - accuracy: 0.9858 - val_loss: 0.2136 - val_accuracy: 0.9467 - 284ms/epoch - 4ms/step\n",
      "Epoch 63/100\n",
      "71/71 - 0s - loss: 0.0601 - accuracy: 0.9815 - val_loss: 0.2205 - val_accuracy: 0.9533 - 269ms/epoch - 4ms/step\n",
      "Epoch 64/100\n",
      "71/71 - 0s - loss: 0.0509 - accuracy: 0.9829 - val_loss: 0.1788 - val_accuracy: 0.9600 - 258ms/epoch - 4ms/step\n",
      "Epoch 65/100\n",
      "71/71 - 0s - loss: 0.0248 - accuracy: 0.9929 - val_loss: 0.1667 - val_accuracy: 0.9467 - 252ms/epoch - 4ms/step\n",
      "Epoch 66/100\n",
      "71/71 - 0s - loss: 0.0071 - accuracy: 0.9972 - val_loss: 0.1911 - val_accuracy: 0.9533 - 272ms/epoch - 4ms/step\n",
      "Epoch 67/100\n",
      "71/71 - 0s - loss: 0.0191 - accuracy: 0.9943 - val_loss: 0.2071 - val_accuracy: 0.9667 - 259ms/epoch - 4ms/step\n",
      "Epoch 68/100\n",
      "71/71 - 0s - loss: 0.0086 - accuracy: 0.9986 - val_loss: 0.1659 - val_accuracy: 0.9733 - 359ms/epoch - 5ms/step\n",
      "Epoch 69/100\n",
      "71/71 - 1s - loss: 0.0065 - accuracy: 0.9986 - val_loss: 0.1960 - val_accuracy: 0.9533 - 507ms/epoch - 7ms/step\n",
      "Epoch 70/100\n",
      "71/71 - 0s - loss: 0.0140 - accuracy: 0.9929 - val_loss: 0.1806 - val_accuracy: 0.9733 - 408ms/epoch - 6ms/step\n",
      "Epoch 71/100\n",
      "71/71 - 0s - loss: 0.0063 - accuracy: 0.9972 - val_loss: 0.1572 - val_accuracy: 0.9667 - 407ms/epoch - 6ms/step\n",
      "Epoch 72/100\n",
      "71/71 - 0s - loss: 0.0290 - accuracy: 0.9886 - val_loss: 0.2348 - val_accuracy: 0.9533 - 484ms/epoch - 7ms/step\n",
      "Epoch 73/100\n",
      "71/71 - 0s - loss: 0.0083 - accuracy: 0.9972 - val_loss: 0.2086 - val_accuracy: 0.9600 - 422ms/epoch - 6ms/step\n",
      "Epoch 74/100\n",
      "71/71 - 0s - loss: 0.0099 - accuracy: 0.9957 - val_loss: 0.2087 - val_accuracy: 0.9600 - 402ms/epoch - 6ms/step\n",
      "Epoch 75/100\n",
      "71/71 - 0s - loss: 0.0102 - accuracy: 0.9986 - val_loss: 0.1822 - val_accuracy: 0.9733 - 414ms/epoch - 6ms/step\n",
      "Epoch 76/100\n",
      "71/71 - 0s - loss: 0.0032 - accuracy: 1.0000 - val_loss: 0.1800 - val_accuracy: 0.9733 - 294ms/epoch - 4ms/step\n",
      "Epoch 77/100\n",
      "71/71 - 0s - loss: 0.0020 - accuracy: 1.0000 - val_loss: 0.1740 - val_accuracy: 0.9733 - 261ms/epoch - 4ms/step\n",
      "Epoch 78/100\n",
      "71/71 - 0s - loss: 0.0022 - accuracy: 1.0000 - val_loss: 0.1819 - val_accuracy: 0.9733 - 343ms/epoch - 5ms/step\n",
      "Epoch 79/100\n",
      "71/71 - 0s - loss: 0.0011 - accuracy: 1.0000 - val_loss: 0.1710 - val_accuracy: 0.9733 - 280ms/epoch - 4ms/step\n",
      "Epoch 80/100\n",
      "71/71 - 0s - loss: 0.0023 - accuracy: 1.0000 - val_loss: 0.1963 - val_accuracy: 0.9600 - 289ms/epoch - 4ms/step\n",
      "Epoch 81/100\n",
      "71/71 - 0s - loss: 0.0031 - accuracy: 0.9986 - val_loss: 0.1806 - val_accuracy: 0.9667 - 280ms/epoch - 4ms/step\n",
      "Epoch 82/100\n",
      "71/71 - 0s - loss: 0.0079 - accuracy: 0.9972 - val_loss: 0.1580 - val_accuracy: 0.9600 - 326ms/epoch - 5ms/step\n",
      "Epoch 83/100\n",
      "71/71 - 0s - loss: 0.0216 - accuracy: 0.9929 - val_loss: 0.1710 - val_accuracy: 0.9533 - 282ms/epoch - 4ms/step\n",
      "Epoch 84/100\n",
      "71/71 - 0s - loss: 0.0190 - accuracy: 0.9915 - val_loss: 0.1683 - val_accuracy: 0.9533 - 261ms/epoch - 4ms/step\n",
      "Epoch 85/100\n",
      "71/71 - 0s - loss: 0.0262 - accuracy: 0.9929 - val_loss: 0.1397 - val_accuracy: 0.9733 - 271ms/epoch - 4ms/step\n",
      "Epoch 86/100\n",
      "71/71 - 0s - loss: 0.0224 - accuracy: 0.9900 - val_loss: 0.1779 - val_accuracy: 0.9533 - 286ms/epoch - 4ms/step\n",
      "Epoch 87/100\n",
      "71/71 - 0s - loss: 0.0155 - accuracy: 0.9929 - val_loss: 0.1905 - val_accuracy: 0.9667 - 286ms/epoch - 4ms/step\n",
      "Epoch 88/100\n",
      "71/71 - 0s - loss: 0.0287 - accuracy: 0.9886 - val_loss: 0.1815 - val_accuracy: 0.9467 - 267ms/epoch - 4ms/step\n",
      "Epoch 89/100\n",
      "71/71 - 0s - loss: 0.0082 - accuracy: 0.9986 - val_loss: 0.1550 - val_accuracy: 0.9533 - 255ms/epoch - 4ms/step\n",
      "Epoch 90/100\n",
      "71/71 - 0s - loss: 0.0062 - accuracy: 1.0000 - val_loss: 0.2009 - val_accuracy: 0.9467 - 276ms/epoch - 4ms/step\n",
      "Epoch 91/100\n",
      "71/71 - 0s - loss: 0.0070 - accuracy: 0.9972 - val_loss: 0.1657 - val_accuracy: 0.9467 - 259ms/epoch - 4ms/step\n",
      "Epoch 92/100\n",
      "71/71 - 0s - loss: 0.0069 - accuracy: 0.9986 - val_loss: 0.1794 - val_accuracy: 0.9400 - 270ms/epoch - 4ms/step\n",
      "Epoch 93/100\n",
      "71/71 - 0s - loss: 0.0043 - accuracy: 1.0000 - val_loss: 0.1769 - val_accuracy: 0.9533 - 286ms/epoch - 4ms/step\n",
      "Epoch 94/100\n",
      "71/71 - 0s - loss: 0.0021 - accuracy: 1.0000 - val_loss: 0.1592 - val_accuracy: 0.9600 - 263ms/epoch - 4ms/step\n",
      "Epoch 95/100\n",
      "71/71 - 0s - loss: 0.0020 - accuracy: 1.0000 - val_loss: 0.1666 - val_accuracy: 0.9600 - 268ms/epoch - 4ms/step\n",
      "Epoch 96/100\n",
      "71/71 - 0s - loss: 0.0011 - accuracy: 1.0000 - val_loss: 0.1631 - val_accuracy: 0.9600 - 262ms/epoch - 4ms/step\n",
      "Epoch 97/100\n",
      "71/71 - 0s - loss: 0.0012 - accuracy: 1.0000 - val_loss: 0.1662 - val_accuracy: 0.9600 - 269ms/epoch - 4ms/step\n",
      "Epoch 98/100\n",
      "71/71 - 0s - loss: 0.0027 - accuracy: 1.0000 - val_loss: 0.1653 - val_accuracy: 0.9667 - 257ms/epoch - 4ms/step\n",
      "Epoch 99/100\n",
      "71/71 - 0s - loss: 0.0046 - accuracy: 0.9986 - val_loss: 0.2751 - val_accuracy: 0.9467 - 264ms/epoch - 4ms/step\n",
      "Epoch 100/100\n",
      "71/71 - 0s - loss: 0.0080 - accuracy: 0.9972 - val_loss: 0.2108 - val_accuracy: 0.9467 - 264ms/epoch - 4ms/step\n"
     ]
    }
   ],
   "source": [
    "train_x = np.asarray(X_train)\n",
    "train_y = np.asarray(y_train)\n",
    "validation_x = np.asarray(X_val)\n",
    "validation_y = np.asarray(y_val)\n",
    "history = model1.fit(train_x, train_y, epochs=100, validation_data=(validation_x,validation_y),batch_size=10, shuffle=False,verbose=2)\n"
   ]
  },
  {
   "cell_type": "code",
   "execution_count": 60,
   "metadata": {},
   "outputs": [
    {
     "name": "stdout",
     "output_type": "stream",
     "text": [
      "dict_keys(['loss', 'accuracy', 'val_loss', 'val_accuracy'])\n"
     ]
    },
    {
     "data": {
      "image/png": "[encoded data removed]",
      "text/plain": [
       "<Figure size 640x480 with 1 Axes>"
      ]
     },
     "metadata": {},
     "output_type": "display_data"
    },
    {
     "data": {
      "image/png": "[encoded data removed]",
      "text/plain": [
       "<Figure size 640x480 with 1 Axes>"
      ]
     },
     "metadata": {},
     "output_type": "display_data"
    }
   ],
   "source": [
    "print(history.history.keys())\n",
    "#  \"Accuracy\"\n",
    "plt.plot(history.history['accuracy'])\n",
    "plt.plot(history.history['val_accuracy'])\n",
    "plt.title('model accuracy')\n",
    "plt.ylabel('accuracy')\n",
    "plt.xlabel('epoch')\n",
    "plt.legend(['train', 'test'], loc='upper left')\n",
    "plt.show()\n",
    "# \"Loss\"\n",
    "plt.plot(history.history['loss'])\n",
    "plt.plot(history.history['val_loss'])\n",
    "plt.title('model loss')\n",
    "plt.ylabel('loss')\n",
    "plt.xlabel('epoch')\n",
    "plt.legend(['train', 'test'], loc='upper left')\n",
    "plt.show()"
   ]
  },
  {
   "cell_type": "code",
   "execution_count": 61,
   "metadata": {},
   "outputs": [
    {
     "name": "stdout",
     "output_type": "stream",
     "text": [
      "5/5 [==============================] - 0s 3ms/step - loss: 0.2108 - accuracy: 0.9467\n"
     ]
    },
    {
     "data": {
      "text/plain": [
       "[0.21081267297267914, 0.9466666579246521]"
      ]
     },
     "execution_count": 61,
     "metadata": {},
     "output_type": "execute_result"
    }
   ],
   "source": [
    "\n",
    "model1.evaluate(validation_x,validation_y)"
   ]
  },
  {
   "cell_type": "code",
   "execution_count": 62,
   "metadata": {},
   "outputs": [
    {
     "name": "stdout",
     "output_type": "stream",
     "text": [
      "5/5 [==============================] - 0s 3ms/step - loss: 0.3536 - accuracy: 0.9404\n"
     ]
    },
    {
     "data": {
      "text/plain": [
       "[0.35360512137413025, 0.940397322177887]"
      ]
     },
     "execution_count": 62,
     "metadata": {},
     "output_type": "execute_result"
    }
   ],
   "source": [
    "test_x = np.asarray(X_test)\n",
    "test_y = np.asarray(y_test)\n",
    "model1.evaluate(test_x,test_y)"
   ]
  },
  {
   "cell_type": "code",
   "execution_count": 63,
   "metadata": {},
   "outputs": [
    {
     "name": "stdout",
     "output_type": "stream",
     "text": [
      "4/4 [==============================] - 0s 6ms/step - loss: 4.4218 - accuracy: 0.3232\n",
      "Real baby test accuracy: 0.3232323229312897\n"
     ]
    }
   ],
   "source": [
    "data_real_baby = np.asarray(data_real_baby)\n",
    "data_real_baby_label = np.asarray(data_real_baby_label)\n",
    "\n",
    "results = model1.evaluate(data_real_baby, data_real_baby_label)\n",
    "\n",
    "accuracy_index = model1.metrics_names.index('accuracy')\n",
    "\n",
    "print(\"Real baby test accuracy:\", results[accuracy_index])"
   ]
  },
  {
   "cell_type": "code",
   "execution_count": 85,
   "metadata": {},
   "outputs": [
    {
     "data": {
      "text/plain": [
       "SVC(C=25, gamma=0.001)"
      ]
     },
     "execution_count": 85,
     "metadata": {},
     "output_type": "execute_result"
    }
   ],
   "source": [
    "from sklearn import svm\n",
    "\n",
    "train_x = np.asarray(X_train)\n",
    "train_y = np.asarray(y_train)\n",
    "validation_x = np.asarray(X_val)\n",
    "validation_y = np.asarray(y_val)\n",
    "test_x = np.asarray(X_test)\n",
    "test_y = np.asarray(y_test)\n",
    "n_samples = train_x.shape[0]\n",
    "n_features = train_x.shape[1] * train_x.shape[2]\n",
    "train_x = train_x.reshape(n_samples, n_features)\n",
    "# Set parameters for SVM\n",
    "C = 25\n",
    "kernel = 'rbf'\n",
    "svm_classifier = svm.SVC(C=C, kernel=kernel, gamma=0.001)\n",
    "\n",
    "svm_classifier.fit(train_x, train_y)"
   ]
  },
  {
   "cell_type": "code",
   "execution_count": 86,
   "metadata": {},
   "outputs": [
    {
     "name": "stdout",
     "output_type": "stream",
     "text": [
      "0.5099337748344371\n"
     ]
    }
   ],
   "source": [
    "n_samples = test_x.shape[0]\n",
    "n_features = test_x.shape[1] * test_x.shape[2]\n",
    "test_x = test_x.reshape(n_samples, n_features)\n",
    "accuracy = svm_classifier.score(test_x,test_y)\n",
    "print(accuracy)"
   ]
  },
  {
   "cell_type": "code",
   "execution_count": 87,
   "metadata": {},
   "outputs": [
    {
     "name": "stdout",
     "output_type": "stream",
     "text": [
      "0.5333333333333333\n"
     ]
    }
   ],
   "source": [
    "n_samples = validation_x.shape[0]\n",
    "n_features = validation_x.shape[1] * validation_x.shape[2]\n",
    "validation_x = validation_x.reshape(n_samples, n_features)\n",
    "accuracy = svm_classifier.score(validation_x,validation_y)\n",
    "print(accuracy)"
   ]
  },
  {
   "cell_type": "markdown",
   "metadata": {},
   "source": []
  }
 ],
 "metadata": {
  "kernelspec": {
   "display_name": "Python 3",
   "language": "python",
   "name": "python3"
  },
  "language_info": {
   "codemirror_mode": {
    "name": "ipython",
    "version": 3
   },
   "file_extension": ".py",
   "mimetype": "text/x-python",
   "name": "python",
   "nbconvert_exporter": "python",
   "pygments_lexer": "ipython3",
   "version": "3.7.9"
  }
 },
 "nbformat": 4,
 "nbformat_minor": 2
}
