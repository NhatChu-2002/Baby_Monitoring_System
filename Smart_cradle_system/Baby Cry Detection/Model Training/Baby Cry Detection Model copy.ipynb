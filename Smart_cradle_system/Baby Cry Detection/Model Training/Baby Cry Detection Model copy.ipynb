{
 "cells": [
  {
   "cell_type": "code",
   "execution_count": 46,
   "metadata": {},
   "outputs": [],
   "source": [
    "import librosa\n",
    "import numpy as np\n",
    "from os.path import isfile,join\n",
    "from os import listdir\n",
    "import matplotlib.pyplot as plt\n",
    "from scipy import hamming\n",
    "import soundfile as sf\n",
    "import scipy\n",
    "import numpy\n",
    "from python_speech_features import mfcc\n",
    "from scipy.io import wavfile\n",
    "import soundfile as sf\n",
    "import math\n",
    "import tensorflow\n",
    "from keras.utils import np_utils\n",
    "from keras.models import Sequential\n",
    "from keras.models import model_from_yaml\n",
    "from keras.models import model_from_json\n",
    "from keras.layers import Dense\n",
    "from keras import backend\n",
    "from keras.layers import Embedding\n",
    "from keras.layers import LSTM\n",
    "from sklearn.model_selection import train_test_split"
   ]
  },
  {
   "cell_type": "code",
   "execution_count": 47,
   "metadata": {},
   "outputs": [],
   "source": [
    "babycry=[f for f in listdir('D:\\\\HK2-Năm 3\\\\PBL5\\\\Code\\\\New data\\\\Crying') if isfile(join('D:\\\\HK2-Năm 3\\\\PBL5\\\\Code\\\\New data\\\\Crying', f))]\n",
    "\n",
    "nonbabycry=[f for f in listdir('D:\\\\HK2-Năm 3\\\\PBL5\\\\Code\\\\New data\\\\Noise') if isfile(join('D:\\\\HK2-Năm 3\\\\PBL5\\\\Code\\\\New data\\\\Noise', f))]\n",
    "babysilence=[f for f in listdir('D:\\\\HK2-Năm 3\\\\PBL5\\\\Code\\\\New data\\\\Silence') if isfile(join('D:\\\\HK2-Năm 3\\\\PBL5\\\\Code\\\\New data\\\\Silence', f))]\n",
    "babylaugh=[f for f in listdir('D:\\\\HK2-Năm 3\\\\PBL5\\\\Code\\\\New data\\\\Laugh') if isfile(join('D:\\\\HK2-Năm 3\\\\PBL5\\\\Code\\\\New data\\\\Laugh',f))]\n",
    "realbabylaugh=[f for f in listdir('D:\\\\HK2-Năm 3\\\\PBL5\\\\Code\\\\RealBaby_data\\\\Laugh') if isfile(join('D:\\\\HK2-Năm 3\\\\PBL5\\\\Code\\\\RealBaby_data\\\\Laugh',f))]\n",
    "realbabycry=[f for f in listdir('D:\\\\HK2-Năm 3\\\\PBL5\\\\Code\\\\RealBaby_data\\\\Crying') if isfile(join('D:\\\\HK2-Năm 3\\\\PBL5\\\\Code\\\\RealBaby_data\\\\Crying',f))]\n",
    "\n"
   ]
  },
  {
   "cell_type": "code",
   "execution_count": 48,
   "metadata": {},
   "outputs": [],
   "source": [
    "baby_cry=[]\n",
    "for each in range(0,len(babycry)) :\n",
    "    cry='D:\\\\HK2-Năm 3\\\\PBL5\\\\Code\\\\New data\\\\Crying' + '\\\\' + babycry[each] \n",
    "    baby_cry.append(cry)\n"
   ]
  },
  {
   "cell_type": "code",
   "execution_count": 49,
   "metadata": {},
   "outputs": [
    {
     "data": {
      "text/plain": [
       "500"
      ]
     },
     "execution_count": 49,
     "metadata": {},
     "output_type": "execute_result"
    }
   ],
   "source": [
    "len(baby_cry)"
   ]
  },
  {
   "cell_type": "code",
   "execution_count": 50,
   "metadata": {},
   "outputs": [],
   "source": [
    "non_babycry=[]\n",
    "for each in range(0,len(nonbabycry)) :\n",
    "    x='D:\\\\HK2-Năm 3\\\\PBL5\\\\Code\\\\New data\\\\Noise' + '\\\\' + nonbabycry[each] \n",
    "    non_babycry.append(x)"
   ]
  },
  {
   "cell_type": "code",
   "execution_count": 51,
   "metadata": {},
   "outputs": [],
   "source": [
    "baby_silence=[]\n",
    "for each in range(0,len(babysilence)) :\n",
    "    silence='D:\\\\HK2-Năm 3\\\\PBL5\\\\Code\\\\New data\\\\Silence' + '\\\\' + babysilence[each] \n",
    "    baby_silence.append(silence)\n"
   ]
  },
  {
   "cell_type": "code",
   "execution_count": 52,
   "metadata": {},
   "outputs": [],
   "source": [
    "baby_laugh=[]\n",
    "for each in range(0,len(babylaugh)) :\n",
    "    laugh='D:\\\\HK2-Năm 3\\\\PBL5\\\\Code\\\\New data\\\\Laugh' + '\\\\' + babylaugh[each] \n",
    "    baby_laugh.append(laugh)\n",
    "  "
   ]
  },
  {
   "cell_type": "code",
   "execution_count": 53,
   "metadata": {},
   "outputs": [],
   "source": [
    "nonbaby_cry=baby_silence+baby_laugh+non_babycry"
   ]
  },
  {
   "cell_type": "code",
   "execution_count": 54,
   "metadata": {},
   "outputs": [
    {
     "data": {
      "text/plain": [
       "503"
      ]
     },
     "execution_count": 54,
     "metadata": {},
     "output_type": "execute_result"
    }
   ],
   "source": [
    "len(nonbaby_cry)"
   ]
  },
  {
   "cell_type": "code",
   "execution_count": 55,
   "metadata": {},
   "outputs": [
    {
     "name": "stdout",
     "output_type": "stream",
     "text": [
      "49\n",
      "50\n"
     ]
    }
   ],
   "source": [
    "real_baby_cry=[]\n",
    "for each in range(0,len(realbabycry)) :\n",
    "    cry ='D:\\\\HK2-Năm 3\\\\PBL5\\\\Code\\\\RealBaby_data\\\\Crying' + '\\\\' + realbabycry[each] \n",
    "    real_baby_cry.append(cry)\n",
    "real_baby_laugh=[]\n",
    "for each in range(0,len(realbabylaugh)) :\n",
    "    laugh='D:\\\\HK2-Năm 3\\\\PBL5\\\\Code\\\\RealBaby_data\\\\Laugh' + '\\\\' + realbabylaugh[each] \n",
    "    real_baby_laugh.append(laugh)\n",
    "print(len(real_baby_cry))\n",
    "print(len(real_baby_laugh))"
   ]
  },
  {
   "cell_type": "code",
   "execution_count": 56,
   "metadata": {},
   "outputs": [],
   "source": [
    "def Mfcc(audiofile):\n",
    "    s,r=sf.read(audiofile)\n",
    "    \n",
    "    x=np.array_split(s,64)\n",
    "    \n",
    "    logg=np.zeros((64,12))\n",
    "    for i in range(len(x)):\n",
    "        \n",
    "        m=np.mean(mfcc(x[i],r, numcep=12,nfft=2048),axis=0)\n",
    "        logg[i,:]=m\n",
    "\n",
    "    return logg\n"
   ]
  },
  {
   "cell_type": "code",
   "execution_count": 57,
   "metadata": {},
   "outputs": [],
   "source": [
    "data=np.zeros((len(nonbaby_cry) + len(baby_cry),64,12))\n",
    "output=[]\n",
    "for i in range(0,len(baby_cry)):\n",
    "       r=Mfcc(baby_cry[i])\n",
    "       \n",
    "       data[i,:,:]=r\n",
    "       output.append(1) \n",
    "        \n",
    "all=baby_cry+nonbaby_cry\n",
    "for i in range(len(baby_cry)-1,len(all)-1):\n",
    " \n",
    "       r=Mfcc(all[i])\n",
    "       \n",
    "       data[i,:,:]=r\n",
    "       output.append(0)  "
   ]
  },
  {
   "cell_type": "code",
   "execution_count": 58,
   "metadata": {},
   "outputs": [],
   "source": [
    "data_real_baby=np.zeros((len(real_baby_laugh) + len(real_baby_cry),64,12))\n",
    "data_real_baby_label=[]\n",
    "for i in range(0,len(real_baby_cry)):\n",
    "       r=Mfcc(real_baby_cry[i])\n",
    "       \n",
    "       data_real_baby[i,:,:]=r\n",
    "       data_real_baby_label.append(1) \n",
    "        \n",
    "all2 = real_baby_cry + real_baby_laugh\n",
    "for i in range(len(real_baby_cry)-1,len(all2)-1):\n",
    " \n",
    "       r=Mfcc(all2[i])\n",
    "       \n",
    "       data_real_baby[i,:,:]=r\n",
    "       data_real_baby_label.append(0)  "
   ]
  },
  {
   "cell_type": "code",
   "execution_count": 59,
   "metadata": {},
   "outputs": [
    {
     "data": {
      "text/plain": [
       "99"
      ]
     },
     "execution_count": 59,
     "metadata": {},
     "output_type": "execute_result"
    }
   ],
   "source": [
    "len(data_real_baby_label)"
   ]
  },
  {
   "cell_type": "code",
   "execution_count": 60,
   "metadata": {},
   "outputs": [
    {
     "data": {
      "text/plain": [
       "1003"
      ]
     },
     "execution_count": 60,
     "metadata": {},
     "output_type": "execute_result"
    }
   ],
   "source": [
    "len(data)"
   ]
  },
  {
   "cell_type": "code",
   "execution_count": 61,
   "metadata": {},
   "outputs": [],
   "source": [
    "input=data"
   ]
  },
  {
   "cell_type": "code",
   "execution_count": 75,
   "metadata": {},
   "outputs": [],
   "source": [
    "from sklearn.model_selection import train_test_split\n",
    "X_train, X_temp, y_train, y_temp = train_test_split(input, output, test_size=0.3, random_state=None,stratify = output)\n",
    "X_val, X_test, y_val, y_test = train_test_split(X_temp, y_temp, test_size=0.5, random_state=None,stratify = y_temp)"
   ]
  },
  {
   "cell_type": "code",
   "execution_count": 76,
   "metadata": {},
   "outputs": [
    {
     "name": "stdout",
     "output_type": "stream",
     "text": [
      "Shape of X_train: (702, 64, 12)\n",
      "Shape of X_val: (150, 64, 12)\n",
      "Shape of X_test: (151, 64, 12)\n",
      "Length of y_train: 702\n"
     ]
    }
   ],
   "source": [
    "print('Shape of X_train:',X_train.shape)\n",
    "print('Shape of X_val:',X_val.shape)\n",
    "print('Shape of X_test:',X_test.shape)\n",
    "print('Length of y_train:',len(y_train))\n"
   ]
  },
  {
   "cell_type": "code",
   "execution_count": 77,
   "metadata": {},
   "outputs": [],
   "source": [
    "from keras.layers import Reshape, Flatten, Dropout, Concatenate, BatchNormalization\n",
    "from keras.models import Sequential,model_from_json\n",
    "from keras.layers import Conv2D,Conv1D,MaxPooling1D,GlobalAveragePooling1D,GlobalMaxPooling1D\n",
    "from keras.layers import MaxPooling2D\n",
    "from keras.layers import Flatten,Dropout\n",
    "from keras import optimizers, callbacks\n",
    "import numpy as np\n",
    "from keras.layers import Dense,Activation\n",
    "from keras.preprocessing import image\n",
    "from keras.preprocessing.image import ImageDataGenerator\n",
    "from tensorflow.keras.utils import img_to_array\n",
    "from keras.layers import Reshape, Flatten, Dropout, Concatenate, BatchNormalization\n",
    "from keras.optimizers import Adam"
   ]
  },
  {
   "cell_type": "code",
   "execution_count": 78,
   "metadata": {},
   "outputs": [],
   "source": [
    "\n",
    "\n",
    "model1 = Sequential()\n",
    "model1.add(Conv1D(64, 2, activation='relu', input_shape=(64, 12))) \n",
    "model1.add(Conv1D(40,2,padding='valid', activation='relu',strides=1)) \n",
    "model1.add(Dropout(0.2))\n",
    "model1.add(GlobalMaxPooling1D())\n",
    "model1.add(Dense(40))\n",
    "model1.add(Dropout(0.2))\n",
    "model1.add(Activation('relu'))\n",
    "model1.add(BatchNormalization(epsilon=0.001, momentum=0.9, weights=None))\n",
    "model1.add(Dense(1))\n",
    "model1.add(Activation('sigmoid'))\n",
    "\n"
   ]
  },
  {
   "cell_type": "code",
   "execution_count": 79,
   "metadata": {},
   "outputs": [],
   "source": [
    "\n",
    "model1.compile(loss='binary_crossentropy',optimizer='adam',metrics=['accuracy'])"
   ]
  },
  {
   "cell_type": "code",
   "execution_count": 80,
   "metadata": {},
   "outputs": [
    {
     "name": "stdout",
     "output_type": "stream",
     "text": [
      "Epoch 1/100\n",
      "71/71 - 2s - loss: 0.5996 - accuracy: 0.6752 - val_loss: 0.4058 - val_accuracy: 0.8533 - 2s/epoch - 28ms/step\n",
      "Epoch 2/100\n",
      "71/71 - 0s - loss: 0.4329 - accuracy: 0.7977 - val_loss: 0.3310 - val_accuracy: 0.8867 - 347ms/epoch - 5ms/step\n",
      "Epoch 3/100\n",
      "71/71 - 0s - loss: 0.3741 - accuracy: 0.8248 - val_loss: 0.2977 - val_accuracy: 0.8667 - 327ms/epoch - 5ms/step\n",
      "Epoch 4/100\n",
      "71/71 - 0s - loss: 0.3340 - accuracy: 0.8661 - val_loss: 0.2528 - val_accuracy: 0.9067 - 416ms/epoch - 6ms/step\n",
      "Epoch 5/100\n",
      "71/71 - 0s - loss: 0.2909 - accuracy: 0.8889 - val_loss: 0.2249 - val_accuracy: 0.9267 - 308ms/epoch - 4ms/step\n",
      "Epoch 6/100\n",
      "71/71 - 0s - loss: 0.2347 - accuracy: 0.9160 - val_loss: 0.1944 - val_accuracy: 0.9133 - 308ms/epoch - 4ms/step\n",
      "Epoch 7/100\n",
      "71/71 - 0s - loss: 0.2137 - accuracy: 0.9245 - val_loss: 0.1926 - val_accuracy: 0.9267 - 298ms/epoch - 4ms/step\n",
      "Epoch 8/100\n",
      "71/71 - 0s - loss: 0.1671 - accuracy: 0.9430 - val_loss: 0.1450 - val_accuracy: 0.9533 - 288ms/epoch - 4ms/step\n",
      "Epoch 9/100\n",
      "71/71 - 0s - loss: 0.1320 - accuracy: 0.9601 - val_loss: 0.1332 - val_accuracy: 0.9600 - 286ms/epoch - 4ms/step\n",
      "Epoch 10/100\n",
      "71/71 - 0s - loss: 0.1139 - accuracy: 0.9701 - val_loss: 0.1254 - val_accuracy: 0.9467 - 348ms/epoch - 5ms/step\n",
      "Epoch 11/100\n",
      "71/71 - 0s - loss: 0.1184 - accuracy: 0.9658 - val_loss: 0.1666 - val_accuracy: 0.9333 - 348ms/epoch - 5ms/step\n",
      "Epoch 12/100\n",
      "71/71 - 0s - loss: 0.0992 - accuracy: 0.9687 - val_loss: 0.1761 - val_accuracy: 0.9200 - 335ms/epoch - 5ms/step\n",
      "Epoch 13/100\n",
      "71/71 - 0s - loss: 0.0943 - accuracy: 0.9687 - val_loss: 0.1202 - val_accuracy: 0.9400 - 308ms/epoch - 4ms/step\n",
      "Epoch 14/100\n",
      "71/71 - 0s - loss: 0.0830 - accuracy: 0.9715 - val_loss: 0.1374 - val_accuracy: 0.9333 - 295ms/epoch - 4ms/step\n",
      "Epoch 15/100\n",
      "71/71 - 0s - loss: 0.1549 - accuracy: 0.9387 - val_loss: 0.1541 - val_accuracy: 0.9267 - 292ms/epoch - 4ms/step\n",
      "Epoch 16/100\n",
      "71/71 - 0s - loss: 0.1279 - accuracy: 0.9544 - val_loss: 0.1074 - val_accuracy: 0.9600 - 316ms/epoch - 4ms/step\n",
      "Epoch 17/100\n",
      "71/71 - 0s - loss: 0.1001 - accuracy: 0.9701 - val_loss: 0.1053 - val_accuracy: 0.9400 - 329ms/epoch - 5ms/step\n",
      "Epoch 18/100\n",
      "71/71 - 0s - loss: 0.0688 - accuracy: 0.9858 - val_loss: 0.1056 - val_accuracy: 0.9600 - 348ms/epoch - 5ms/step\n",
      "Epoch 19/100\n",
      "71/71 - 0s - loss: 0.0718 - accuracy: 0.9843 - val_loss: 0.2049 - val_accuracy: 0.9400 - 287ms/epoch - 4ms/step\n",
      "Epoch 20/100\n",
      "71/71 - 0s - loss: 0.1177 - accuracy: 0.9573 - val_loss: 0.1325 - val_accuracy: 0.9533 - 273ms/epoch - 4ms/step\n",
      "Epoch 21/100\n",
      "71/71 - 0s - loss: 0.1225 - accuracy: 0.9601 - val_loss: 0.1449 - val_accuracy: 0.9467 - 269ms/epoch - 4ms/step\n",
      "Epoch 22/100\n",
      "71/71 - 0s - loss: 0.0865 - accuracy: 0.9701 - val_loss: 0.0995 - val_accuracy: 0.9467 - 276ms/epoch - 4ms/step\n",
      "Epoch 23/100\n",
      "71/71 - 0s - loss: 0.0967 - accuracy: 0.9744 - val_loss: 0.1029 - val_accuracy: 0.9600 - 283ms/epoch - 4ms/step\n",
      "Epoch 24/100\n",
      "71/71 - 0s - loss: 0.2025 - accuracy: 0.9103 - val_loss: 0.1435 - val_accuracy: 0.9333 - 282ms/epoch - 4ms/step\n",
      "Epoch 25/100\n",
      "71/71 - 0s - loss: 0.1415 - accuracy: 0.9444 - val_loss: 0.1243 - val_accuracy: 0.9600 - 285ms/epoch - 4ms/step\n",
      "Epoch 26/100\n",
      "71/71 - 0s - loss: 0.1046 - accuracy: 0.9644 - val_loss: 0.1255 - val_accuracy: 0.9400 - 295ms/epoch - 4ms/step\n",
      "Epoch 27/100\n",
      "71/71 - 0s - loss: 0.1351 - accuracy: 0.9601 - val_loss: 0.1173 - val_accuracy: 0.9533 - 281ms/epoch - 4ms/step\n",
      "Epoch 28/100\n",
      "71/71 - 0s - loss: 0.0923 - accuracy: 0.9672 - val_loss: 0.1633 - val_accuracy: 0.9400 - 266ms/epoch - 4ms/step\n",
      "Epoch 29/100\n",
      "71/71 - 0s - loss: 0.0860 - accuracy: 0.9630 - val_loss: 0.2061 - val_accuracy: 0.9467 - 327ms/epoch - 5ms/step\n",
      "Epoch 30/100\n",
      "71/71 - 0s - loss: 0.0894 - accuracy: 0.9715 - val_loss: 0.0979 - val_accuracy: 0.9600 - 321ms/epoch - 5ms/step\n",
      "Epoch 31/100\n",
      "71/71 - 0s - loss: 0.0582 - accuracy: 0.9872 - val_loss: 0.1525 - val_accuracy: 0.9400 - 327ms/epoch - 5ms/step\n",
      "Epoch 32/100\n",
      "71/71 - 0s - loss: 0.0965 - accuracy: 0.9687 - val_loss: 0.0946 - val_accuracy: 0.9533 - 310ms/epoch - 4ms/step\n",
      "Epoch 33/100\n",
      "71/71 - 0s - loss: 0.0567 - accuracy: 0.9843 - val_loss: 0.0988 - val_accuracy: 0.9533 - 335ms/epoch - 5ms/step\n",
      "Epoch 34/100\n",
      "71/71 - 0s - loss: 0.0481 - accuracy: 0.9872 - val_loss: 0.1546 - val_accuracy: 0.9400 - 303ms/epoch - 4ms/step\n",
      "Epoch 35/100\n",
      "71/71 - 0s - loss: 0.0369 - accuracy: 0.9915 - val_loss: 0.0966 - val_accuracy: 0.9600 - 285ms/epoch - 4ms/step\n",
      "Epoch 36/100\n",
      "71/71 - 0s - loss: 0.0446 - accuracy: 0.9858 - val_loss: 0.1438 - val_accuracy: 0.9467 - 293ms/epoch - 4ms/step\n",
      "Epoch 37/100\n",
      "71/71 - 0s - loss: 0.0377 - accuracy: 0.9915 - val_loss: 0.1128 - val_accuracy: 0.9467 - 293ms/epoch - 4ms/step\n",
      "Epoch 38/100\n",
      "71/71 - 0s - loss: 0.0358 - accuracy: 0.9886 - val_loss: 0.1280 - val_accuracy: 0.9533 - 294ms/epoch - 4ms/step\n",
      "Epoch 39/100\n",
      "71/71 - 0s - loss: 0.0381 - accuracy: 0.9929 - val_loss: 0.1449 - val_accuracy: 0.9533 - 322ms/epoch - 5ms/step\n",
      "Epoch 40/100\n",
      "71/71 - 0s - loss: 0.0619 - accuracy: 0.9815 - val_loss: 0.2140 - val_accuracy: 0.9600 - 287ms/epoch - 4ms/step\n",
      "Epoch 41/100\n",
      "71/71 - 0s - loss: 0.0596 - accuracy: 0.9829 - val_loss: 0.2295 - val_accuracy: 0.9133 - 275ms/epoch - 4ms/step\n",
      "Epoch 42/100\n",
      "71/71 - 0s - loss: 0.2930 - accuracy: 0.8718 - val_loss: 0.1679 - val_accuracy: 0.9400 - 278ms/epoch - 4ms/step\n",
      "Epoch 43/100\n",
      "71/71 - 0s - loss: 0.1235 - accuracy: 0.9558 - val_loss: 0.1438 - val_accuracy: 0.9600 - 290ms/epoch - 4ms/step\n",
      "Epoch 44/100\n",
      "71/71 - 0s - loss: 0.0984 - accuracy: 0.9658 - val_loss: 0.1202 - val_accuracy: 0.9467 - 295ms/epoch - 4ms/step\n",
      "Epoch 45/100\n",
      "71/71 - 0s - loss: 0.0632 - accuracy: 0.9815 - val_loss: 0.1402 - val_accuracy: 0.9600 - 325ms/epoch - 5ms/step\n",
      "Epoch 46/100\n",
      "71/71 - 0s - loss: 0.0576 - accuracy: 0.9900 - val_loss: 0.1414 - val_accuracy: 0.9533 - 293ms/epoch - 4ms/step\n",
      "Epoch 47/100\n",
      "71/71 - 0s - loss: 0.0483 - accuracy: 0.9900 - val_loss: 0.1096 - val_accuracy: 0.9533 - 282ms/epoch - 4ms/step\n",
      "Epoch 48/100\n",
      "71/71 - 0s - loss: 0.0521 - accuracy: 0.9858 - val_loss: 0.1311 - val_accuracy: 0.9467 - 280ms/epoch - 4ms/step\n",
      "Epoch 49/100\n",
      "71/71 - 0s - loss: 0.0567 - accuracy: 0.9815 - val_loss: 0.1051 - val_accuracy: 0.9533 - 288ms/epoch - 4ms/step\n",
      "Epoch 50/100\n",
      "71/71 - 0s - loss: 0.0439 - accuracy: 0.9900 - val_loss: 0.1065 - val_accuracy: 0.9467 - 310ms/epoch - 4ms/step\n",
      "Epoch 51/100\n",
      "71/71 - 0s - loss: 0.0532 - accuracy: 0.9886 - val_loss: 0.1276 - val_accuracy: 0.9467 - 303ms/epoch - 4ms/step\n",
      "Epoch 52/100\n",
      "71/71 - 0s - loss: 0.0378 - accuracy: 0.9872 - val_loss: 0.1273 - val_accuracy: 0.9600 - 303ms/epoch - 4ms/step\n",
      "Epoch 53/100\n",
      "71/71 - 0s - loss: 0.2136 - accuracy: 0.9259 - val_loss: 0.1620 - val_accuracy: 0.9333 - 282ms/epoch - 4ms/step\n",
      "Epoch 54/100\n",
      "71/71 - 0s - loss: 0.1364 - accuracy: 0.9544 - val_loss: 0.1274 - val_accuracy: 0.9600 - 284ms/epoch - 4ms/step\n",
      "Epoch 55/100\n",
      "71/71 - 0s - loss: 0.0794 - accuracy: 0.9729 - val_loss: 0.1244 - val_accuracy: 0.9533 - 274ms/epoch - 4ms/step\n",
      "Epoch 56/100\n",
      "71/71 - 0s - loss: 0.0714 - accuracy: 0.9786 - val_loss: 0.1107 - val_accuracy: 0.9533 - 288ms/epoch - 4ms/step\n",
      "Epoch 57/100\n",
      "71/71 - 0s - loss: 0.0612 - accuracy: 0.9858 - val_loss: 0.1277 - val_accuracy: 0.9533 - 300ms/epoch - 4ms/step\n",
      "Epoch 58/100\n",
      "71/71 - 0s - loss: 0.0471 - accuracy: 0.9915 - val_loss: 0.1336 - val_accuracy: 0.9533 - 302ms/epoch - 4ms/step\n",
      "Epoch 59/100\n",
      "71/71 - 0s - loss: 0.0565 - accuracy: 0.9829 - val_loss: 0.1286 - val_accuracy: 0.9533 - 300ms/epoch - 4ms/step\n",
      "Epoch 60/100\n",
      "71/71 - 0s - loss: 0.0623 - accuracy: 0.9872 - val_loss: 0.1287 - val_accuracy: 0.9533 - 289ms/epoch - 4ms/step\n",
      "Epoch 61/100\n",
      "71/71 - 0s - loss: 0.0606 - accuracy: 0.9858 - val_loss: 0.1308 - val_accuracy: 0.9533 - 279ms/epoch - 4ms/step\n",
      "Epoch 62/100\n",
      "71/71 - 0s - loss: 0.0517 - accuracy: 0.9858 - val_loss: 0.1188 - val_accuracy: 0.9533 - 280ms/epoch - 4ms/step\n",
      "Epoch 63/100\n",
      "71/71 - 0s - loss: 0.0402 - accuracy: 0.9943 - val_loss: 0.1434 - val_accuracy: 0.9467 - 314ms/epoch - 4ms/step\n",
      "Epoch 64/100\n",
      "71/71 - 0s - loss: 0.0395 - accuracy: 0.9900 - val_loss: 0.1457 - val_accuracy: 0.9533 - 322ms/epoch - 5ms/step\n",
      "Epoch 65/100\n",
      "71/71 - 0s - loss: 0.0439 - accuracy: 0.9801 - val_loss: 0.1149 - val_accuracy: 0.9600 - 296ms/epoch - 4ms/step\n",
      "Epoch 66/100\n",
      "71/71 - 0s - loss: 0.0430 - accuracy: 0.9872 - val_loss: 0.1051 - val_accuracy: 0.9600 - 289ms/epoch - 4ms/step\n",
      "Epoch 67/100\n",
      "71/71 - 0s - loss: 0.0362 - accuracy: 0.9872 - val_loss: 0.1041 - val_accuracy: 0.9600 - 354ms/epoch - 5ms/step\n",
      "Epoch 68/100\n",
      "71/71 - 0s - loss: 0.0391 - accuracy: 0.9886 - val_loss: 0.1091 - val_accuracy: 0.9667 - 278ms/epoch - 4ms/step\n",
      "Epoch 69/100\n",
      "71/71 - 0s - loss: 0.0333 - accuracy: 0.9886 - val_loss: 0.1138 - val_accuracy: 0.9667 - 278ms/epoch - 4ms/step\n",
      "Epoch 70/100\n",
      "71/71 - 0s - loss: 0.0321 - accuracy: 0.9900 - val_loss: 0.1241 - val_accuracy: 0.9667 - 334ms/epoch - 5ms/step\n",
      "Epoch 71/100\n",
      "71/71 - 0s - loss: 0.0264 - accuracy: 0.9915 - val_loss: 0.1558 - val_accuracy: 0.9533 - 300ms/epoch - 4ms/step\n",
      "Epoch 72/100\n",
      "71/71 - 0s - loss: 0.0224 - accuracy: 0.9957 - val_loss: 0.1102 - val_accuracy: 0.9667 - 326ms/epoch - 5ms/step\n",
      "Epoch 73/100\n",
      "71/71 - 0s - loss: 0.0220 - accuracy: 0.9929 - val_loss: 0.1245 - val_accuracy: 0.9600 - 298ms/epoch - 4ms/step\n",
      "Epoch 74/100\n",
      "71/71 - 0s - loss: 0.0284 - accuracy: 0.9900 - val_loss: 0.1231 - val_accuracy: 0.9600 - 280ms/epoch - 4ms/step\n",
      "Epoch 75/100\n",
      "71/71 - 0s - loss: 0.0266 - accuracy: 0.9929 - val_loss: 0.2860 - val_accuracy: 0.9000 - 273ms/epoch - 4ms/step\n",
      "Epoch 76/100\n",
      "71/71 - 0s - loss: 0.2412 - accuracy: 0.9088 - val_loss: 0.1393 - val_accuracy: 0.9267 - 296ms/epoch - 4ms/step\n",
      "Epoch 77/100\n",
      "71/71 - 0s - loss: 0.1169 - accuracy: 0.9530 - val_loss: 0.0832 - val_accuracy: 0.9600 - 416ms/epoch - 6ms/step\n",
      "Epoch 78/100\n",
      "71/71 - 0s - loss: 0.1025 - accuracy: 0.9658 - val_loss: 0.0813 - val_accuracy: 0.9600 - 298ms/epoch - 4ms/step\n",
      "Epoch 79/100\n",
      "71/71 - 0s - loss: 0.0695 - accuracy: 0.9758 - val_loss: 0.0889 - val_accuracy: 0.9667 - 292ms/epoch - 4ms/step\n",
      "Epoch 80/100\n",
      "71/71 - 0s - loss: 0.0708 - accuracy: 0.9744 - val_loss: 0.0854 - val_accuracy: 0.9533 - 284ms/epoch - 4ms/step\n",
      "Epoch 81/100\n",
      "71/71 - 0s - loss: 0.0944 - accuracy: 0.9672 - val_loss: 0.1208 - val_accuracy: 0.9533 - 307ms/epoch - 4ms/step\n",
      "Epoch 82/100\n",
      "71/71 - 0s - loss: 0.0568 - accuracy: 0.9829 - val_loss: 0.1108 - val_accuracy: 0.9400 - 300ms/epoch - 4ms/step\n",
      "Epoch 83/100\n",
      "71/71 - 0s - loss: 0.0514 - accuracy: 0.9801 - val_loss: 0.1270 - val_accuracy: 0.9600 - 306ms/epoch - 4ms/step\n",
      "Epoch 84/100\n",
      "71/71 - 0s - loss: 0.0674 - accuracy: 0.9801 - val_loss: 0.0887 - val_accuracy: 0.9667 - 306ms/epoch - 4ms/step\n",
      "Epoch 85/100\n",
      "71/71 - 0s - loss: 0.0572 - accuracy: 0.9815 - val_loss: 0.0897 - val_accuracy: 0.9600 - 302ms/epoch - 4ms/step\n",
      "Epoch 86/100\n",
      "71/71 - 0s - loss: 0.0414 - accuracy: 0.9900 - val_loss: 0.0818 - val_accuracy: 0.9600 - 291ms/epoch - 4ms/step\n",
      "Epoch 87/100\n",
      "71/71 - 0s - loss: 0.0446 - accuracy: 0.9886 - val_loss: 0.0975 - val_accuracy: 0.9600 - 275ms/epoch - 4ms/step\n",
      "Epoch 88/100\n",
      "71/71 - 0s - loss: 0.0379 - accuracy: 0.9900 - val_loss: 0.0754 - val_accuracy: 0.9667 - 285ms/epoch - 4ms/step\n",
      "Epoch 89/100\n",
      "71/71 - 0s - loss: 0.0418 - accuracy: 0.9872 - val_loss: 0.0862 - val_accuracy: 0.9667 - 280ms/epoch - 4ms/step\n",
      "Epoch 90/100\n",
      "71/71 - 0s - loss: 0.0325 - accuracy: 0.9915 - val_loss: 0.0857 - val_accuracy: 0.9533 - 303ms/epoch - 4ms/step\n",
      "Epoch 91/100\n",
      "71/71 - 0s - loss: 0.0294 - accuracy: 0.9957 - val_loss: 0.0854 - val_accuracy: 0.9600 - 328ms/epoch - 5ms/step\n",
      "Epoch 92/100\n",
      "71/71 - 0s - loss: 0.0327 - accuracy: 0.9943 - val_loss: 0.0925 - val_accuracy: 0.9533 - 300ms/epoch - 4ms/step\n",
      "Epoch 93/100\n",
      "71/71 - 0s - loss: 0.0346 - accuracy: 0.9957 - val_loss: 0.0890 - val_accuracy: 0.9533 - 287ms/epoch - 4ms/step\n",
      "Epoch 94/100\n",
      "71/71 - 0s - loss: 0.0359 - accuracy: 0.9929 - val_loss: 0.0970 - val_accuracy: 0.9600 - 279ms/epoch - 4ms/step\n",
      "Epoch 95/100\n",
      "71/71 - 0s - loss: 0.0371 - accuracy: 0.9872 - val_loss: 0.0912 - val_accuracy: 0.9600 - 281ms/epoch - 4ms/step\n",
      "Epoch 96/100\n",
      "71/71 - 0s - loss: 0.0373 - accuracy: 0.9943 - val_loss: 0.1077 - val_accuracy: 0.9667 - 296ms/epoch - 4ms/step\n",
      "Epoch 97/100\n",
      "71/71 - 0s - loss: 0.0359 - accuracy: 0.9886 - val_loss: 0.0750 - val_accuracy: 0.9667 - 293ms/epoch - 4ms/step\n",
      "Epoch 98/100\n",
      "71/71 - 0s - loss: 0.0387 - accuracy: 0.9929 - val_loss: 0.0950 - val_accuracy: 0.9533 - 306ms/epoch - 4ms/step\n",
      "Epoch 99/100\n",
      "71/71 - 0s - loss: 0.0632 - accuracy: 0.9744 - val_loss: 0.1170 - val_accuracy: 0.9533 - 329ms/epoch - 5ms/step\n",
      "Epoch 100/100\n",
      "71/71 - 0s - loss: 0.1417 - accuracy: 0.9430 - val_loss: 0.1449 - val_accuracy: 0.9333 - 279ms/epoch - 4ms/step\n"
     ]
    }
   ],
   "source": [
    "train_x = np.asarray(X_train)\n",
    "train_y = np.asarray(y_train)\n",
    "validation_x = np.asarray(X_val)\n",
    "validation_y = np.asarray(y_val)\n",
    "history = model1.fit(train_x, train_y, epochs=100, validation_data=(validation_x,validation_y),batch_size=10, shuffle=False,verbose=2)\n"
   ]
  },
  {
   "cell_type": "code",
   "execution_count": 81,
   "metadata": {},
   "outputs": [
    {
     "name": "stdout",
     "output_type": "stream",
     "text": [
      "dict_keys(['loss', 'accuracy', 'val_loss', 'val_accuracy'])\n"
     ]
    },
    {
     "data": {
      "image/png": "[encoded data removed]",
      "text/plain": [
       "<Figure size 640x480 with 1 Axes>"
      ]
     },
     "metadata": {},
     "output_type": "display_data"
    },
    {
     "data": {
      "image/png": "[encoded data removed]",
      "text/plain": [
       "<Figure size 640x480 with 1 Axes>"
      ]
     },
     "metadata": {},
     "output_type": "display_data"
    }
   ],
   "source": [
    "print(history.history.keys())\n",
    "#  \"Accuracy\"\n",
    "plt.plot(history.history['accuracy'])\n",
    "plt.plot(history.history['val_accuracy'])\n",
    "plt.title('model accuracy')\n",
    "plt.ylabel('accuracy')\n",
    "plt.xlabel('epoch')\n",
    "plt.legend(['train', 'test'], loc='upper left')\n",
    "plt.show()\n",
    "# \"Loss\"\n",
    "plt.plot(history.history['loss'])\n",
    "plt.plot(history.history['val_loss'])\n",
    "plt.title('model loss')\n",
    "plt.ylabel('loss')\n",
    "plt.xlabel('epoch')\n",
    "plt.legend(['train', 'test'], loc='upper left')\n",
    "plt.show()"
   ]
  },
  {
   "cell_type": "code",
   "execution_count": 82,
   "metadata": {},
   "outputs": [
    {
     "name": "stdout",
     "output_type": "stream",
     "text": [
      "5/5 [==============================] - 0s 3ms/step - loss: 0.1449 - accuracy: 0.9333\n"
     ]
    },
    {
     "data": {
      "text/plain": [
       "[0.1449405997991562, 0.9333333373069763]"
      ]
     },
     "execution_count": 82,
     "metadata": {},
     "output_type": "execute_result"
    }
   ],
   "source": [
    "\n",
    "model1.evaluate(validation_x,validation_y)"
   ]
  },
  {
   "cell_type": "code",
   "execution_count": 83,
   "metadata": {},
   "outputs": [
    {
     "name": "stdout",
     "output_type": "stream",
     "text": [
      "5/5 [==============================] - 0s 3ms/step - loss: 0.1701 - accuracy: 0.9470\n"
     ]
    },
    {
     "data": {
      "text/plain": [
       "[0.1701185405254364, 0.9470198750495911]"
      ]
     },
     "execution_count": 83,
     "metadata": {},
     "output_type": "execute_result"
    }
   ],
   "source": [
    "test_x = np.asarray(X_test)\n",
    "test_y = np.asarray(y_test)\n",
    "model1.evaluate(test_x,test_y)"
   ]
  },
  {
   "cell_type": "code",
   "execution_count": 84,
   "metadata": {},
   "outputs": [
    {
     "name": "stdout",
     "output_type": "stream",
     "text": [
      "4/4 [==============================] - 0s 5ms/step - loss: 1.3403 - accuracy: 0.5657\n",
      "Real baby test accuracy: 0.5656565427780151\n"
     ]
    }
   ],
   "source": [
    "data_real_baby = np.asarray(data_real_baby)\n",
    "data_real_baby_label = np.asarray(data_real_baby_label)\n",
    "\n",
    "results = model1.evaluate(data_real_baby, data_real_baby_label)\n",
    "\n",
    "accuracy_index = model1.metrics_names.index('accuracy')\n",
    "\n",
    "print(\"Real baby test accuracy:\", results[accuracy_index])"
   ]
  },
  {
   "cell_type": "code",
   "execution_count": 85,
   "metadata": {},
   "outputs": [
    {
     "data": {
      "text/plain": [
       "SVC(C=25, gamma=0.001)"
      ]
     },
     "execution_count": 85,
     "metadata": {},
     "output_type": "execute_result"
    }
   ],
   "source": [
    "from sklearn import svm\n",
    "\n",
    "train_x = np.asarray(X_train)\n",
    "train_y = np.asarray(y_train)\n",
    "validation_x = np.asarray(X_val)\n",
    "validation_y = np.asarray(y_val)\n",
    "test_x = np.asarray(X_test)\n",
    "test_y = np.asarray(y_test)\n",
    "n_samples = train_x.shape[0]\n",
    "n_features = train_x.shape[1] * train_x.shape[2]\n",
    "train_x = train_x.reshape(n_samples, n_features)\n",
    "# Set parameters for SVM\n",
    "C = 25\n",
    "kernel = 'rbf'\n",
    "svm_classifier = svm.SVC(C=C, kernel=kernel, gamma=0.001)\n",
    "\n",
    "svm_classifier.fit(train_x, train_y)"
   ]
  },
  {
   "cell_type": "code",
   "execution_count": 86,
   "metadata": {},
   "outputs": [
    {
     "name": "stdout",
     "output_type": "stream",
     "text": [
      "0.5099337748344371\n"
     ]
    }
   ],
   "source": [
    "n_samples = test_x.shape[0]\n",
    "n_features = test_x.shape[1] * test_x.shape[2]\n",
    "test_x = test_x.reshape(n_samples, n_features)\n",
    "accuracy = svm_classifier.score(test_x,test_y)\n",
    "print(accuracy)"
   ]
  },
  {
   "cell_type": "code",
   "execution_count": 87,
   "metadata": {},
   "outputs": [
    {
     "name": "stdout",
     "output_type": "stream",
     "text": [
      "0.5333333333333333\n"
     ]
    }
   ],
   "source": [
    "n_samples = validation_x.shape[0]\n",
    "n_features = validation_x.shape[1] * validation_x.shape[2]\n",
    "validation_x = validation_x.reshape(n_samples, n_features)\n",
    "accuracy = svm_classifier.score(validation_x,validation_y)\n",
    "print(accuracy)"
   ]
  },
  {
   "cell_type": "markdown",
   "metadata": {},
   "source": []
  }
 ],
 "metadata": {
  "kernelspec": {
   "display_name": "Python 3",
   "language": "python",
   "name": "python3"
  },
  "language_info": {
   "codemirror_mode": {
    "name": "ipython",
    "version": 3
   },
   "file_extension": ".py",
   "mimetype": "text/x-python",
   "name": "python",
   "nbconvert_exporter": "python",
   "pygments_lexer": "ipython3",
   "version": "3.7.9"
  }
 },
 "nbformat": 4,
 "nbformat_minor": 2
}
