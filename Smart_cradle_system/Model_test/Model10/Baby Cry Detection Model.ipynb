{
 "cells": [
  {
   "cell_type": "code",
   "execution_count": 1,
   "metadata": {},
   "outputs": [],
   "source": [
    "import librosa\n",
    "import numpy as np\n",
    "from os.path import isfile,join\n",
    "from os import listdir\n",
    "import matplotlib.pyplot as plt\n",
    "from scipy import hamming\n",
    "import soundfile as sf\n",
    "import scipy\n",
    "import numpy\n",
    "from python_speech_features import mfcc\n",
    "from scipy.io import wavfile\n",
    "import soundfile as sf\n",
    "import math\n",
    "import tensorflow\n",
    "from keras.utils import np_utils\n",
    "from keras.models import Sequential\n",
    "from keras.models import model_from_yaml\n",
    "from keras.models import model_from_json\n",
    "from keras.layers import Dense\n",
    "from keras import backend\n",
    "from keras.layers import Embedding\n",
    "from keras.layers import LSTM\n",
    "from sklearn.model_selection import train_test_split"
   ]
  },
  {
   "cell_type": "code",
   "execution_count": 2,
   "metadata": {},
   "outputs": [],
   "source": [
    "babycry=[f for f in listdir('D:\\\\HK2-Năm 3\\\\PBL5\\\\Code\\\\New data\\\\Crying') if isfile(join('D:\\\\HK2-Năm 3\\\\PBL5\\\\Code\\\\New data\\\\Crying', f))]\n",
    "\n",
    "nonbabycry=[f for f in listdir('D:\\\\HK2-Năm 3\\\\PBL5\\\\Code\\\\New data\\\\Noise') if isfile(join('D:\\\\HK2-Năm 3\\\\PBL5\\\\Code\\\\New data\\\\Noise', f))]\n",
    "babysilence=[f for f in listdir('D:\\\\HK2-Năm 3\\\\PBL5\\\\Code\\\\New data\\\\Silence') if isfile(join('D:\\\\HK2-Năm 3\\\\PBL5\\\\Code\\\\New data\\\\Silence', f))]\n",
    "babylaugh=[f for f in listdir('D:\\\\HK2-Năm 3\\\\PBL5\\\\Code\\\\New data\\\\Laugh') if isfile(join('D:\\\\HK2-Năm 3\\\\PBL5\\\\Code\\\\New data\\\\Laugh',f))]\n"
   ]
  },
  {
   "cell_type": "code",
   "execution_count": 3,
   "metadata": {},
   "outputs": [],
   "source": [
    "baby_cry=[]\n",
    "for each in range(0,len(babycry)) :\n",
    "    cry='D:\\\\HK2-Năm 3\\\\PBL5\\\\Code\\\\New data\\\\Crying' + '\\\\' + babycry[each] \n",
    "    baby_cry.append(cry)\n"
   ]
  },
  {
   "cell_type": "code",
   "execution_count": 5,
   "metadata": {},
   "outputs": [
    {
     "data": {
      "text/plain": [
       "500"
      ]
     },
     "execution_count": 5,
     "metadata": {},
     "output_type": "execute_result"
    }
   ],
   "source": [
    "len(baby_cry)"
   ]
  },
  {
   "cell_type": "code",
   "execution_count": 6,
   "metadata": {},
   "outputs": [],
   "source": [
    "non_babycry=[]\n",
    "for each in range(0,len(nonbabycry)) :\n",
    "    x='D:\\\\HK2-Năm 3\\\\PBL5\\\\Code\\\\New data\\\\Noise' + '\\\\' + nonbabycry[each] \n",
    "    non_babycry.append(x)"
   ]
  },
  {
   "cell_type": "code",
   "execution_count": 7,
   "metadata": {},
   "outputs": [
    {
     "data": {
      "text/plain": [
       "183"
      ]
     },
     "execution_count": 7,
     "metadata": {},
     "output_type": "execute_result"
    }
   ],
   "source": [
    "len(non_babycry)"
   ]
  },
  {
   "cell_type": "code",
   "execution_count": 8,
   "metadata": {},
   "outputs": [],
   "source": [
    "baby_silence=[]\n",
    "for each in range(0,len(babysilence)) :\n",
    "    silence='D:\\\\HK2-Năm 3\\\\PBL5\\\\Code\\\\New data\\\\Silence' + '\\\\' + babysilence[each] \n",
    "    baby_silence.append(silence)\n"
   ]
  },
  {
   "cell_type": "code",
   "execution_count": 9,
   "metadata": {},
   "outputs": [],
   "source": [
    "baby_laugh=[]\n",
    "for each in range(0,len(babylaugh)) :\n",
    "    laugh='D:\\\\HK2-Năm 3\\\\PBL5\\\\Code\\\\New data\\\\Laugh' + '\\\\' + babylaugh[each] \n",
    "    baby_laugh.append(laugh)\n",
    "  "
   ]
  },
  {
   "cell_type": "code",
   "execution_count": 10,
   "metadata": {},
   "outputs": [],
   "source": [
    "nonbaby_cry=baby_silence+baby_laugh+non_babycry"
   ]
  },
  {
   "cell_type": "code",
   "execution_count": 11,
   "metadata": {},
   "outputs": [
    {
     "data": {
      "text/plain": [
       "503"
      ]
     },
     "execution_count": 11,
     "metadata": {},
     "output_type": "execute_result"
    }
   ],
   "source": [
    "len(nonbaby_cry)"
   ]
  },
  {
   "cell_type": "code",
   "execution_count": 12,
   "metadata": {},
   "outputs": [],
   "source": [
    "def Mfcc(audiofile):\n",
    "    s,r=sf.read(audiofile)\n",
    "    \n",
    "    x=np.array_split(s,64)\n",
    "    \n",
    "    logg=np.zeros((64,12))\n",
    "    for i in range(len(x)):\n",
    "        \n",
    "        m=np.mean(mfcc(x[i],r, numcep=12,nfft=2048),axis=0)\n",
    "        logg[i,:]=m\n",
    "\n",
    "    return logg\n"
   ]
  },
  {
   "cell_type": "code",
   "execution_count": 13,
   "metadata": {},
   "outputs": [],
   "source": [
    "r=Mfcc(baby_cry[10])"
   ]
  },
  {
   "cell_type": "code",
   "execution_count": 14,
   "metadata": {},
   "outputs": [
    {
     "data": {
      "text/plain": [
       "(64, 12)"
      ]
     },
     "execution_count": 14,
     "metadata": {},
     "output_type": "execute_result"
    }
   ],
   "source": [
    "np.shape(r)"
   ]
  },
  {
   "cell_type": "code",
   "execution_count": 15,
   "metadata": {},
   "outputs": [
    {
     "data": {
      "text/plain": [
       "array([[ 3.37805436e+00, -2.37922520e+01, -3.94127439e+01,\n",
       "         9.41992830e+00, -1.47398862e+01,  1.64849493e+01,\n",
       "        -2.34476356e+01,  1.66852280e+00,  3.83858349e+01,\n",
       "        -4.23132610e+00, -1.67274835e+01, -3.86571918e+00],\n",
       "       [ 2.95822941e+00, -2.14592184e+01, -4.05942965e+01,\n",
       "         1.51217801e+01, -1.76390300e+01,  1.68369229e+01,\n",
       "        -2.70200388e+01,  9.70725382e+00,  3.27578163e+01,\n",
       "        -8.78079850e+00, -2.81543163e+00, -5.44733079e+00],\n",
       "       [ 2.77327765e+00, -2.31379055e+01, -4.53546082e+01,\n",
       "         1.28516381e+01, -2.37697248e+01,  1.52197009e+01,\n",
       "        -2.67240764e+01,  9.30510215e+00,  3.80694174e+01,\n",
       "        -8.24091756e+00, -1.89969031e+00, -5.50077258e+00],\n",
       "       [ 3.20323926e+00, -2.23896143e+01, -4.08568021e+01,\n",
       "         1.38037176e+01, -1.41802782e+01,  1.54323465e+01,\n",
       "        -3.20486603e+01,  3.95841271e+00,  4.31090562e+01,\n",
       "        -9.28305715e+00, -4.36870453e+00, -1.99732601e+00],\n",
       "       [ 3.10637111e+00, -2.32869092e+01, -4.42050963e+01,\n",
       "         1.27514585e+01, -1.34048416e+01,  1.22944978e+01,\n",
       "        -2.27560328e+01, -1.71885739e+00,  4.74000103e+01,\n",
       "        -5.45833663e+00, -1.39340613e+01,  2.91846316e+00],\n",
       "       [ 3.07490284e+00, -2.11642377e+01, -4.30089904e+01,\n",
       "         1.35489655e+01, -1.03826418e+01,  1.16495496e+01,\n",
       "        -1.73880828e+01, -8.34146575e+00,  4.31712295e+01,\n",
       "        -4.17624175e+00, -1.66327539e+01,  2.05318018e+00],\n",
       "       [ 2.41123079e+00, -1.76617123e+01, -4.83381480e+01,\n",
       "         1.71283662e+01, -1.66208839e+01,  1.29024802e+01,\n",
       "        -1.41394314e+01, -8.36865545e+00,  4.29461314e+01,\n",
       "        -1.44239867e+00, -1.63118832e+01,  3.53970469e+00],\n",
       "       [ 2.21865270e+00, -1.77404042e+01, -4.75072912e+01,\n",
       "         1.19503498e+01, -1.38820454e+01,  1.01938746e+01,\n",
       "        -1.84131805e+01, -7.71637408e+00,  4.34562598e+01,\n",
       "         4.51288405e+00, -1.47058173e+01,  4.99118770e-02],\n",
       "       [ 2.37478410e+00, -1.87023368e+01, -4.90036439e+01,\n",
       "         1.09577004e+01, -1.19693181e+01,  6.57542041e+00,\n",
       "        -1.04831263e+01, -3.95561755e+00,  4.28629626e+01,\n",
       "         2.27910746e+00, -2.25523894e+01, -3.58190367e-01],\n",
       "       [ 2.29414322e+00, -1.73437212e+01, -4.89228812e+01,\n",
       "         5.49787014e+00, -6.24533422e+00,  8.34668724e+00,\n",
       "        -9.33814361e+00,  1.62491475e+00,  3.46960261e+01,\n",
       "        -2.78627731e+00, -2.28818596e+01, -1.70784496e+00],\n",
       "       [ 1.87642749e+00, -1.54810978e+01, -5.25124334e+01,\n",
       "         4.85549307e+00, -1.47177741e+01,  1.42463809e+01,\n",
       "        -6.00671347e+00, -6.99778010e-01,  3.51818360e+01,\n",
       "        -5.43799572e+00, -2.16276165e+01, -1.24046730e+00],\n",
       "       [ 1.51100193e+00, -1.43238253e+01, -5.36792183e+01,\n",
       "         7.85157068e+00, -1.77566839e+01,  1.57672321e+01,\n",
       "        -4.27787034e+00, -9.53193072e-01,  3.37953708e+01,\n",
       "        -5.25620017e+00, -2.41334708e+01, -9.09337686e-01],\n",
       "       [ 1.06240331e+00, -1.43239313e+01, -5.44434641e+01,\n",
       "         1.05722729e+01, -1.94664378e+01,  1.73914512e+01,\n",
       "        -7.12937137e+00,  8.80238791e-01,  3.23159038e+01,\n",
       "        -1.02696904e+00, -2.58872366e+01, -6.42809274e+00],\n",
       "       [ 1.07178161e+00, -1.41896465e+01, -5.85643962e+01,\n",
       "         1.00495248e+01, -2.67443081e+01,  8.75748572e+00,\n",
       "         4.35691771e-01,  4.66309415e+00,  4.00801410e+01,\n",
       "         9.76538681e+00, -3.04281400e+01, -1.15295554e+01],\n",
       "       [ 1.34877077e+00, -1.02341125e+01, -4.91525054e+01,\n",
       "         1.21883285e+01, -2.01774720e+01,  1.23627068e-02,\n",
       "        -5.28433260e+00,  1.12390594e+00,  4.31264813e+01,\n",
       "         1.26022864e+01, -3.26422934e+01, -1.61703270e+01],\n",
       "       [ 1.23012184e+00, -1.22254619e+01, -5.18206776e+01,\n",
       "         1.18004533e+01, -2.18921752e+01,  1.19106877e-01,\n",
       "         5.06228551e-01,  1.89840217e+00,  4.18069761e+01,\n",
       "         1.48417473e+01, -3.47471540e+01, -1.82867885e+01],\n",
       "       [ 9.99713036e-01, -1.05864735e+01, -5.37046688e+01,\n",
       "         1.54916482e+01, -2.38410491e+01,  4.33006643e+00,\n",
       "         1.23532969e+00, -2.67678675e-01,  4.02960130e+01,\n",
       "         1.30613523e+01, -3.18796450e+01, -1.79025516e+01],\n",
       "       [ 9.86425399e-01, -1.05395260e+01, -5.19257585e+01,\n",
       "         1.10146837e+01, -2.27526459e+01, -1.10691199e+00,\n",
       "         1.68981032e+00,  2.53561742e+00,  3.92827761e+01,\n",
       "         1.74157708e+01, -3.00529432e+01, -2.35805145e+01],\n",
       "       [ 1.26129317e+00, -1.38205545e+01, -5.47478157e+01,\n",
       "         1.03102150e+01, -2.44333164e+01,  1.15689035e+00,\n",
       "        -1.29289581e+00,  9.33544799e-02,  4.39173205e+01,\n",
       "         1.48721887e+01, -3.15186040e+01, -2.06658545e+01],\n",
       "       [ 1.32042428e+00, -1.01240444e+01, -5.27095836e+01,\n",
       "         1.47944008e+01, -2.38275920e+01,  7.52492077e+00,\n",
       "         1.48302413e+00, -1.38387810e+00,  3.86814633e+01,\n",
       "         1.10582721e+01, -3.27770839e+01, -1.68216278e+01],\n",
       "       [ 1.71216338e+00, -1.40999581e+01, -5.12744545e+01,\n",
       "         1.22421742e+01, -1.80391518e+01,  7.78551847e+00,\n",
       "         3.98469257e+00, -3.19743790e+00,  3.64076676e+01,\n",
       "         4.06036350e+00, -3.11294555e+01, -1.55395019e+01],\n",
       "       [ 1.41794598e+00, -1.24094227e+01, -5.14182263e+01,\n",
       "         1.86900344e+01, -1.78883591e+01,  1.21678037e+01,\n",
       "         3.44746095e+00, -7.67097477e+00,  3.26223545e+01,\n",
       "         3.09774569e-01, -2.89458864e+01, -7.39923374e+00],\n",
       "       [ 1.31237474e+00, -1.33674738e+01, -5.05186100e+01,\n",
       "         1.47547299e+01, -2.33558025e+01,  1.74113764e+01,\n",
       "         5.60402383e+00, -1.26913202e+00,  3.52815325e+01,\n",
       "        -9.95765881e+00, -3.83232865e+01, -8.47208053e+00],\n",
       "       [ 8.93804512e-01, -1.68850075e+01, -5.41237287e+01,\n",
       "         8.66592012e+00, -2.47639037e+01,  1.77105073e+01,\n",
       "         6.13376156e+00, -6.04950525e-01,  3.90441543e+01,\n",
       "        -1.52964373e+01, -3.46197138e+01, -3.36422713e+00],\n",
       "       [ 2.40008194e-01, -1.02218282e+01, -5.21138226e+01,\n",
       "         1.45609546e+01, -2.48615499e+01,  1.56486012e+01,\n",
       "         6.61899091e+00, -1.87307506e+00,  4.12834883e+01,\n",
       "        -1.78772557e+01, -3.71321165e+01, -5.67346924e+00],\n",
       "       [-6.31467797e-01, -1.13896775e+01, -5.26873806e+01,\n",
       "         7.51369765e+00, -2.31132792e+01,  1.10074039e+01,\n",
       "         9.87291795e+00,  5.94811793e-01,  4.49971410e+01,\n",
       "        -1.91409629e+01, -3.55196267e+01,  4.51349538e-01],\n",
       "       [-2.75837034e-01, -1.16725928e+01, -5.52394512e+01,\n",
       "         8.80736868e+00, -2.63993194e+01,  1.35122484e+01,\n",
       "         8.08211280e+00,  8.00810912e-01,  4.49569474e+01,\n",
       "        -1.60052199e+01, -3.52882622e+01, -3.64613126e+00],\n",
       "       [-5.17292489e-01, -9.05410647e+00, -5.35315321e+01,\n",
       "         8.93020489e+00, -2.20530794e+01,  1.33617880e+01,\n",
       "         9.91317903e+00,  5.50228920e-01,  3.98667801e+01,\n",
       "        -1.79060011e+01, -3.58956596e+01, -4.48934104e+00],\n",
       "       [-1.16135789e+00, -8.66264248e+00, -5.56460430e+01,\n",
       "         9.71258862e+00, -2.92963225e+01,  1.36346567e+01,\n",
       "         1.35289229e+01,  9.58119090e-01,  4.29138200e+01,\n",
       "        -1.70254133e+01, -3.44511128e+01, -2.57965269e+00],\n",
       "       [-7.62118917e-01, -1.06542742e+01, -5.63841862e+01,\n",
       "         8.68326224e+00, -2.27721753e+01,  1.21295279e+01,\n",
       "         1.13954494e+01,  3.69979051e+00,  4.33138925e+01,\n",
       "        -1.80634532e+01, -3.68580807e+01, -8.01220130e-01],\n",
       "       [-1.04771906e+00, -1.12246776e+01, -5.58059225e+01,\n",
       "         1.01384300e+01, -2.47059007e+01,  1.50071617e+01,\n",
       "         8.88589265e+00,  5.87732855e+00,  4.19380102e+01,\n",
       "        -1.97741623e+01, -2.96519986e+01, -5.28141534e+00],\n",
       "       [-6.56186859e-01, -1.27331760e+01, -5.32733331e+01,\n",
       "         9.09924608e+00, -2.70350813e+01,  1.38674073e+01,\n",
       "         8.22100841e+00,  5.96540926e+00,  4.38362212e+01,\n",
       "        -1.66442565e+01, -3.44255933e+01, -4.11559926e+00],\n",
       "       [-1.04360392e+00, -1.26351845e+01, -5.43945549e+01,\n",
       "         9.81504725e+00, -1.94551046e+01,  1.46886726e+01,\n",
       "         1.04440094e+01, -8.46055759e-01,  4.13853579e+01,\n",
       "        -1.33600928e+01, -3.30214613e+01, -5.12618810e+00],\n",
       "       [-4.05835861e+00, -1.22438314e+01, -4.17389236e+01,\n",
       "         4.10566638e+00, -1.93028944e+01,  1.32035961e+01,\n",
       "         8.42912626e+00,  1.24419844e+01,  3.94118620e+01,\n",
       "        -9.26452588e+00, -1.68531284e+01, -3.97767555e+00],\n",
       "       [-6.00560996e+00, -1.61530799e+01, -3.05211855e+01,\n",
       "         8.88849007e+00, -1.23166509e+01,  1.62218005e+01,\n",
       "         8.88701910e+00,  1.07899459e+01,  2.59827208e+01,\n",
       "         5.42887401e+00,  9.72772832e+00, -1.87589853e+00],\n",
       "       [-6.33000539e+00, -1.61078477e+01, -2.94595062e+01,\n",
       "         9.66908050e+00, -4.36309646e+00,  1.59231614e+01,\n",
       "         7.51429682e+00,  4.93646872e+00,  1.98439832e+01,\n",
       "         7.01771823e+00,  1.54043918e+01, -7.53945835e-01],\n",
       "       [-6.12034603e+00, -1.32435209e+01, -3.29602886e+01,\n",
       "         3.60064193e+00, -4.55454299e+00,  1.42834282e+01,\n",
       "         6.71414214e+00,  6.19265363e+00,  2.35482012e+01,\n",
       "         8.46606203e+00,  1.89279069e+01,  6.66324489e+00],\n",
       "       [ 1.15869378e+00, -1.89560870e+01, -4.92555170e+01,\n",
       "         5.40683207e+00, -2.32130668e+01,  1.49832675e+01,\n",
       "        -9.66612436e+00,  7.43359875e-01,  2.21052076e+01,\n",
       "         2.78568119e+01, -8.40268769e+00, -2.08417526e+01],\n",
       "       [-2.30628268e+00, -1.84684564e+01, -4.31772608e+01,\n",
       "         2.65697237e+00, -2.10416630e+01,  1.59651534e+01,\n",
       "        -1.54249284e+01,  7.18969518e+00,  2.64253380e+01,\n",
       "         2.98844764e+01, -1.33638448e+00, -1.60763326e+01],\n",
       "       [-4.08978691e+00, -1.80537133e+01, -3.44918987e+01,\n",
       "        -4.55676008e-01, -1.95309499e+01,  2.04915531e+01,\n",
       "        -1.83881810e+01,  7.29489099e+00,  3.09587938e+01,\n",
       "         2.52457500e+01,  2.30678933e+00, -9.14633783e+00],\n",
       "       [-5.47268723e+00, -1.06921415e+01, -3.39493336e+01,\n",
       "        -1.34876107e+00, -1.50272088e+01,  1.05819408e+01,\n",
       "        -3.06339154e+00,  5.90882560e+00,  3.50953934e+01,\n",
       "         1.68729991e+01,  1.07024248e+01, -9.73203043e+00],\n",
       "       [-6.12949274e+00, -1.28354226e+01, -2.94596840e+01,\n",
       "         6.34552098e-01, -1.60610896e+01,  8.78680704e+00,\n",
       "         4.38375723e+00,  1.27441246e+01,  3.57970394e+01,\n",
       "         1.52424179e+01,  9.69708998e+00, -4.60277713e+00],\n",
       "       [-4.95507666e+00, -1.41916809e+01, -3.21578387e+01,\n",
       "         6.36880381e+00, -2.25494284e+01,  1.93170812e+01,\n",
       "         7.24340952e+00,  4.34679668e+00,  2.45802631e+01,\n",
       "        -1.87626265e+00,  1.43868106e+01,  7.38346538e+00],\n",
       "       [-5.37615627e+00, -1.42474412e+01, -3.15273756e+01,\n",
       "         1.98452803e+00, -1.88484190e+01,  2.00253208e+01,\n",
       "         1.65395329e+01,  1.16885001e+01,  1.65363073e+01,\n",
       "        -1.00326241e+01,  1.73547294e+01,  1.29939788e+01],\n",
       "       [-6.35486010e+00, -1.49734944e+01, -2.54539769e+01,\n",
       "         7.88276833e+00, -1.41525694e+01,  9.28295121e+00,\n",
       "         2.78497215e+00, -3.23947247e-02,  2.28053755e+01,\n",
       "         1.06765693e+01,  1.81209674e+01,  6.36459276e+00],\n",
       "       [-6.09751452e+00, -1.33030044e+01, -2.69750336e+01,\n",
       "         7.06406419e+00, -1.36940868e+01,  8.52874796e+00,\n",
       "        -1.01828845e+00, -8.74979542e-01,  1.72266086e+01,\n",
       "         9.09123073e+00,  1.82862856e+01,  5.01866111e+00],\n",
       "       [-4.14894627e+00, -1.40665274e+01, -3.88646599e+01,\n",
       "         1.34910083e+01, -3.28222348e+00,  1.15757200e+01,\n",
       "        -1.86018542e+01,  1.85971046e-01,  2.57175321e+01,\n",
       "        -7.21610434e+00,  1.80204672e+01,  1.61937448e+01],\n",
       "       [-4.04157729e+00, -1.12396499e+01, -3.94553916e+01,\n",
       "         9.03677282e+00, -3.22207933e+00,  1.13587395e+01,\n",
       "        -1.85245809e+01,  1.67225278e-01,  3.18786807e+01,\n",
       "        -5.87241088e+00,  8.69629539e+00,  1.08463933e+01],\n",
       "       [-4.67611207e+00, -1.78087187e+01, -3.44457298e+01,\n",
       "         7.39000813e+00, -4.64485765e+00,  1.74281368e+01,\n",
       "        -1.22267639e+01,  1.06008651e+00,  2.73537935e+01,\n",
       "         9.91981413e+00,  7.26551162e+00,  9.03868493e+00],\n",
       "       [-2.89529461e+00, -1.13782780e+01, -3.60771527e+01,\n",
       "         2.79664097e+00, -1.20593579e+01,  3.80878957e+01,\n",
       "        -2.44208205e+00, -2.37482274e+01,  5.50553451e+00,\n",
       "         1.13337104e+01,  9.75487794e+00,  2.15800038e+00],\n",
       "       [ 2.93675541e-01, -1.17190149e+01, -4.87584475e+01,\n",
       "        -5.93162587e+00, -3.38215312e+01,  4.28695159e+01,\n",
       "        -1.13409768e+00, -1.35361803e+01,  2.26081817e+01,\n",
       "         5.28648020e+00, -1.79935126e+00, -8.73708022e+00],\n",
       "       [ 1.99908520e+00, -1.65004485e+01, -4.91766005e+01,\n",
       "        -3.82469765e+00, -3.28275131e+01,  4.45528572e+01,\n",
       "        -5.31717353e+00, -8.71121495e+00,  3.08670901e+01,\n",
       "         1.91019863e+00, -2.07656239e+01, -1.56180413e+01],\n",
       "       [ 2.28528332e+00, -1.47729484e+01, -4.61571341e+01,\n",
       "         5.74818568e-02, -2.20097298e+01,  3.60223163e+01,\n",
       "        -5.74861144e+00, -1.00743252e+01,  3.27973539e+01,\n",
       "        -1.55466173e+00, -2.33039232e+01, -1.64956349e+01],\n",
       "       [ 1.50532594e+00, -1.38495766e+01, -3.94046273e+01,\n",
       "         3.67980644e+00, -1.64475380e+01,  3.01444672e+01,\n",
       "        -1.24152864e+01, -1.18554629e+01,  3.55261617e+01,\n",
       "        -4.84439485e+00, -2.50241272e+01, -6.90729430e+00],\n",
       "       [-5.69844588e+00, -1.21723180e+01, -3.22468932e+01,\n",
       "        -4.42204448e+00,  1.42869283e+01,  3.18557306e+01,\n",
       "         3.47900008e+00, -9.91240405e+00,  4.50142976e+01,\n",
       "         5.75797951e+00, -1.77890881e+01,  1.31042696e-01],\n",
       "       [-7.42686855e+00, -1.51767052e+01, -1.86427446e+01,\n",
       "         1.35330890e-02,  1.63809490e+01,  2.96145878e+01,\n",
       "         1.47203359e+00,  3.74461163e+00,  2.34808068e+01,\n",
       "         7.81566682e+00, -1.20173920e+01, -3.69385444e+00],\n",
       "       [-8.24157711e+00, -1.60916692e+01, -1.19933982e+01,\n",
       "         7.28650424e+00,  1.56786492e+01,  2.15497808e+01,\n",
       "         2.17730654e+00,  5.02591005e+00,  1.54393578e+01,\n",
       "         9.53790577e+00,  4.33235224e+00, -6.83924690e+00],\n",
       "       [-8.42033432e+00, -1.72820292e+01, -7.07541325e+00,\n",
       "         9.09416481e+00,  1.14191665e+01,  1.83707965e+01,\n",
       "         1.20467557e+01,  8.02473039e+00,  1.46361314e+01,\n",
       "         5.72129643e+00, -4.46414788e+00, -1.95777290e+00],\n",
       "       [-8.07392365e+00, -1.40724891e+01, -1.21455556e+01,\n",
       "         8.75153674e+00,  7.63526141e+00,  1.67956948e+01,\n",
       "         1.73408079e+01,  2.02210298e+00,  1.47240663e+01,\n",
       "         3.71088766e+00,  5.11019903e+00,  5.18294998e+00],\n",
       "       [-2.55938077e+00,  1.25944680e+00, -5.08919057e+01,\n",
       "        -6.97559729e+00, -1.78641077e+01,  1.29014410e+01,\n",
       "         2.44064361e+01, -2.72732175e+01,  1.53461156e+01,\n",
       "         6.11471301e+00,  1.32586294e+01,  1.78658952e+01],\n",
       "       [-1.94434142e+00, -3.10260444e+00, -5.21005100e+01,\n",
       "        -2.68607110e+00, -1.23366573e+00,  1.03370186e+01,\n",
       "         7.49078158e+00, -3.42201693e+01,  1.42988678e+01,\n",
       "         1.72248128e+01,  1.15978711e+01,  1.22469557e+01],\n",
       "       [ 7.07294562e-01, -2.03176572e+01, -4.60059240e+01,\n",
       "         1.81834811e+01, -1.43865254e+01,  2.17908540e+01,\n",
       "        -3.04765995e+01, -1.59388360e+00,  2.97076902e+01,\n",
       "        -1.95443591e+00,  1.30248675e+01, -2.04699336e+01],\n",
       "       [ 2.78500920e+00, -2.98668449e+01, -4.39633243e+01,\n",
       "         1.51194135e+01, -2.03556073e+01,  3.42147324e+01,\n",
       "        -3.80849532e+01,  1.39880137e+00,  3.14334332e+01,\n",
       "        -1.05818087e+01,  5.20269792e+00, -2.07830975e+01],\n",
       "       [ 2.77482848e+00, -2.61355343e+01, -4.79297013e+01,\n",
       "         7.78293510e+00, -3.76858322e+01,  2.38971404e+01,\n",
       "        -2.46879393e+01,  1.42563751e+00,  4.61302538e+01,\n",
       "        -2.31934373e+00, -2.23301840e+00, -8.86307919e+00]])"
      ]
     },
     "execution_count": 15,
     "metadata": {},
     "output_type": "execute_result"
    }
   ],
   "source": [
    "r"
   ]
  },
  {
   "cell_type": "code",
   "execution_count": 16,
   "metadata": {},
   "outputs": [],
   "source": [
    "data=np.zeros((len(nonbaby_cry) + len(baby_cry),64,12))\n",
    "output=[]\n",
    "for i in range(0,len(baby_cry)):\n",
    "       r=Mfcc(baby_cry[i])\n",
    "       \n",
    "       data[i,:,:]=r\n",
    "       output.append(1) \n",
    "        \n",
    "all=baby_cry+nonbaby_cry\n",
    "for i in range(len(baby_cry)-1,len(all)-1):\n",
    " \n",
    "       r=Mfcc(all[i])\n",
    "       \n",
    "       data[i,:,:]=r\n",
    "       output.append(0)  "
   ]
  },
  {
   "cell_type": "code",
   "execution_count": 17,
   "metadata": {},
   "outputs": [
    {
     "data": {
      "text/plain": [
       "1003"
      ]
     },
     "execution_count": 17,
     "metadata": {},
     "output_type": "execute_result"
    }
   ],
   "source": [
    "len(data)"
   ]
  },
  {
   "cell_type": "code",
   "execution_count": 18,
   "metadata": {},
   "outputs": [],
   "source": [
    "input=data"
   ]
  },
  {
   "cell_type": "code",
   "execution_count": 19,
   "metadata": {},
   "outputs": [],
   "source": [
    "from sklearn.model_selection import train_test_split\n",
    "X_train, X_temp, y_train, y_temp = train_test_split(input, output, test_size=0.3, random_state=None,stratify = output)\n",
    "X_val, X_test, y_val, y_test = train_test_split(X_temp, y_temp, test_size=0.5, random_state=None,stratify = y_temp)"
   ]
  },
  {
   "cell_type": "code",
   "execution_count": 20,
   "metadata": {},
   "outputs": [
    {
     "name": "stdout",
     "output_type": "stream",
     "text": [
      "Shape of X_train: (702, 64, 12)\n",
      "Shape of X_val: (150, 64, 12)\n",
      "Shape of X_test: (151, 64, 12)\n",
      "Length of y_train: 702\n"
     ]
    }
   ],
   "source": [
    "print('Shape of X_train:',X_train.shape)\n",
    "print('Shape of X_val:',X_val.shape)\n",
    "print('Shape of X_test:',X_test.shape)\n",
    "print('Length of y_train:',len(y_train))\n"
   ]
  },
  {
   "cell_type": "code",
   "execution_count": 22,
   "metadata": {},
   "outputs": [],
   "source": [
    "from keras.layers import Reshape, Flatten, Dropout, Concatenate, BatchNormalization\n",
    "from keras.models import Sequential,model_from_json\n",
    "from keras.layers import Conv2D,Conv1D,MaxPooling1D,GlobalAveragePooling1D,GlobalMaxPooling1D\n",
    "from keras.layers import MaxPooling2D\n",
    "from keras.layers import Flatten,Dropout\n",
    "from keras import optimizers, callbacks\n",
    "import numpy as np\n",
    "from keras.layers import Dense,Activation\n",
    "from keras.preprocessing import image\n",
    "from keras.preprocessing.image import ImageDataGenerator\n",
    "from tensorflow.keras.utils import img_to_array\n",
    "from keras.layers import Reshape, Flatten, Dropout, Concatenate, BatchNormalization\n",
    "from keras.optimizers import Adam"
   ]
  },
  {
   "cell_type": "code",
   "execution_count": 23,
   "metadata": {},
   "outputs": [],
   "source": [
    "\n",
    "\n",
    "model1 = Sequential()\n",
    "model1.add(Conv1D(64, 2, activation='relu', input_shape=(64, 12))) \n",
    "model1.add(Conv1D(40,2,padding='valid', activation='relu',strides=1)) \n",
    "model1.add(Dropout(0.2))\n",
    "model1.add(GlobalMaxPooling1D())\n",
    "model1.add(Dense(40))\n",
    "model1.add(Dropout(0.2))\n",
    "model1.add(Activation('relu'))\n",
    "model1.add(BatchNormalization(epsilon=0.001, momentum=0.9, weights=None))\n",
    "model1.add(Dense(1))\n",
    "model1.add(Activation('sigmoid'))\n",
    "\n"
   ]
  },
  {
   "cell_type": "code",
   "execution_count": 24,
   "metadata": {},
   "outputs": [],
   "source": [
    "\n",
    "model1.compile(loss='binary_crossentropy',optimizer='adam',metrics=['accuracy'])"
   ]
  },
  {
   "cell_type": "code",
   "execution_count": 25,
   "metadata": {},
   "outputs": [
    {
     "name": "stdout",
     "output_type": "stream",
     "text": [
      "Epoch 1/100\n",
      "71/71 - 3s - loss: 0.4981 - accuracy: 0.7379 - val_loss: 0.4906 - val_accuracy: 0.7667 - 3s/epoch - 35ms/step\n",
      "Epoch 2/100\n",
      "71/71 - 0s - loss: 0.3967 - accuracy: 0.8134 - val_loss: 0.3001 - val_accuracy: 0.9067 - 328ms/epoch - 5ms/step\n",
      "Epoch 3/100\n",
      "71/71 - 0s - loss: 0.3137 - accuracy: 0.8547 - val_loss: 0.2571 - val_accuracy: 0.9267 - 308ms/epoch - 4ms/step\n",
      "Epoch 4/100\n",
      "71/71 - 0s - loss: 0.2652 - accuracy: 0.9046 - val_loss: 0.2582 - val_accuracy: 0.9267 - 302ms/epoch - 4ms/step\n",
      "Epoch 5/100\n",
      "71/71 - 0s - loss: 0.2547 - accuracy: 0.8946 - val_loss: 0.2043 - val_accuracy: 0.9333 - 432ms/epoch - 6ms/step\n",
      "Epoch 6/100\n",
      "71/71 - 0s - loss: 0.2037 - accuracy: 0.9231 - val_loss: 0.2028 - val_accuracy: 0.9400 - 325ms/epoch - 5ms/step\n",
      "Epoch 7/100\n",
      "71/71 - 0s - loss: 0.1804 - accuracy: 0.9387 - val_loss: 0.1635 - val_accuracy: 0.9533 - 306ms/epoch - 4ms/step\n",
      "Epoch 8/100\n",
      "71/71 - 0s - loss: 0.1837 - accuracy: 0.9444 - val_loss: 0.1827 - val_accuracy: 0.9467 - 362ms/epoch - 5ms/step\n",
      "Epoch 9/100\n",
      "71/71 - 0s - loss: 0.1866 - accuracy: 0.9302 - val_loss: 0.1543 - val_accuracy: 0.9400 - 299ms/epoch - 4ms/step\n",
      "Epoch 10/100\n",
      "71/71 - 0s - loss: 0.1384 - accuracy: 0.9487 - val_loss: 0.1623 - val_accuracy: 0.9400 - 283ms/epoch - 4ms/step\n",
      "Epoch 11/100\n",
      "71/71 - 0s - loss: 0.1356 - accuracy: 0.9573 - val_loss: 0.1382 - val_accuracy: 0.9533 - 299ms/epoch - 4ms/step\n",
      "Epoch 12/100\n",
      "71/71 - 0s - loss: 0.1251 - accuracy: 0.9630 - val_loss: 0.1374 - val_accuracy: 0.9400 - 340ms/epoch - 5ms/step\n",
      "Epoch 13/100\n",
      "71/71 - 0s - loss: 0.1183 - accuracy: 0.9630 - val_loss: 0.1339 - val_accuracy: 0.9533 - 312ms/epoch - 4ms/step\n",
      "Epoch 14/100\n",
      "71/71 - 0s - loss: 0.1061 - accuracy: 0.9672 - val_loss: 0.1116 - val_accuracy: 0.9400 - 291ms/epoch - 4ms/step\n",
      "Epoch 15/100\n",
      "71/71 - 0s - loss: 0.0970 - accuracy: 0.9701 - val_loss: 0.1038 - val_accuracy: 0.9600 - 299ms/epoch - 4ms/step\n",
      "Epoch 16/100\n",
      "71/71 - 0s - loss: 0.0847 - accuracy: 0.9744 - val_loss: 0.0932 - val_accuracy: 0.9733 - 281ms/epoch - 4ms/step\n",
      "Epoch 17/100\n",
      "71/71 - 0s - loss: 0.0753 - accuracy: 0.9772 - val_loss: 0.0938 - val_accuracy: 0.9667 - 283ms/epoch - 4ms/step\n",
      "Epoch 18/100\n",
      "71/71 - 0s - loss: 0.0690 - accuracy: 0.9758 - val_loss: 0.1446 - val_accuracy: 0.9200 - 319ms/epoch - 4ms/step\n",
      "Epoch 19/100\n",
      "71/71 - 0s - loss: 0.0737 - accuracy: 0.9786 - val_loss: 0.1382 - val_accuracy: 0.9400 - 297ms/epoch - 4ms/step\n",
      "Epoch 20/100\n",
      "71/71 - 0s - loss: 0.0603 - accuracy: 0.9815 - val_loss: 0.0883 - val_accuracy: 0.9667 - 292ms/epoch - 4ms/step\n",
      "Epoch 21/100\n",
      "71/71 - 0s - loss: 0.0491 - accuracy: 0.9915 - val_loss: 0.0955 - val_accuracy: 0.9733 - 278ms/epoch - 4ms/step\n",
      "Epoch 22/100\n",
      "71/71 - 0s - loss: 0.0624 - accuracy: 0.9801 - val_loss: 0.0958 - val_accuracy: 0.9733 - 297ms/epoch - 4ms/step\n",
      "Epoch 23/100\n",
      "71/71 - 0s - loss: 0.0582 - accuracy: 0.9843 - val_loss: 0.1251 - val_accuracy: 0.9467 - 284ms/epoch - 4ms/step\n",
      "Epoch 24/100\n",
      "71/71 - 0s - loss: 0.0597 - accuracy: 0.9786 - val_loss: 0.1042 - val_accuracy: 0.9667 - 290ms/epoch - 4ms/step\n",
      "Epoch 25/100\n",
      "71/71 - 0s - loss: 0.0683 - accuracy: 0.9801 - val_loss: 0.1014 - val_accuracy: 0.9733 - 310ms/epoch - 4ms/step\n",
      "Epoch 26/100\n",
      "71/71 - 0s - loss: 0.0921 - accuracy: 0.9715 - val_loss: 0.1095 - val_accuracy: 0.9533 - 296ms/epoch - 4ms/step\n",
      "Epoch 27/100\n",
      "71/71 - 0s - loss: 0.0556 - accuracy: 0.9858 - val_loss: 0.1386 - val_accuracy: 0.9467 - 291ms/epoch - 4ms/step\n",
      "Epoch 28/100\n",
      "71/71 - 0s - loss: 0.0834 - accuracy: 0.9644 - val_loss: 0.1089 - val_accuracy: 0.9533 - 275ms/epoch - 4ms/step\n",
      "Epoch 29/100\n",
      "71/71 - 0s - loss: 0.0564 - accuracy: 0.9815 - val_loss: 0.0951 - val_accuracy: 0.9667 - 295ms/epoch - 4ms/step\n",
      "Epoch 30/100\n",
      "71/71 - 0s - loss: 0.0514 - accuracy: 0.9858 - val_loss: 0.0863 - val_accuracy: 0.9533 - 273ms/epoch - 4ms/step\n",
      "Epoch 31/100\n",
      "71/71 - 0s - loss: 0.0726 - accuracy: 0.9701 - val_loss: 0.1129 - val_accuracy: 0.9533 - 320ms/epoch - 5ms/step\n",
      "Epoch 32/100\n",
      "71/71 - 0s - loss: 0.0448 - accuracy: 0.9843 - val_loss: 0.0878 - val_accuracy: 0.9467 - 320ms/epoch - 5ms/step\n",
      "Epoch 33/100\n",
      "71/71 - 0s - loss: 0.0454 - accuracy: 0.9858 - val_loss: 0.1058 - val_accuracy: 0.9667 - 308ms/epoch - 4ms/step\n",
      "Epoch 34/100\n",
      "71/71 - 0s - loss: 0.0800 - accuracy: 0.9744 - val_loss: 0.1381 - val_accuracy: 0.9467 - 287ms/epoch - 4ms/step\n",
      "Epoch 35/100\n",
      "71/71 - 0s - loss: 0.0671 - accuracy: 0.9715 - val_loss: 0.0797 - val_accuracy: 0.9533 - 314ms/epoch - 4ms/step\n",
      "Epoch 36/100\n",
      "71/71 - 0s - loss: 0.0498 - accuracy: 0.9829 - val_loss: 0.0942 - val_accuracy: 0.9667 - 285ms/epoch - 4ms/step\n",
      "Epoch 37/100\n",
      "71/71 - 0s - loss: 0.0593 - accuracy: 0.9801 - val_loss: 0.0655 - val_accuracy: 0.9733 - 300ms/epoch - 4ms/step\n",
      "Epoch 38/100\n",
      "71/71 - 0s - loss: 0.0484 - accuracy: 0.9843 - val_loss: 0.0783 - val_accuracy: 0.9667 - 307ms/epoch - 4ms/step\n",
      "Epoch 39/100\n",
      "71/71 - 0s - loss: 0.0557 - accuracy: 0.9872 - val_loss: 0.0987 - val_accuracy: 0.9533 - 310ms/epoch - 4ms/step\n",
      "Epoch 40/100\n",
      "71/71 - 0s - loss: 0.0727 - accuracy: 0.9715 - val_loss: 0.1417 - val_accuracy: 0.9533 - 358ms/epoch - 5ms/step\n",
      "Epoch 41/100\n",
      "71/71 - 0s - loss: 0.0471 - accuracy: 0.9872 - val_loss: 0.0862 - val_accuracy: 0.9600 - 285ms/epoch - 4ms/step\n",
      "Epoch 42/100\n",
      "71/71 - 0s - loss: 0.0362 - accuracy: 0.9957 - val_loss: 0.0718 - val_accuracy: 0.9667 - 291ms/epoch - 4ms/step\n",
      "Epoch 43/100\n",
      "71/71 - 0s - loss: 0.0463 - accuracy: 0.9815 - val_loss: 0.0466 - val_accuracy: 0.9867 - 280ms/epoch - 4ms/step\n",
      "Epoch 44/100\n",
      "71/71 - 0s - loss: 0.0378 - accuracy: 0.9900 - val_loss: 0.0523 - val_accuracy: 0.9667 - 291ms/epoch - 4ms/step\n",
      "Epoch 45/100\n",
      "71/71 - 0s - loss: 0.0459 - accuracy: 0.9929 - val_loss: 0.0860 - val_accuracy: 0.9733 - 313ms/epoch - 4ms/step\n",
      "Epoch 46/100\n",
      "71/71 - 0s - loss: 0.0438 - accuracy: 0.9872 - val_loss: 0.1383 - val_accuracy: 0.9533 - 297ms/epoch - 4ms/step\n",
      "Epoch 47/100\n",
      "71/71 - 0s - loss: 0.0338 - accuracy: 0.9929 - val_loss: 0.1051 - val_accuracy: 0.9733 - 285ms/epoch - 4ms/step\n",
      "Epoch 48/100\n",
      "71/71 - 0s - loss: 0.0429 - accuracy: 0.9872 - val_loss: 0.0859 - val_accuracy: 0.9733 - 290ms/epoch - 4ms/step\n",
      "Epoch 49/100\n",
      "71/71 - 0s - loss: 0.0393 - accuracy: 0.9886 - val_loss: 0.0999 - val_accuracy: 0.9667 - 286ms/epoch - 4ms/step\n",
      "Epoch 50/100\n",
      "71/71 - 0s - loss: 0.0441 - accuracy: 0.9858 - val_loss: 0.0689 - val_accuracy: 0.9667 - 280ms/epoch - 4ms/step\n",
      "Epoch 51/100\n",
      "71/71 - 0s - loss: 0.0418 - accuracy: 0.9872 - val_loss: 0.1183 - val_accuracy: 0.9600 - 302ms/epoch - 4ms/step\n",
      "Epoch 52/100\n",
      "71/71 - 0s - loss: 0.0476 - accuracy: 0.9858 - val_loss: 0.1312 - val_accuracy: 0.9333 - 314ms/epoch - 4ms/step\n",
      "Epoch 53/100\n",
      "71/71 - 0s - loss: 0.2095 - accuracy: 0.9202 - val_loss: 0.3724 - val_accuracy: 0.8400 - 296ms/epoch - 4ms/step\n",
      "Epoch 54/100\n",
      "71/71 - 0s - loss: 0.1002 - accuracy: 0.9672 - val_loss: 0.1654 - val_accuracy: 0.9533 - 289ms/epoch - 4ms/step\n",
      "Epoch 55/100\n",
      "71/71 - 0s - loss: 0.0660 - accuracy: 0.9801 - val_loss: 0.1533 - val_accuracy: 0.9600 - 318ms/epoch - 4ms/step\n",
      "Epoch 56/100\n",
      "71/71 - 0s - loss: 0.0836 - accuracy: 0.9701 - val_loss: 0.1714 - val_accuracy: 0.9400 - 315ms/epoch - 4ms/step\n",
      "Epoch 57/100\n",
      "71/71 - 0s - loss: 0.1242 - accuracy: 0.9601 - val_loss: 0.1501 - val_accuracy: 0.9400 - 297ms/epoch - 4ms/step\n",
      "Epoch 58/100\n",
      "71/71 - 0s - loss: 0.0598 - accuracy: 0.9801 - val_loss: 0.1249 - val_accuracy: 0.9667 - 366ms/epoch - 5ms/step\n",
      "Epoch 59/100\n",
      "71/71 - 0s - loss: 0.0351 - accuracy: 0.9872 - val_loss: 0.1397 - val_accuracy: 0.9533 - 302ms/epoch - 4ms/step\n",
      "Epoch 60/100\n",
      "71/71 - 0s - loss: 0.0306 - accuracy: 0.9915 - val_loss: 0.1538 - val_accuracy: 0.9400 - 289ms/epoch - 4ms/step\n",
      "Epoch 61/100\n",
      "71/71 - 0s - loss: 0.1750 - accuracy: 0.9359 - val_loss: 0.1862 - val_accuracy: 0.9333 - 299ms/epoch - 4ms/step\n",
      "Epoch 62/100\n",
      "71/71 - 0s - loss: 0.1615 - accuracy: 0.9402 - val_loss: 0.1243 - val_accuracy: 0.9600 - 287ms/epoch - 4ms/step\n",
      "Epoch 63/100\n",
      "71/71 - 0s - loss: 0.0867 - accuracy: 0.9687 - val_loss: 0.1218 - val_accuracy: 0.9600 - 280ms/epoch - 4ms/step\n",
      "Epoch 64/100\n",
      "71/71 - 0s - loss: 0.0711 - accuracy: 0.9744 - val_loss: 0.1107 - val_accuracy: 0.9533 - 298ms/epoch - 4ms/step\n",
      "Epoch 65/100\n",
      "71/71 - 0s - loss: 0.0505 - accuracy: 0.9886 - val_loss: 0.1041 - val_accuracy: 0.9533 - 315ms/epoch - 4ms/step\n",
      "Epoch 66/100\n",
      "71/71 - 0s - loss: 0.0463 - accuracy: 0.9858 - val_loss: 0.1165 - val_accuracy: 0.9600 - 300ms/epoch - 4ms/step\n",
      "Epoch 67/100\n",
      "71/71 - 0s - loss: 0.0504 - accuracy: 0.9815 - val_loss: 0.1082 - val_accuracy: 0.9533 - 282ms/epoch - 4ms/step\n",
      "Epoch 68/100\n",
      "71/71 - 0s - loss: 0.0541 - accuracy: 0.9843 - val_loss: 0.1020 - val_accuracy: 0.9467 - 301ms/epoch - 4ms/step\n",
      "Epoch 69/100\n",
      "71/71 - 0s - loss: 0.0423 - accuracy: 0.9829 - val_loss: 0.1186 - val_accuracy: 0.9467 - 276ms/epoch - 4ms/step\n",
      "Epoch 70/100\n",
      "71/71 - 0s - loss: 0.0556 - accuracy: 0.9858 - val_loss: 0.1224 - val_accuracy: 0.9400 - 283ms/epoch - 4ms/step\n",
      "Epoch 71/100\n",
      "71/71 - 0s - loss: 0.0507 - accuracy: 0.9815 - val_loss: 0.1293 - val_accuracy: 0.9533 - 298ms/epoch - 4ms/step\n",
      "Epoch 72/100\n",
      "71/71 - 0s - loss: 0.0382 - accuracy: 0.9858 - val_loss: 0.1142 - val_accuracy: 0.9467 - 309ms/epoch - 4ms/step\n",
      "Epoch 73/100\n",
      "71/71 - 0s - loss: 0.0334 - accuracy: 0.9872 - val_loss: 0.1096 - val_accuracy: 0.9533 - 306ms/epoch - 4ms/step\n",
      "Epoch 74/100\n",
      "71/71 - 0s - loss: 0.0317 - accuracy: 0.9915 - val_loss: 0.0912 - val_accuracy: 0.9533 - 281ms/epoch - 4ms/step\n",
      "Epoch 75/100\n",
      "71/71 - 0s - loss: 0.0292 - accuracy: 0.9929 - val_loss: 0.1215 - val_accuracy: 0.9600 - 299ms/epoch - 4ms/step\n",
      "Epoch 76/100\n",
      "71/71 - 0s - loss: 0.0281 - accuracy: 0.9915 - val_loss: 0.1006 - val_accuracy: 0.9667 - 280ms/epoch - 4ms/step\n",
      "Epoch 77/100\n",
      "71/71 - 0s - loss: 0.0379 - accuracy: 0.9843 - val_loss: 0.1126 - val_accuracy: 0.9533 - 284ms/epoch - 4ms/step\n",
      "Epoch 78/100\n",
      "71/71 - 0s - loss: 0.0353 - accuracy: 0.9858 - val_loss: 0.0812 - val_accuracy: 0.9533 - 317ms/epoch - 4ms/step\n",
      "Epoch 79/100\n",
      "71/71 - 0s - loss: 0.0272 - accuracy: 0.9957 - val_loss: 0.0957 - val_accuracy: 0.9533 - 307ms/epoch - 4ms/step\n",
      "Epoch 80/100\n",
      "71/71 - 0s - loss: 0.0296 - accuracy: 0.9900 - val_loss: 0.1052 - val_accuracy: 0.9400 - 295ms/epoch - 4ms/step\n",
      "Epoch 81/100\n",
      "71/71 - 0s - loss: 0.0356 - accuracy: 0.9872 - val_loss: 0.0924 - val_accuracy: 0.9467 - 277ms/epoch - 4ms/step\n",
      "Epoch 82/100\n",
      "71/71 - 0s - loss: 0.0364 - accuracy: 0.9900 - val_loss: 0.1228 - val_accuracy: 0.9533 - 298ms/epoch - 4ms/step\n",
      "Epoch 83/100\n",
      "71/71 - 0s - loss: 0.0311 - accuracy: 0.9900 - val_loss: 0.1211 - val_accuracy: 0.9533 - 284ms/epoch - 4ms/step\n",
      "Epoch 84/100\n",
      "71/71 - 0s - loss: 0.0344 - accuracy: 0.9886 - val_loss: 0.1169 - val_accuracy: 0.9600 - 288ms/epoch - 4ms/step\n",
      "Epoch 85/100\n",
      "71/71 - 0s - loss: 0.0344 - accuracy: 0.9872 - val_loss: 0.1490 - val_accuracy: 0.9667 - 336ms/epoch - 5ms/step\n",
      "Epoch 86/100\n",
      "71/71 - 0s - loss: 0.0401 - accuracy: 0.9858 - val_loss: 0.0728 - val_accuracy: 0.9533 - 366ms/epoch - 5ms/step\n",
      "Epoch 87/100\n",
      "71/71 - 0s - loss: 0.0230 - accuracy: 0.9943 - val_loss: 0.0965 - val_accuracy: 0.9533 - 286ms/epoch - 4ms/step\n",
      "Epoch 88/100\n",
      "71/71 - 0s - loss: 0.0332 - accuracy: 0.9900 - val_loss: 0.1172 - val_accuracy: 0.9733 - 301ms/epoch - 4ms/step\n",
      "Epoch 89/100\n",
      "71/71 - 0s - loss: 0.0250 - accuracy: 0.9900 - val_loss: 0.1040 - val_accuracy: 0.9667 - 281ms/epoch - 4ms/step\n",
      "Epoch 90/100\n",
      "71/71 - 0s - loss: 0.0813 - accuracy: 0.9701 - val_loss: 0.3235 - val_accuracy: 0.9000 - 286ms/epoch - 4ms/step\n",
      "Epoch 91/100\n",
      "71/71 - 0s - loss: 0.1002 - accuracy: 0.9544 - val_loss: 0.1346 - val_accuracy: 0.9667 - 310ms/epoch - 4ms/step\n",
      "Epoch 92/100\n",
      "71/71 - 0s - loss: 0.0873 - accuracy: 0.9758 - val_loss: 0.1112 - val_accuracy: 0.9667 - 314ms/epoch - 4ms/step\n",
      "Epoch 93/100\n",
      "71/71 - 0s - loss: 0.0737 - accuracy: 0.9672 - val_loss: 0.1316 - val_accuracy: 0.9600 - 314ms/epoch - 4ms/step\n",
      "Epoch 94/100\n",
      "71/71 - 0s - loss: 0.0342 - accuracy: 0.9886 - val_loss: 0.1408 - val_accuracy: 0.9467 - 290ms/epoch - 4ms/step\n",
      "Epoch 95/100\n",
      "71/71 - 0s - loss: 0.0280 - accuracy: 0.9915 - val_loss: 0.1111 - val_accuracy: 0.9533 - 297ms/epoch - 4ms/step\n",
      "Epoch 96/100\n",
      "71/71 - 0s - loss: 0.0300 - accuracy: 0.9957 - val_loss: 0.1263 - val_accuracy: 0.9600 - 338ms/epoch - 5ms/step\n",
      "Epoch 97/100\n",
      "71/71 - 0s - loss: 0.0206 - accuracy: 0.9943 - val_loss: 0.1259 - val_accuracy: 0.9600 - 304ms/epoch - 4ms/step\n",
      "Epoch 98/100\n",
      "71/71 - 0s - loss: 0.0370 - accuracy: 0.9886 - val_loss: 0.1233 - val_accuracy: 0.9600 - 323ms/epoch - 5ms/step\n",
      "Epoch 99/100\n",
      "71/71 - 0s - loss: 0.0217 - accuracy: 0.9929 - val_loss: 0.1327 - val_accuracy: 0.9533 - 303ms/epoch - 4ms/step\n",
      "Epoch 100/100\n",
      "71/71 - 0s - loss: 0.0213 - accuracy: 0.9929 - val_loss: 0.1182 - val_accuracy: 0.9733 - 281ms/epoch - 4ms/step\n"
     ]
    }
   ],
   "source": [
    "train_x = np.asarray(X_train)\n",
    "train_y = np.asarray(y_train)\n",
    "validation_x = np.asarray(X_val)\n",
    "validation_y = np.asarray(y_val)\n",
    "history = model1.fit(train_x, train_y, epochs=100, validation_data=(validation_x,validation_y),batch_size=10, shuffle=False,verbose=2)\n"
   ]
  },
  {
   "cell_type": "code",
   "execution_count": 26,
   "metadata": {},
   "outputs": [
    {
     "name": "stdout",
     "output_type": "stream",
     "text": [
      "dict_keys(['loss', 'accuracy', 'val_loss', 'val_accuracy'])\n"
     ]
    },
    {
     "data": {
      "image/png": "[encoded data removed]",
      "text/plain": [
       "<Figure size 640x480 with 1 Axes>"
      ]
     },
     "metadata": {},
     "output_type": "display_data"
    },
    {
     "data": {
      "image/png": "[encoded data removed]",
      "text/plain": [
       "<Figure size 640x480 with 1 Axes>"
      ]
     },
     "metadata": {},
     "output_type": "display_data"
    }
   ],
   "source": [
    "print(history.history.keys())\n",
    "#  \"Accuracy\"\n",
    "plt.plot(history.history['accuracy'])\n",
    "plt.plot(history.history['val_accuracy'])\n",
    "plt.title('model accuracy')\n",
    "plt.ylabel('accuracy')\n",
    "plt.xlabel('epoch')\n",
    "plt.legend(['train', 'test'], loc='upper left')\n",
    "plt.show()\n",
    "# \"Loss\"\n",
    "plt.plot(history.history['loss'])\n",
    "plt.plot(history.history['val_loss'])\n",
    "plt.title('model loss')\n",
    "plt.ylabel('loss')\n",
    "plt.xlabel('epoch')\n",
    "plt.legend(['train', 'test'], loc='upper left')\n",
    "plt.show()"
   ]
  },
  {
   "cell_type": "code",
   "execution_count": 27,
   "metadata": {},
   "outputs": [
    {
     "name": "stdout",
     "output_type": "stream",
     "text": [
      "5/5 [==============================] - 0s 3ms/step - loss: 0.1182 - accuracy: 0.9733\n"
     ]
    },
    {
     "data": {
      "text/plain": [
       "[0.11823344975709915, 0.9733333587646484]"
      ]
     },
     "execution_count": 27,
     "metadata": {},
     "output_type": "execute_result"
    }
   ],
   "source": [
    "\n",
    "model1.evaluate(validation_x,validation_y)"
   ]
  },
  {
   "cell_type": "code",
   "execution_count": 28,
   "metadata": {},
   "outputs": [
    {
     "name": "stdout",
     "output_type": "stream",
     "text": [
      "5/5 [==============================] - 0s 3ms/step - loss: 0.0685 - accuracy: 0.9669\n"
     ]
    },
    {
     "data": {
      "text/plain": [
       "[0.06849183887243271, 0.9668874144554138]"
      ]
     },
     "execution_count": 28,
     "metadata": {},
     "output_type": "execute_result"
    }
   ],
   "source": [
    "test_x = np.asarray(X_test)\n",
    "test_y = np.asarray(y_test)\n",
    "model1.evaluate(test_x,test_y)"
   ]
  },
  {
   "cell_type": "code",
   "execution_count": 50,
   "metadata": {},
   "outputs": [],
   "source": [
    "with open('cnn.json','w') as f:\n",
    "    f.write(model1.to_json())"
   ]
  },
  {
   "cell_type": "code",
   "execution_count": 51,
   "metadata": {},
   "outputs": [],
   "source": [
    "model1.save_weights(\"cnn.h5\")"
   ]
  },
  {
   "attachments": {},
   "cell_type": "markdown",
   "metadata": {},
   "source": []
  }
 ],
 "metadata": {
  "kernelspec": {
   "display_name": "Python 3",
   "language": "python",
   "name": "python3"
  },
  "language_info": {
   "codemirror_mode": {
    "name": "ipython",
    "version": 3
   },
   "file_extension": ".py",
   "mimetype": "text/x-python",
   "name": "python",
   "nbconvert_exporter": "python",
   "pygments_lexer": "ipython3",
   "version": "3.7.9"
  }
 },
 "nbformat": 4,
 "nbformat_minor": 2
}
