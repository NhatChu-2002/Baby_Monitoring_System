{
 "cells": [
  {
   "cell_type": "code",
   "execution_count": 99,
   "metadata": {},
   "outputs": [],
   "source": [
    "import librosa\n",
    "import numpy as np\n",
    "from os.path import isfile,join\n",
    "from os import listdir\n",
    "from scipy import signal as sg\n",
    "from scipy.signal import butter,lfilter,freqz\n",
    "import matplotlib.pyplot as plt\n",
    "from scipy import hamming\n",
    "import soundfile as sf\n",
    "import scipy\n",
    "import numpy\n",
    "from scipy.fftpack import dct\n",
    "from python_speech_features import mfcc\n",
    "from python_speech_features import logfbank\n",
    "from scipy.fftpack import fft\n",
    "from scipy.io import wavfile\n",
    "import soundfile as sf\n",
    "import math\n",
    "import tensorflow\n",
    "from keras.utils import np_utils\n",
    "from keras.models import Sequential\n",
    "from keras.models import model_from_yaml\n",
    "from keras.models import model_from_json\n",
    "from keras.layers import Dense\n",
    "\n",
    "from keras import backend\n",
    "from keras.layers import Embedding\n",
    "from keras.layers import LSTM\n",
    "from sklearn.model_selection import train_test_split\n",
    "from sklearn.decomposition import PCA\n",
    "#from sklearn.preprocessing import StandardbScaler"
   ]
  },
  {
   "cell_type": "code",
   "execution_count": 100,
   "metadata": {},
   "outputs": [],
   "source": [
    "babycry=[f for f in listdir('D:\\\\HK2-Năm 3\\\\PBL5\\\\Code\\\\Self_recording_data\\\\Crying') if isfile(join('D:\\\\HK2-Năm 3\\\\PBL5\\\\Code\\\\Self_recording_data\\\\Crying', f))]\n",
    "\n",
    "nonbabycry=[f for f in listdir('D:\\\\HK2-Năm 3\\\\PBL5\\\\Code\\\\Self_recording_data\\\\Noise') if isfile(join('D:\\\\HK2-Năm 3\\\\PBL5\\\\Code\\\\Self_recording_data\\\\Noise', f))]\n",
    "babysilence=[f for f in listdir('D:\\\\HK2-Năm 3\\\\PBL5\\\\Code\\\\Self_recording_data\\\\Silence') if isfile(join('D:\\\\HK2-Năm 3\\\\PBL5\\\\Code\\\\Self_recording_data\\\\Silence', f))]\n",
    "babylaugh=[f for f in listdir('D:\\\\HK2-Năm 3\\\\PBL5\\\\Code\\\\Self_recording_data\\\\Laugh') if isfile(join('D:\\\\HK2-Năm 3\\\\PBL5\\\\Code\\\\Self_recording_data\\\\Laugh',f))]\n"
   ]
  },
  {
   "cell_type": "code",
   "execution_count": 101,
   "metadata": {},
   "outputs": [],
   "source": [
    "baby_cry=[]\n",
    "for each in range(0,len(babycry)) :\n",
    "    cry='D:\\\\HK2-Năm 3\\\\PBL5\\\\Code\\\\Self_recording_data\\\\Crying' + '\\\\' + babycry[each] \n",
    "    baby_cry.append(cry)\n"
   ]
  },
  {
   "cell_type": "code",
   "execution_count": 102,
   "metadata": {},
   "outputs": [
    {
     "data": {
      "text/plain": [
       "['D:\\\\HK2-Năm 3\\\\PBL5\\\\Code\\\\Self_recording_data\\\\Crying\\\\01A_Crying_sample.wav',\n",
       " 'D:\\\\HK2-Năm 3\\\\PBL5\\\\Code\\\\Self_recording_data\\\\Crying\\\\01B_Crying_sample.wav',\n",
       " 'D:\\\\HK2-Năm 3\\\\PBL5\\\\Code\\\\Self_recording_data\\\\Crying\\\\01C_Crying_sample.wav',\n",
       " 'D:\\\\HK2-Năm 3\\\\PBL5\\\\Code\\\\Self_recording_data\\\\Crying\\\\02A_Crying_sample.wav',\n",
       " 'D:\\\\HK2-Năm 3\\\\PBL5\\\\Code\\\\Self_recording_data\\\\Crying\\\\02B_Crying_sample.wav',\n",
       " 'D:\\\\HK2-Năm 3\\\\PBL5\\\\Code\\\\Self_recording_data\\\\Crying\\\\02C_Crying_sample.wav',\n",
       " 'D:\\\\HK2-Năm 3\\\\PBL5\\\\Code\\\\Self_recording_data\\\\Crying\\\\03A_Crying_sample.wav',\n",
       " 'D:\\\\HK2-Năm 3\\\\PBL5\\\\Code\\\\Self_recording_data\\\\Crying\\\\03B_Crying_sample.wav',\n",
       " 'D:\\\\HK2-Năm 3\\\\PBL5\\\\Code\\\\Self_recording_data\\\\Crying\\\\03C_Crying_sample.wav',\n",
       " 'D:\\\\HK2-Năm 3\\\\PBL5\\\\Code\\\\Self_recording_data\\\\Crying\\\\04A_Crying_sample.wav',\n",
       " 'D:\\\\HK2-Năm 3\\\\PBL5\\\\Code\\\\Self_recording_data\\\\Crying\\\\04B_Crying_sample.wav',\n",
       " 'D:\\\\HK2-Năm 3\\\\PBL5\\\\Code\\\\Self_recording_data\\\\Crying\\\\04C_Crying_sample.wav',\n",
       " 'D:\\\\HK2-Năm 3\\\\PBL5\\\\Code\\\\Self_recording_data\\\\Crying\\\\05A_Crying_sample.wav',\n",
       " 'D:\\\\HK2-Năm 3\\\\PBL5\\\\Code\\\\Self_recording_data\\\\Crying\\\\05B_Crying_sample.wav',\n",
       " 'D:\\\\HK2-Năm 3\\\\PBL5\\\\Code\\\\Self_recording_data\\\\Crying\\\\05C_Crying_sample.wav',\n",
       " 'D:\\\\HK2-Năm 3\\\\PBL5\\\\Code\\\\Self_recording_data\\\\Crying\\\\06A_Crying_sample.wav',\n",
       " 'D:\\\\HK2-Năm 3\\\\PBL5\\\\Code\\\\Self_recording_data\\\\Crying\\\\06B_Crying_sample.wav',\n",
       " 'D:\\\\HK2-Năm 3\\\\PBL5\\\\Code\\\\Self_recording_data\\\\Crying\\\\06C_Crying_sample.wav',\n",
       " 'D:\\\\HK2-Năm 3\\\\PBL5\\\\Code\\\\Self_recording_data\\\\Crying\\\\07A_Crying_sample.wav',\n",
       " 'D:\\\\HK2-Năm 3\\\\PBL5\\\\Code\\\\Self_recording_data\\\\Crying\\\\07B_Crying_sample.wav',\n",
       " 'D:\\\\HK2-Năm 3\\\\PBL5\\\\Code\\\\Self_recording_data\\\\Crying\\\\07C_Crying_sample.wav',\n",
       " 'D:\\\\HK2-Năm 3\\\\PBL5\\\\Code\\\\Self_recording_data\\\\Crying\\\\08A_Crying_sample.wav',\n",
       " 'D:\\\\HK2-Năm 3\\\\PBL5\\\\Code\\\\Self_recording_data\\\\Crying\\\\08B_Crying_sample.wav',\n",
       " 'D:\\\\HK2-Năm 3\\\\PBL5\\\\Code\\\\Self_recording_data\\\\Crying\\\\08C_Crying_sample.wav',\n",
       " 'D:\\\\HK2-Năm 3\\\\PBL5\\\\Code\\\\Self_recording_data\\\\Crying\\\\09A_Crying_sample.wav',\n",
       " 'D:\\\\HK2-Năm 3\\\\PBL5\\\\Code\\\\Self_recording_data\\\\Crying\\\\09B_Crying_sample.wav',\n",
       " 'D:\\\\HK2-Năm 3\\\\PBL5\\\\Code\\\\Self_recording_data\\\\Crying\\\\09C_Crying_sample.wav',\n",
       " 'D:\\\\HK2-Năm 3\\\\PBL5\\\\Code\\\\Self_recording_data\\\\Crying\\\\10A_Crying_sample.wav',\n",
       " 'D:\\\\HK2-Năm 3\\\\PBL5\\\\Code\\\\Self_recording_data\\\\Crying\\\\10B_Crying_sample.wav',\n",
       " 'D:\\\\HK2-Năm 3\\\\PBL5\\\\Code\\\\Self_recording_data\\\\Crying\\\\10C_Crying_sample.wav',\n",
       " 'D:\\\\HK2-Năm 3\\\\PBL5\\\\Code\\\\Self_recording_data\\\\Crying\\\\11A_Crying_sample.wav',\n",
       " 'D:\\\\HK2-Năm 3\\\\PBL5\\\\Code\\\\Self_recording_data\\\\Crying\\\\11C_Crying_sample.wav',\n",
       " 'D:\\\\HK2-Năm 3\\\\PBL5\\\\Code\\\\Self_recording_data\\\\Crying\\\\12A_Crying_sample.wav',\n",
       " 'D:\\\\HK2-Năm 3\\\\PBL5\\\\Code\\\\Self_recording_data\\\\Crying\\\\12C_Crying_sample.wav',\n",
       " 'D:\\\\HK2-Năm 3\\\\PBL5\\\\Code\\\\Self_recording_data\\\\Crying\\\\13A_Crying_sample.wav',\n",
       " 'D:\\\\HK2-Năm 3\\\\PBL5\\\\Code\\\\Self_recording_data\\\\Crying\\\\13C_Crying_sample.wav',\n",
       " 'D:\\\\HK2-Năm 3\\\\PBL5\\\\Code\\\\Self_recording_data\\\\Crying\\\\14A_Crying_sample.wav',\n",
       " 'D:\\\\HK2-Năm 3\\\\PBL5\\\\Code\\\\Self_recording_data\\\\Crying\\\\14C_Crying_sample.wav',\n",
       " 'D:\\\\HK2-Năm 3\\\\PBL5\\\\Code\\\\Self_recording_data\\\\Crying\\\\15A_Crying_sample.wav',\n",
       " 'D:\\\\HK2-Năm 3\\\\PBL5\\\\Code\\\\Self_recording_data\\\\Crying\\\\15C_Crying_sample.wav',\n",
       " 'D:\\\\HK2-Năm 3\\\\PBL5\\\\Code\\\\Self_recording_data\\\\Crying\\\\16A_Crying_sample.wav',\n",
       " 'D:\\\\HK2-Năm 3\\\\PBL5\\\\Code\\\\Self_recording_data\\\\Crying\\\\16C_Crying_sample.wav',\n",
       " 'D:\\\\HK2-Năm 3\\\\PBL5\\\\Code\\\\Self_recording_data\\\\Crying\\\\17A_Crying_sample.wav',\n",
       " 'D:\\\\HK2-Năm 3\\\\PBL5\\\\Code\\\\Self_recording_data\\\\Crying\\\\17C_Crying_sample.wav',\n",
       " 'D:\\\\HK2-Năm 3\\\\PBL5\\\\Code\\\\Self_recording_data\\\\Crying\\\\18A_Crying_sample.wav',\n",
       " 'D:\\\\HK2-Năm 3\\\\PBL5\\\\Code\\\\Self_recording_data\\\\Crying\\\\18C_Crying_sample.wav',\n",
       " 'D:\\\\HK2-Năm 3\\\\PBL5\\\\Code\\\\Self_recording_data\\\\Crying\\\\19A_Crying_sample.wav',\n",
       " 'D:\\\\HK2-Năm 3\\\\PBL5\\\\Code\\\\Self_recording_data\\\\Crying\\\\19C_Crying_sample.wav',\n",
       " 'D:\\\\HK2-Năm 3\\\\PBL5\\\\Code\\\\Self_recording_data\\\\Crying\\\\20A_Crying_sample.wav',\n",
       " 'D:\\\\HK2-Năm 3\\\\PBL5\\\\Code\\\\Self_recording_data\\\\Crying\\\\20C_Crying_sample.wav',\n",
       " 'D:\\\\HK2-Năm 3\\\\PBL5\\\\Code\\\\Self_recording_data\\\\Crying\\\\21A_Crying_sample.wav',\n",
       " 'D:\\\\HK2-Năm 3\\\\PBL5\\\\Code\\\\Self_recording_data\\\\Crying\\\\21C_Crying_sample.wav',\n",
       " 'D:\\\\HK2-Năm 3\\\\PBL5\\\\Code\\\\Self_recording_data\\\\Crying\\\\22A_Crying_sample.wav',\n",
       " 'D:\\\\HK2-Năm 3\\\\PBL5\\\\Code\\\\Self_recording_data\\\\Crying\\\\22C_Crying_sample.wav',\n",
       " 'D:\\\\HK2-Năm 3\\\\PBL5\\\\Code\\\\Self_recording_data\\\\Crying\\\\23A_Crying_sample.wav',\n",
       " 'D:\\\\HK2-Năm 3\\\\PBL5\\\\Code\\\\Self_recording_data\\\\Crying\\\\23C_Crying_sample.wav',\n",
       " 'D:\\\\HK2-Năm 3\\\\PBL5\\\\Code\\\\Self_recording_data\\\\Crying\\\\24A_Crying_sample.wav',\n",
       " 'D:\\\\HK2-Năm 3\\\\PBL5\\\\Code\\\\Self_recording_data\\\\Crying\\\\24C_Crying_sample.wav',\n",
       " 'D:\\\\HK2-Năm 3\\\\PBL5\\\\Code\\\\Self_recording_data\\\\Crying\\\\25A_Crying_sample.wav',\n",
       " 'D:\\\\HK2-Năm 3\\\\PBL5\\\\Code\\\\Self_recording_data\\\\Crying\\\\25C_Crying_sample.wav',\n",
       " 'D:\\\\HK2-Năm 3\\\\PBL5\\\\Code\\\\Self_recording_data\\\\Crying\\\\26A_Crying_sample.wav',\n",
       " 'D:\\\\HK2-Năm 3\\\\PBL5\\\\Code\\\\Self_recording_data\\\\Crying\\\\26C_Crying_sample.wav',\n",
       " 'D:\\\\HK2-Năm 3\\\\PBL5\\\\Code\\\\Self_recording_data\\\\Crying\\\\27A_Crying_sample.wav',\n",
       " 'D:\\\\HK2-Năm 3\\\\PBL5\\\\Code\\\\Self_recording_data\\\\Crying\\\\27C_Crying_sample.wav',\n",
       " 'D:\\\\HK2-Năm 3\\\\PBL5\\\\Code\\\\Self_recording_data\\\\Crying\\\\28A_Crying_sample.wav',\n",
       " 'D:\\\\HK2-Năm 3\\\\PBL5\\\\Code\\\\Self_recording_data\\\\Crying\\\\28C_Crying_sample.wav',\n",
       " 'D:\\\\HK2-Năm 3\\\\PBL5\\\\Code\\\\Self_recording_data\\\\Crying\\\\29A_Crying_sample.wav',\n",
       " 'D:\\\\HK2-Năm 3\\\\PBL5\\\\Code\\\\Self_recording_data\\\\Crying\\\\29C_Crying_sample.wav',\n",
       " 'D:\\\\HK2-Năm 3\\\\PBL5\\\\Code\\\\Self_recording_data\\\\Crying\\\\30A_Crying_sample.wav',\n",
       " 'D:\\\\HK2-Năm 3\\\\PBL5\\\\Code\\\\Self_recording_data\\\\Crying\\\\30C_Crying_sample.wav',\n",
       " 'D:\\\\HK2-Năm 3\\\\PBL5\\\\Code\\\\Self_recording_data\\\\Crying\\\\31A_Crying_sample.wav',\n",
       " 'D:\\\\HK2-Năm 3\\\\PBL5\\\\Code\\\\Self_recording_data\\\\Crying\\\\31C_Crying_sample.wav',\n",
       " 'D:\\\\HK2-Năm 3\\\\PBL5\\\\Code\\\\Self_recording_data\\\\Crying\\\\32A_Crying_sample.wav',\n",
       " 'D:\\\\HK2-Năm 3\\\\PBL5\\\\Code\\\\Self_recording_data\\\\Crying\\\\32C_Crying_sample.wav',\n",
       " 'D:\\\\HK2-Năm 3\\\\PBL5\\\\Code\\\\Self_recording_data\\\\Crying\\\\33A_Crying_sample.wav',\n",
       " 'D:\\\\HK2-Năm 3\\\\PBL5\\\\Code\\\\Self_recording_data\\\\Crying\\\\33C_Crying_sample.wav',\n",
       " 'D:\\\\HK2-Năm 3\\\\PBL5\\\\Code\\\\Self_recording_data\\\\Crying\\\\34A_Crying_sample.wav',\n",
       " 'D:\\\\HK2-Năm 3\\\\PBL5\\\\Code\\\\Self_recording_data\\\\Crying\\\\34C_Crying_sample.wav',\n",
       " 'D:\\\\HK2-Năm 3\\\\PBL5\\\\Code\\\\Self_recording_data\\\\Crying\\\\35C_Crying_sample.wav',\n",
       " 'D:\\\\HK2-Năm 3\\\\PBL5\\\\Code\\\\Self_recording_data\\\\Crying\\\\36C_Crying_sample.wav',\n",
       " 'D:\\\\HK2-Năm 3\\\\PBL5\\\\Code\\\\Self_recording_data\\\\Crying\\\\37C_Crying_sample.wav',\n",
       " 'D:\\\\HK2-Năm 3\\\\PBL5\\\\Code\\\\Self_recording_data\\\\Crying\\\\38A_Crying_sample.wav',\n",
       " 'D:\\\\HK2-Năm 3\\\\PBL5\\\\Code\\\\Self_recording_data\\\\Crying\\\\38C_Crying_sample.wav',\n",
       " 'D:\\\\HK2-Năm 3\\\\PBL5\\\\Code\\\\Self_recording_data\\\\Crying\\\\39A_Crying_sample.wav',\n",
       " 'D:\\\\HK2-Năm 3\\\\PBL5\\\\Code\\\\Self_recording_data\\\\Crying\\\\39C_Crying_sample.wav',\n",
       " 'D:\\\\HK2-Năm 3\\\\PBL5\\\\Code\\\\Self_recording_data\\\\Crying\\\\40A_Crying_sample.wav',\n",
       " 'D:\\\\HK2-Năm 3\\\\PBL5\\\\Code\\\\Self_recording_data\\\\Crying\\\\40C_Crying_sample.wav',\n",
       " 'D:\\\\HK2-Năm 3\\\\PBL5\\\\Code\\\\Self_recording_data\\\\Crying\\\\41A_Crying_sample.wav',\n",
       " 'D:\\\\HK2-Năm 3\\\\PBL5\\\\Code\\\\Self_recording_data\\\\Crying\\\\41C_Crying_sample.wav',\n",
       " 'D:\\\\HK2-Năm 3\\\\PBL5\\\\Code\\\\Self_recording_data\\\\Crying\\\\42A_Crying_sample.wav',\n",
       " 'D:\\\\HK2-Năm 3\\\\PBL5\\\\Code\\\\Self_recording_data\\\\Crying\\\\42C_Crying_sample.wav',\n",
       " 'D:\\\\HK2-Năm 3\\\\PBL5\\\\Code\\\\Self_recording_data\\\\Crying\\\\43A_Crying_sample.wav',\n",
       " 'D:\\\\HK2-Năm 3\\\\PBL5\\\\Code\\\\Self_recording_data\\\\Crying\\\\43C_Crying_sample.wav',\n",
       " 'D:\\\\HK2-Năm 3\\\\PBL5\\\\Code\\\\Self_recording_data\\\\Crying\\\\44A_Crying_sample.wav',\n",
       " 'D:\\\\HK2-Năm 3\\\\PBL5\\\\Code\\\\Self_recording_data\\\\Crying\\\\44C_Crying_sample.wav',\n",
       " 'D:\\\\HK2-Năm 3\\\\PBL5\\\\Code\\\\Self_recording_data\\\\Crying\\\\45A_Crying_sample.wav',\n",
       " 'D:\\\\HK2-Năm 3\\\\PBL5\\\\Code\\\\Self_recording_data\\\\Crying\\\\45C_Crying_sample.wav',\n",
       " 'D:\\\\HK2-Năm 3\\\\PBL5\\\\Code\\\\Self_recording_data\\\\Crying\\\\46A_Crying_sample.wav',\n",
       " 'D:\\\\HK2-Năm 3\\\\PBL5\\\\Code\\\\Self_recording_data\\\\Crying\\\\46C_Crying_sample.wav',\n",
       " 'D:\\\\HK2-Năm 3\\\\PBL5\\\\Code\\\\Self_recording_data\\\\Crying\\\\47A_Crying_sample.wav',\n",
       " 'D:\\\\HK2-Năm 3\\\\PBL5\\\\Code\\\\Self_recording_data\\\\Crying\\\\47C_Crying_sample.wav',\n",
       " 'D:\\\\HK2-Năm 3\\\\PBL5\\\\Code\\\\Self_recording_data\\\\Crying\\\\48A_Crying_sample.wav',\n",
       " 'D:\\\\HK2-Năm 3\\\\PBL5\\\\Code\\\\Self_recording_data\\\\Crying\\\\48C_Crying_sample.wav',\n",
       " 'D:\\\\HK2-Năm 3\\\\PBL5\\\\Code\\\\Self_recording_data\\\\Crying\\\\49A_Crying_sample.wav',\n",
       " 'D:\\\\HK2-Năm 3\\\\PBL5\\\\Code\\\\Self_recording_data\\\\Crying\\\\49C_Crying_sample.wav',\n",
       " 'D:\\\\HK2-Năm 3\\\\PBL5\\\\Code\\\\Self_recording_data\\\\Crying\\\\50A_Crying_sample.wav',\n",
       " 'D:\\\\HK2-Năm 3\\\\PBL5\\\\Code\\\\Self_recording_data\\\\Crying\\\\50C_Crying_sample.wav',\n",
       " 'D:\\\\HK2-Năm 3\\\\PBL5\\\\Code\\\\Self_recording_data\\\\Crying\\\\51C_Crying_sample.wav',\n",
       " 'D:\\\\HK2-Năm 3\\\\PBL5\\\\Code\\\\Self_recording_data\\\\Crying\\\\52C_Crying_sample.wav',\n",
       " 'D:\\\\HK2-Năm 3\\\\PBL5\\\\Code\\\\Self_recording_data\\\\Crying\\\\53C_Crying_sample.wav',\n",
       " 'D:\\\\HK2-Năm 3\\\\PBL5\\\\Code\\\\Self_recording_data\\\\Crying\\\\54C_Crying_sample.wav',\n",
       " 'D:\\\\HK2-Năm 3\\\\PBL5\\\\Code\\\\Self_recording_data\\\\Crying\\\\55C_Crying_sample.wav',\n",
       " 'D:\\\\HK2-Năm 3\\\\PBL5\\\\Code\\\\Self_recording_data\\\\Crying\\\\56C_Crying_sample.wav',\n",
       " 'D:\\\\HK2-Năm 3\\\\PBL5\\\\Code\\\\Self_recording_data\\\\Crying\\\\57C_Crying_sample.wav',\n",
       " 'D:\\\\HK2-Năm 3\\\\PBL5\\\\Code\\\\Self_recording_data\\\\Crying\\\\58C_Crying_sample.wav',\n",
       " 'D:\\\\HK2-Năm 3\\\\PBL5\\\\Code\\\\Self_recording_data\\\\Crying\\\\59C_Crying_sample.wav',\n",
       " 'D:\\\\HK2-Năm 3\\\\PBL5\\\\Code\\\\Self_recording_data\\\\Crying\\\\60C_Crying_sample.wav',\n",
       " 'D:\\\\HK2-Năm 3\\\\PBL5\\\\Code\\\\Self_recording_data\\\\Crying\\\\61C_Crying_sample.wav',\n",
       " 'D:\\\\HK2-Năm 3\\\\PBL5\\\\Code\\\\Self_recording_data\\\\Crying\\\\A_Crying_1.wav',\n",
       " 'D:\\\\HK2-Năm 3\\\\PBL5\\\\Code\\\\Self_recording_data\\\\Crying\\\\A_Crying_2.wav',\n",
       " 'D:\\\\HK2-Năm 3\\\\PBL5\\\\Code\\\\Self_recording_data\\\\Crying\\\\A_Crying_3.wav',\n",
       " 'D:\\\\HK2-Năm 3\\\\PBL5\\\\Code\\\\Self_recording_data\\\\Crying\\\\A_Crying_4.wav',\n",
       " 'D:\\\\HK2-Năm 3\\\\PBL5\\\\Code\\\\Self_recording_data\\\\Crying\\\\A_Crying_5.wav',\n",
       " 'D:\\\\HK2-Năm 3\\\\PBL5\\\\Code\\\\Self_recording_data\\\\Crying\\\\A_Crying_6.wav',\n",
       " 'D:\\\\HK2-Năm 3\\\\PBL5\\\\Code\\\\Self_recording_data\\\\Crying\\\\A_Crying_7.wav',\n",
       " 'D:\\\\HK2-Năm 3\\\\PBL5\\\\Code\\\\Self_recording_data\\\\Crying\\\\A_Crying_8.wav',\n",
       " 'D:\\\\HK2-Năm 3\\\\PBL5\\\\Code\\\\Self_recording_data\\\\Crying\\\\A_Crying_9.wav',\n",
       " 'D:\\\\HK2-Năm 3\\\\PBL5\\\\Code\\\\Self_recording_data\\\\Crying\\\\untitled.wav',\n",
       " 'D:\\\\HK2-Năm 3\\\\PBL5\\\\Code\\\\Self_recording_data\\\\Crying\\\\untitled10.wav',\n",
       " 'D:\\\\HK2-Năm 3\\\\PBL5\\\\Code\\\\Self_recording_data\\\\Crying\\\\untitled11.wav',\n",
       " 'D:\\\\HK2-Năm 3\\\\PBL5\\\\Code\\\\Self_recording_data\\\\Crying\\\\untitled12.wav',\n",
       " 'D:\\\\HK2-Năm 3\\\\PBL5\\\\Code\\\\Self_recording_data\\\\Crying\\\\untitled13.wav',\n",
       " 'D:\\\\HK2-Năm 3\\\\PBL5\\\\Code\\\\Self_recording_data\\\\Crying\\\\untitled14.wav',\n",
       " 'D:\\\\HK2-Năm 3\\\\PBL5\\\\Code\\\\Self_recording_data\\\\Crying\\\\untitled15.wav',\n",
       " 'D:\\\\HK2-Năm 3\\\\PBL5\\\\Code\\\\Self_recording_data\\\\Crying\\\\untitled16.wav',\n",
       " 'D:\\\\HK2-Năm 3\\\\PBL5\\\\Code\\\\Self_recording_data\\\\Crying\\\\untitled17.wav',\n",
       " 'D:\\\\HK2-Năm 3\\\\PBL5\\\\Code\\\\Self_recording_data\\\\Crying\\\\untitled18.wav',\n",
       " 'D:\\\\HK2-Năm 3\\\\PBL5\\\\Code\\\\Self_recording_data\\\\Crying\\\\untitled19.wav',\n",
       " 'D:\\\\HK2-Năm 3\\\\PBL5\\\\Code\\\\Self_recording_data\\\\Crying\\\\untitled2.wav',\n",
       " 'D:\\\\HK2-Năm 3\\\\PBL5\\\\Code\\\\Self_recording_data\\\\Crying\\\\untitled20.wav',\n",
       " 'D:\\\\HK2-Năm 3\\\\PBL5\\\\Code\\\\Self_recording_data\\\\Crying\\\\untitled21.wav',\n",
       " 'D:\\\\HK2-Năm 3\\\\PBL5\\\\Code\\\\Self_recording_data\\\\Crying\\\\untitled22.wav',\n",
       " 'D:\\\\HK2-Năm 3\\\\PBL5\\\\Code\\\\Self_recording_data\\\\Crying\\\\untitled23.wav',\n",
       " 'D:\\\\HK2-Năm 3\\\\PBL5\\\\Code\\\\Self_recording_data\\\\Crying\\\\untitled24.wav',\n",
       " 'D:\\\\HK2-Năm 3\\\\PBL5\\\\Code\\\\Self_recording_data\\\\Crying\\\\untitled25.wav',\n",
       " 'D:\\\\HK2-Năm 3\\\\PBL5\\\\Code\\\\Self_recording_data\\\\Crying\\\\untitled26.wav',\n",
       " 'D:\\\\HK2-Năm 3\\\\PBL5\\\\Code\\\\Self_recording_data\\\\Crying\\\\untitled27.wav',\n",
       " 'D:\\\\HK2-Năm 3\\\\PBL5\\\\Code\\\\Self_recording_data\\\\Crying\\\\untitled28.wav',\n",
       " 'D:\\\\HK2-Năm 3\\\\PBL5\\\\Code\\\\Self_recording_data\\\\Crying\\\\untitled29.wav',\n",
       " 'D:\\\\HK2-Năm 3\\\\PBL5\\\\Code\\\\Self_recording_data\\\\Crying\\\\untitled3.wav',\n",
       " 'D:\\\\HK2-Năm 3\\\\PBL5\\\\Code\\\\Self_recording_data\\\\Crying\\\\untitled30.wav',\n",
       " 'D:\\\\HK2-Năm 3\\\\PBL5\\\\Code\\\\Self_recording_data\\\\Crying\\\\untitled31.wav',\n",
       " 'D:\\\\HK2-Năm 3\\\\PBL5\\\\Code\\\\Self_recording_data\\\\Crying\\\\untitled32.wav',\n",
       " 'D:\\\\HK2-Năm 3\\\\PBL5\\\\Code\\\\Self_recording_data\\\\Crying\\\\untitled33.wav',\n",
       " 'D:\\\\HK2-Năm 3\\\\PBL5\\\\Code\\\\Self_recording_data\\\\Crying\\\\untitled34.wav',\n",
       " 'D:\\\\HK2-Năm 3\\\\PBL5\\\\Code\\\\Self_recording_data\\\\Crying\\\\untitled35.wav',\n",
       " 'D:\\\\HK2-Năm 3\\\\PBL5\\\\Code\\\\Self_recording_data\\\\Crying\\\\untitled36.wav',\n",
       " 'D:\\\\HK2-Năm 3\\\\PBL5\\\\Code\\\\Self_recording_data\\\\Crying\\\\untitled37.wav',\n",
       " 'D:\\\\HK2-Năm 3\\\\PBL5\\\\Code\\\\Self_recording_data\\\\Crying\\\\untitled38.wav',\n",
       " 'D:\\\\HK2-Năm 3\\\\PBL5\\\\Code\\\\Self_recording_data\\\\Crying\\\\untitled4.wav',\n",
       " 'D:\\\\HK2-Năm 3\\\\PBL5\\\\Code\\\\Self_recording_data\\\\Crying\\\\untitled5.wav',\n",
       " 'D:\\\\HK2-Năm 3\\\\PBL5\\\\Code\\\\Self_recording_data\\\\Crying\\\\untitled6.wav',\n",
       " 'D:\\\\HK2-Năm 3\\\\PBL5\\\\Code\\\\Self_recording_data\\\\Crying\\\\untitled7.wav',\n",
       " 'D:\\\\HK2-Năm 3\\\\PBL5\\\\Code\\\\Self_recording_data\\\\Crying\\\\untitled8.wav',\n",
       " 'D:\\\\HK2-Năm 3\\\\PBL5\\\\Code\\\\Self_recording_data\\\\Crying\\\\untitled9.wav']"
      ]
     },
     "execution_count": 102,
     "metadata": {},
     "output_type": "execute_result"
    }
   ],
   "source": [
    "baby_cry"
   ]
  },
  {
   "cell_type": "code",
   "execution_count": 103,
   "metadata": {},
   "outputs": [
    {
     "data": {
      "text/plain": [
       "165"
      ]
     },
     "execution_count": 103,
     "metadata": {},
     "output_type": "execute_result"
    }
   ],
   "source": [
    "len(baby_cry)"
   ]
  },
  {
   "cell_type": "code",
   "execution_count": 104,
   "metadata": {},
   "outputs": [],
   "source": [
    "non_babycry=[]\n",
    "for each in range(0,len(nonbabycry)) :\n",
    "    x='D:\\\\HK2-Năm 3\\\\PBL5\\\\Code\\\\Self_recording_data\\\\Noise' + '\\\\' + nonbabycry[each] \n",
    "    non_babycry.append(x)"
   ]
  },
  {
   "cell_type": "code",
   "execution_count": 105,
   "metadata": {},
   "outputs": [
    {
     "data": {
      "text/plain": [
       "125"
      ]
     },
     "execution_count": 105,
     "metadata": {},
     "output_type": "execute_result"
    }
   ],
   "source": [
    "len(non_babycry)"
   ]
  },
  {
   "cell_type": "code",
   "execution_count": 107,
   "metadata": {},
   "outputs": [],
   "source": [
    "baby_silence=[]\n",
    "for each in range(0,len(babysilence)) :\n",
    "    silence='D:\\\\HK2-Năm 3\\\\PBL5\\\\Code\\\\Self_recording_data\\\\Silence' + '\\\\' + babysilence[each] \n",
    "    baby_silence.append(silence)\n"
   ]
  },
  {
   "cell_type": "code",
   "execution_count": 108,
   "metadata": {},
   "outputs": [],
   "source": [
    "baby_laugh=[]\n",
    "for each in range(0,len(babylaugh)) :\n",
    "    laugh='D:\\\\HK2-Năm 3\\\\PBL5\\\\Code\\\\Self_recording_data\\\\Laugh' + '\\\\' + babylaugh[each] \n",
    "    baby_laugh.append(laugh)\n",
    "  "
   ]
  },
  {
   "cell_type": "code",
   "execution_count": 109,
   "metadata": {},
   "outputs": [],
   "source": [
    "nonbaby_cry=baby_silence+baby_laugh+non_babycry"
   ]
  },
  {
   "cell_type": "code",
   "execution_count": 110,
   "metadata": {},
   "outputs": [
    {
     "data": {
      "text/plain": [
       "370"
      ]
     },
     "execution_count": 110,
     "metadata": {},
     "output_type": "execute_result"
    }
   ],
   "source": [
    "len(nonbaby_cry)"
   ]
  },
  {
   "cell_type": "code",
   "execution_count": 111,
   "metadata": {},
   "outputs": [],
   "source": [
    "def butter_lowpass(cutoff,fs,order=5):\n",
    "    nyq=0.5*fs\n",
    "    normal_cutoff=cutoff/nyq\n",
    "    b,a=butter(order,normal_cutoff,btype='low',analog=False)\n",
    "    return b,a"
   ]
  },
  {
   "cell_type": "code",
   "execution_count": 112,
   "metadata": {},
   "outputs": [],
   "source": [
    "def butter_lowpass_filter(data,cutoff,fs,order=5):\n",
    "    b,a=butter_lowpass(cutoff,fs,order=order)\n",
    "    y=lfilter(b,a,data)\n",
    "    return y"
   ]
  },
  {
   "cell_type": "code",
   "execution_count": 114,
   "metadata": {},
   "outputs": [],
   "source": [
    "def Mfcc(audiofile):\n",
    "    s,r=sf.read(audiofile)\n",
    "    #print(len(s.shape))\n",
    "    #if len(s.shape)==2:\n",
    "     #   s=s[0,:]\n",
    "    #print(len(s.shape))\n",
    "    s=butter_lowpass_filter(s,11025,44100,order=3)\n",
    "    x=np.array_split(s,64)\n",
    "    #print(x)\n",
    "    logg=np.zeros((64,12))\n",
    "    for i in range(len(x)):\n",
    "        \n",
    "        \n",
    "        m=np.mean(mfcc(x[i],r, numcep=12,nfft=2048),axis=0)\n",
    "        #print(np.shape(m))\n",
    "        xx= m\n",
    "        logg[i,:]=m\n",
    "\n",
    "    return logg\n"
   ]
  },
  {
   "cell_type": "code",
   "execution_count": 115,
   "metadata": {},
   "outputs": [],
   "source": [
    "r=Mfcc(baby_cry[10])"
   ]
  },
  {
   "cell_type": "code",
   "execution_count": 116,
   "metadata": {},
   "outputs": [
    {
     "data": {
      "text/plain": [
       "(64, 12)"
      ]
     },
     "execution_count": 116,
     "metadata": {},
     "output_type": "execute_result"
    }
   ],
   "source": [
    "np.shape(r)"
   ]
  },
  {
   "cell_type": "code",
   "execution_count": 117,
   "metadata": {},
   "outputs": [
    {
     "data": {
      "text/plain": [
       "array([[-9.80256759e+00, -4.50166428e+00, -8.29199026e-01,\n",
       "        -4.68431122e+00, -2.95945198e+00, -4.18027623e+00,\n",
       "         2.99133741e+00, -3.05865549e-01,  5.27936471e+00,\n",
       "         2.29454816e+00,  2.65013271e+00,  4.57461979e+00],\n",
       "       [-8.68101986e+00, -6.29025506e+00, -9.81377523e+00,\n",
       "        -7.91105922e+00,  1.49754181e+01, -1.52908455e+01,\n",
       "         4.49756598e+00,  1.49239679e-01,  7.39923616e+00,\n",
       "        -7.08441077e+00,  7.67015636e+00,  1.13332127e+01],\n",
       "       [-9.19176701e+00, -6.67895101e+00, -3.96008569e+00,\n",
       "        -2.72505443e+00,  5.38351105e+00, -7.90549588e+00,\n",
       "         7.59017616e+00,  2.34511101e+00,  5.91661873e+00,\n",
       "         3.40293170e+00,  5.22124093e+00,  9.45768170e+00],\n",
       "       [-5.15864371e+00,  4.30852168e+00, -1.22981103e+01,\n",
       "        -2.47707026e+01,  1.75631573e+01, -3.16195583e+01,\n",
       "         1.97336434e+01, -8.78691532e+00, -4.27187121e+00,\n",
       "        -2.56712371e+01,  2.75794311e+00,  7.37455931e+00],\n",
       "       [-5.91079247e+00,  3.02325871e+00, -1.07789896e+01,\n",
       "        -1.68965143e+01,  2.35576737e+01, -1.73793623e+01,\n",
       "         2.30046703e+01, -5.43119616e+00, -5.69099412e+00,\n",
       "        -3.65948732e+01, -1.83862679e+01, -5.04574198e+00],\n",
       "       [-4.32798459e+00,  1.17377989e+01, -7.88380127e+00,\n",
       "        -2.38399479e+01,  3.05373811e+01, -3.60456747e+01,\n",
       "         8.36378105e+00, -5.23511841e+00,  1.33997432e+01,\n",
       "        -4.59348772e+01, -2.01674347e+01, -7.24635015e+00],\n",
       "       [-4.61783220e-01,  9.90396523e+00, -2.05880358e+01,\n",
       "        -4.19089291e+01,  3.91766510e+01, -5.26707187e+01,\n",
       "         2.72191743e-01, -1.21621393e+01,  2.76580828e+01,\n",
       "        -5.40442960e+01, -2.33762678e+01,  7.75405843e-01],\n",
       "       [ 2.27550452e-01,  9.31613787e+00, -2.28774161e+01,\n",
       "        -4.66063311e+01,  4.03406894e+01, -4.73996623e+01,\n",
       "        -3.99175974e+00, -1.51033008e+01,  2.88958371e+01,\n",
       "        -5.31416145e+01, -1.28839996e+01,  2.21904888e+00],\n",
       "       [-1.31908993e-01,  1.04703325e+01, -2.57357257e+01,\n",
       "        -5.43804781e+01,  3.91646104e+01, -4.06012854e+01,\n",
       "        -2.04143263e+00, -2.05549316e+01,  3.45564199e+01,\n",
       "        -4.37657847e+01, -7.59512024e+00, -3.70914449e+00],\n",
       "       [ 1.16043361e-01,  6.89797347e+00, -2.59028868e+01,\n",
       "        -5.27104879e+01,  3.43809040e+01, -4.01711056e+01,\n",
       "        -4.02037589e+00, -1.98619272e+01,  2.72967836e+01,\n",
       "        -4.50137557e+01, -7.08553537e+00,  4.04258552e+00],\n",
       "       [ 5.90265902e-01,  9.55785226e+00, -2.65840536e+01,\n",
       "        -5.96529352e+01,  2.87562871e+01, -3.84144301e+01,\n",
       "         1.53946319e+00, -1.47556580e+01,  3.61922547e+01,\n",
       "        -3.82699490e+01, -2.47570577e+00,  2.12264639e+00],\n",
       "       [ 5.35893750e-01,  1.13191486e+01, -2.75266522e+01,\n",
       "        -6.13492098e+01,  3.12971372e+01, -3.95238074e+01,\n",
       "         1.09793596e+01, -7.50753558e+00,  4.09417078e+01,\n",
       "        -3.83621857e+01, -8.14691132e-01,  1.83943725e+00],\n",
       "       [ 4.82566889e-03,  1.15737516e+01, -2.82136326e+01,\n",
       "        -6.04219881e+01,  3.28705579e+01, -4.23668692e+01,\n",
       "         7.55911226e+00, -1.25178732e+01,  3.12536723e+01,\n",
       "        -4.26461610e+01,  4.93838113e+00,  6.40576347e+00],\n",
       "       [-5.99049851e-02,  9.82009095e+00, -2.83322000e+01,\n",
       "        -6.13257394e+01,  2.96534551e+01, -3.76955737e+01,\n",
       "        -3.69963875e-01, -2.33926023e+01,  3.19023425e+01,\n",
       "        -3.47447699e+01,  5.75241945e-01, -2.90570430e+00],\n",
       "       [ 3.41100165e-01,  1.08483760e+01, -2.97841116e+01,\n",
       "        -6.18829534e+01,  3.34933732e+01, -3.90350804e+01,\n",
       "         7.65405728e+00, -1.79854915e+01,  3.42567826e+01,\n",
       "        -3.74797058e+01,  9.05093944e-01,  1.75249635e+00],\n",
       "       [ 5.97582447e-01,  3.82055641e+00, -3.37542085e+01,\n",
       "        -5.63220154e+01,  3.33408067e+01, -3.77635653e+01,\n",
       "         8.51915764e+00, -1.72655889e+01,  2.82084953e+01,\n",
       "        -2.71971980e+01,  6.93708329e+00, -8.21333992e-01],\n",
       "       [-2.88595177e+00,  3.68090935e+00, -2.67339373e+01,\n",
       "        -4.58409250e+01,  2.81470251e+01, -2.82547852e+01,\n",
       "         7.42584759e+00, -1.91800236e+01,  1.40198821e+01,\n",
       "        -2.93176202e+01,  6.15386757e+00,  6.30819774e-01],\n",
       "       [-8.34706817e+00, -7.24301483e-01, -9.50735131e+00,\n",
       "        -2.12547648e+01,  6.60947023e+00, -6.20073548e+00,\n",
       "         6.10979857e+00, -4.11924274e+00,  1.33427942e+01,\n",
       "        -9.32215596e+00,  2.69905856e+00, -1.28889939e+00],\n",
       "       [-4.49163421e+00,  5.36791956e+00, -2.23754841e+01,\n",
       "        -4.24305900e+01,  1.84946528e+01, -3.47022723e+01,\n",
       "         1.11511530e+01, -1.21825131e+01,  1.21536927e+01,\n",
       "        -3.06790610e+01,  6.94826358e-01,  8.12797617e+00],\n",
       "       [-7.49991617e+00,  4.04622982e-01, -1.04300110e+01,\n",
       "        -2.62571702e+01,  2.87467801e+00, -1.34625751e+01,\n",
       "         1.32561761e+01,  4.24549079e+00,  1.81814642e+01,\n",
       "        -1.32901666e+01,  1.50323047e+00,  1.60019556e+00],\n",
       "       [-9.55511750e+00, -4.63394773e+00, -1.76546464e+00,\n",
       "        -5.27977014e+00, -6.49538043e-01, -3.28586414e+00,\n",
       "         4.96599707e+00,  6.33041118e-01,  8.31169805e+00,\n",
       "         1.98466059e+00, -5.21537106e-01,  5.51681029e+00],\n",
       "       [-9.66078673e+00, -5.29754852e+00, -1.34831453e+00,\n",
       "        -4.10344361e+00, -7.14872826e-01, -3.81885417e+00,\n",
       "         3.62321184e+00, -1.37344905e+00,  9.47530323e+00,\n",
       "         7.06179622e+00,  3.32602003e-01,  3.64220745e+00],\n",
       "       [-9.77467561e+00, -5.62604691e+00, -8.34578636e-01,\n",
       "        -2.76130599e+00, -7.31262696e-01,  7.79712251e-01,\n",
       "         6.42430230e+00, -8.11042509e-01,  4.51586896e+00,\n",
       "         5.40069376e+00,  3.23957475e+00,  6.73641158e+00],\n",
       "       [-8.52787057e+00, -1.37965523e+00, -5.06998823e+00,\n",
       "        -1.48201840e+01,  7.13745964e+00, -5.79040425e+00,\n",
       "         2.48562252e+00, -7.41965199e+00,  1.30681983e+01,\n",
       "        -4.03584571e+00,  1.75485077e-01,  1.94980867e+00],\n",
       "       [-4.95252869e+00,  5.40999711e+00, -1.40806184e+01,\n",
       "        -3.29739051e+01,  3.47089344e+01, -3.14622099e+01,\n",
       "        -1.10390104e+01, -2.29721367e+01,  2.35323269e+01,\n",
       "        -4.00142910e+01, -1.69871876e+01, -1.36324926e+00],\n",
       "       [-4.11984818e+00,  7.08050568e+00, -1.71664310e+01,\n",
       "        -3.80139789e+01,  3.45828327e+01, -3.77542413e+01,\n",
       "        -8.41811460e+00, -1.74668463e+01,  2.29386110e+01,\n",
       "        -4.95829032e+01, -1.58611718e+01,  1.64010095e+00],\n",
       "       [-4.82575490e+00,  5.83857007e+00, -1.41479194e+01,\n",
       "        -3.32853093e+01,  3.11816964e+01, -3.58491832e+01,\n",
       "        -5.97838469e+00, -1.10022894e+01,  2.32928827e+01,\n",
       "        -5.00185311e+01, -2.27289184e+01, -4.01107179e+00],\n",
       "       [-6.77947138e+00, -2.16349413e+00, -1.51368353e+01,\n",
       "        -1.94023261e+01,  2.32754205e+01, -2.52907391e+01,\n",
       "         5.07783707e+00, -5.46481093e+00,  1.22829428e+01,\n",
       "        -2.14433338e+01, -3.47672940e+00,  9.54487702e+00],\n",
       "       [-7.39670690e+00, -4.05518964e+00, -1.43438545e+01,\n",
       "        -1.53892235e+01,  2.28135885e+01, -1.92470795e+01,\n",
       "         8.25402455e+00, -6.04506744e-01,  1.16169752e+01,\n",
       "        -1.58237119e+01,  2.51123412e+00,  9.51253672e+00],\n",
       "       [-7.39213212e+00, -3.44378548e+00, -1.36661001e+01,\n",
       "        -1.63324944e+01,  1.70148856e+01, -1.71146266e+01,\n",
       "         1.54540745e+01, -3.04277061e+00,  3.06497635e+00,\n",
       "        -1.34773594e+01, -2.16477413e-01,  6.02698193e+00],\n",
       "       [-5.39543177e+00,  1.18240583e+00, -1.75511890e+01,\n",
       "        -2.36601243e+01,  3.70673938e+01, -2.22484079e+01,\n",
       "         1.28356760e+01, -1.15377743e+01,  9.44916736e+00,\n",
       "        -3.14275380e+01, -7.90547592e+00,  5.37707747e+00],\n",
       "       [-4.43695870e+00,  8.93160693e+00, -1.11851426e+01,\n",
       "        -2.29741835e+01,  3.99406756e+01, -2.51870340e+01,\n",
       "         1.58884971e+01, -1.50019882e+01,  1.00555876e+01,\n",
       "        -3.19805493e+01, -1.12400130e+01, -5.57805312e-01],\n",
       "       [-2.51104145e+00,  2.82493192e+00, -1.73799488e+01,\n",
       "        -3.25983142e+01,  4.78485342e+01, -3.28570437e+01,\n",
       "         2.29881002e+00, -1.37680675e+01,  2.81898238e+01,\n",
       "        -4.69452539e+01, -1.56009312e+01,  3.08539519e+00],\n",
       "       [-1.64769370e+00,  7.60929551e+00, -1.81755449e+01,\n",
       "        -4.17169853e+01,  5.39973435e+01, -3.83410855e+01,\n",
       "        -5.38370014e+00, -2.40893030e+01,  3.51754499e+01,\n",
       "        -5.51960054e+01, -2.56637283e+01, -2.48701040e+00],\n",
       "       [-2.53256474e+00,  1.09875505e+01, -1.31394419e+01,\n",
       "        -4.10576315e+01,  4.02372100e+01, -4.37159587e+01,\n",
       "        -4.94739856e+00, -2.22320973e+01,  3.37877360e+01,\n",
       "        -5.08123624e+01, -3.27888506e+01, -7.74985023e+00],\n",
       "       [-2.80706126e+00,  1.09107393e+01, -1.46956870e+01,\n",
       "        -4.60329598e+01,  2.85840219e+01, -3.65798106e+01,\n",
       "         5.06355942e+00, -1.48105160e+01,  2.83624584e+01,\n",
       "        -5.04309110e+01, -2.55986662e+01, -6.95876921e+00],\n",
       "       [-2.94159176e+00,  1.20857216e+01, -1.43995568e+01,\n",
       "        -4.50409756e+01,  2.69696633e+01, -3.42842796e+01,\n",
       "         2.70421367e+00, -1.43292378e+01,  2.61843344e+01,\n",
       "        -5.00132618e+01, -2.57992845e+01, -1.55218851e+01],\n",
       "       [-2.39191153e+00,  5.75841918e+00, -2.63727166e+01,\n",
       "        -4.71024990e+01,  3.17191748e+01, -3.45780415e+01,\n",
       "         1.42586002e+01, -1.01594102e+01,  2.08840237e+01,\n",
       "        -4.36617945e+01, -1.75014014e+01, -7.25678785e+00],\n",
       "       [-1.34312654e+00, -8.02675720e-01, -3.38951543e+01,\n",
       "        -5.00983782e+01,  3.53457546e+01, -3.24524017e+01,\n",
       "         1.64987231e+01, -1.33195449e+01,  1.86175052e+01,\n",
       "        -3.12238403e+01,  7.47739170e+00,  7.80543961e+00],\n",
       "       [-3.15334390e+00,  1.78836200e+00, -3.21674673e+01,\n",
       "        -5.64878166e+01,  3.42093687e+01, -2.02912472e+01,\n",
       "         1.70482095e+01, -1.32401055e+01,  2.93711308e+01,\n",
       "        -2.43552122e+01,  2.32580577e+01,  6.04309093e+00],\n",
       "       [ 5.41282026e-01, -3.97019289e+00, -3.62312458e+01,\n",
       "        -4.86737043e+01,  3.51159097e+01, -3.31449320e+01,\n",
       "         2.17090104e+01, -1.13299397e+01,  1.80887753e+01,\n",
       "        -2.22954929e+01,  1.56375514e+01,  1.79001601e+01],\n",
       "       [ 1.50911005e+00, -8.20698092e+00, -3.48687911e+01,\n",
       "        -4.55048307e+01,  2.23334621e+01, -2.22644537e+01,\n",
       "         1.97090809e+01, -1.33383801e+01,  1.34240414e+01,\n",
       "        -1.37512263e+01,  8.36487417e+00,  3.04445917e+00],\n",
       "       [-2.51243851e+00,  1.18185280e+00, -2.97354588e+01,\n",
       "        -4.52508830e+01,  2.90378249e+01, -2.78190270e+01,\n",
       "         2.27923439e+01, -1.37281357e+01,  1.02057920e+01,\n",
       "        -2.77764643e+01, -1.18708623e+00,  4.33580820e+00],\n",
       "       [-8.25176642e+00, -5.71686949e+00, -1.45763629e+01,\n",
       "        -1.88864239e+01,  8.50331718e+00, -1.11323249e+01,\n",
       "         1.31379099e+01,  2.70181806e-01,  7.18343507e+00,\n",
       "        -6.96005709e+00,  4.75442386e+00,  4.69428602e+00],\n",
       "       [-9.01374579e+00, -8.84357029e+00, -4.12929658e+00,\n",
       "        -5.79583183e+00, -3.45284193e+00, -2.26260199e+00,\n",
       "         1.02550952e+01,  1.44194604e+00,  4.26970495e+00,\n",
       "         5.26186882e+00, -4.14042818e-01,  1.03806301e+01],\n",
       "       [-9.67112352e+00, -6.34379589e+00, -4.79770924e-01,\n",
       "        -2.14227370e+00, -3.53392274e+00, -1.34539187e+00,\n",
       "         1.09354208e+01,  1.39051568e+00,  2.11228787e+00,\n",
       "         6.98984875e+00,  4.41754118e-01,  5.87182331e+00],\n",
       "       [-9.16419676e+00, -5.00623251e+00, -3.03224996e+00,\n",
       "        -7.71664498e+00, -7.20968359e-01, -3.29547584e+00,\n",
       "         8.21886216e+00, -1.90690016e+00,  2.56339906e+00,\n",
       "        -1.09750334e+00,  1.80652470e+00,  4.95999411e+00],\n",
       "       [-3.11212078e+00,  6.88742638e+00, -2.40252934e+01,\n",
       "        -5.09041418e+01,  2.92298225e+01, -2.45500764e+01,\n",
       "         2.00056307e+01, -1.65734319e+01,  7.32789353e+00,\n",
       "        -4.82004651e+01,  9.44267839e+00,  8.75570291e+00],\n",
       "       [-2.42537896e+00,  8.56469970e+00, -2.46737963e+01,\n",
       "        -5.36563236e+01,  2.48635964e+01, -2.65043356e+01,\n",
       "         1.64593342e+01, -1.82650318e+01,  7.18742488e+00,\n",
       "        -4.83964908e+01,  1.78904375e+00,  1.12246418e+00],\n",
       "       [-3.52224986e+00,  7.82680840e+00, -2.09244417e+01,\n",
       "        -4.55298647e+01,  2.69586399e+01, -2.71288717e+01,\n",
       "         1.35591571e+01, -1.47194344e+01,  1.71606660e+01,\n",
       "        -4.17347967e+01, -1.78386190e+01, -9.11088013e+00],\n",
       "       [-5.87953137e+00,  6.71216643e-01, -1.98060793e+01,\n",
       "        -3.07884526e+01,  2.95863506e+01, -2.23239179e+01,\n",
       "         1.06840749e+01, -7.89529595e+00,  1.57397691e+01,\n",
       "        -3.32601913e+01, -1.18434914e+01,  1.50552013e+00],\n",
       "       [-9.19000482e+00, -4.67992977e+00, -5.59548514e+00,\n",
       "        -8.11367442e+00,  7.32241981e+00, -4.00785598e+00,\n",
       "         6.42043998e+00, -3.72741652e-01,  7.52699004e+00,\n",
       "        -6.90501305e+00, -2.46085352e+00,  3.66526482e+00],\n",
       "       [-5.97766870e+00, -4.45711835e+00, -2.06454245e+01,\n",
       "        -2.42725660e+01,  2.91879249e+01, -1.90400476e+01,\n",
       "         1.83686897e+01, -8.32922621e+00, -9.51487158e-01,\n",
       "        -2.56352765e+01,  1.14134408e+01,  1.26243021e+01],\n",
       "       [-6.98276287e+00, -5.78979391e+00, -1.89417095e+01,\n",
       "        -2.19362391e+01,  2.58136781e+01, -1.39622427e+01,\n",
       "         1.56384478e+01, -2.92881704e+00,  5.20296880e+00,\n",
       "        -2.37575414e+01,  7.86373336e+00,  1.26440677e+01],\n",
       "       [-7.34732793e+00, -3.03221852e+00, -1.23309686e+01,\n",
       "        -1.49054775e+01,  2.34994167e+01, -1.59160961e+01,\n",
       "         7.49682753e+00, -6.32678477e+00,  3.39508565e+00,\n",
       "        -2.52169639e+01, -2.75656886e+00,  7.77149208e+00],\n",
       "       [-6.86462370e+00, -7.43670347e+00, -1.86032027e+01,\n",
       "        -1.56378320e+01,  2.77543320e+01, -2.67742229e+01,\n",
       "         7.30017180e+00, -6.56682834e+00,  4.35407824e+00,\n",
       "        -2.17243933e+01,  8.25339445e-02,  1.31054284e+01],\n",
       "       [-6.98272108e+00, -6.08970381e+00, -1.64378236e+01,\n",
       "        -1.54116667e+01,  2.13404113e+01, -1.94178736e+01,\n",
       "         1.49879557e+01, -6.41480511e+00, -2.38935907e+00,\n",
       "        -1.51787959e+01,  3.03082052e+00,  6.60120689e+00],\n",
       "       [-3.06554815e+00,  8.78353039e+00, -1.63246995e+01,\n",
       "        -3.41711172e+01,  4.71365548e+01, -2.28317447e+01,\n",
       "         1.55342837e+01, -5.41828163e+00,  2.82563937e+01,\n",
       "        -4.44009654e+01, -9.70974266e+00, -9.03342562e+00],\n",
       "       [-1.35568583e+00,  5.33522766e+00, -1.83517321e+01,\n",
       "        -3.69507818e+01,  4.72199627e+01, -3.89895559e+01,\n",
       "         4.31374318e+00, -4.21297013e+00,  3.40672977e+01,\n",
       "        -5.84503064e+01, -2.01432565e+01,  2.22017981e+00],\n",
       "       [-1.82783540e-01,  3.04752244e+00, -2.38887783e+01,\n",
       "        -4.22254242e+01,  4.37818577e+01, -4.13470783e+01,\n",
       "         1.44728499e+00, -9.93641484e+00,  3.04606073e+01,\n",
       "        -5.51218148e+01, -1.80706090e+01,  3.96037032e+00],\n",
       "       [-3.06305174e-01,  3.28325443e+00, -2.43756710e+01,\n",
       "        -4.48746748e+01,  4.20879561e+01, -4.22619059e+01,\n",
       "         2.58798142e+00, -1.32910810e+01,  3.74142696e+01,\n",
       "        -4.33580607e+01, -1.67311794e+01,  7.40068057e-01],\n",
       "       [ 2.40215924e-01,  4.09730996e+00, -2.42343546e+01,\n",
       "        -4.72623148e+01,  3.83438200e+01, -4.54594988e+01,\n",
       "         8.76939996e-01, -9.18223184e+00,  4.55476133e+01,\n",
       "        -3.50141492e+01, -1.45286637e+01, -5.78475273e+00],\n",
       "       [ 1.06982460e+00,  4.33911821e+00, -2.56163777e+01,\n",
       "        -4.99501966e+01,  3.28896547e+01, -3.96566572e+01,\n",
       "        -2.31322263e-01, -1.12758937e+01,  4.73402706e+01,\n",
       "        -2.21397502e+01, -7.75474420e+00, -7.76112736e+00],\n",
       "       [ 1.00997824e+00, -5.45719374e-01, -3.04101620e+01,\n",
       "        -5.08837897e+01,  2.46754235e+01, -3.23846512e+01,\n",
       "         4.63436953e+00, -1.20308005e+01,  3.66117143e+01,\n",
       "        -1.84706018e+01, -7.52294061e+00, -7.15470824e+00]])"
      ]
     },
     "execution_count": 117,
     "metadata": {},
     "output_type": "execute_result"
    }
   ],
   "source": [
    "r"
   ]
  },
  {
   "cell_type": "code",
   "execution_count": 118,
   "metadata": {},
   "outputs": [
    {
     "name": "stdout",
     "output_type": "stream",
     "text": [
      "D:\\HK2-Năm 3\\PBL5\\Code\\Self_recording_data\\Crying\\01A_Crying_sample.wav\n",
      "D:\\HK2-Năm 3\\PBL5\\Code\\Self_recording_data\\Crying\\01B_Crying_sample.wav\n",
      "D:\\HK2-Năm 3\\PBL5\\Code\\Self_recording_data\\Crying\\01C_Crying_sample.wav\n",
      "D:\\HK2-Năm 3\\PBL5\\Code\\Self_recording_data\\Crying\\02A_Crying_sample.wav\n",
      "D:\\HK2-Năm 3\\PBL5\\Code\\Self_recording_data\\Crying\\02B_Crying_sample.wav\n",
      "D:\\HK2-Năm 3\\PBL5\\Code\\Self_recording_data\\Crying\\02C_Crying_sample.wav\n",
      "D:\\HK2-Năm 3\\PBL5\\Code\\Self_recording_data\\Crying\\03A_Crying_sample.wav\n",
      "D:\\HK2-Năm 3\\PBL5\\Code\\Self_recording_data\\Crying\\03B_Crying_sample.wav\n",
      "D:\\HK2-Năm 3\\PBL5\\Code\\Self_recording_data\\Crying\\03C_Crying_sample.wav\n",
      "D:\\HK2-Năm 3\\PBL5\\Code\\Self_recording_data\\Crying\\04A_Crying_sample.wav\n",
      "D:\\HK2-Năm 3\\PBL5\\Code\\Self_recording_data\\Crying\\04B_Crying_sample.wav\n",
      "D:\\HK2-Năm 3\\PBL5\\Code\\Self_recording_data\\Crying\\04C_Crying_sample.wav\n",
      "D:\\HK2-Năm 3\\PBL5\\Code\\Self_recording_data\\Crying\\05A_Crying_sample.wav\n",
      "D:\\HK2-Năm 3\\PBL5\\Code\\Self_recording_data\\Crying\\05B_Crying_sample.wav\n",
      "D:\\HK2-Năm 3\\PBL5\\Code\\Self_recording_data\\Crying\\05C_Crying_sample.wav\n",
      "D:\\HK2-Năm 3\\PBL5\\Code\\Self_recording_data\\Crying\\06A_Crying_sample.wav\n",
      "D:\\HK2-Năm 3\\PBL5\\Code\\Self_recording_data\\Crying\\06B_Crying_sample.wav\n",
      "D:\\HK2-Năm 3\\PBL5\\Code\\Self_recording_data\\Crying\\06C_Crying_sample.wav\n",
      "D:\\HK2-Năm 3\\PBL5\\Code\\Self_recording_data\\Crying\\07A_Crying_sample.wav\n",
      "D:\\HK2-Năm 3\\PBL5\\Code\\Self_recording_data\\Crying\\07B_Crying_sample.wav\n",
      "D:\\HK2-Năm 3\\PBL5\\Code\\Self_recording_data\\Crying\\07C_Crying_sample.wav\n",
      "D:\\HK2-Năm 3\\PBL5\\Code\\Self_recording_data\\Crying\\08A_Crying_sample.wav\n",
      "D:\\HK2-Năm 3\\PBL5\\Code\\Self_recording_data\\Crying\\08B_Crying_sample.wav\n",
      "D:\\HK2-Năm 3\\PBL5\\Code\\Self_recording_data\\Crying\\08C_Crying_sample.wav\n",
      "D:\\HK2-Năm 3\\PBL5\\Code\\Self_recording_data\\Crying\\09A_Crying_sample.wav\n",
      "D:\\HK2-Năm 3\\PBL5\\Code\\Self_recording_data\\Crying\\09B_Crying_sample.wav\n",
      "D:\\HK2-Năm 3\\PBL5\\Code\\Self_recording_data\\Crying\\09C_Crying_sample.wav\n",
      "D:\\HK2-Năm 3\\PBL5\\Code\\Self_recording_data\\Crying\\10A_Crying_sample.wav\n",
      "D:\\HK2-Năm 3\\PBL5\\Code\\Self_recording_data\\Crying\\10B_Crying_sample.wav\n",
      "D:\\HK2-Năm 3\\PBL5\\Code\\Self_recording_data\\Crying\\10C_Crying_sample.wav\n",
      "D:\\HK2-Năm 3\\PBL5\\Code\\Self_recording_data\\Crying\\11A_Crying_sample.wav\n",
      "D:\\HK2-Năm 3\\PBL5\\Code\\Self_recording_data\\Crying\\11C_Crying_sample.wav\n",
      "D:\\HK2-Năm 3\\PBL5\\Code\\Self_recording_data\\Crying\\12A_Crying_sample.wav\n",
      "D:\\HK2-Năm 3\\PBL5\\Code\\Self_recording_data\\Crying\\12C_Crying_sample.wav\n",
      "D:\\HK2-Năm 3\\PBL5\\Code\\Self_recording_data\\Crying\\13A_Crying_sample.wav\n",
      "D:\\HK2-Năm 3\\PBL5\\Code\\Self_recording_data\\Crying\\13C_Crying_sample.wav\n",
      "D:\\HK2-Năm 3\\PBL5\\Code\\Self_recording_data\\Crying\\14A_Crying_sample.wav\n",
      "D:\\HK2-Năm 3\\PBL5\\Code\\Self_recording_data\\Crying\\14C_Crying_sample.wav\n",
      "D:\\HK2-Năm 3\\PBL5\\Code\\Self_recording_data\\Crying\\15A_Crying_sample.wav\n",
      "D:\\HK2-Năm 3\\PBL5\\Code\\Self_recording_data\\Crying\\15C_Crying_sample.wav\n",
      "D:\\HK2-Năm 3\\PBL5\\Code\\Self_recording_data\\Crying\\16A_Crying_sample.wav\n",
      "D:\\HK2-Năm 3\\PBL5\\Code\\Self_recording_data\\Crying\\16C_Crying_sample.wav\n",
      "D:\\HK2-Năm 3\\PBL5\\Code\\Self_recording_data\\Crying\\17A_Crying_sample.wav\n",
      "D:\\HK2-Năm 3\\PBL5\\Code\\Self_recording_data\\Crying\\17C_Crying_sample.wav\n",
      "D:\\HK2-Năm 3\\PBL5\\Code\\Self_recording_data\\Crying\\18A_Crying_sample.wav\n",
      "D:\\HK2-Năm 3\\PBL5\\Code\\Self_recording_data\\Crying\\18C_Crying_sample.wav\n",
      "D:\\HK2-Năm 3\\PBL5\\Code\\Self_recording_data\\Crying\\19A_Crying_sample.wav\n",
      "D:\\HK2-Năm 3\\PBL5\\Code\\Self_recording_data\\Crying\\19C_Crying_sample.wav\n",
      "D:\\HK2-Năm 3\\PBL5\\Code\\Self_recording_data\\Crying\\20A_Crying_sample.wav\n",
      "D:\\HK2-Năm 3\\PBL5\\Code\\Self_recording_data\\Crying\\20C_Crying_sample.wav\n",
      "D:\\HK2-Năm 3\\PBL5\\Code\\Self_recording_data\\Crying\\21A_Crying_sample.wav\n",
      "D:\\HK2-Năm 3\\PBL5\\Code\\Self_recording_data\\Crying\\21C_Crying_sample.wav\n",
      "D:\\HK2-Năm 3\\PBL5\\Code\\Self_recording_data\\Crying\\22A_Crying_sample.wav\n",
      "D:\\HK2-Năm 3\\PBL5\\Code\\Self_recording_data\\Crying\\22C_Crying_sample.wav\n",
      "D:\\HK2-Năm 3\\PBL5\\Code\\Self_recording_data\\Crying\\23A_Crying_sample.wav\n",
      "D:\\HK2-Năm 3\\PBL5\\Code\\Self_recording_data\\Crying\\23C_Crying_sample.wav\n",
      "D:\\HK2-Năm 3\\PBL5\\Code\\Self_recording_data\\Crying\\24A_Crying_sample.wav\n",
      "D:\\HK2-Năm 3\\PBL5\\Code\\Self_recording_data\\Crying\\24C_Crying_sample.wav\n",
      "D:\\HK2-Năm 3\\PBL5\\Code\\Self_recording_data\\Crying\\25A_Crying_sample.wav\n",
      "D:\\HK2-Năm 3\\PBL5\\Code\\Self_recording_data\\Crying\\25C_Crying_sample.wav\n",
      "D:\\HK2-Năm 3\\PBL5\\Code\\Self_recording_data\\Crying\\26A_Crying_sample.wav\n",
      "D:\\HK2-Năm 3\\PBL5\\Code\\Self_recording_data\\Crying\\26C_Crying_sample.wav\n",
      "D:\\HK2-Năm 3\\PBL5\\Code\\Self_recording_data\\Crying\\27A_Crying_sample.wav\n",
      "D:\\HK2-Năm 3\\PBL5\\Code\\Self_recording_data\\Crying\\27C_Crying_sample.wav\n",
      "D:\\HK2-Năm 3\\PBL5\\Code\\Self_recording_data\\Crying\\28A_Crying_sample.wav\n",
      "D:\\HK2-Năm 3\\PBL5\\Code\\Self_recording_data\\Crying\\28C_Crying_sample.wav\n",
      "D:\\HK2-Năm 3\\PBL5\\Code\\Self_recording_data\\Crying\\29A_Crying_sample.wav\n",
      "D:\\HK2-Năm 3\\PBL5\\Code\\Self_recording_data\\Crying\\29C_Crying_sample.wav\n",
      "D:\\HK2-Năm 3\\PBL5\\Code\\Self_recording_data\\Crying\\30A_Crying_sample.wav\n",
      "D:\\HK2-Năm 3\\PBL5\\Code\\Self_recording_data\\Crying\\30C_Crying_sample.wav\n",
      "D:\\HK2-Năm 3\\PBL5\\Code\\Self_recording_data\\Crying\\31A_Crying_sample.wav\n",
      "D:\\HK2-Năm 3\\PBL5\\Code\\Self_recording_data\\Crying\\31C_Crying_sample.wav\n",
      "D:\\HK2-Năm 3\\PBL5\\Code\\Self_recording_data\\Crying\\32A_Crying_sample.wav\n",
      "D:\\HK2-Năm 3\\PBL5\\Code\\Self_recording_data\\Crying\\32C_Crying_sample.wav\n",
      "D:\\HK2-Năm 3\\PBL5\\Code\\Self_recording_data\\Crying\\33A_Crying_sample.wav\n",
      "D:\\HK2-Năm 3\\PBL5\\Code\\Self_recording_data\\Crying\\33C_Crying_sample.wav\n",
      "D:\\HK2-Năm 3\\PBL5\\Code\\Self_recording_data\\Crying\\34A_Crying_sample.wav\n",
      "D:\\HK2-Năm 3\\PBL5\\Code\\Self_recording_data\\Crying\\34C_Crying_sample.wav\n",
      "D:\\HK2-Năm 3\\PBL5\\Code\\Self_recording_data\\Crying\\35C_Crying_sample.wav\n",
      "D:\\HK2-Năm 3\\PBL5\\Code\\Self_recording_data\\Crying\\36C_Crying_sample.wav\n",
      "D:\\HK2-Năm 3\\PBL5\\Code\\Self_recording_data\\Crying\\37C_Crying_sample.wav\n",
      "D:\\HK2-Năm 3\\PBL5\\Code\\Self_recording_data\\Crying\\38A_Crying_sample.wav\n",
      "D:\\HK2-Năm 3\\PBL5\\Code\\Self_recording_data\\Crying\\38C_Crying_sample.wav\n",
      "D:\\HK2-Năm 3\\PBL5\\Code\\Self_recording_data\\Crying\\39A_Crying_sample.wav\n",
      "D:\\HK2-Năm 3\\PBL5\\Code\\Self_recording_data\\Crying\\39C_Crying_sample.wav\n",
      "D:\\HK2-Năm 3\\PBL5\\Code\\Self_recording_data\\Crying\\40A_Crying_sample.wav\n",
      "D:\\HK2-Năm 3\\PBL5\\Code\\Self_recording_data\\Crying\\40C_Crying_sample.wav\n",
      "D:\\HK2-Năm 3\\PBL5\\Code\\Self_recording_data\\Crying\\41A_Crying_sample.wav\n",
      "D:\\HK2-Năm 3\\PBL5\\Code\\Self_recording_data\\Crying\\41C_Crying_sample.wav\n",
      "D:\\HK2-Năm 3\\PBL5\\Code\\Self_recording_data\\Crying\\42A_Crying_sample.wav\n",
      "D:\\HK2-Năm 3\\PBL5\\Code\\Self_recording_data\\Crying\\42C_Crying_sample.wav\n",
      "D:\\HK2-Năm 3\\PBL5\\Code\\Self_recording_data\\Crying\\43A_Crying_sample.wav\n",
      "D:\\HK2-Năm 3\\PBL5\\Code\\Self_recording_data\\Crying\\43C_Crying_sample.wav\n",
      "D:\\HK2-Năm 3\\PBL5\\Code\\Self_recording_data\\Crying\\44A_Crying_sample.wav\n",
      "D:\\HK2-Năm 3\\PBL5\\Code\\Self_recording_data\\Crying\\44C_Crying_sample.wav\n",
      "D:\\HK2-Năm 3\\PBL5\\Code\\Self_recording_data\\Crying\\45A_Crying_sample.wav\n",
      "D:\\HK2-Năm 3\\PBL5\\Code\\Self_recording_data\\Crying\\45C_Crying_sample.wav\n",
      "D:\\HK2-Năm 3\\PBL5\\Code\\Self_recording_data\\Crying\\46A_Crying_sample.wav\n",
      "D:\\HK2-Năm 3\\PBL5\\Code\\Self_recording_data\\Crying\\46C_Crying_sample.wav\n",
      "D:\\HK2-Năm 3\\PBL5\\Code\\Self_recording_data\\Crying\\47A_Crying_sample.wav\n",
      "D:\\HK2-Năm 3\\PBL5\\Code\\Self_recording_data\\Crying\\47C_Crying_sample.wav\n",
      "D:\\HK2-Năm 3\\PBL5\\Code\\Self_recording_data\\Crying\\48A_Crying_sample.wav\n",
      "D:\\HK2-Năm 3\\PBL5\\Code\\Self_recording_data\\Crying\\48C_Crying_sample.wav\n",
      "D:\\HK2-Năm 3\\PBL5\\Code\\Self_recording_data\\Crying\\49A_Crying_sample.wav\n",
      "D:\\HK2-Năm 3\\PBL5\\Code\\Self_recording_data\\Crying\\49C_Crying_sample.wav\n",
      "D:\\HK2-Năm 3\\PBL5\\Code\\Self_recording_data\\Crying\\50A_Crying_sample.wav\n",
      "D:\\HK2-Năm 3\\PBL5\\Code\\Self_recording_data\\Crying\\50C_Crying_sample.wav\n",
      "D:\\HK2-Năm 3\\PBL5\\Code\\Self_recording_data\\Crying\\51C_Crying_sample.wav\n",
      "D:\\HK2-Năm 3\\PBL5\\Code\\Self_recording_data\\Crying\\52C_Crying_sample.wav\n",
      "D:\\HK2-Năm 3\\PBL5\\Code\\Self_recording_data\\Crying\\53C_Crying_sample.wav\n",
      "D:\\HK2-Năm 3\\PBL5\\Code\\Self_recording_data\\Crying\\54C_Crying_sample.wav\n",
      "D:\\HK2-Năm 3\\PBL5\\Code\\Self_recording_data\\Crying\\55C_Crying_sample.wav\n",
      "D:\\HK2-Năm 3\\PBL5\\Code\\Self_recording_data\\Crying\\56C_Crying_sample.wav\n",
      "D:\\HK2-Năm 3\\PBL5\\Code\\Self_recording_data\\Crying\\57C_Crying_sample.wav\n",
      "D:\\HK2-Năm 3\\PBL5\\Code\\Self_recording_data\\Crying\\58C_Crying_sample.wav\n",
      "D:\\HK2-Năm 3\\PBL5\\Code\\Self_recording_data\\Crying\\59C_Crying_sample.wav\n",
      "D:\\HK2-Năm 3\\PBL5\\Code\\Self_recording_data\\Crying\\60C_Crying_sample.wav\n",
      "D:\\HK2-Năm 3\\PBL5\\Code\\Self_recording_data\\Crying\\61C_Crying_sample.wav\n",
      "D:\\HK2-Năm 3\\PBL5\\Code\\Self_recording_data\\Crying\\A_Crying_1.wav\n",
      "D:\\HK2-Năm 3\\PBL5\\Code\\Self_recording_data\\Crying\\A_Crying_2.wav\n",
      "D:\\HK2-Năm 3\\PBL5\\Code\\Self_recording_data\\Crying\\A_Crying_3.wav\n",
      "D:\\HK2-Năm 3\\PBL5\\Code\\Self_recording_data\\Crying\\A_Crying_4.wav\n",
      "D:\\HK2-Năm 3\\PBL5\\Code\\Self_recording_data\\Crying\\A_Crying_5.wav\n",
      "D:\\HK2-Năm 3\\PBL5\\Code\\Self_recording_data\\Crying\\A_Crying_6.wav\n",
      "D:\\HK2-Năm 3\\PBL5\\Code\\Self_recording_data\\Crying\\A_Crying_7.wav\n",
      "D:\\HK2-Năm 3\\PBL5\\Code\\Self_recording_data\\Crying\\A_Crying_8.wav\n",
      "D:\\HK2-Năm 3\\PBL5\\Code\\Self_recording_data\\Crying\\A_Crying_9.wav\n",
      "D:\\HK2-Năm 3\\PBL5\\Code\\Self_recording_data\\Crying\\untitled.wav\n",
      "D:\\HK2-Năm 3\\PBL5\\Code\\Self_recording_data\\Crying\\untitled10.wav\n",
      "D:\\HK2-Năm 3\\PBL5\\Code\\Self_recording_data\\Crying\\untitled11.wav\n",
      "D:\\HK2-Năm 3\\PBL5\\Code\\Self_recording_data\\Crying\\untitled12.wav\n",
      "D:\\HK2-Năm 3\\PBL5\\Code\\Self_recording_data\\Crying\\untitled13.wav\n",
      "D:\\HK2-Năm 3\\PBL5\\Code\\Self_recording_data\\Crying\\untitled14.wav\n",
      "D:\\HK2-Năm 3\\PBL5\\Code\\Self_recording_data\\Crying\\untitled15.wav\n",
      "D:\\HK2-Năm 3\\PBL5\\Code\\Self_recording_data\\Crying\\untitled16.wav\n",
      "D:\\HK2-Năm 3\\PBL5\\Code\\Self_recording_data\\Crying\\untitled17.wav\n",
      "D:\\HK2-Năm 3\\PBL5\\Code\\Self_recording_data\\Crying\\untitled18.wav\n",
      "D:\\HK2-Năm 3\\PBL5\\Code\\Self_recording_data\\Crying\\untitled19.wav\n",
      "D:\\HK2-Năm 3\\PBL5\\Code\\Self_recording_data\\Crying\\untitled2.wav\n",
      "D:\\HK2-Năm 3\\PBL5\\Code\\Self_recording_data\\Crying\\untitled20.wav\n",
      "D:\\HK2-Năm 3\\PBL5\\Code\\Self_recording_data\\Crying\\untitled21.wav\n",
      "D:\\HK2-Năm 3\\PBL5\\Code\\Self_recording_data\\Crying\\untitled22.wav\n",
      "D:\\HK2-Năm 3\\PBL5\\Code\\Self_recording_data\\Crying\\untitled23.wav\n",
      "D:\\HK2-Năm 3\\PBL5\\Code\\Self_recording_data\\Crying\\untitled24.wav\n",
      "D:\\HK2-Năm 3\\PBL5\\Code\\Self_recording_data\\Crying\\untitled25.wav\n",
      "D:\\HK2-Năm 3\\PBL5\\Code\\Self_recording_data\\Crying\\untitled26.wav\n",
      "D:\\HK2-Năm 3\\PBL5\\Code\\Self_recording_data\\Crying\\untitled27.wav\n",
      "D:\\HK2-Năm 3\\PBL5\\Code\\Self_recording_data\\Crying\\untitled28.wav\n",
      "D:\\HK2-Năm 3\\PBL5\\Code\\Self_recording_data\\Crying\\untitled29.wav\n",
      "D:\\HK2-Năm 3\\PBL5\\Code\\Self_recording_data\\Crying\\untitled3.wav\n",
      "D:\\HK2-Năm 3\\PBL5\\Code\\Self_recording_data\\Crying\\untitled30.wav\n",
      "D:\\HK2-Năm 3\\PBL5\\Code\\Self_recording_data\\Crying\\untitled31.wav\n",
      "D:\\HK2-Năm 3\\PBL5\\Code\\Self_recording_data\\Crying\\untitled32.wav\n",
      "D:\\HK2-Năm 3\\PBL5\\Code\\Self_recording_data\\Crying\\untitled33.wav\n",
      "D:\\HK2-Năm 3\\PBL5\\Code\\Self_recording_data\\Crying\\untitled34.wav\n",
      "D:\\HK2-Năm 3\\PBL5\\Code\\Self_recording_data\\Crying\\untitled35.wav\n",
      "D:\\HK2-Năm 3\\PBL5\\Code\\Self_recording_data\\Crying\\untitled36.wav\n",
      "D:\\HK2-Năm 3\\PBL5\\Code\\Self_recording_data\\Crying\\untitled37.wav\n",
      "D:\\HK2-Năm 3\\PBL5\\Code\\Self_recording_data\\Crying\\untitled38.wav\n",
      "D:\\HK2-Năm 3\\PBL5\\Code\\Self_recording_data\\Crying\\untitled4.wav\n",
      "D:\\HK2-Năm 3\\PBL5\\Code\\Self_recording_data\\Crying\\untitled5.wav\n",
      "D:\\HK2-Năm 3\\PBL5\\Code\\Self_recording_data\\Crying\\untitled6.wav\n",
      "D:\\HK2-Năm 3\\PBL5\\Code\\Self_recording_data\\Crying\\untitled7.wav\n",
      "D:\\HK2-Năm 3\\PBL5\\Code\\Self_recording_data\\Crying\\untitled8.wav\n",
      "D:\\HK2-Năm 3\\PBL5\\Code\\Self_recording_data\\Crying\\untitled9.wav\n"
     ]
    }
   ],
   "source": [
    "data=np.zeros((len(nonbaby_cry) + len(baby_cry),64,12))\n",
    "output=[]\n",
    "for i in range(0,len(baby_cry)):\n",
    "       print(baby_cry[i])\n",
    "       r=Mfcc(baby_cry[i])\n",
    "       \n",
    "       #r=list(r)\n",
    "       data[i,:,:]=r\n",
    "       output.append(1) \n",
    "        \n",
    "all=baby_cry+nonbaby_cry\n",
    "for i in range(len(baby_cry)-1,len(all)-1):\n",
    "       #r=list(r)\n",
    "       #print(all[i]) \n",
    "       r=Mfcc(all[i])\n",
    "       \n",
    "       data[i,:,:]=r\n",
    "       output.append(0)  "
   ]
  },
  {
   "cell_type": "code",
   "execution_count": 119,
   "metadata": {},
   "outputs": [
    {
     "data": {
      "text/plain": [
       "535"
      ]
     },
     "execution_count": 119,
     "metadata": {},
     "output_type": "execute_result"
    }
   ],
   "source": [
    "len(data)"
   ]
  },
  {
   "cell_type": "code",
   "execution_count": 120,
   "metadata": {},
   "outputs": [],
   "source": [
    "input=data"
   ]
  },
  {
   "cell_type": "code",
   "execution_count": 121,
   "metadata": {},
   "outputs": [],
   "source": [
    "from sklearn.model_selection import train_test_split\n",
    "X_train, X_temp, y_train, y_temp = train_test_split(input, output, test_size=0.3, random_state=None)\n",
    "X_val, X_test, y_val, y_test = train_test_split(X_temp, y_temp, stratify = y_temp, test_size=0.5, random_state=None)"
   ]
  },
  {
   "cell_type": "code",
   "execution_count": 122,
   "metadata": {},
   "outputs": [
    {
     "name": "stdout",
     "output_type": "stream",
     "text": [
      "Shape of X_train: (374, 64, 12)\n",
      "Shape of X_val: (80, 64, 12)\n",
      "Shape of X_test: (81, 64, 12)\n"
     ]
    }
   ],
   "source": [
    "print('Shape of X_train:',X_train.shape)\n",
    "print('Shape of X_val:',X_val.shape)\n",
    "print('Shape of X_test:',X_test.shape)"
   ]
  },
  {
   "cell_type": "code",
   "execution_count": 123,
   "metadata": {},
   "outputs": [],
   "source": [
    "from keras.layers import Reshape, Flatten, Dropout, Concatenate, BatchNormalization\n",
    "from keras.models import Sequential,model_from_json\n",
    "from keras.layers import Conv2D,Conv1D,MaxPooling1D,GlobalAveragePooling1D,GlobalMaxPooling1D\n",
    "from keras.layers import MaxPooling2D\n",
    "from keras.layers import Flatten,Dropout\n",
    "from keras import optimizers, callbacks\n",
    "import numpy as np\n",
    "from keras.layers import Dense,Activation\n",
    "from keras.preprocessing import image\n",
    "from keras.preprocessing.image import ImageDataGenerator\n",
    "from tensorflow.keras.utils import img_to_array\n"
   ]
  },
  {
   "cell_type": "code",
   "execution_count": 124,
   "metadata": {},
   "outputs": [],
   "source": [
    "model1 = Sequential()\n",
    "\n",
    "model1.add(Conv1D(10, 2, activation='relu', input_shape=(64,12)))\n",
    "model1.add(Conv1D(6,2,padding='valid', activation='relu',strides=1))\n",
    "model1.add(Dropout(0.2))\n",
    "model1.add(BatchNormalization(epsilon=0.001, momentum=0.9, weights=None))\n",
    "\n",
    "\n",
    "model1.add(GlobalMaxPooling1D())\n",
    "model1.add(Dropout(0.2))\n",
    "model1.add(Dense(40))\n",
    "model1.add(Dropout(0.2))\n",
    "model1.add(Activation('relu'))\n",
    "model1.add(BatchNormalization(epsilon=0.001, momentum=0.9, weights=None))\n",
    "\n",
    "model1.add(Dense(1))\n",
    "model1.add(Activation('sigmoid'))"
   ]
  },
  {
   "cell_type": "code",
   "execution_count": 125,
   "metadata": {},
   "outputs": [],
   "source": [
    "from keras.optimizers import Adam\n",
    "model1.compile(loss='binary_crossentropy',optimizer='adam',metrics=['accuracy'])"
   ]
  },
  {
   "cell_type": "code",
   "execution_count": 126,
   "metadata": {},
   "outputs": [
    {
     "name": "stdout",
     "output_type": "stream",
     "text": [
      "Epoch 1/100\n",
      "38/38 - 2s - loss: 0.7738 - accuracy: 0.5481 - val_loss: 0.6842 - val_accuracy: 0.5750 - 2s/epoch - 49ms/step\n",
      "Epoch 2/100\n",
      "38/38 - 0s - loss: 0.6969 - accuracy: 0.5936 - val_loss: 0.6264 - val_accuracy: 0.7750 - 165ms/epoch - 4ms/step\n",
      "Epoch 3/100\n",
      "38/38 - 0s - loss: 0.6308 - accuracy: 0.6524 - val_loss: 0.5589 - val_accuracy: 0.7750 - 137ms/epoch - 4ms/step\n",
      "Epoch 4/100\n",
      "38/38 - 0s - loss: 0.5518 - accuracy: 0.7005 - val_loss: 0.5402 - val_accuracy: 0.7500 - 140ms/epoch - 4ms/step\n",
      "Epoch 5/100\n",
      "38/38 - 0s - loss: 0.5936 - accuracy: 0.6497 - val_loss: 0.5291 - val_accuracy: 0.7125 - 141ms/epoch - 4ms/step\n",
      "Epoch 6/100\n",
      "38/38 - 0s - loss: 0.5366 - accuracy: 0.7005 - val_loss: 0.5111 - val_accuracy: 0.8000 - 135ms/epoch - 4ms/step\n",
      "Epoch 7/100\n",
      "38/38 - 0s - loss: 0.5069 - accuracy: 0.7246 - val_loss: 0.4990 - val_accuracy: 0.7375 - 131ms/epoch - 3ms/step\n",
      "Epoch 8/100\n",
      "38/38 - 0s - loss: 0.5144 - accuracy: 0.7380 - val_loss: 0.4851 - val_accuracy: 0.8000 - 233ms/epoch - 6ms/step\n",
      "Epoch 9/100\n",
      "38/38 - 0s - loss: 0.5190 - accuracy: 0.7380 - val_loss: 0.4819 - val_accuracy: 0.7250 - 163ms/epoch - 4ms/step\n",
      "Epoch 10/100\n",
      "38/38 - 0s - loss: 0.5301 - accuracy: 0.7005 - val_loss: 0.4776 - val_accuracy: 0.7625 - 139ms/epoch - 4ms/step\n",
      "Epoch 11/100\n",
      "38/38 - 0s - loss: 0.4898 - accuracy: 0.7380 - val_loss: 0.4587 - val_accuracy: 0.8125 - 132ms/epoch - 3ms/step\n",
      "Epoch 12/100\n",
      "38/38 - 0s - loss: 0.4948 - accuracy: 0.7193 - val_loss: 0.4636 - val_accuracy: 0.8000 - 128ms/epoch - 3ms/step\n",
      "Epoch 13/100\n",
      "38/38 - 0s - loss: 0.4516 - accuracy: 0.7701 - val_loss: 0.4271 - val_accuracy: 0.8250 - 138ms/epoch - 4ms/step\n",
      "Epoch 14/100\n",
      "38/38 - 0s - loss: 0.4523 - accuracy: 0.7567 - val_loss: 0.4186 - val_accuracy: 0.8250 - 151ms/epoch - 4ms/step\n",
      "Epoch 15/100\n",
      "38/38 - 0s - loss: 0.4266 - accuracy: 0.7781 - val_loss: 0.4213 - val_accuracy: 0.8375 - 157ms/epoch - 4ms/step\n",
      "Epoch 16/100\n",
      "38/38 - 0s - loss: 0.4462 - accuracy: 0.7861 - val_loss: 0.4037 - val_accuracy: 0.8125 - 133ms/epoch - 4ms/step\n",
      "Epoch 17/100\n",
      "38/38 - 0s - loss: 0.4098 - accuracy: 0.7781 - val_loss: 0.3813 - val_accuracy: 0.8500 - 150ms/epoch - 4ms/step\n",
      "Epoch 18/100\n",
      "38/38 - 0s - loss: 0.4134 - accuracy: 0.7941 - val_loss: 0.3733 - val_accuracy: 0.8375 - 148ms/epoch - 4ms/step\n",
      "Epoch 19/100\n",
      "38/38 - 0s - loss: 0.4091 - accuracy: 0.8048 - val_loss: 0.3642 - val_accuracy: 0.8500 - 134ms/epoch - 4ms/step\n",
      "Epoch 20/100\n",
      "38/38 - 0s - loss: 0.4022 - accuracy: 0.8182 - val_loss: 0.3643 - val_accuracy: 0.8250 - 128ms/epoch - 3ms/step\n",
      "Epoch 21/100\n",
      "38/38 - 0s - loss: 0.3883 - accuracy: 0.8235 - val_loss: 0.3388 - val_accuracy: 0.8625 - 165ms/epoch - 4ms/step\n",
      "Epoch 22/100\n",
      "38/38 - 0s - loss: 0.3734 - accuracy: 0.8048 - val_loss: 0.3364 - val_accuracy: 0.8625 - 176ms/epoch - 5ms/step\n",
      "Epoch 23/100\n",
      "38/38 - 0s - loss: 0.3388 - accuracy: 0.8422 - val_loss: 0.3116 - val_accuracy: 0.8625 - 182ms/epoch - 5ms/step\n",
      "Epoch 24/100\n",
      "38/38 - 0s - loss: 0.3761 - accuracy: 0.8075 - val_loss: 0.3269 - val_accuracy: 0.8625 - 143ms/epoch - 4ms/step\n",
      "Epoch 25/100\n",
      "38/38 - 0s - loss: 0.2999 - accuracy: 0.8422 - val_loss: 0.3070 - val_accuracy: 0.8625 - 126ms/epoch - 3ms/step\n",
      "Epoch 26/100\n",
      "38/38 - 0s - loss: 0.3199 - accuracy: 0.8503 - val_loss: 0.2815 - val_accuracy: 0.9125 - 179ms/epoch - 5ms/step\n",
      "Epoch 27/100\n",
      "38/38 - 0s - loss: 0.2895 - accuracy: 0.8449 - val_loss: 0.2941 - val_accuracy: 0.8625 - 132ms/epoch - 3ms/step\n",
      "Epoch 28/100\n",
      "38/38 - 0s - loss: 0.2924 - accuracy: 0.8717 - val_loss: 0.2990 - val_accuracy: 0.8625 - 155ms/epoch - 4ms/step\n",
      "Epoch 29/100\n",
      "38/38 - 0s - loss: 0.2769 - accuracy: 0.8984 - val_loss: 0.2895 - val_accuracy: 0.8625 - 135ms/epoch - 4ms/step\n",
      "Epoch 30/100\n",
      "38/38 - 0s - loss: 0.2737 - accuracy: 0.8904 - val_loss: 0.2966 - val_accuracy: 0.8625 - 183ms/epoch - 5ms/step\n",
      "Epoch 31/100\n",
      "38/38 - 0s - loss: 0.2919 - accuracy: 0.8663 - val_loss: 0.2975 - val_accuracy: 0.8375 - 136ms/epoch - 4ms/step\n",
      "Epoch 32/100\n",
      "38/38 - 0s - loss: 0.2920 - accuracy: 0.8877 - val_loss: 0.2485 - val_accuracy: 0.9125 - 134ms/epoch - 4ms/step\n",
      "Epoch 33/100\n",
      "38/38 - 0s - loss: 0.2615 - accuracy: 0.8850 - val_loss: 0.2518 - val_accuracy: 0.8750 - 157ms/epoch - 4ms/step\n",
      "Epoch 34/100\n",
      "38/38 - 0s - loss: 0.2600 - accuracy: 0.8824 - val_loss: 0.2457 - val_accuracy: 0.9125 - 186ms/epoch - 5ms/step\n",
      "Epoch 35/100\n",
      "38/38 - 0s - loss: 0.2604 - accuracy: 0.8957 - val_loss: 0.2299 - val_accuracy: 0.9250 - 165ms/epoch - 4ms/step\n",
      "Epoch 36/100\n",
      "38/38 - 0s - loss: 0.2403 - accuracy: 0.8930 - val_loss: 0.2540 - val_accuracy: 0.8875 - 135ms/epoch - 4ms/step\n",
      "Epoch 37/100\n",
      "38/38 - 0s - loss: 0.2605 - accuracy: 0.8957 - val_loss: 0.2629 - val_accuracy: 0.8750 - 135ms/epoch - 4ms/step\n",
      "Epoch 38/100\n",
      "38/38 - 0s - loss: 0.2586 - accuracy: 0.8930 - val_loss: 0.2680 - val_accuracy: 0.8750 - 128ms/epoch - 3ms/step\n",
      "Epoch 39/100\n",
      "38/38 - 0s - loss: 0.2662 - accuracy: 0.8636 - val_loss: 0.2727 - val_accuracy: 0.8875 - 245ms/epoch - 6ms/step\n",
      "Epoch 40/100\n",
      "38/38 - 0s - loss: 0.2509 - accuracy: 0.8984 - val_loss: 0.2846 - val_accuracy: 0.8500 - 211ms/epoch - 6ms/step\n",
      "Epoch 41/100\n",
      "38/38 - 0s - loss: 0.2838 - accuracy: 0.8984 - val_loss: 0.2874 - val_accuracy: 0.8375 - 140ms/epoch - 4ms/step\n",
      "Epoch 42/100\n",
      "38/38 - 0s - loss: 0.2225 - accuracy: 0.9091 - val_loss: 0.2873 - val_accuracy: 0.8375 - 134ms/epoch - 4ms/step\n",
      "Epoch 43/100\n",
      "38/38 - 0s - loss: 0.2091 - accuracy: 0.9171 - val_loss: 0.2680 - val_accuracy: 0.8625 - 139ms/epoch - 4ms/step\n",
      "Epoch 44/100\n",
      "38/38 - 0s - loss: 0.2374 - accuracy: 0.8904 - val_loss: 0.2991 - val_accuracy: 0.8250 - 178ms/epoch - 5ms/step\n",
      "Epoch 45/100\n",
      "38/38 - 0s - loss: 0.2409 - accuracy: 0.9118 - val_loss: 0.2532 - val_accuracy: 0.9000 - 137ms/epoch - 4ms/step\n",
      "Epoch 46/100\n",
      "38/38 - 0s - loss: 0.2430 - accuracy: 0.8904 - val_loss: 0.3021 - val_accuracy: 0.8125 - 129ms/epoch - 3ms/step\n",
      "Epoch 47/100\n",
      "38/38 - 0s - loss: 0.2355 - accuracy: 0.9011 - val_loss: 0.2704 - val_accuracy: 0.8625 - 148ms/epoch - 4ms/step\n",
      "Epoch 48/100\n",
      "38/38 - 0s - loss: 0.2207 - accuracy: 0.9064 - val_loss: 0.2467 - val_accuracy: 0.8625 - 129ms/epoch - 3ms/step\n",
      "Epoch 49/100\n",
      "38/38 - 0s - loss: 0.2355 - accuracy: 0.8984 - val_loss: 0.2873 - val_accuracy: 0.8375 - 144ms/epoch - 4ms/step\n",
      "Epoch 50/100\n",
      "38/38 - 0s - loss: 0.2100 - accuracy: 0.9171 - val_loss: 0.2539 - val_accuracy: 0.8875 - 143ms/epoch - 4ms/step\n",
      "Epoch 51/100\n",
      "38/38 - 0s - loss: 0.2250 - accuracy: 0.9118 - val_loss: 0.2653 - val_accuracy: 0.8750 - 175ms/epoch - 5ms/step\n",
      "Epoch 52/100\n",
      "38/38 - 0s - loss: 0.1884 - accuracy: 0.9332 - val_loss: 0.2727 - val_accuracy: 0.8500 - 134ms/epoch - 4ms/step\n",
      "Epoch 53/100\n",
      "38/38 - 0s - loss: 0.1873 - accuracy: 0.9412 - val_loss: 0.2685 - val_accuracy: 0.8625 - 133ms/epoch - 3ms/step\n",
      "Epoch 54/100\n",
      "38/38 - 0s - loss: 0.1973 - accuracy: 0.9198 - val_loss: 0.2750 - val_accuracy: 0.8625 - 152ms/epoch - 4ms/step\n",
      "Epoch 55/100\n",
      "38/38 - 0s - loss: 0.1906 - accuracy: 0.9198 - val_loss: 0.2595 - val_accuracy: 0.9000 - 133ms/epoch - 4ms/step\n",
      "Epoch 56/100\n",
      "38/38 - 0s - loss: 0.1697 - accuracy: 0.9412 - val_loss: 0.2806 - val_accuracy: 0.8875 - 136ms/epoch - 4ms/step\n",
      "Epoch 57/100\n",
      "38/38 - 0s - loss: 0.1852 - accuracy: 0.9358 - val_loss: 0.2598 - val_accuracy: 0.8875 - 133ms/epoch - 3ms/step\n",
      "Epoch 58/100\n",
      "38/38 - 0s - loss: 0.1685 - accuracy: 0.9465 - val_loss: 0.2911 - val_accuracy: 0.8750 - 132ms/epoch - 3ms/step\n",
      "Epoch 59/100\n",
      "38/38 - 0s - loss: 0.1657 - accuracy: 0.9465 - val_loss: 0.2709 - val_accuracy: 0.8750 - 128ms/epoch - 3ms/step\n",
      "Epoch 60/100\n",
      "38/38 - 0s - loss: 0.1877 - accuracy: 0.9332 - val_loss: 0.2483 - val_accuracy: 0.8750 - 160ms/epoch - 4ms/step\n",
      "Epoch 61/100\n",
      "38/38 - 0s - loss: 0.1857 - accuracy: 0.9278 - val_loss: 0.2532 - val_accuracy: 0.8875 - 148ms/epoch - 4ms/step\n",
      "Epoch 62/100\n",
      "38/38 - 0s - loss: 0.1362 - accuracy: 0.9545 - val_loss: 0.2423 - val_accuracy: 0.8875 - 147ms/epoch - 4ms/step\n",
      "Epoch 63/100\n",
      "38/38 - 0s - loss: 0.1645 - accuracy: 0.9332 - val_loss: 0.2988 - val_accuracy: 0.8750 - 145ms/epoch - 4ms/step\n",
      "Epoch 64/100\n",
      "38/38 - 0s - loss: 0.1904 - accuracy: 0.9412 - val_loss: 0.2422 - val_accuracy: 0.9000 - 143ms/epoch - 4ms/step\n",
      "Epoch 65/100\n",
      "38/38 - 0s - loss: 0.1967 - accuracy: 0.9225 - val_loss: 0.2805 - val_accuracy: 0.8625 - 124ms/epoch - 3ms/step\n",
      "Epoch 66/100\n",
      "38/38 - 0s - loss: 0.1446 - accuracy: 0.9545 - val_loss: 0.2692 - val_accuracy: 0.8875 - 135ms/epoch - 4ms/step\n",
      "Epoch 67/100\n",
      "38/38 - 0s - loss: 0.1644 - accuracy: 0.9385 - val_loss: 0.2624 - val_accuracy: 0.9000 - 162ms/epoch - 4ms/step\n",
      "Epoch 68/100\n",
      "38/38 - 0s - loss: 0.1818 - accuracy: 0.9332 - val_loss: 0.2783 - val_accuracy: 0.8750 - 164ms/epoch - 4ms/step\n",
      "Epoch 69/100\n",
      "38/38 - 0s - loss: 0.1602 - accuracy: 0.9492 - val_loss: 0.2588 - val_accuracy: 0.9125 - 138ms/epoch - 4ms/step\n",
      "Epoch 70/100\n",
      "38/38 - 0s - loss: 0.1427 - accuracy: 0.9572 - val_loss: 0.2772 - val_accuracy: 0.8875 - 137ms/epoch - 4ms/step\n",
      "Epoch 71/100\n",
      "38/38 - 0s - loss: 0.1798 - accuracy: 0.9332 - val_loss: 0.2245 - val_accuracy: 0.9000 - 137ms/epoch - 4ms/step\n",
      "Epoch 72/100\n",
      "38/38 - 0s - loss: 0.1527 - accuracy: 0.9385 - val_loss: 0.2611 - val_accuracy: 0.8875 - 135ms/epoch - 4ms/step\n",
      "Epoch 73/100\n",
      "38/38 - 0s - loss: 0.1510 - accuracy: 0.9439 - val_loss: 0.2704 - val_accuracy: 0.9000 - 128ms/epoch - 3ms/step\n",
      "Epoch 74/100\n",
      "38/38 - 0s - loss: 0.1435 - accuracy: 0.9465 - val_loss: 0.2918 - val_accuracy: 0.8875 - 129ms/epoch - 3ms/step\n",
      "Epoch 75/100\n",
      "38/38 - 0s - loss: 0.1757 - accuracy: 0.9358 - val_loss: 0.2604 - val_accuracy: 0.9000 - 150ms/epoch - 4ms/step\n",
      "Epoch 76/100\n",
      "38/38 - 0s - loss: 0.1465 - accuracy: 0.9519 - val_loss: 0.2818 - val_accuracy: 0.8875 - 131ms/epoch - 3ms/step\n",
      "Epoch 77/100\n",
      "38/38 - 0s - loss: 0.1284 - accuracy: 0.9519 - val_loss: 0.2246 - val_accuracy: 0.9125 - 129ms/epoch - 3ms/step\n",
      "Epoch 78/100\n",
      "38/38 - 0s - loss: 0.1513 - accuracy: 0.9465 - val_loss: 0.2745 - val_accuracy: 0.8875 - 125ms/epoch - 3ms/step\n",
      "Epoch 79/100\n",
      "38/38 - 0s - loss: 0.1472 - accuracy: 0.9412 - val_loss: 0.3039 - val_accuracy: 0.8875 - 130ms/epoch - 3ms/step\n",
      "Epoch 80/100\n",
      "38/38 - 0s - loss: 0.1297 - accuracy: 0.9572 - val_loss: 0.2335 - val_accuracy: 0.8875 - 129ms/epoch - 3ms/step\n",
      "Epoch 81/100\n",
      "38/38 - 0s - loss: 0.1557 - accuracy: 0.9439 - val_loss: 0.2752 - val_accuracy: 0.8875 - 135ms/epoch - 4ms/step\n",
      "Epoch 82/100\n",
      "38/38 - 0s - loss: 0.1627 - accuracy: 0.9332 - val_loss: 0.2601 - val_accuracy: 0.8875 - 151ms/epoch - 4ms/step\n",
      "Epoch 83/100\n",
      "38/38 - 0s - loss: 0.1546 - accuracy: 0.9492 - val_loss: 0.2299 - val_accuracy: 0.9000 - 129ms/epoch - 3ms/step\n",
      "Epoch 84/100\n",
      "38/38 - 0s - loss: 0.1505 - accuracy: 0.9465 - val_loss: 0.2661 - val_accuracy: 0.9000 - 139ms/epoch - 4ms/step\n",
      "Epoch 85/100\n",
      "38/38 - 0s - loss: 0.1402 - accuracy: 0.9492 - val_loss: 0.2422 - val_accuracy: 0.9000 - 136ms/epoch - 4ms/step\n",
      "Epoch 86/100\n",
      "38/38 - 0s - loss: 0.1416 - accuracy: 0.9519 - val_loss: 0.2857 - val_accuracy: 0.8875 - 132ms/epoch - 3ms/step\n",
      "Epoch 87/100\n",
      "38/38 - 0s - loss: 0.1369 - accuracy: 0.9465 - val_loss: 0.2363 - val_accuracy: 0.9000 - 129ms/epoch - 3ms/step\n",
      "Epoch 88/100\n",
      "38/38 - 0s - loss: 0.1303 - accuracy: 0.9519 - val_loss: 0.2944 - val_accuracy: 0.8750 - 128ms/epoch - 3ms/step\n",
      "Epoch 89/100\n",
      "38/38 - 0s - loss: 0.1476 - accuracy: 0.9412 - val_loss: 0.2184 - val_accuracy: 0.8875 - 133ms/epoch - 4ms/step\n",
      "Epoch 90/100\n",
      "38/38 - 0s - loss: 0.1221 - accuracy: 0.9545 - val_loss: 0.2103 - val_accuracy: 0.9000 - 142ms/epoch - 4ms/step\n",
      "Epoch 91/100\n",
      "38/38 - 0s - loss: 0.1575 - accuracy: 0.9358 - val_loss: 0.2700 - val_accuracy: 0.8875 - 129ms/epoch - 3ms/step\n",
      "Epoch 92/100\n",
      "38/38 - 0s - loss: 0.1450 - accuracy: 0.9519 - val_loss: 0.2087 - val_accuracy: 0.8875 - 134ms/epoch - 4ms/step\n",
      "Epoch 93/100\n",
      "38/38 - 0s - loss: 0.1177 - accuracy: 0.9599 - val_loss: 0.2567 - val_accuracy: 0.9000 - 128ms/epoch - 3ms/step\n",
      "Epoch 94/100\n",
      "38/38 - 0s - loss: 0.1614 - accuracy: 0.9439 - val_loss: 0.2184 - val_accuracy: 0.9000 - 128ms/epoch - 3ms/step\n",
      "Epoch 95/100\n",
      "38/38 - 0s - loss: 0.1551 - accuracy: 0.9385 - val_loss: 0.2209 - val_accuracy: 0.9000 - 135ms/epoch - 4ms/step\n",
      "Epoch 96/100\n",
      "38/38 - 0s - loss: 0.1724 - accuracy: 0.9385 - val_loss: 0.1941 - val_accuracy: 0.9000 - 131ms/epoch - 3ms/step\n",
      "Epoch 97/100\n",
      "38/38 - 0s - loss: 0.1380 - accuracy: 0.9465 - val_loss: 0.1900 - val_accuracy: 0.9125 - 149ms/epoch - 4ms/step\n",
      "Epoch 98/100\n",
      "38/38 - 0s - loss: 0.1271 - accuracy: 0.9439 - val_loss: 0.2088 - val_accuracy: 0.9000 - 139ms/epoch - 4ms/step\n",
      "Epoch 99/100\n",
      "38/38 - 0s - loss: 0.1162 - accuracy: 0.9545 - val_loss: 0.1967 - val_accuracy: 0.9125 - 136ms/epoch - 4ms/step\n",
      "Epoch 100/100\n",
      "38/38 - 0s - loss: 0.1125 - accuracy: 0.9545 - val_loss: 0.2357 - val_accuracy: 0.9125 - 132ms/epoch - 3ms/step\n"
     ]
    }
   ],
   "source": [
    "train_x = np.asarray(X_train)\n",
    "train_y = np.asarray(y_train)\n",
    "validation_x = np.asarray(X_val)\n",
    "validation_y = np.asarray(y_val)\n",
    "history = model1.fit(train_x, train_y, epochs=100, validation_data=(validation_x,validation_y),batch_size=10, shuffle=False,verbose=2)\n"
   ]
  },
  {
   "cell_type": "code",
   "execution_count": 127,
   "metadata": {},
   "outputs": [
    {
     "name": "stdout",
     "output_type": "stream",
     "text": [
      "3/3 [==============================] - 0s 3ms/step - loss: 0.2357 - accuracy: 0.9125\n"
     ]
    },
    {
     "data": {
      "text/plain": [
       "[0.23569893836975098, 0.9125000238418579]"
      ]
     },
     "execution_count": 127,
     "metadata": {},
     "output_type": "execute_result"
    }
   ],
   "source": [
    "\n",
    "\n",
    "model1.evaluate(validation_x,validation_y)\n",
    "# print(validation_x)"
   ]
  },
  {
   "cell_type": "code",
   "execution_count": 128,
   "metadata": {},
   "outputs": [
    {
     "name": "stdout",
     "output_type": "stream",
     "text": [
      "3/3 [==============================] - 0s 3ms/step - loss: 0.2268 - accuracy: 0.9012\n"
     ]
    },
    {
     "data": {
      "text/plain": [
       "[0.2268008440732956, 0.9012345671653748]"
      ]
     },
     "execution_count": 128,
     "metadata": {},
     "output_type": "execute_result"
    }
   ],
   "source": [
    "test_x = np.asarray(X_test)\n",
    "test_y = np.asarray(y_test)\n",
    "model1.evaluate(test_x,test_y)"
   ]
  },
  {
   "cell_type": "code",
   "execution_count": 129,
   "metadata": {},
   "outputs": [],
   "source": [
    "from keras.layers import Reshape, Flatten, Dropout, Concatenate, BatchNormalization\n",
    "\n",
    "model2 = Sequential()\n",
    "model2.add(Conv1D(64, 2, activation='relu', input_shape=(64, 12))) # first convolutional layer\n",
    "model2.add(Conv1D(40,2,padding='valid', activation='relu',strides=1)) # second convolutional layer\n",
    "model2.add(Dropout(0.4))\n",
    "model2.add(GlobalMaxPooling1D())\n",
    "model2.add(Dense(40))\n",
    "model2.add(Dropout(0.4))\n",
    "model2.add(Activation('relu'))\n",
    "model2.add(BatchNormalization(epsilon=0.001, momentum=0.9, weights=None))\n",
    "model2.add(Dense(1))# fully connected layer model predicts 1 or 0\n",
    "model2.add(Activation('sigmoid'))"
   ]
  },
  {
   "cell_type": "code",
   "execution_count": 130,
   "metadata": {},
   "outputs": [],
   "source": [
    "from keras.optimizers import Adam\n",
    "model2.compile(loss='binary_crossentropy',optimizer='adam',metrics=['accuracy'])"
   ]
  },
  {
   "cell_type": "code",
   "execution_count": 131,
   "metadata": {},
   "outputs": [
    {
     "name": "stdout",
     "output_type": "stream",
     "text": [
      "Model: \"sequential_6\"\n",
      "_________________________________________________________________\n",
      " Layer (type)                Output Shape              Param #   \n",
      "=================================================================\n",
      " conv1d_16 (Conv1D)          (None, 63, 64)            1600      \n",
      "                                                                 \n",
      " conv1d_17 (Conv1D)          (None, 62, 40)            5160      \n",
      "                                                                 \n",
      " dropout_12 (Dropout)        (None, 62, 40)            0         \n",
      "                                                                 \n",
      " global_max_pooling1d_4 (Glo  (None, 40)               0         \n",
      " balMaxPooling1D)                                                \n",
      "                                                                 \n",
      " dense_10 (Dense)            (None, 40)                1640      \n",
      "                                                                 \n",
      " dropout_13 (Dropout)        (None, 40)                0         \n",
      "                                                                 \n",
      " activation_18 (Activation)  (None, 40)                0         \n",
      "                                                                 \n",
      " batch_normalization_6 (Batc  (None, 40)               160       \n",
      " hNormalization)                                                 \n",
      "                                                                 \n",
      " dense_11 (Dense)            (None, 1)                 41        \n",
      "                                                                 \n",
      " activation_19 (Activation)  (None, 1)                 0         \n",
      "                                                                 \n",
      "=================================================================\n",
      "Total params: 8,601\n",
      "Trainable params: 8,521\n",
      "Non-trainable params: 80\n",
      "_________________________________________________________________\n"
     ]
    }
   ],
   "source": [
    "model2.summary()"
   ]
  },
  {
   "cell_type": "code",
   "execution_count": 132,
   "metadata": {},
   "outputs": [
    {
     "name": "stdout",
     "output_type": "stream",
     "text": [
      "Epoch 1/100\n",
      "38/38 - 2s - loss: 0.6311 - accuracy: 0.6578 - val_loss: 0.4772 - val_accuracy: 0.7875 - 2s/epoch - 48ms/step\n",
      "Epoch 2/100\n",
      "38/38 - 0s - loss: 0.4259 - accuracy: 0.8182 - val_loss: 0.3926 - val_accuracy: 0.8375 - 217ms/epoch - 6ms/step\n",
      "Epoch 3/100\n",
      "38/38 - 0s - loss: 0.3913 - accuracy: 0.8476 - val_loss: 0.3757 - val_accuracy: 0.8875 - 170ms/epoch - 4ms/step\n",
      "Epoch 4/100\n",
      "38/38 - 0s - loss: 0.3767 - accuracy: 0.8396 - val_loss: 0.3483 - val_accuracy: 0.8875 - 166ms/epoch - 4ms/step\n",
      "Epoch 5/100\n",
      "38/38 - 0s - loss: 0.3379 - accuracy: 0.8476 - val_loss: 0.3249 - val_accuracy: 0.8250 - 166ms/epoch - 4ms/step\n",
      "Epoch 6/100\n",
      "38/38 - 0s - loss: 0.2784 - accuracy: 0.8877 - val_loss: 0.3627 - val_accuracy: 0.8000 - 162ms/epoch - 4ms/step\n",
      "Epoch 7/100\n",
      "38/38 - 0s - loss: 0.2428 - accuracy: 0.9171 - val_loss: 0.3021 - val_accuracy: 0.8375 - 177ms/epoch - 5ms/step\n",
      "Epoch 8/100\n",
      "38/38 - 0s - loss: 0.2197 - accuracy: 0.9278 - val_loss: 0.2798 - val_accuracy: 0.8625 - 174ms/epoch - 5ms/step\n",
      "Epoch 9/100\n",
      "38/38 - 0s - loss: 0.2233 - accuracy: 0.9037 - val_loss: 0.3020 - val_accuracy: 0.8375 - 172ms/epoch - 5ms/step\n",
      "Epoch 10/100\n",
      "38/38 - 0s - loss: 0.2153 - accuracy: 0.9198 - val_loss: 0.2935 - val_accuracy: 0.8375 - 174ms/epoch - 5ms/step\n",
      "Epoch 11/100\n",
      "38/38 - 0s - loss: 0.2210 - accuracy: 0.9198 - val_loss: 0.2541 - val_accuracy: 0.8875 - 176ms/epoch - 5ms/step\n",
      "Epoch 12/100\n",
      "38/38 - 0s - loss: 0.2869 - accuracy: 0.8877 - val_loss: 0.3033 - val_accuracy: 0.8750 - 177ms/epoch - 5ms/step\n",
      "Epoch 13/100\n",
      "38/38 - 0s - loss: 0.2844 - accuracy: 0.8690 - val_loss: 0.3119 - val_accuracy: 0.8625 - 190ms/epoch - 5ms/step\n",
      "Epoch 14/100\n",
      "38/38 - 0s - loss: 0.2216 - accuracy: 0.9278 - val_loss: 0.2799 - val_accuracy: 0.8750 - 166ms/epoch - 4ms/step\n",
      "Epoch 15/100\n",
      "38/38 - 0s - loss: 0.2511 - accuracy: 0.8957 - val_loss: 0.3002 - val_accuracy: 0.8625 - 164ms/epoch - 4ms/step\n",
      "Epoch 16/100\n",
      "38/38 - 0s - loss: 0.2332 - accuracy: 0.9225 - val_loss: 0.2477 - val_accuracy: 0.9500 - 160ms/epoch - 4ms/step\n",
      "Epoch 17/100\n",
      "38/38 - 0s - loss: 0.2466 - accuracy: 0.9225 - val_loss: 0.2594 - val_accuracy: 0.8750 - 166ms/epoch - 4ms/step\n",
      "Epoch 18/100\n",
      "38/38 - 0s - loss: 0.2006 - accuracy: 0.9278 - val_loss: 0.2433 - val_accuracy: 0.9000 - 156ms/epoch - 4ms/step\n",
      "Epoch 19/100\n",
      "38/38 - 0s - loss: 0.2232 - accuracy: 0.9091 - val_loss: 0.2872 - val_accuracy: 0.9125 - 180ms/epoch - 5ms/step\n",
      "Epoch 20/100\n",
      "38/38 - 0s - loss: 0.1818 - accuracy: 0.9278 - val_loss: 0.2462 - val_accuracy: 0.8875 - 168ms/epoch - 4ms/step\n",
      "Epoch 21/100\n",
      "38/38 - 0s - loss: 0.1757 - accuracy: 0.9412 - val_loss: 0.2137 - val_accuracy: 0.9000 - 168ms/epoch - 4ms/step\n",
      "Epoch 22/100\n",
      "38/38 - 0s - loss: 0.1592 - accuracy: 0.9385 - val_loss: 0.1908 - val_accuracy: 0.9000 - 168ms/epoch - 4ms/step\n",
      "Epoch 23/100\n",
      "38/38 - 0s - loss: 0.1656 - accuracy: 0.9358 - val_loss: 0.2029 - val_accuracy: 0.9125 - 168ms/epoch - 4ms/step\n",
      "Epoch 24/100\n",
      "38/38 - 0s - loss: 0.1536 - accuracy: 0.9385 - val_loss: 0.1884 - val_accuracy: 0.9375 - 171ms/epoch - 5ms/step\n",
      "Epoch 25/100\n",
      "38/38 - 0s - loss: 0.1344 - accuracy: 0.9599 - val_loss: 0.2027 - val_accuracy: 0.9375 - 184ms/epoch - 5ms/step\n",
      "Epoch 26/100\n",
      "38/38 - 0s - loss: 0.1649 - accuracy: 0.9385 - val_loss: 0.2176 - val_accuracy: 0.8875 - 159ms/epoch - 4ms/step\n",
      "Epoch 27/100\n",
      "38/38 - 0s - loss: 0.1728 - accuracy: 0.9492 - val_loss: 0.1983 - val_accuracy: 0.8875 - 161ms/epoch - 4ms/step\n",
      "Epoch 28/100\n",
      "38/38 - 0s - loss: 0.1452 - accuracy: 0.9358 - val_loss: 0.1990 - val_accuracy: 0.9125 - 163ms/epoch - 4ms/step\n",
      "Epoch 29/100\n",
      "38/38 - 0s - loss: 0.1353 - accuracy: 0.9519 - val_loss: 0.1607 - val_accuracy: 0.9375 - 158ms/epoch - 4ms/step\n",
      "Epoch 30/100\n",
      "38/38 - 0s - loss: 0.1624 - accuracy: 0.9412 - val_loss: 0.1853 - val_accuracy: 0.9375 - 161ms/epoch - 4ms/step\n",
      "Epoch 31/100\n",
      "38/38 - 0s - loss: 0.1313 - accuracy: 0.9679 - val_loss: 0.1580 - val_accuracy: 0.9500 - 177ms/epoch - 5ms/step\n",
      "Epoch 32/100\n",
      "38/38 - 0s - loss: 0.1071 - accuracy: 0.9679 - val_loss: 0.1398 - val_accuracy: 0.9500 - 175ms/epoch - 5ms/step\n",
      "Epoch 33/100\n",
      "38/38 - 0s - loss: 0.0950 - accuracy: 0.9759 - val_loss: 0.1427 - val_accuracy: 0.9500 - 166ms/epoch - 4ms/step\n",
      "Epoch 34/100\n",
      "38/38 - 0s - loss: 0.0963 - accuracy: 0.9840 - val_loss: 0.1380 - val_accuracy: 0.9625 - 171ms/epoch - 4ms/step\n",
      "Epoch 35/100\n",
      "38/38 - 0s - loss: 0.0978 - accuracy: 0.9679 - val_loss: 0.1312 - val_accuracy: 0.9625 - 174ms/epoch - 5ms/step\n",
      "Epoch 36/100\n",
      "38/38 - 0s - loss: 0.0819 - accuracy: 0.9626 - val_loss: 0.1197 - val_accuracy: 0.9875 - 187ms/epoch - 5ms/step\n",
      "Epoch 37/100\n",
      "38/38 - 0s - loss: 0.0761 - accuracy: 0.9813 - val_loss: 0.1149 - val_accuracy: 0.9750 - 173ms/epoch - 5ms/step\n",
      "Epoch 38/100\n",
      "38/38 - 0s - loss: 0.0624 - accuracy: 0.9920 - val_loss: 0.1147 - val_accuracy: 0.9750 - 162ms/epoch - 4ms/step\n",
      "Epoch 39/100\n",
      "38/38 - 0s - loss: 0.0619 - accuracy: 0.9866 - val_loss: 0.1103 - val_accuracy: 0.9625 - 162ms/epoch - 4ms/step\n",
      "Epoch 40/100\n",
      "38/38 - 0s - loss: 0.0848 - accuracy: 0.9679 - val_loss: 0.1179 - val_accuracy: 0.9500 - 162ms/epoch - 4ms/step\n",
      "Epoch 41/100\n",
      "38/38 - 0s - loss: 0.0545 - accuracy: 0.9893 - val_loss: 0.1121 - val_accuracy: 0.9500 - 188ms/epoch - 5ms/step\n",
      "Epoch 42/100\n",
      "38/38 - 0s - loss: 0.0601 - accuracy: 0.9866 - val_loss: 0.1171 - val_accuracy: 0.9375 - 182ms/epoch - 5ms/step\n",
      "Epoch 43/100\n",
      "38/38 - 0s - loss: 0.0783 - accuracy: 0.9733 - val_loss: 0.1199 - val_accuracy: 0.9375 - 167ms/epoch - 4ms/step\n",
      "Epoch 44/100\n",
      "38/38 - 0s - loss: 0.0691 - accuracy: 0.9813 - val_loss: 0.1079 - val_accuracy: 0.9500 - 167ms/epoch - 4ms/step\n",
      "Epoch 45/100\n",
      "38/38 - 0s - loss: 0.0596 - accuracy: 0.9733 - val_loss: 0.1110 - val_accuracy: 0.9625 - 170ms/epoch - 4ms/step\n",
      "Epoch 46/100\n",
      "38/38 - 0s - loss: 0.0609 - accuracy: 0.9840 - val_loss: 0.1101 - val_accuracy: 0.9500 - 178ms/epoch - 5ms/step\n",
      "Epoch 47/100\n",
      "38/38 - 0s - loss: 0.0677 - accuracy: 0.9733 - val_loss: 0.1101 - val_accuracy: 0.9625 - 167ms/epoch - 4ms/step\n",
      "Epoch 48/100\n",
      "38/38 - 0s - loss: 0.0401 - accuracy: 0.9973 - val_loss: 0.1025 - val_accuracy: 0.9625 - 187ms/epoch - 5ms/step\n",
      "Epoch 49/100\n",
      "38/38 - 0s - loss: 0.0550 - accuracy: 0.9840 - val_loss: 0.1005 - val_accuracy: 0.9625 - 164ms/epoch - 4ms/step\n",
      "Epoch 50/100\n",
      "38/38 - 0s - loss: 0.0546 - accuracy: 0.9840 - val_loss: 0.1253 - val_accuracy: 0.9500 - 160ms/epoch - 4ms/step\n",
      "Epoch 51/100\n",
      "38/38 - 0s - loss: 0.1304 - accuracy: 0.9412 - val_loss: 0.1588 - val_accuracy: 0.9250 - 163ms/epoch - 4ms/step\n",
      "Epoch 52/100\n",
      "38/38 - 0s - loss: 0.1341 - accuracy: 0.9572 - val_loss: 0.1443 - val_accuracy: 0.9375 - 163ms/epoch - 4ms/step\n",
      "Epoch 53/100\n",
      "38/38 - 0s - loss: 0.0950 - accuracy: 0.9545 - val_loss: 0.2092 - val_accuracy: 0.9000 - 194ms/epoch - 5ms/step\n",
      "Epoch 54/100\n",
      "38/38 - 0s - loss: 0.1270 - accuracy: 0.9626 - val_loss: 0.1341 - val_accuracy: 0.9625 - 177ms/epoch - 5ms/step\n",
      "Epoch 55/100\n",
      "38/38 - 0s - loss: 0.1015 - accuracy: 0.9626 - val_loss: 0.1191 - val_accuracy: 0.9625 - 171ms/epoch - 4ms/step\n",
      "Epoch 56/100\n",
      "38/38 - 0s - loss: 0.0630 - accuracy: 0.9759 - val_loss: 0.1090 - val_accuracy: 0.9625 - 168ms/epoch - 4ms/step\n",
      "Epoch 57/100\n",
      "38/38 - 0s - loss: 0.0869 - accuracy: 0.9652 - val_loss: 0.1066 - val_accuracy: 0.9625 - 172ms/epoch - 5ms/step\n",
      "Epoch 58/100\n",
      "38/38 - 0s - loss: 0.0677 - accuracy: 0.9733 - val_loss: 0.1088 - val_accuracy: 0.9375 - 173ms/epoch - 5ms/step\n",
      "Epoch 59/100\n",
      "38/38 - 0s - loss: 0.0682 - accuracy: 0.9813 - val_loss: 0.1014 - val_accuracy: 0.9625 - 208ms/epoch - 5ms/step\n",
      "Epoch 60/100\n",
      "38/38 - 0s - loss: 0.0691 - accuracy: 0.9733 - val_loss: 0.1158 - val_accuracy: 0.9750 - 197ms/epoch - 5ms/step\n",
      "Epoch 61/100\n",
      "38/38 - 0s - loss: 0.0504 - accuracy: 0.9813 - val_loss: 0.1125 - val_accuracy: 0.9500 - 165ms/epoch - 4ms/step\n",
      "Epoch 62/100\n",
      "38/38 - 0s - loss: 0.0527 - accuracy: 0.9813 - val_loss: 0.0909 - val_accuracy: 0.9625 - 164ms/epoch - 4ms/step\n",
      "Epoch 63/100\n",
      "38/38 - 0s - loss: 0.0575 - accuracy: 0.9813 - val_loss: 0.0905 - val_accuracy: 0.9750 - 162ms/epoch - 4ms/step\n",
      "Epoch 64/100\n",
      "38/38 - 0s - loss: 0.0461 - accuracy: 0.9866 - val_loss: 0.0897 - val_accuracy: 0.9500 - 158ms/epoch - 4ms/step\n",
      "Epoch 65/100\n",
      "38/38 - 0s - loss: 0.0568 - accuracy: 0.9813 - val_loss: 0.0782 - val_accuracy: 0.9625 - 178ms/epoch - 5ms/step\n",
      "Epoch 66/100\n",
      "38/38 - 0s - loss: 0.0561 - accuracy: 0.9759 - val_loss: 0.0720 - val_accuracy: 0.9750 - 168ms/epoch - 4ms/step\n",
      "Epoch 67/100\n",
      "38/38 - 0s - loss: 0.0351 - accuracy: 0.9893 - val_loss: 0.0671 - val_accuracy: 0.9750 - 168ms/epoch - 4ms/step\n",
      "Epoch 68/100\n",
      "38/38 - 0s - loss: 0.0458 - accuracy: 0.9866 - val_loss: 0.0725 - val_accuracy: 0.9750 - 170ms/epoch - 4ms/step\n",
      "Epoch 69/100\n",
      "38/38 - 0s - loss: 0.0369 - accuracy: 0.9893 - val_loss: 0.0907 - val_accuracy: 0.9500 - 171ms/epoch - 5ms/step\n",
      "Epoch 70/100\n",
      "38/38 - 0s - loss: 0.0416 - accuracy: 0.9813 - val_loss: 0.0815 - val_accuracy: 0.9750 - 172ms/epoch - 5ms/step\n",
      "Epoch 71/100\n",
      "38/38 - 0s - loss: 0.0407 - accuracy: 0.9866 - val_loss: 0.0791 - val_accuracy: 0.9500 - 183ms/epoch - 5ms/step\n",
      "Epoch 72/100\n",
      "38/38 - 0s - loss: 0.0434 - accuracy: 0.9893 - val_loss: 0.0756 - val_accuracy: 0.9625 - 159ms/epoch - 4ms/step\n",
      "Epoch 73/100\n",
      "38/38 - 0s - loss: 0.0423 - accuracy: 0.9840 - val_loss: 0.1042 - val_accuracy: 0.9625 - 158ms/epoch - 4ms/step\n",
      "Epoch 74/100\n",
      "38/38 - 0s - loss: 0.0374 - accuracy: 0.9893 - val_loss: 0.0836 - val_accuracy: 0.9500 - 163ms/epoch - 4ms/step\n",
      "Epoch 75/100\n",
      "38/38 - 0s - loss: 0.0343 - accuracy: 0.9893 - val_loss: 0.0889 - val_accuracy: 0.9500 - 162ms/epoch - 4ms/step\n",
      "Epoch 76/100\n",
      "38/38 - 0s - loss: 0.0346 - accuracy: 0.9866 - val_loss: 0.1012 - val_accuracy: 0.9500 - 162ms/epoch - 4ms/step\n",
      "Epoch 77/100\n",
      "38/38 - 0s - loss: 0.0381 - accuracy: 0.9893 - val_loss: 0.0790 - val_accuracy: 0.9625 - 176ms/epoch - 5ms/step\n",
      "Epoch 78/100\n",
      "38/38 - 0s - loss: 0.0390 - accuracy: 0.9866 - val_loss: 0.0929 - val_accuracy: 0.9500 - 172ms/epoch - 5ms/step\n",
      "Epoch 79/100\n",
      "38/38 - 0s - loss: 0.0264 - accuracy: 0.9973 - val_loss: 0.0973 - val_accuracy: 0.9750 - 173ms/epoch - 5ms/step\n",
      "Epoch 80/100\n",
      "38/38 - 0s - loss: 0.0351 - accuracy: 0.9920 - val_loss: 0.1061 - val_accuracy: 0.9750 - 182ms/epoch - 5ms/step\n",
      "Epoch 81/100\n",
      "38/38 - 0s - loss: 0.0433 - accuracy: 0.9866 - val_loss: 0.0835 - val_accuracy: 0.9625 - 183ms/epoch - 5ms/step\n",
      "Epoch 82/100\n",
      "38/38 - 0s - loss: 0.0238 - accuracy: 0.9947 - val_loss: 0.0759 - val_accuracy: 0.9750 - 218ms/epoch - 6ms/step\n",
      "Epoch 83/100\n",
      "38/38 - 0s - loss: 0.0258 - accuracy: 0.9947 - val_loss: 0.0867 - val_accuracy: 0.9625 - 170ms/epoch - 4ms/step\n",
      "Epoch 84/100\n",
      "38/38 - 0s - loss: 0.0453 - accuracy: 0.9893 - val_loss: 0.0756 - val_accuracy: 0.9625 - 182ms/epoch - 5ms/step\n",
      "Epoch 85/100\n",
      "38/38 - 0s - loss: 0.0276 - accuracy: 0.9947 - val_loss: 0.0574 - val_accuracy: 0.9625 - 160ms/epoch - 4ms/step\n",
      "Epoch 86/100\n",
      "38/38 - 0s - loss: 0.0355 - accuracy: 0.9840 - val_loss: 0.0721 - val_accuracy: 0.9625 - 167ms/epoch - 4ms/step\n",
      "Epoch 87/100\n",
      "38/38 - 0s - loss: 0.0436 - accuracy: 0.9840 - val_loss: 0.0609 - val_accuracy: 0.9875 - 180ms/epoch - 5ms/step\n",
      "Epoch 88/100\n",
      "38/38 - 0s - loss: 0.0186 - accuracy: 0.9947 - val_loss: 0.0649 - val_accuracy: 0.9750 - 183ms/epoch - 5ms/step\n",
      "Epoch 89/100\n",
      "38/38 - 0s - loss: 0.0233 - accuracy: 0.9920 - val_loss: 0.0707 - val_accuracy: 0.9500 - 172ms/epoch - 5ms/step\n",
      "Epoch 90/100\n",
      "38/38 - 0s - loss: 0.0361 - accuracy: 0.9813 - val_loss: 0.0594 - val_accuracy: 0.9750 - 176ms/epoch - 5ms/step\n",
      "Epoch 91/100\n",
      "38/38 - 0s - loss: 0.0203 - accuracy: 0.9973 - val_loss: 0.0640 - val_accuracy: 0.9625 - 190ms/epoch - 5ms/step\n",
      "Epoch 92/100\n",
      "38/38 - 0s - loss: 0.0215 - accuracy: 0.9973 - val_loss: 0.0726 - val_accuracy: 0.9625 - 198ms/epoch - 5ms/step\n",
      "Epoch 93/100\n",
      "38/38 - 0s - loss: 0.0253 - accuracy: 0.9947 - val_loss: 0.0728 - val_accuracy: 0.9875 - 199ms/epoch - 5ms/step\n",
      "Epoch 94/100\n",
      "38/38 - 0s - loss: 0.0326 - accuracy: 0.9866 - val_loss: 0.0683 - val_accuracy: 0.9750 - 199ms/epoch - 5ms/step\n",
      "Epoch 95/100\n",
      "38/38 - 0s - loss: 0.0339 - accuracy: 0.9840 - val_loss: 0.0665 - val_accuracy: 0.9750 - 166ms/epoch - 4ms/step\n",
      "Epoch 96/100\n",
      "38/38 - 0s - loss: 0.0220 - accuracy: 0.9973 - val_loss: 0.0646 - val_accuracy: 0.9625 - 165ms/epoch - 4ms/step\n",
      "Epoch 97/100\n",
      "38/38 - 0s - loss: 0.0424 - accuracy: 0.9786 - val_loss: 0.1835 - val_accuracy: 0.9250 - 167ms/epoch - 4ms/step\n",
      "Epoch 98/100\n",
      "38/38 - 0s - loss: 0.4941 - accuracy: 0.8556 - val_loss: 0.1759 - val_accuracy: 0.9250 - 161ms/epoch - 4ms/step\n",
      "Epoch 99/100\n",
      "38/38 - 0s - loss: 0.1684 - accuracy: 0.9385 - val_loss: 0.1293 - val_accuracy: 0.9750 - 176ms/epoch - 5ms/step\n",
      "Epoch 100/100\n",
      "38/38 - 0s - loss: 0.0978 - accuracy: 0.9599 - val_loss: 0.1038 - val_accuracy: 0.9750 - 211ms/epoch - 6ms/step\n"
     ]
    }
   ],
   "source": [
    "history = model2.fit(train_x, train_y, epochs=100, validation_data=(validation_x,validation_y),batch_size=10, shuffle=False,verbose=2)\n"
   ]
  },
  {
   "cell_type": "code",
   "execution_count": 133,
   "metadata": {},
   "outputs": [
    {
     "name": "stdout",
     "output_type": "stream",
     "text": [
      "3/3 [==============================] - 0s 6ms/step - loss: 0.1038 - accuracy: 0.9750\n"
     ]
    },
    {
     "data": {
      "text/plain": [
       "[0.10384883731603622, 0.9750000238418579]"
      ]
     },
     "execution_count": 133,
     "metadata": {},
     "output_type": "execute_result"
    }
   ],
   "source": [
    "model2.evaluate(validation_x,validation_y)"
   ]
  },
  {
   "cell_type": "code",
   "execution_count": 134,
   "metadata": {},
   "outputs": [
    {
     "name": "stdout",
     "output_type": "stream",
     "text": [
      "3/3 [==============================] - 0s 4ms/step - loss: 0.1291 - accuracy: 0.9383\n"
     ]
    },
    {
     "data": {
      "text/plain": [
       "[0.12913620471954346, 0.9382715821266174]"
      ]
     },
     "execution_count": 134,
     "metadata": {},
     "output_type": "execute_result"
    }
   ],
   "source": [
    "model2.evaluate(test_x,test_y)"
   ]
  },
  {
   "cell_type": "code",
   "execution_count": null,
   "metadata": {},
   "outputs": [
    {
     "name": "stdout",
     "output_type": "stream",
     "text": [
      "9/9 [==============================] - 0s 3ms/step - loss: 0.0300 - accuracy: 0.9963\n"
     ]
    },
    {
     "data": {
      "text/plain": [
       "[0.03004251793026924, 0.9963099360466003]"
      ]
     },
     "execution_count": 36,
     "metadata": {},
     "output_type": "execute_result"
    }
   ],
   "source": [
    "model2.evaluate(train_x,train_y)"
   ]
  },
  {
   "cell_type": "code",
   "execution_count": 135,
   "metadata": {},
   "outputs": [
    {
     "name": "stdout",
     "output_type": "stream",
     "text": [
      "dict_keys(['loss', 'accuracy', 'val_loss', 'val_accuracy'])\n"
     ]
    },
    {
     "data": {
      "image/png": "[encoded data removed]",
      "text/plain": [
       "<Figure size 640x480 with 1 Axes>"
      ]
     },
     "metadata": {},
     "output_type": "display_data"
    },
    {
     "data": {
      "image/png": "[encoded data removed]",
      "text/plain": [
       "<Figure size 640x480 with 1 Axes>"
      ]
     },
     "metadata": {},
     "output_type": "display_data"
    }
   ],
   "source": [
    "print(history.history.keys())\n",
    "#  \"Accuracy\"\n",
    "plt.plot(history.history['accuracy'])\n",
    "plt.plot(history.history['val_accuracy'])\n",
    "plt.title('model accuracy')\n",
    "plt.ylabel('accuracy')\n",
    "plt.xlabel('epoch')\n",
    "plt.legend(['train', 'test'], loc='upper left')\n",
    "plt.show()\n",
    "# \"Loss\"\n",
    "plt.plot(history.history['loss'])\n",
    "plt.plot(history.history['val_loss'])\n",
    "plt.title('model loss')\n",
    "plt.ylabel('loss')\n",
    "plt.xlabel('epoch')\n",
    "plt.legend(['train', 'test'], loc='upper left')\n",
    "plt.show()"
   ]
  },
  {
   "cell_type": "code",
   "execution_count": 136,
   "metadata": {},
   "outputs": [],
   "source": [
    "model3 = Sequential()\n",
    "model3.add(Conv1D(64, 2, input_shape=(64, 12)))\n",
    "model3.add(Activation('relu'))\n",
    "model3.add(Conv1D(64, 2))\n",
    "model3.add(Activation('relu'))\n",
    "model3.add(MaxPooling1D())\n",
    "model3.add(Conv1D(128, 2))\n",
    "model3.add(Activation('relu'))\n",
    "model3.add(Conv1D(128, 2))\n",
    "model3.add(Activation('relu'))\n",
    "model3.add(GlobalAveragePooling1D())\n",
    "model3.add(Dropout(0.5))\n",
    "model3.add(Dense(1))\n",
    "model3.add(Activation('sigmoid'))\n"
   ]
  },
  {
   "cell_type": "code",
   "execution_count": 137,
   "metadata": {},
   "outputs": [],
   "source": [
    "from keras.optimizers import Adam\n",
    "model3.compile(loss='binary_crossentropy',optimizer='adam',metrics=['accuracy'])"
   ]
  },
  {
   "cell_type": "code",
   "execution_count": 138,
   "metadata": {},
   "outputs": [
    {
     "name": "stdout",
     "output_type": "stream",
     "text": [
      "Epoch 1/100\n",
      "38/38 - 2s - loss: 0.6066 - accuracy: 0.8155 - val_loss: 0.2957 - val_accuracy: 0.8875 - 2s/epoch - 47ms/step\n",
      "Epoch 2/100\n",
      "38/38 - 0s - loss: 0.1999 - accuracy: 0.9358 - val_loss: 0.1847 - val_accuracy: 0.9125 - 239ms/epoch - 6ms/step\n",
      "Epoch 3/100\n",
      "38/38 - 0s - loss: 0.1722 - accuracy: 0.9465 - val_loss: 0.1579 - val_accuracy: 0.9375 - 256ms/epoch - 7ms/step\n",
      "Epoch 4/100\n",
      "38/38 - 0s - loss: 0.1246 - accuracy: 0.9519 - val_loss: 0.1277 - val_accuracy: 0.9500 - 258ms/epoch - 7ms/step\n",
      "Epoch 5/100\n",
      "38/38 - 0s - loss: 0.0780 - accuracy: 0.9679 - val_loss: 0.1129 - val_accuracy: 0.9625 - 282ms/epoch - 7ms/step\n",
      "Epoch 6/100\n",
      "38/38 - 0s - loss: 0.0554 - accuracy: 0.9759 - val_loss: 0.1352 - val_accuracy: 0.9625 - 245ms/epoch - 6ms/step\n",
      "Epoch 7/100\n",
      "38/38 - 0s - loss: 0.0465 - accuracy: 0.9786 - val_loss: 0.2201 - val_accuracy: 0.9625 - 255ms/epoch - 7ms/step\n",
      "Epoch 8/100\n",
      "38/38 - 0s - loss: 0.0323 - accuracy: 0.9866 - val_loss: 0.1671 - val_accuracy: 0.9625 - 220ms/epoch - 6ms/step\n",
      "Epoch 9/100\n",
      "38/38 - 0s - loss: 0.0261 - accuracy: 0.9840 - val_loss: 0.2870 - val_accuracy: 0.9500 - 230ms/epoch - 6ms/step\n",
      "Epoch 10/100\n",
      "38/38 - 0s - loss: 0.0550 - accuracy: 0.9813 - val_loss: 0.1698 - val_accuracy: 0.9625 - 263ms/epoch - 7ms/step\n",
      "Epoch 11/100\n",
      "38/38 - 0s - loss: 0.0378 - accuracy: 0.9866 - val_loss: 0.1764 - val_accuracy: 0.9750 - 279ms/epoch - 7ms/step\n",
      "Epoch 12/100\n",
      "38/38 - 0s - loss: 0.0128 - accuracy: 0.9947 - val_loss: 0.2039 - val_accuracy: 0.9750 - 229ms/epoch - 6ms/step\n",
      "Epoch 13/100\n",
      "38/38 - 0s - loss: 0.0434 - accuracy: 0.9813 - val_loss: 0.1609 - val_accuracy: 0.9625 - 340ms/epoch - 9ms/step\n",
      "Epoch 14/100\n",
      "38/38 - 0s - loss: 0.0171 - accuracy: 0.9973 - val_loss: 0.2023 - val_accuracy: 0.9750 - 247ms/epoch - 6ms/step\n",
      "Epoch 15/100\n",
      "38/38 - 0s - loss: 0.0039 - accuracy: 1.0000 - val_loss: 0.2470 - val_accuracy: 0.9750 - 253ms/epoch - 7ms/step\n",
      "Epoch 16/100\n",
      "38/38 - 0s - loss: 0.0017 - accuracy: 1.0000 - val_loss: 0.2462 - val_accuracy: 0.9750 - 224ms/epoch - 6ms/step\n",
      "Epoch 17/100\n",
      "38/38 - 0s - loss: 0.0020 - accuracy: 1.0000 - val_loss: 0.3008 - val_accuracy: 0.9750 - 246ms/epoch - 6ms/step\n",
      "Epoch 18/100\n",
      "38/38 - 0s - loss: 0.0015 - accuracy: 1.0000 - val_loss: 0.2371 - val_accuracy: 0.9625 - 234ms/epoch - 6ms/step\n",
      "Epoch 19/100\n",
      "38/38 - 0s - loss: 0.0042 - accuracy: 0.9973 - val_loss: 0.3144 - val_accuracy: 0.9750 - 291ms/epoch - 8ms/step\n",
      "Epoch 20/100\n",
      "38/38 - 0s - loss: 0.0015 - accuracy: 1.0000 - val_loss: 0.3058 - val_accuracy: 0.9750 - 259ms/epoch - 7ms/step\n",
      "Epoch 21/100\n",
      "38/38 - 0s - loss: 3.8443e-04 - accuracy: 1.0000 - val_loss: 0.3036 - val_accuracy: 0.9750 - 269ms/epoch - 7ms/step\n",
      "Epoch 22/100\n",
      "38/38 - 0s - loss: 2.2607e-04 - accuracy: 1.0000 - val_loss: 0.3030 - val_accuracy: 0.9750 - 234ms/epoch - 6ms/step\n",
      "Epoch 23/100\n",
      "38/38 - 0s - loss: 1.0369e-04 - accuracy: 1.0000 - val_loss: 0.3050 - val_accuracy: 0.9750 - 292ms/epoch - 8ms/step\n",
      "Epoch 24/100\n",
      "38/38 - 0s - loss: 5.6391e-04 - accuracy: 1.0000 - val_loss: 0.2965 - val_accuracy: 0.9750 - 295ms/epoch - 8ms/step\n",
      "Epoch 25/100\n",
      "38/38 - 0s - loss: 2.1738e-04 - accuracy: 1.0000 - val_loss: 0.2933 - val_accuracy: 0.9750 - 373ms/epoch - 10ms/step\n",
      "Epoch 26/100\n",
      "38/38 - 0s - loss: 2.0442e-04 - accuracy: 1.0000 - val_loss: 0.2851 - val_accuracy: 0.9750 - 296ms/epoch - 8ms/step\n",
      "Epoch 27/100\n",
      "38/38 - 0s - loss: 1.8222e-04 - accuracy: 1.0000 - val_loss: 0.2766 - val_accuracy: 0.9750 - 255ms/epoch - 7ms/step\n",
      "Epoch 28/100\n",
      "38/38 - 0s - loss: 1.6848e-04 - accuracy: 1.0000 - val_loss: 0.3082 - val_accuracy: 0.9750 - 226ms/epoch - 6ms/step\n",
      "Epoch 29/100\n",
      "38/38 - 0s - loss: 1.0304e-04 - accuracy: 1.0000 - val_loss: 0.3099 - val_accuracy: 0.9750 - 271ms/epoch - 7ms/step\n",
      "Epoch 30/100\n",
      "38/38 - 0s - loss: 2.2333e-04 - accuracy: 1.0000 - val_loss: 0.3345 - val_accuracy: 0.9750 - 259ms/epoch - 7ms/step\n",
      "Epoch 31/100\n",
      "38/38 - 0s - loss: 9.4015e-05 - accuracy: 1.0000 - val_loss: 0.3193 - val_accuracy: 0.9750 - 235ms/epoch - 6ms/step\n",
      "Epoch 32/100\n",
      "38/38 - 0s - loss: 4.6287e-05 - accuracy: 1.0000 - val_loss: 0.3088 - val_accuracy: 0.9750 - 223ms/epoch - 6ms/step\n",
      "Epoch 33/100\n",
      "38/38 - 0s - loss: 2.5976e-05 - accuracy: 1.0000 - val_loss: 0.3104 - val_accuracy: 0.9750 - 246ms/epoch - 6ms/step\n",
      "Epoch 34/100\n",
      "38/38 - 0s - loss: 3.3419e-05 - accuracy: 1.0000 - val_loss: 0.3063 - val_accuracy: 0.9750 - 277ms/epoch - 7ms/step\n",
      "Epoch 35/100\n",
      "38/38 - 0s - loss: 1.5307e-04 - accuracy: 1.0000 - val_loss: 0.2846 - val_accuracy: 0.9625 - 256ms/epoch - 7ms/step\n",
      "Epoch 36/100\n",
      "38/38 - 0s - loss: 2.5062e-04 - accuracy: 1.0000 - val_loss: 0.3197 - val_accuracy: 0.9750 - 242ms/epoch - 6ms/step\n",
      "Epoch 37/100\n",
      "38/38 - 0s - loss: 1.0477e-04 - accuracy: 1.0000 - val_loss: 0.2908 - val_accuracy: 0.9625 - 377ms/epoch - 10ms/step\n",
      "Epoch 38/100\n",
      "38/38 - 0s - loss: 7.5394e-05 - accuracy: 1.0000 - val_loss: 0.3127 - val_accuracy: 0.9750 - 235ms/epoch - 6ms/step\n",
      "Epoch 39/100\n",
      "38/38 - 0s - loss: 3.5970e-05 - accuracy: 1.0000 - val_loss: 0.3153 - val_accuracy: 0.9750 - 229ms/epoch - 6ms/step\n",
      "Epoch 40/100\n",
      "38/38 - 0s - loss: 1.3308e-05 - accuracy: 1.0000 - val_loss: 0.3182 - val_accuracy: 0.9750 - 280ms/epoch - 7ms/step\n",
      "Epoch 41/100\n",
      "38/38 - 0s - loss: 1.5876e-05 - accuracy: 1.0000 - val_loss: 0.3155 - val_accuracy: 0.9750 - 247ms/epoch - 6ms/step\n",
      "Epoch 42/100\n",
      "38/38 - 0s - loss: 3.6585e-05 - accuracy: 1.0000 - val_loss: 0.3109 - val_accuracy: 0.9750 - 231ms/epoch - 6ms/step\n",
      "Epoch 43/100\n",
      "38/38 - 0s - loss: 1.1378e-04 - accuracy: 1.0000 - val_loss: 0.2973 - val_accuracy: 0.9750 - 229ms/epoch - 6ms/step\n",
      "Epoch 44/100\n",
      "38/38 - 0s - loss: 2.9234e-05 - accuracy: 1.0000 - val_loss: 0.3051 - val_accuracy: 0.9750 - 222ms/epoch - 6ms/step\n",
      "Epoch 45/100\n",
      "38/38 - 0s - loss: 6.5670e-05 - accuracy: 1.0000 - val_loss: 0.3035 - val_accuracy: 0.9750 - 225ms/epoch - 6ms/step\n",
      "Epoch 46/100\n",
      "38/38 - 0s - loss: 2.4994e-05 - accuracy: 1.0000 - val_loss: 0.3055 - val_accuracy: 0.9750 - 235ms/epoch - 6ms/step\n",
      "Epoch 47/100\n",
      "38/38 - 0s - loss: 1.7020e-05 - accuracy: 1.0000 - val_loss: 0.3016 - val_accuracy: 0.9750 - 238ms/epoch - 6ms/step\n",
      "Epoch 48/100\n",
      "38/38 - 0s - loss: 6.0415e-06 - accuracy: 1.0000 - val_loss: 0.3041 - val_accuracy: 0.9750 - 253ms/epoch - 7ms/step\n",
      "Epoch 49/100\n",
      "38/38 - 0s - loss: 1.9426e-05 - accuracy: 1.0000 - val_loss: 0.3089 - val_accuracy: 0.9750 - 247ms/epoch - 7ms/step\n",
      "Epoch 50/100\n",
      "38/38 - 0s - loss: 9.4507e-06 - accuracy: 1.0000 - val_loss: 0.3123 - val_accuracy: 0.9750 - 275ms/epoch - 7ms/step\n",
      "Epoch 51/100\n",
      "38/38 - 0s - loss: 2.1421e-04 - accuracy: 1.0000 - val_loss: 0.2898 - val_accuracy: 0.9750 - 243ms/epoch - 6ms/step\n",
      "Epoch 52/100\n",
      "38/38 - 0s - loss: 1.2815e-05 - accuracy: 1.0000 - val_loss: 0.3009 - val_accuracy: 0.9750 - 245ms/epoch - 6ms/step\n",
      "Epoch 53/100\n",
      "38/38 - 0s - loss: 3.4924e-05 - accuracy: 1.0000 - val_loss: 0.3051 - val_accuracy: 0.9750 - 223ms/epoch - 6ms/step\n",
      "Epoch 54/100\n",
      "38/38 - 0s - loss: 2.8698e-05 - accuracy: 1.0000 - val_loss: 0.3207 - val_accuracy: 0.9750 - 231ms/epoch - 6ms/step\n",
      "Epoch 55/100\n",
      "38/38 - 0s - loss: 1.0993e-05 - accuracy: 1.0000 - val_loss: 0.3324 - val_accuracy: 0.9750 - 217ms/epoch - 6ms/step\n",
      "Epoch 56/100\n",
      "38/38 - 0s - loss: 7.6555e-06 - accuracy: 1.0000 - val_loss: 0.3313 - val_accuracy: 0.9750 - 222ms/epoch - 6ms/step\n",
      "Epoch 57/100\n",
      "38/38 - 0s - loss: 1.7669e-05 - accuracy: 1.0000 - val_loss: 0.3264 - val_accuracy: 0.9750 - 241ms/epoch - 6ms/step\n",
      "Epoch 58/100\n",
      "38/38 - 0s - loss: 6.2952e-06 - accuracy: 1.0000 - val_loss: 0.3277 - val_accuracy: 0.9750 - 302ms/epoch - 8ms/step\n",
      "Epoch 59/100\n",
      "38/38 - 0s - loss: 8.0349e-06 - accuracy: 1.0000 - val_loss: 0.3285 - val_accuracy: 0.9750 - 276ms/epoch - 7ms/step\n",
      "Epoch 60/100\n",
      "38/38 - 0s - loss: 6.2370e-06 - accuracy: 1.0000 - val_loss: 0.3288 - val_accuracy: 0.9750 - 244ms/epoch - 6ms/step\n",
      "Epoch 61/100\n",
      "38/38 - 0s - loss: 1.3986e-05 - accuracy: 1.0000 - val_loss: 0.3250 - val_accuracy: 0.9750 - 241ms/epoch - 6ms/step\n",
      "Epoch 62/100\n",
      "38/38 - 0s - loss: 3.7798e-05 - accuracy: 1.0000 - val_loss: 0.3096 - val_accuracy: 0.9750 - 241ms/epoch - 6ms/step\n",
      "Epoch 63/100\n",
      "38/38 - 0s - loss: 1.3032e-04 - accuracy: 1.0000 - val_loss: 0.3492 - val_accuracy: 0.9750 - 218ms/epoch - 6ms/step\n",
      "Epoch 64/100\n",
      "38/38 - 0s - loss: 1.5454e-05 - accuracy: 1.0000 - val_loss: 0.3151 - val_accuracy: 0.9750 - 212ms/epoch - 6ms/step\n",
      "Epoch 65/100\n",
      "38/38 - 0s - loss: 7.5232e-06 - accuracy: 1.0000 - val_loss: 0.3141 - val_accuracy: 0.9625 - 268ms/epoch - 7ms/step\n",
      "Epoch 66/100\n",
      "38/38 - 0s - loss: 1.2906e-05 - accuracy: 1.0000 - val_loss: 0.3227 - val_accuracy: 0.9750 - 236ms/epoch - 6ms/step\n",
      "Epoch 67/100\n",
      "38/38 - 0s - loss: 8.6535e-06 - accuracy: 1.0000 - val_loss: 0.3313 - val_accuracy: 0.9750 - 234ms/epoch - 6ms/step\n",
      "Epoch 68/100\n",
      "38/38 - 0s - loss: 1.2266e-05 - accuracy: 1.0000 - val_loss: 0.3266 - val_accuracy: 0.9750 - 250ms/epoch - 7ms/step\n",
      "Epoch 69/100\n",
      "38/38 - 0s - loss: 9.9632e-06 - accuracy: 1.0000 - val_loss: 0.3334 - val_accuracy: 0.9750 - 212ms/epoch - 6ms/step\n",
      "Epoch 70/100\n",
      "38/38 - 0s - loss: 9.0545e-06 - accuracy: 1.0000 - val_loss: 0.3339 - val_accuracy: 0.9750 - 245ms/epoch - 6ms/step\n",
      "Epoch 71/100\n",
      "38/38 - 0s - loss: 1.8002e-05 - accuracy: 1.0000 - val_loss: 0.3401 - val_accuracy: 0.9750 - 208ms/epoch - 5ms/step\n",
      "Epoch 72/100\n",
      "38/38 - 0s - loss: 9.5464e-06 - accuracy: 1.0000 - val_loss: 0.3330 - val_accuracy: 0.9750 - 215ms/epoch - 6ms/step\n",
      "Epoch 73/100\n",
      "38/38 - 0s - loss: 1.4370e-05 - accuracy: 1.0000 - val_loss: 0.3070 - val_accuracy: 0.9625 - 222ms/epoch - 6ms/step\n",
      "Epoch 74/100\n",
      "38/38 - 0s - loss: 2.5413e-05 - accuracy: 1.0000 - val_loss: 0.3231 - val_accuracy: 0.9750 - 239ms/epoch - 6ms/step\n",
      "Epoch 75/100\n",
      "38/38 - 0s - loss: 6.1504e-06 - accuracy: 1.0000 - val_loss: 0.3353 - val_accuracy: 0.9750 - 245ms/epoch - 6ms/step\n",
      "Epoch 76/100\n",
      "38/38 - 0s - loss: 7.9222e-06 - accuracy: 1.0000 - val_loss: 0.3309 - val_accuracy: 0.9750 - 248ms/epoch - 7ms/step\n",
      "Epoch 77/100\n",
      "38/38 - 0s - loss: 9.3246e-06 - accuracy: 1.0000 - val_loss: 0.3116 - val_accuracy: 0.9750 - 214ms/epoch - 6ms/step\n",
      "Epoch 78/100\n",
      "38/38 - 0s - loss: 1.1432e-05 - accuracy: 1.0000 - val_loss: 0.3272 - val_accuracy: 0.9750 - 211ms/epoch - 6ms/step\n",
      "Epoch 79/100\n",
      "38/38 - 0s - loss: 3.2176e-05 - accuracy: 1.0000 - val_loss: 0.3068 - val_accuracy: 0.9750 - 232ms/epoch - 6ms/step\n",
      "Epoch 80/100\n",
      "38/38 - 0s - loss: 1.6167e-05 - accuracy: 1.0000 - val_loss: 0.3144 - val_accuracy: 0.9750 - 208ms/epoch - 5ms/step\n",
      "Epoch 81/100\n",
      "38/38 - 0s - loss: 6.7759e-06 - accuracy: 1.0000 - val_loss: 0.3362 - val_accuracy: 0.9750 - 208ms/epoch - 5ms/step\n",
      "Epoch 82/100\n",
      "38/38 - 0s - loss: 5.9768e-06 - accuracy: 1.0000 - val_loss: 0.3388 - val_accuracy: 0.9750 - 218ms/epoch - 6ms/step\n",
      "Epoch 83/100\n",
      "38/38 - 0s - loss: 4.1384e-06 - accuracy: 1.0000 - val_loss: 0.3415 - val_accuracy: 0.9750 - 256ms/epoch - 7ms/step\n",
      "Epoch 84/100\n",
      "38/38 - 0s - loss: 1.1720e-05 - accuracy: 1.0000 - val_loss: 0.3293 - val_accuracy: 0.9750 - 227ms/epoch - 6ms/step\n",
      "Epoch 85/100\n",
      "38/38 - 0s - loss: 2.4186e-06 - accuracy: 1.0000 - val_loss: 0.3295 - val_accuracy: 0.9750 - 333ms/epoch - 9ms/step\n",
      "Epoch 86/100\n",
      "38/38 - 0s - loss: 1.8554e-05 - accuracy: 1.0000 - val_loss: 0.3554 - val_accuracy: 0.9750 - 267ms/epoch - 7ms/step\n",
      "Epoch 87/100\n",
      "38/38 - 0s - loss: 2.6033e-06 - accuracy: 1.0000 - val_loss: 0.3559 - val_accuracy: 0.9750 - 250ms/epoch - 7ms/step\n",
      "Epoch 88/100\n",
      "38/38 - 0s - loss: 3.7183e-06 - accuracy: 1.0000 - val_loss: 0.3536 - val_accuracy: 0.9750 - 268ms/epoch - 7ms/step\n",
      "Epoch 89/100\n",
      "38/38 - 0s - loss: 9.1060e-07 - accuracy: 1.0000 - val_loss: 0.3555 - val_accuracy: 0.9750 - 230ms/epoch - 6ms/step\n",
      "Epoch 90/100\n",
      "38/38 - 0s - loss: 3.4909e-06 - accuracy: 1.0000 - val_loss: 0.3530 - val_accuracy: 0.9750 - 236ms/epoch - 6ms/step\n",
      "Epoch 91/100\n",
      "38/38 - 0s - loss: 1.6422e-06 - accuracy: 1.0000 - val_loss: 0.3505 - val_accuracy: 0.9750 - 248ms/epoch - 7ms/step\n",
      "Epoch 92/100\n",
      "38/38 - 0s - loss: 6.8112e-07 - accuracy: 1.0000 - val_loss: 0.3503 - val_accuracy: 0.9750 - 238ms/epoch - 6ms/step\n",
      "Epoch 93/100\n",
      "38/38 - 0s - loss: 2.2973e-06 - accuracy: 1.0000 - val_loss: 0.3472 - val_accuracy: 0.9750 - 236ms/epoch - 6ms/step\n",
      "Epoch 94/100\n",
      "38/38 - 0s - loss: 1.3913e-05 - accuracy: 1.0000 - val_loss: 0.3270 - val_accuracy: 0.9750 - 216ms/epoch - 6ms/step\n",
      "Epoch 95/100\n",
      "38/38 - 0s - loss: 7.6155e-06 - accuracy: 1.0000 - val_loss: 0.3696 - val_accuracy: 0.9750 - 276ms/epoch - 7ms/step\n",
      "Epoch 96/100\n",
      "38/38 - 0s - loss: 5.2148e-06 - accuracy: 1.0000 - val_loss: 0.3565 - val_accuracy: 0.9750 - 224ms/epoch - 6ms/step\n",
      "Epoch 97/100\n",
      "38/38 - 0s - loss: 3.4074e-06 - accuracy: 1.0000 - val_loss: 0.3530 - val_accuracy: 0.9750 - 231ms/epoch - 6ms/step\n",
      "Epoch 98/100\n",
      "38/38 - 0s - loss: 2.0854e-06 - accuracy: 1.0000 - val_loss: 0.3546 - val_accuracy: 0.9750 - 245ms/epoch - 6ms/step\n",
      "Epoch 99/100\n",
      "38/38 - 0s - loss: 1.9216e-04 - accuracy: 1.0000 - val_loss: 0.3749 - val_accuracy: 0.9750 - 243ms/epoch - 6ms/step\n",
      "Epoch 100/100\n",
      "38/38 - 0s - loss: 3.6858e-07 - accuracy: 1.0000 - val_loss: 0.3926 - val_accuracy: 0.9750 - 250ms/epoch - 7ms/step\n"
     ]
    }
   ],
   "source": [
    "history = model3.fit(train_x, train_y, epochs=100, validation_data=(validation_x,validation_y),batch_size=10, shuffle=False,verbose=2)\n"
   ]
  },
  {
   "cell_type": "code",
   "execution_count": 139,
   "metadata": {},
   "outputs": [
    {
     "name": "stdout",
     "output_type": "stream",
     "text": [
      "3/3 [==============================] - 0s 4ms/step - loss: 0.3926 - accuracy: 0.9750\n"
     ]
    },
    {
     "data": {
      "text/plain": [
       "[0.3926492929458618, 0.9750000238418579]"
      ]
     },
     "execution_count": 139,
     "metadata": {},
     "output_type": "execute_result"
    }
   ],
   "source": [
    "model3.evaluate(validation_x,validation_y)"
   ]
  },
  {
   "cell_type": "code",
   "execution_count": 140,
   "metadata": {},
   "outputs": [
    {
     "name": "stdout",
     "output_type": "stream",
     "text": [
      "3/3 [==============================] - 0s 5ms/step - loss: 0.1099 - accuracy: 0.9753\n"
     ]
    },
    {
     "data": {
      "text/plain": [
       "[0.10993000119924545, 0.9753086566925049]"
      ]
     },
     "execution_count": 140,
     "metadata": {},
     "output_type": "execute_result"
    }
   ],
   "source": [
    "model3.evaluate(test_x,test_y)"
   ]
  },
  {
   "cell_type": "code",
   "execution_count": 141,
   "metadata": {},
   "outputs": [
    {
     "name": "stdout",
     "output_type": "stream",
     "text": [
      "12/12 [==============================] - 0s 7ms/step - loss: 2.5065e-07 - accuracy: 1.0000\n"
     ]
    },
    {
     "data": {
      "text/plain": [
       "[2.5065085651476693e-07, 1.0]"
      ]
     },
     "execution_count": 141,
     "metadata": {},
     "output_type": "execute_result"
    }
   ],
   "source": [
    "model3.evaluate(train_x,train_y)"
   ]
  },
  {
   "cell_type": "code",
   "execution_count": 143,
   "metadata": {},
   "outputs": [
    {
     "name": "stdout",
     "output_type": "stream",
     "text": [
      "dict_keys(['loss', 'accuracy', 'val_loss', 'val_accuracy'])\n"
     ]
    },
    {
     "data": {
      "image/png": "[encoded data removed]",
      "text/plain": [
       "<Figure size 640x480 with 1 Axes>"
      ]
     },
     "metadata": {},
     "output_type": "display_data"
    },
    {
     "data": {
      "image/png": "[encoded data removed]",
      "text/plain": [
       "<Figure size 640x480 with 1 Axes>"
      ]
     },
     "metadata": {},
     "output_type": "display_data"
    }
   ],
   "source": [
    "print(history.history.keys())\n",
    "#  \"Accuracy\"\n",
    "plt.plot(history.history['accuracy'])\n",
    "plt.plot(history.history['val_accuracy'])\n",
    "plt.title('model accuracy')\n",
    "plt.ylabel('accuracy')\n",
    "plt.xlabel('epoch')\n",
    "plt.legend(['train', 'validation'], loc='upper left')\n",
    "plt.show()\n",
    "# \"Loss\"\n",
    "plt.plot(history.history['loss'])\n",
    "plt.plot(history.history['val_loss'])\n",
    "plt.title('model loss')\n",
    "plt.ylabel('loss')\n",
    "plt.xlabel('epoch')\n",
    "plt.legend(['train', 'validation'], loc='upper left')\n",
    "plt.show()"
   ]
  },
  {
   "cell_type": "code",
   "execution_count": 144,
   "metadata": {},
   "outputs": [],
   "source": [
    "model4 = Sequential()\n",
    "model4.add(Conv1D(64, 2, input_shape=(64, 12)))\n",
    "model4.add(Activation('relu'))\n",
    "model4.add(Conv1D(64, 2))\n",
    "model4.add(Activation('relu'))\n",
    "model4.add(MaxPooling1D(3))\n",
    "model4.add(Conv1D(128, 2))\n",
    "model4.add(Activation('relu'))\n",
    "model4.add(Conv1D(128, 2))\n",
    "model4.add(Activation('relu'))\n",
    "model4.add(GlobalAveragePooling1D())\n",
    "model4.add(Dropout(0.2))\n",
    "model4.add(Dense(1))\n",
    "model4.add(Activation('sigmoid'))\n"
   ]
  },
  {
   "cell_type": "code",
   "execution_count": 145,
   "metadata": {},
   "outputs": [
    {
     "name": "stderr",
     "output_type": "stream",
     "text": [
      "c:\\Program Files\\Python37\\lib\\site-packages\\keras\\optimizers\\optimizer_v2\\adam.py:117: UserWarning: The `lr` argument is deprecated, use `learning_rate` instead.\n",
      "  super().__init__(name, **kwargs)\n"
     ]
    }
   ],
   "source": [
    "model4.compile(loss='binary_crossentropy',optimizer=Adam(lr=0.0001),metrics=['accuracy'])"
   ]
  },
  {
   "cell_type": "code",
   "execution_count": 146,
   "metadata": {},
   "outputs": [
    {
     "name": "stdout",
     "output_type": "stream",
     "text": [
      "Epoch 1/100\n",
      "38/38 - 1s - loss: 0.6392 - accuracy: 0.7273 - val_loss: 0.3098 - val_accuracy: 0.8625 - 1s/epoch - 35ms/step\n",
      "Epoch 2/100\n",
      "38/38 - 0s - loss: 0.3405 - accuracy: 0.8529 - val_loss: 0.2579 - val_accuracy: 0.9000 - 244ms/epoch - 6ms/step\n",
      "Epoch 3/100\n",
      "38/38 - 0s - loss: 0.2811 - accuracy: 0.8743 - val_loss: 0.2223 - val_accuracy: 0.9000 - 281ms/epoch - 7ms/step\n",
      "Epoch 4/100\n",
      "38/38 - 0s - loss: 0.2456 - accuracy: 0.9091 - val_loss: 0.1957 - val_accuracy: 0.9125 - 238ms/epoch - 6ms/step\n",
      "Epoch 5/100\n",
      "38/38 - 0s - loss: 0.2212 - accuracy: 0.9171 - val_loss: 0.1970 - val_accuracy: 0.9250 - 247ms/epoch - 7ms/step\n",
      "Epoch 6/100\n",
      "38/38 - 0s - loss: 0.1793 - accuracy: 0.9358 - val_loss: 0.1739 - val_accuracy: 0.9125 - 256ms/epoch - 7ms/step\n",
      "Epoch 7/100\n",
      "38/38 - 0s - loss: 0.1812 - accuracy: 0.9251 - val_loss: 0.1621 - val_accuracy: 0.9250 - 306ms/epoch - 8ms/step\n",
      "Epoch 8/100\n",
      "38/38 - 0s - loss: 0.1425 - accuracy: 0.9385 - val_loss: 0.1526 - val_accuracy: 0.9250 - 286ms/epoch - 8ms/step\n",
      "Epoch 9/100\n",
      "38/38 - 0s - loss: 0.1536 - accuracy: 0.9385 - val_loss: 0.1563 - val_accuracy: 0.9375 - 239ms/epoch - 6ms/step\n",
      "Epoch 10/100\n",
      "38/38 - 0s - loss: 0.1234 - accuracy: 0.9626 - val_loss: 0.1403 - val_accuracy: 0.9250 - 234ms/epoch - 6ms/step\n",
      "Epoch 11/100\n",
      "38/38 - 0s - loss: 0.1124 - accuracy: 0.9652 - val_loss: 0.1368 - val_accuracy: 0.9375 - 255ms/epoch - 7ms/step\n",
      "Epoch 12/100\n",
      "38/38 - 0s - loss: 0.0991 - accuracy: 0.9626 - val_loss: 0.1350 - val_accuracy: 0.9375 - 231ms/epoch - 6ms/step\n",
      "Epoch 13/100\n",
      "38/38 - 0s - loss: 0.0883 - accuracy: 0.9759 - val_loss: 0.1425 - val_accuracy: 0.9375 - 253ms/epoch - 7ms/step\n",
      "Epoch 14/100\n",
      "38/38 - 0s - loss: 0.0797 - accuracy: 0.9679 - val_loss: 0.1395 - val_accuracy: 0.9500 - 243ms/epoch - 6ms/step\n",
      "Epoch 15/100\n",
      "38/38 - 0s - loss: 0.0820 - accuracy: 0.9733 - val_loss: 0.1417 - val_accuracy: 0.9500 - 254ms/epoch - 7ms/step\n",
      "Epoch 16/100\n",
      "38/38 - 0s - loss: 0.0711 - accuracy: 0.9866 - val_loss: 0.1155 - val_accuracy: 0.9625 - 243ms/epoch - 6ms/step\n",
      "Epoch 17/100\n",
      "38/38 - 0s - loss: 0.0670 - accuracy: 0.9813 - val_loss: 0.1290 - val_accuracy: 0.9500 - 255ms/epoch - 7ms/step\n",
      "Epoch 18/100\n",
      "38/38 - 0s - loss: 0.0574 - accuracy: 0.9840 - val_loss: 0.1139 - val_accuracy: 0.9625 - 237ms/epoch - 6ms/step\n",
      "Epoch 19/100\n",
      "38/38 - 0s - loss: 0.0626 - accuracy: 0.9786 - val_loss: 0.1048 - val_accuracy: 0.9625 - 242ms/epoch - 6ms/step\n",
      "Epoch 20/100\n",
      "38/38 - 0s - loss: 0.0518 - accuracy: 0.9866 - val_loss: 0.1370 - val_accuracy: 0.9625 - 224ms/epoch - 6ms/step\n",
      "Epoch 21/100\n",
      "38/38 - 0s - loss: 0.0529 - accuracy: 0.9866 - val_loss: 0.1217 - val_accuracy: 0.9625 - 286ms/epoch - 8ms/step\n",
      "Epoch 22/100\n",
      "38/38 - 0s - loss: 0.0403 - accuracy: 0.9920 - val_loss: 0.1190 - val_accuracy: 0.9625 - 242ms/epoch - 6ms/step\n",
      "Epoch 23/100\n",
      "38/38 - 0s - loss: 0.0342 - accuracy: 0.9920 - val_loss: 0.1365 - val_accuracy: 0.9625 - 314ms/epoch - 8ms/step\n",
      "Epoch 24/100\n",
      "38/38 - 0s - loss: 0.0321 - accuracy: 0.9947 - val_loss: 0.1228 - val_accuracy: 0.9750 - 241ms/epoch - 6ms/step\n",
      "Epoch 25/100\n",
      "38/38 - 0s - loss: 0.0257 - accuracy: 0.9973 - val_loss: 0.1257 - val_accuracy: 0.9625 - 229ms/epoch - 6ms/step\n",
      "Epoch 26/100\n",
      "38/38 - 0s - loss: 0.0241 - accuracy: 0.9947 - val_loss: 0.1240 - val_accuracy: 0.9625 - 226ms/epoch - 6ms/step\n",
      "Epoch 27/100\n",
      "38/38 - 0s - loss: 0.0207 - accuracy: 1.0000 - val_loss: 0.1257 - val_accuracy: 0.9750 - 239ms/epoch - 6ms/step\n",
      "Epoch 28/100\n",
      "38/38 - 0s - loss: 0.0260 - accuracy: 0.9920 - val_loss: 0.1319 - val_accuracy: 0.9625 - 226ms/epoch - 6ms/step\n",
      "Epoch 29/100\n",
      "38/38 - 0s - loss: 0.0204 - accuracy: 0.9973 - val_loss: 0.1233 - val_accuracy: 0.9625 - 253ms/epoch - 7ms/step\n",
      "Epoch 30/100\n",
      "38/38 - 0s - loss: 0.0162 - accuracy: 1.0000 - val_loss: 0.1211 - val_accuracy: 0.9625 - 241ms/epoch - 6ms/step\n",
      "Epoch 31/100\n",
      "38/38 - 0s - loss: 0.0177 - accuracy: 1.0000 - val_loss: 0.1331 - val_accuracy: 0.9750 - 263ms/epoch - 7ms/step\n",
      "Epoch 32/100\n",
      "38/38 - 0s - loss: 0.0146 - accuracy: 1.0000 - val_loss: 0.1302 - val_accuracy: 0.9750 - 249ms/epoch - 7ms/step\n",
      "Epoch 33/100\n",
      "38/38 - 0s - loss: 0.0119 - accuracy: 1.0000 - val_loss: 0.1380 - val_accuracy: 0.9875 - 225ms/epoch - 6ms/step\n",
      "Epoch 34/100\n",
      "38/38 - 0s - loss: 0.0126 - accuracy: 0.9973 - val_loss: 0.1401 - val_accuracy: 0.9750 - 256ms/epoch - 7ms/step\n",
      "Epoch 35/100\n",
      "38/38 - 0s - loss: 0.0089 - accuracy: 1.0000 - val_loss: 0.1384 - val_accuracy: 0.9750 - 260ms/epoch - 7ms/step\n",
      "Epoch 36/100\n",
      "38/38 - 0s - loss: 0.0115 - accuracy: 0.9973 - val_loss: 0.1433 - val_accuracy: 0.9750 - 228ms/epoch - 6ms/step\n",
      "Epoch 37/100\n",
      "38/38 - 0s - loss: 0.0080 - accuracy: 1.0000 - val_loss: 0.1340 - val_accuracy: 0.9750 - 240ms/epoch - 6ms/step\n",
      "Epoch 38/100\n",
      "38/38 - 0s - loss: 0.0068 - accuracy: 1.0000 - val_loss: 0.1350 - val_accuracy: 0.9625 - 240ms/epoch - 6ms/step\n",
      "Epoch 39/100\n",
      "38/38 - 0s - loss: 0.0061 - accuracy: 1.0000 - val_loss: 0.1495 - val_accuracy: 0.9625 - 263ms/epoch - 7ms/step\n",
      "Epoch 40/100\n",
      "38/38 - 0s - loss: 0.0058 - accuracy: 1.0000 - val_loss: 0.1428 - val_accuracy: 0.9625 - 256ms/epoch - 7ms/step\n",
      "Epoch 41/100\n",
      "38/38 - 0s - loss: 0.0049 - accuracy: 1.0000 - val_loss: 0.1560 - val_accuracy: 0.9625 - 254ms/epoch - 7ms/step\n",
      "Epoch 42/100\n",
      "38/38 - 0s - loss: 0.0056 - accuracy: 1.0000 - val_loss: 0.1545 - val_accuracy: 0.9875 - 230ms/epoch - 6ms/step\n",
      "Epoch 43/100\n",
      "38/38 - 0s - loss: 0.0114 - accuracy: 0.9973 - val_loss: 0.1590 - val_accuracy: 0.9750 - 260ms/epoch - 7ms/step\n",
      "Epoch 44/100\n",
      "38/38 - 0s - loss: 0.0056 - accuracy: 1.0000 - val_loss: 0.1582 - val_accuracy: 0.9750 - 246ms/epoch - 6ms/step\n",
      "Epoch 45/100\n",
      "38/38 - 0s - loss: 0.0045 - accuracy: 1.0000 - val_loss: 0.1590 - val_accuracy: 0.9625 - 276ms/epoch - 7ms/step\n",
      "Epoch 46/100\n",
      "38/38 - 0s - loss: 0.0030 - accuracy: 1.0000 - val_loss: 0.1648 - val_accuracy: 0.9625 - 240ms/epoch - 6ms/step\n",
      "Epoch 47/100\n",
      "38/38 - 0s - loss: 0.0073 - accuracy: 0.9973 - val_loss: 0.1668 - val_accuracy: 0.9625 - 256ms/epoch - 7ms/step\n",
      "Epoch 48/100\n",
      "38/38 - 0s - loss: 0.0038 - accuracy: 1.0000 - val_loss: 0.1589 - val_accuracy: 0.9750 - 240ms/epoch - 6ms/step\n",
      "Epoch 49/100\n",
      "38/38 - 0s - loss: 0.0049 - accuracy: 1.0000 - val_loss: 0.1523 - val_accuracy: 0.9750 - 229ms/epoch - 6ms/step\n",
      "Epoch 50/100\n",
      "38/38 - 0s - loss: 0.0035 - accuracy: 1.0000 - val_loss: 0.1563 - val_accuracy: 0.9750 - 224ms/epoch - 6ms/step\n",
      "Epoch 51/100\n",
      "38/38 - 0s - loss: 0.0033 - accuracy: 1.0000 - val_loss: 0.1585 - val_accuracy: 0.9625 - 246ms/epoch - 6ms/step\n",
      "Epoch 52/100\n",
      "38/38 - 0s - loss: 0.0023 - accuracy: 1.0000 - val_loss: 0.1565 - val_accuracy: 0.9750 - 229ms/epoch - 6ms/step\n",
      "Epoch 53/100\n",
      "38/38 - 0s - loss: 0.0026 - accuracy: 1.0000 - val_loss: 0.1628 - val_accuracy: 0.9625 - 239ms/epoch - 6ms/step\n",
      "Epoch 54/100\n",
      "38/38 - 0s - loss: 0.0048 - accuracy: 0.9973 - val_loss: 0.1743 - val_accuracy: 0.9625 - 248ms/epoch - 7ms/step\n",
      "Epoch 55/100\n",
      "38/38 - 0s - loss: 0.0028 - accuracy: 1.0000 - val_loss: 0.1754 - val_accuracy: 0.9750 - 259ms/epoch - 7ms/step\n",
      "Epoch 56/100\n",
      "38/38 - 0s - loss: 0.0032 - accuracy: 1.0000 - val_loss: 0.1521 - val_accuracy: 0.9875 - 243ms/epoch - 6ms/step\n",
      "Epoch 57/100\n",
      "38/38 - 0s - loss: 0.0024 - accuracy: 1.0000 - val_loss: 0.1625 - val_accuracy: 0.9750 - 235ms/epoch - 6ms/step\n",
      "Epoch 58/100\n",
      "38/38 - 0s - loss: 0.0024 - accuracy: 1.0000 - val_loss: 0.1598 - val_accuracy: 0.9750 - 225ms/epoch - 6ms/step\n",
      "Epoch 59/100\n",
      "38/38 - 0s - loss: 0.0039 - accuracy: 1.0000 - val_loss: 0.1623 - val_accuracy: 0.9625 - 239ms/epoch - 6ms/step\n",
      "Epoch 60/100\n",
      "38/38 - 0s - loss: 0.0017 - accuracy: 1.0000 - val_loss: 0.1695 - val_accuracy: 0.9750 - 226ms/epoch - 6ms/step\n",
      "Epoch 61/100\n",
      "38/38 - 0s - loss: 0.0023 - accuracy: 1.0000 - val_loss: 0.1504 - val_accuracy: 0.9625 - 265ms/epoch - 7ms/step\n",
      "Epoch 62/100\n",
      "38/38 - 0s - loss: 0.0052 - accuracy: 0.9973 - val_loss: 0.1591 - val_accuracy: 0.9750 - 247ms/epoch - 6ms/step\n",
      "Epoch 63/100\n",
      "38/38 - 0s - loss: 0.0031 - accuracy: 1.0000 - val_loss: 0.1649 - val_accuracy: 0.9625 - 258ms/epoch - 7ms/step\n",
      "Epoch 64/100\n",
      "38/38 - 0s - loss: 0.0015 - accuracy: 1.0000 - val_loss: 0.1820 - val_accuracy: 0.9750 - 257ms/epoch - 7ms/step\n",
      "Epoch 65/100\n",
      "38/38 - 0s - loss: 0.0011 - accuracy: 1.0000 - val_loss: 0.1757 - val_accuracy: 0.9750 - 288ms/epoch - 8ms/step\n",
      "Epoch 66/100\n",
      "38/38 - 0s - loss: 0.0015 - accuracy: 1.0000 - val_loss: 0.1750 - val_accuracy: 0.9625 - 273ms/epoch - 7ms/step\n",
      "Epoch 67/100\n",
      "38/38 - 0s - loss: 0.0012 - accuracy: 1.0000 - val_loss: 0.1718 - val_accuracy: 0.9625 - 271ms/epoch - 7ms/step\n",
      "Epoch 68/100\n",
      "38/38 - 0s - loss: 8.8722e-04 - accuracy: 1.0000 - val_loss: 0.1778 - val_accuracy: 0.9750 - 230ms/epoch - 6ms/step\n",
      "Epoch 69/100\n",
      "38/38 - 0s - loss: 0.0016 - accuracy: 1.0000 - val_loss: 0.1836 - val_accuracy: 0.9625 - 242ms/epoch - 6ms/step\n",
      "Epoch 70/100\n",
      "38/38 - 0s - loss: 0.0019 - accuracy: 1.0000 - val_loss: 0.1724 - val_accuracy: 0.9875 - 242ms/epoch - 6ms/step\n",
      "Epoch 71/100\n",
      "38/38 - 0s - loss: 0.0012 - accuracy: 1.0000 - val_loss: 0.1628 - val_accuracy: 0.9875 - 256ms/epoch - 7ms/step\n",
      "Epoch 72/100\n",
      "38/38 - 0s - loss: 9.0809e-04 - accuracy: 1.0000 - val_loss: 0.1702 - val_accuracy: 0.9875 - 240ms/epoch - 6ms/step\n",
      "Epoch 73/100\n",
      "38/38 - 0s - loss: 0.0015 - accuracy: 1.0000 - val_loss: 0.1674 - val_accuracy: 0.9875 - 233ms/epoch - 6ms/step\n",
      "Epoch 74/100\n",
      "38/38 - 0s - loss: 0.0015 - accuracy: 1.0000 - val_loss: 0.1691 - val_accuracy: 0.9750 - 250ms/epoch - 7ms/step\n",
      "Epoch 75/100\n",
      "38/38 - 0s - loss: 0.0015 - accuracy: 1.0000 - val_loss: 0.1851 - val_accuracy: 0.9750 - 239ms/epoch - 6ms/step\n",
      "Epoch 76/100\n",
      "38/38 - 0s - loss: 0.0014 - accuracy: 1.0000 - val_loss: 0.1786 - val_accuracy: 0.9875 - 255ms/epoch - 7ms/step\n",
      "Epoch 77/100\n",
      "38/38 - 0s - loss: 0.0013 - accuracy: 1.0000 - val_loss: 0.1532 - val_accuracy: 0.9750 - 246ms/epoch - 6ms/step\n",
      "Epoch 78/100\n",
      "38/38 - 0s - loss: 0.0013 - accuracy: 1.0000 - val_loss: 0.1742 - val_accuracy: 0.9625 - 243ms/epoch - 6ms/step\n",
      "Epoch 79/100\n",
      "38/38 - 0s - loss: 5.5943e-04 - accuracy: 1.0000 - val_loss: 0.1816 - val_accuracy: 0.9750 - 261ms/epoch - 7ms/step\n",
      "Epoch 80/100\n",
      "38/38 - 0s - loss: 5.7911e-04 - accuracy: 1.0000 - val_loss: 0.1770 - val_accuracy: 0.9750 - 239ms/epoch - 6ms/step\n",
      "Epoch 81/100\n",
      "38/38 - 0s - loss: 4.8580e-04 - accuracy: 1.0000 - val_loss: 0.1820 - val_accuracy: 0.9750 - 246ms/epoch - 6ms/step\n",
      "Epoch 82/100\n",
      "38/38 - 0s - loss: 5.4307e-04 - accuracy: 1.0000 - val_loss: 0.1821 - val_accuracy: 0.9750 - 227ms/epoch - 6ms/step\n",
      "Epoch 83/100\n",
      "38/38 - 0s - loss: 5.2010e-04 - accuracy: 1.0000 - val_loss: 0.1846 - val_accuracy: 0.9750 - 247ms/epoch - 6ms/step\n",
      "Epoch 84/100\n",
      "38/38 - 0s - loss: 4.4431e-04 - accuracy: 1.0000 - val_loss: 0.1872 - val_accuracy: 0.9750 - 232ms/epoch - 6ms/step\n",
      "Epoch 85/100\n",
      "38/38 - 0s - loss: 5.6101e-04 - accuracy: 1.0000 - val_loss: 0.1929 - val_accuracy: 0.9750 - 240ms/epoch - 6ms/step\n",
      "Epoch 86/100\n",
      "38/38 - 0s - loss: 5.3311e-04 - accuracy: 1.0000 - val_loss: 0.1991 - val_accuracy: 0.9750 - 242ms/epoch - 6ms/step\n",
      "Epoch 87/100\n",
      "38/38 - 0s - loss: 0.0025 - accuracy: 1.0000 - val_loss: 0.2149 - val_accuracy: 0.9750 - 256ms/epoch - 7ms/step\n",
      "Epoch 88/100\n",
      "38/38 - 0s - loss: 7.2064e-04 - accuracy: 1.0000 - val_loss: 0.2039 - val_accuracy: 0.9750 - 241ms/epoch - 6ms/step\n",
      "Epoch 89/100\n",
      "38/38 - 0s - loss: 6.7385e-04 - accuracy: 1.0000 - val_loss: 0.1953 - val_accuracy: 0.9750 - 233ms/epoch - 6ms/step\n",
      "Epoch 90/100\n",
      "38/38 - 0s - loss: 5.0064e-04 - accuracy: 1.0000 - val_loss: 0.1915 - val_accuracy: 0.9750 - 226ms/epoch - 6ms/step\n",
      "Epoch 91/100\n",
      "38/38 - 0s - loss: 5.5193e-04 - accuracy: 1.0000 - val_loss: 0.1950 - val_accuracy: 0.9750 - 247ms/epoch - 6ms/step\n",
      "Epoch 92/100\n",
      "38/38 - 0s - loss: 7.0283e-04 - accuracy: 1.0000 - val_loss: 0.1985 - val_accuracy: 0.9750 - 226ms/epoch - 6ms/step\n",
      "Epoch 93/100\n",
      "38/38 - 0s - loss: 5.2000e-04 - accuracy: 1.0000 - val_loss: 0.1998 - val_accuracy: 0.9625 - 234ms/epoch - 6ms/step\n",
      "Epoch 94/100\n",
      "38/38 - 0s - loss: 3.8881e-04 - accuracy: 1.0000 - val_loss: 0.1999 - val_accuracy: 0.9750 - 311ms/epoch - 8ms/step\n",
      "Epoch 95/100\n",
      "38/38 - 0s - loss: 2.5654e-04 - accuracy: 1.0000 - val_loss: 0.1984 - val_accuracy: 0.9750 - 259ms/epoch - 7ms/step\n",
      "Epoch 96/100\n",
      "38/38 - 0s - loss: 6.7745e-04 - accuracy: 1.0000 - val_loss: 0.1950 - val_accuracy: 0.9875 - 242ms/epoch - 6ms/step\n",
      "Epoch 97/100\n",
      "38/38 - 0s - loss: 4.4196e-04 - accuracy: 1.0000 - val_loss: 0.1795 - val_accuracy: 0.9750 - 237ms/epoch - 6ms/step\n",
      "Epoch 98/100\n",
      "38/38 - 0s - loss: 4.4416e-04 - accuracy: 1.0000 - val_loss: 0.1846 - val_accuracy: 0.9750 - 229ms/epoch - 6ms/step\n",
      "Epoch 99/100\n",
      "38/38 - 0s - loss: 3.2712e-04 - accuracy: 1.0000 - val_loss: 0.1872 - val_accuracy: 0.9750 - 247ms/epoch - 6ms/step\n",
      "Epoch 100/100\n",
      "38/38 - 0s - loss: 4.0412e-04 - accuracy: 1.0000 - val_loss: 0.1861 - val_accuracy: 0.9750 - 230ms/epoch - 6ms/step\n"
     ]
    }
   ],
   "source": [
    "history = model4.fit(train_x, train_y, epochs=100, validation_data=(validation_x,validation_y),batch_size=10, shuffle=False,verbose=2)\n"
   ]
  },
  {
   "cell_type": "code",
   "execution_count": 147,
   "metadata": {},
   "outputs": [
    {
     "name": "stdout",
     "output_type": "stream",
     "text": [
      "3/3 [==============================] - 0s 4ms/step - loss: 0.1861 - accuracy: 0.9750\n"
     ]
    },
    {
     "data": {
      "text/plain": [
       "[0.1860744059085846, 0.9750000238418579]"
      ]
     },
     "execution_count": 147,
     "metadata": {},
     "output_type": "execute_result"
    }
   ],
   "source": [
    "model4.evaluate(validation_x,validation_y)"
   ]
  },
  {
   "cell_type": "code",
   "execution_count": 148,
   "metadata": {},
   "outputs": [
    {
     "name": "stdout",
     "output_type": "stream",
     "text": [
      "3/3 [==============================] - 0s 5ms/step - loss: 0.0371 - accuracy: 0.9753\n"
     ]
    },
    {
     "data": {
      "text/plain": [
       "[0.03709669038653374, 0.9753086566925049]"
      ]
     },
     "execution_count": 148,
     "metadata": {},
     "output_type": "execute_result"
    }
   ],
   "source": [
    "model4.evaluate(test_x,test_y)"
   ]
  },
  {
   "cell_type": "code",
   "execution_count": 149,
   "metadata": {},
   "outputs": [
    {
     "name": "stdout",
     "output_type": "stream",
     "text": [
      "12/12 [==============================] - 0s 5ms/step - loss: 1.3850e-04 - accuracy: 1.0000\n"
     ]
    },
    {
     "data": {
      "text/plain": [
       "[0.00013849674724042416, 1.0]"
      ]
     },
     "execution_count": 149,
     "metadata": {},
     "output_type": "execute_result"
    }
   ],
   "source": [
    "model4.evaluate(train_x,train_y)"
   ]
  },
  {
   "cell_type": "code",
   "execution_count": 150,
   "metadata": {},
   "outputs": [
    {
     "name": "stdout",
     "output_type": "stream",
     "text": [
      "dict_keys(['loss', 'accuracy', 'val_loss', 'val_accuracy'])\n"
     ]
    },
    {
     "data": {
      "image/png": "[encoded data removed]",
      "text/plain": [
       "<Figure size 640x480 with 1 Axes>"
      ]
     },
     "metadata": {},
     "output_type": "display_data"
    },
    {
     "data": {
      "image/png": "[encoded data removed]",
      "text/plain": [
       "<Figure size 640x480 with 1 Axes>"
      ]
     },
     "metadata": {},
     "output_type": "display_data"
    }
   ],
   "source": [
    "print(history.history.keys())\n",
    "#  \"Accuracy\"\n",
    "plt.plot(history.history['accuracy'])\n",
    "plt.plot(history.history['val_accuracy'])\n",
    "plt.title('model accuracy')\n",
    "plt.ylabel('accuracy')\n",
    "plt.xlabel('epoch')\n",
    "plt.legend(['train', 'validation'], loc='upper left')\n",
    "plt.show()\n",
    "# \"Loss\"\n",
    "plt.plot(history.history['loss'])\n",
    "plt.plot(history.history['val_loss'])\n",
    "plt.title('model loss')\n",
    "plt.ylabel('loss')\n",
    "plt.xlabel('epoch')\n",
    "plt.legend(['train', 'validation'], loc='upper left')\n",
    "plt.show()"
   ]
  },
  {
   "cell_type": "code",
   "execution_count": 151,
   "metadata": {},
   "outputs": [],
   "source": [
    "from sklearn.metrics import confusion_matrix, classification_report\n",
    "import seaborn as sns"
   ]
  },
  {
   "cell_type": "code",
   "execution_count": 152,
   "metadata": {},
   "outputs": [],
   "source": [
    "def plot_confusion_matrix(test_y, predicted_y):\n",
    "    # Confusion matrix\n",
    "    C = confusion_matrix(test_y, predicted_y)\n",
    "    # Recall matrix\n",
    "    A = (((C.T)/(C.sum(axis=1))).T)\n",
    "    # Precision matrix\n",
    "    B = (C/C.sum(axis=0))\n",
    "    plt.figure(figsize=(20,4))\n",
    "    labels = ['non-babycry(0)','babycry(1)']\n",
    "    cmap=sns.light_palette(\"purple\")\n",
    "    plt.subplot(1,3,1)\n",
    "    sns.heatmap(C, annot=True, cmap=cmap,fmt=\"d\", xticklabels = labels, yticklabels=labels)\n",
    "    plt.xlabel('Predicted Class')\n",
    "    plt.ylabel('Orignal Class')\n",
    "    plt.title('Confusion matrix')\n",
    "    plt.subplot(1,3,2)\n",
    "    sns.heatmap(A, annot=True, cmap=cmap, xticklabels = labels, yticklabels=labels)\n",
    "    plt.xlabel('Predicted Class')\n",
    "    plt.ylabel('Orignal Class')\n",
    "    plt.title('Recall matrix')\n",
    "    plt.subplot(1,3,3)\n",
    "    sns.heatmap(B, annot=True, cmap=cmap, xticklabels = labels, yticklabels=labels)\n",
    "    plt.xlabel('Predicted Class')\n",
    "    plt.ylabel('Orignal Class')\n",
    "    plt.title('Precision matrix')\n",
    "    plt.show()"
   ]
  },
  {
   "cell_type": "code",
   "execution_count": 153,
   "metadata": {},
   "outputs": [
    {
     "name": "stdout",
     "output_type": "stream",
     "text": [
      "3/3 [==============================] - 0s 3ms/step\n"
     ]
    }
   ],
   "source": [
    "y = model2.predict(test_x)"
   ]
  },
  {
   "cell_type": "code",
   "execution_count": 154,
   "metadata": {},
   "outputs": [
    {
     "data": {
      "image/png": "[encoded data removed]",
      "text/plain": [
       "<Figure size 2000x400 with 6 Axes>"
      ]
     },
     "metadata": {},
     "output_type": "display_data"
    }
   ],
   "source": [
    "plot_confusion_matrix(test_y, y.round())"
   ]
  },
  {
   "cell_type": "code",
   "execution_count": 155,
   "metadata": {},
   "outputs": [],
   "source": [
    "with open('cnn.json','w') as f:\n",
    "    f.write(model2.to_json())"
   ]
  },
  {
   "cell_type": "code",
   "execution_count": 156,
   "metadata": {},
   "outputs": [],
   "source": [
    "model2.save_weights(\"cnn.h5\")"
   ]
  }
 ],
 "metadata": {
  "kernelspec": {
   "display_name": "Python 3",
   "language": "python",
   "name": "python3"
  },
  "language_info": {
   "codemirror_mode": {
    "name": "ipython",
    "version": 3
   },
   "file_extension": ".py",
   "mimetype": "text/x-python",
   "name": "python",
   "nbconvert_exporter": "python",
   "pygments_lexer": "ipython3",
   "version": "3.7.9"
  }
 },
 "nbformat": 4,
 "nbformat_minor": 2
}
