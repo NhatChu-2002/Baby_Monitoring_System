{
 "cells": [
  {
   "cell_type": "code",
   "execution_count": 58,
   "metadata": {},
   "outputs": [],
   "source": [
    "import librosa\n",
    "import numpy as np\n",
    "from os.path import isfile,join\n",
    "from os import listdir\n",
    "from scipy import signal as sg\n",
    "from scipy.signal import butter,lfilter,freqz\n",
    "import matplotlib.pyplot as plt\n",
    "from scipy import hamming\n",
    "import soundfile as sf\n",
    "import scipy\n",
    "import numpy\n",
    "from scipy.fftpack import dct\n",
    "from python_speech_features import mfcc\n",
    "from python_speech_features import logfbank\n",
    "from scipy.fftpack import fft\n",
    "from scipy.io import wavfile\n",
    "import soundfile as sf\n",
    "import math\n",
    "import tensorflow\n",
    "from keras.utils import np_utils\n",
    "from keras.models import Sequential\n",
    "from keras.models import model_from_yaml\n",
    "from keras.models import model_from_json\n",
    "from keras.layers import Dense\n",
    "\n",
    "from keras import backend\n",
    "from keras.layers import Embedding\n",
    "from keras.layers import LSTM\n",
    "from sklearn.model_selection import train_test_split\n",
    "from sklearn.decomposition import PCA\n",
    "#from sklearn.preprocessing import StandardbScaler"
   ]
  },
  {
   "cell_type": "code",
   "execution_count": 59,
   "metadata": {},
   "outputs": [
    {
     "ename": "FileNotFoundError",
     "evalue": "[WinError 3] The system cannot find the path specified: 'D:\\\\HK2-Năm 3\\\\PBL5\\\\Code\\\\data-2\\\\Crying'",
     "output_type": "error",
     "traceback": [
      "\u001b[1;31m---------------------------------------------------------------------------\u001b[0m",
      "\u001b[1;31mFileNotFoundError\u001b[0m                         Traceback (most recent call last)",
      "\u001b[1;32m~\\AppData\\Local\\Temp\\ipykernel_17896\\2736802653.py\u001b[0m in \u001b[0;36m<module>\u001b[1;34m\u001b[0m\n\u001b[1;32m----> 1\u001b[1;33m \u001b[0mbabycry\u001b[0m\u001b[1;33m=\u001b[0m\u001b[1;33m[\u001b[0m\u001b[0mf\u001b[0m \u001b[1;32mfor\u001b[0m \u001b[0mf\u001b[0m \u001b[1;32min\u001b[0m \u001b[0mlistdir\u001b[0m\u001b[1;33m(\u001b[0m\u001b[1;34m'D:\\\\HK2-Năm 3\\\\PBL5\\\\Code\\\\data-2\\\\Crying'\u001b[0m\u001b[1;33m)\u001b[0m \u001b[1;32mif\u001b[0m \u001b[0misfile\u001b[0m\u001b[1;33m(\u001b[0m\u001b[0mjoin\u001b[0m\u001b[1;33m(\u001b[0m\u001b[1;34m'D:\\\\HK2-Năm 3\\\\PBL5\\\\Code\\\\data-2\\\\Crying'\u001b[0m\u001b[1;33m,\u001b[0m \u001b[0mf\u001b[0m\u001b[1;33m)\u001b[0m\u001b[1;33m)\u001b[0m\u001b[1;33m]\u001b[0m\u001b[1;33m\u001b[0m\u001b[1;33m\u001b[0m\u001b[0m\n\u001b[0m\u001b[0;32m      2\u001b[0m \u001b[1;33m\u001b[0m\u001b[0m\n\u001b[0;32m      3\u001b[0m \u001b[0mnonbabycry\u001b[0m\u001b[1;33m=\u001b[0m\u001b[1;33m[\u001b[0m\u001b[0mf\u001b[0m \u001b[1;32mfor\u001b[0m \u001b[0mf\u001b[0m \u001b[1;32min\u001b[0m \u001b[0mlistdir\u001b[0m\u001b[1;33m(\u001b[0m\u001b[1;34m'D:\\\\HK2-Năm 3\\\\PBL5\\\\Code\\\\data-2\\\\Noise'\u001b[0m\u001b[1;33m)\u001b[0m \u001b[1;32mif\u001b[0m \u001b[0misfile\u001b[0m\u001b[1;33m(\u001b[0m\u001b[0mjoin\u001b[0m\u001b[1;33m(\u001b[0m\u001b[1;34m'D:\\\\HK2-Năm 3\\\\PBL5\\\\Code\\\\data-2\\\\Noise'\u001b[0m\u001b[1;33m,\u001b[0m \u001b[0mf\u001b[0m\u001b[1;33m)\u001b[0m\u001b[1;33m)\u001b[0m\u001b[1;33m]\u001b[0m\u001b[1;33m\u001b[0m\u001b[1;33m\u001b[0m\u001b[0m\n\u001b[0;32m      4\u001b[0m \u001b[0mbabysilence\u001b[0m\u001b[1;33m=\u001b[0m\u001b[1;33m[\u001b[0m\u001b[0mf\u001b[0m \u001b[1;32mfor\u001b[0m \u001b[0mf\u001b[0m \u001b[1;32min\u001b[0m \u001b[0mlistdir\u001b[0m\u001b[1;33m(\u001b[0m\u001b[1;34m'D:\\\\HK2-Năm 3\\\\PBL5\\\\Code\\\\data-2\\\\Silence'\u001b[0m\u001b[1;33m)\u001b[0m \u001b[1;32mif\u001b[0m \u001b[0misfile\u001b[0m\u001b[1;33m(\u001b[0m\u001b[0mjoin\u001b[0m\u001b[1;33m(\u001b[0m\u001b[1;34m'D:\\\\HK2-Năm 3\\\\PBL5\\\\Code\\\\data-2\\\\Silence'\u001b[0m\u001b[1;33m,\u001b[0m \u001b[0mf\u001b[0m\u001b[1;33m)\u001b[0m\u001b[1;33m)\u001b[0m\u001b[1;33m]\u001b[0m\u001b[1;33m\u001b[0m\u001b[1;33m\u001b[0m\u001b[0m\n\u001b[0;32m      5\u001b[0m \u001b[0mbabylaugh\u001b[0m\u001b[1;33m=\u001b[0m\u001b[1;33m[\u001b[0m\u001b[0mf\u001b[0m \u001b[1;32mfor\u001b[0m \u001b[0mf\u001b[0m \u001b[1;32min\u001b[0m \u001b[0mlistdir\u001b[0m\u001b[1;33m(\u001b[0m\u001b[1;34m'D:\\\\HK2-Năm 3\\\\PBL5\\\\Code\\\\data-2\\\\Laugh'\u001b[0m\u001b[1;33m)\u001b[0m \u001b[1;32mif\u001b[0m \u001b[0misfile\u001b[0m\u001b[1;33m(\u001b[0m\u001b[0mjoin\u001b[0m\u001b[1;33m(\u001b[0m\u001b[1;34m'D:\\\\HK2-Năm 3\\\\PBL5\\\\Code\\\\data-2\\\\Laugh'\u001b[0m\u001b[1;33m,\u001b[0m\u001b[0mf\u001b[0m\u001b[1;33m)\u001b[0m\u001b[1;33m)\u001b[0m\u001b[1;33m]\u001b[0m\u001b[1;33m\u001b[0m\u001b[1;33m\u001b[0m\u001b[0m\n",
      "\u001b[1;31mFileNotFoundError\u001b[0m: [WinError 3] The system cannot find the path specified: 'D:\\\\HK2-Năm 3\\\\PBL5\\\\Code\\\\data-2\\\\Crying'"
     ]
    }
   ],
   "source": [
    "babycry=[f for f in listdir('D:\\\\HK2-Năm 3\\\\PBL5\\\\Code\\\\data-2\\\\Crying') if isfile(join('D:\\\\HK2-Năm 3\\\\PBL5\\\\Code\\\\data-2\\\\Crying', f))]\n",
    "\n",
    "nonbabycry=[f for f in listdir('D:\\\\HK2-Năm 3\\\\PBL5\\\\Code\\\\data-2\\\\Noise') if isfile(join('D:\\\\HK2-Năm 3\\\\PBL5\\\\Code\\\\data-2\\\\Noise', f))]\n",
    "babysilence=[f for f in listdir('D:\\\\HK2-Năm 3\\\\PBL5\\\\Code\\\\data-2\\\\Silence') if isfile(join('D:\\\\HK2-Năm 3\\\\PBL5\\\\Code\\\\data-2\\\\Silence', f))]\n",
    "babylaugh=[f for f in listdir('D:\\\\HK2-Năm 3\\\\PBL5\\\\Code\\\\data-2\\\\Laugh') if isfile(join('D:\\\\HK2-Năm 3\\\\PBL5\\\\Code\\\\data-2\\\\Laugh',f))]\n"
   ]
  },
  {
   "cell_type": "code",
   "execution_count": null,
   "metadata": {},
   "outputs": [],
   "source": [
    "baby_cry=[]\n",
    "for each in range(0,len(babycry)) :\n",
    "    cry='D:\\\\HK2-Năm 3\\\\PBL5\\\\Code\\\\data-2\\\\Crying' + '\\\\' + babycry[each] \n",
    "    baby_cry.append(cry)\n"
   ]
  },
  {
   "cell_type": "code",
   "execution_count": null,
   "metadata": {},
   "outputs": [
    {
     "data": {
      "text/plain": [
       "['D:\\\\HK2-Năm 3\\\\PBL5\\\\Code\\\\data-2\\\\Crying\\\\01A_Crying_sample.wav',\n",
       " 'D:\\\\HK2-Năm 3\\\\PBL5\\\\Code\\\\data-2\\\\Crying\\\\01B_Crying_sample.wav',\n",
       " 'D:\\\\HK2-Năm 3\\\\PBL5\\\\Code\\\\data-2\\\\Crying\\\\02A_Crying_sample.wav',\n",
       " 'D:\\\\HK2-Năm 3\\\\PBL5\\\\Code\\\\data-2\\\\Crying\\\\02B_Crying_sample.wav',\n",
       " 'D:\\\\HK2-Năm 3\\\\PBL5\\\\Code\\\\data-2\\\\Crying\\\\03A_Crying_sample.wav',\n",
       " 'D:\\\\HK2-Năm 3\\\\PBL5\\\\Code\\\\data-2\\\\Crying\\\\03B_Crying_sample.wav',\n",
       " 'D:\\\\HK2-Năm 3\\\\PBL5\\\\Code\\\\data-2\\\\Crying\\\\04A_Crying_sample.wav',\n",
       " 'D:\\\\HK2-Năm 3\\\\PBL5\\\\Code\\\\data-2\\\\Crying\\\\04B_Crying_sample.wav',\n",
       " 'D:\\\\HK2-Năm 3\\\\PBL5\\\\Code\\\\data-2\\\\Crying\\\\05A_Crying_sample.wav',\n",
       " 'D:\\\\HK2-Năm 3\\\\PBL5\\\\Code\\\\data-2\\\\Crying\\\\05B_Crying_sample.wav',\n",
       " 'D:\\\\HK2-Năm 3\\\\PBL5\\\\Code\\\\data-2\\\\Crying\\\\06A_Crying_sample.wav',\n",
       " 'D:\\\\HK2-Năm 3\\\\PBL5\\\\Code\\\\data-2\\\\Crying\\\\06B_Crying_sample.wav',\n",
       " 'D:\\\\HK2-Năm 3\\\\PBL5\\\\Code\\\\data-2\\\\Crying\\\\07A_Crying_sample.wav',\n",
       " 'D:\\\\HK2-Năm 3\\\\PBL5\\\\Code\\\\data-2\\\\Crying\\\\07B_Crying_sample.wav',\n",
       " 'D:\\\\HK2-Năm 3\\\\PBL5\\\\Code\\\\data-2\\\\Crying\\\\08A_Crying_sample.wav',\n",
       " 'D:\\\\HK2-Năm 3\\\\PBL5\\\\Code\\\\data-2\\\\Crying\\\\08B_Crying_sample.wav',\n",
       " 'D:\\\\HK2-Năm 3\\\\PBL5\\\\Code\\\\data-2\\\\Crying\\\\09A_Crying_sample.wav',\n",
       " 'D:\\\\HK2-Năm 3\\\\PBL5\\\\Code\\\\data-2\\\\Crying\\\\09B_Crying_sample.wav',\n",
       " 'D:\\\\HK2-Năm 3\\\\PBL5\\\\Code\\\\data-2\\\\Crying\\\\10A_Crying_sample.wav',\n",
       " 'D:\\\\HK2-Năm 3\\\\PBL5\\\\Code\\\\data-2\\\\Crying\\\\10B_Crying_sample.wav',\n",
       " 'D:\\\\HK2-Năm 3\\\\PBL5\\\\Code\\\\data-2\\\\Crying\\\\11A_Crying_sample.wav',\n",
       " 'D:\\\\HK2-Năm 3\\\\PBL5\\\\Code\\\\data-2\\\\Crying\\\\12A_Crying_sample.wav',\n",
       " 'D:\\\\HK2-Năm 3\\\\PBL5\\\\Code\\\\data-2\\\\Crying\\\\13A_Crying_sample.wav',\n",
       " 'D:\\\\HK2-Năm 3\\\\PBL5\\\\Code\\\\data-2\\\\Crying\\\\14A_Crying_sample.wav',\n",
       " 'D:\\\\HK2-Năm 3\\\\PBL5\\\\Code\\\\data-2\\\\Crying\\\\15A_Crying_sample.wav',\n",
       " 'D:\\\\HK2-Năm 3\\\\PBL5\\\\Code\\\\data-2\\\\Crying\\\\16A_Crying_sample.wav',\n",
       " 'D:\\\\HK2-Năm 3\\\\PBL5\\\\Code\\\\data-2\\\\Crying\\\\17A_Crying_sample.wav',\n",
       " 'D:\\\\HK2-Năm 3\\\\PBL5\\\\Code\\\\data-2\\\\Crying\\\\18A_Crying_sample.wav',\n",
       " 'D:\\\\HK2-Năm 3\\\\PBL5\\\\Code\\\\data-2\\\\Crying\\\\19A_Crying_sample.wav',\n",
       " 'D:\\\\HK2-Năm 3\\\\PBL5\\\\Code\\\\data-2\\\\Crying\\\\20A_Crying_sample.wav',\n",
       " 'D:\\\\HK2-Năm 3\\\\PBL5\\\\Code\\\\data-2\\\\Crying\\\\21A_Crying_sample.wav',\n",
       " 'D:\\\\HK2-Năm 3\\\\PBL5\\\\Code\\\\data-2\\\\Crying\\\\22A_Crying_sample.wav',\n",
       " 'D:\\\\HK2-Năm 3\\\\PBL5\\\\Code\\\\data-2\\\\Crying\\\\23A_Crying_sample.wav',\n",
       " 'D:\\\\HK2-Năm 3\\\\PBL5\\\\Code\\\\data-2\\\\Crying\\\\24A_Crying_sample.wav',\n",
       " 'D:\\\\HK2-Năm 3\\\\PBL5\\\\Code\\\\data-2\\\\Crying\\\\25A_Crying_sample.wav',\n",
       " 'D:\\\\HK2-Năm 3\\\\PBL5\\\\Code\\\\data-2\\\\Crying\\\\26A_Crying_sample.wav',\n",
       " 'D:\\\\HK2-Năm 3\\\\PBL5\\\\Code\\\\data-2\\\\Crying\\\\27A_Crying_sample.wav',\n",
       " 'D:\\\\HK2-Năm 3\\\\PBL5\\\\Code\\\\data-2\\\\Crying\\\\28A_Crying_sample.wav',\n",
       " 'D:\\\\HK2-Năm 3\\\\PBL5\\\\Code\\\\data-2\\\\Crying\\\\29A_Crying_sample.wav',\n",
       " 'D:\\\\HK2-Năm 3\\\\PBL5\\\\Code\\\\data-2\\\\Crying\\\\30A_Crying_sample.wav',\n",
       " 'D:\\\\HK2-Năm 3\\\\PBL5\\\\Code\\\\data-2\\\\Crying\\\\31A_Crying_sample.wav',\n",
       " 'D:\\\\HK2-Năm 3\\\\PBL5\\\\Code\\\\data-2\\\\Crying\\\\32A_Crying_sample.wav',\n",
       " 'D:\\\\HK2-Năm 3\\\\PBL5\\\\Code\\\\data-2\\\\Crying\\\\33A_Crying_sample.wav',\n",
       " 'D:\\\\HK2-Năm 3\\\\PBL5\\\\Code\\\\data-2\\\\Crying\\\\34A_Crying_sample.wav',\n",
       " 'D:\\\\HK2-Năm 3\\\\PBL5\\\\Code\\\\data-2\\\\Crying\\\\38A_Crying_sample.wav',\n",
       " 'D:\\\\HK2-Năm 3\\\\PBL5\\\\Code\\\\data-2\\\\Crying\\\\39A_Crying_sample.wav',\n",
       " 'D:\\\\HK2-Năm 3\\\\PBL5\\\\Code\\\\data-2\\\\Crying\\\\40A_Crying_sample.wav',\n",
       " 'D:\\\\HK2-Năm 3\\\\PBL5\\\\Code\\\\data-2\\\\Crying\\\\41A_Crying_sample.wav',\n",
       " 'D:\\\\HK2-Năm 3\\\\PBL5\\\\Code\\\\data-2\\\\Crying\\\\42A_Crying_sample.wav',\n",
       " 'D:\\\\HK2-Năm 3\\\\PBL5\\\\Code\\\\data-2\\\\Crying\\\\43A_Crying_sample.wav',\n",
       " 'D:\\\\HK2-Năm 3\\\\PBL5\\\\Code\\\\data-2\\\\Crying\\\\44A_Crying_sample.wav',\n",
       " 'D:\\\\HK2-Năm 3\\\\PBL5\\\\Code\\\\data-2\\\\Crying\\\\45A_Crying_sample.wav',\n",
       " 'D:\\\\HK2-Năm 3\\\\PBL5\\\\Code\\\\data-2\\\\Crying\\\\46A_Crying_sample.wav',\n",
       " 'D:\\\\HK2-Năm 3\\\\PBL5\\\\Code\\\\data-2\\\\Crying\\\\47A_Crying_sample.wav',\n",
       " 'D:\\\\HK2-Năm 3\\\\PBL5\\\\Code\\\\data-2\\\\Crying\\\\48A_Crying_sample.wav',\n",
       " 'D:\\\\HK2-Năm 3\\\\PBL5\\\\Code\\\\data-2\\\\Crying\\\\49A_Crying_sample.wav',\n",
       " 'D:\\\\HK2-Năm 3\\\\PBL5\\\\Code\\\\data-2\\\\Crying\\\\50A_Crying_sample.wav',\n",
       " 'D:\\\\HK2-Năm 3\\\\PBL5\\\\Code\\\\data-2\\\\Crying\\\\A_Crying_1.wav',\n",
       " 'D:\\\\HK2-Năm 3\\\\PBL5\\\\Code\\\\data-2\\\\Crying\\\\A_Crying_2.wav',\n",
       " 'D:\\\\HK2-Năm 3\\\\PBL5\\\\Code\\\\data-2\\\\Crying\\\\A_Crying_3.wav',\n",
       " 'D:\\\\HK2-Năm 3\\\\PBL5\\\\Code\\\\data-2\\\\Crying\\\\A_Crying_4.wav',\n",
       " 'D:\\\\HK2-Năm 3\\\\PBL5\\\\Code\\\\data-2\\\\Crying\\\\A_Crying_5.wav',\n",
       " 'D:\\\\HK2-Năm 3\\\\PBL5\\\\Code\\\\data-2\\\\Crying\\\\A_Crying_6.wav',\n",
       " 'D:\\\\HK2-Năm 3\\\\PBL5\\\\Code\\\\data-2\\\\Crying\\\\A_Crying_7.wav',\n",
       " 'D:\\\\HK2-Năm 3\\\\PBL5\\\\Code\\\\data-2\\\\Crying\\\\A_Crying_8.wav',\n",
       " 'D:\\\\HK2-Năm 3\\\\PBL5\\\\Code\\\\data-2\\\\Crying\\\\A_Crying_9.wav',\n",
       " 'D:\\\\HK2-Năm 3\\\\PBL5\\\\Code\\\\data-2\\\\Crying\\\\untitled.wav',\n",
       " 'D:\\\\HK2-Năm 3\\\\PBL5\\\\Code\\\\data-2\\\\Crying\\\\untitled10.wav',\n",
       " 'D:\\\\HK2-Năm 3\\\\PBL5\\\\Code\\\\data-2\\\\Crying\\\\untitled11.wav',\n",
       " 'D:\\\\HK2-Năm 3\\\\PBL5\\\\Code\\\\data-2\\\\Crying\\\\untitled12.wav',\n",
       " 'D:\\\\HK2-Năm 3\\\\PBL5\\\\Code\\\\data-2\\\\Crying\\\\untitled13.wav',\n",
       " 'D:\\\\HK2-Năm 3\\\\PBL5\\\\Code\\\\data-2\\\\Crying\\\\untitled14.wav',\n",
       " 'D:\\\\HK2-Năm 3\\\\PBL5\\\\Code\\\\data-2\\\\Crying\\\\untitled15.wav',\n",
       " 'D:\\\\HK2-Năm 3\\\\PBL5\\\\Code\\\\data-2\\\\Crying\\\\untitled16.wav',\n",
       " 'D:\\\\HK2-Năm 3\\\\PBL5\\\\Code\\\\data-2\\\\Crying\\\\untitled17.wav',\n",
       " 'D:\\\\HK2-Năm 3\\\\PBL5\\\\Code\\\\data-2\\\\Crying\\\\untitled18.wav',\n",
       " 'D:\\\\HK2-Năm 3\\\\PBL5\\\\Code\\\\data-2\\\\Crying\\\\untitled19.wav',\n",
       " 'D:\\\\HK2-Năm 3\\\\PBL5\\\\Code\\\\data-2\\\\Crying\\\\untitled2.wav',\n",
       " 'D:\\\\HK2-Năm 3\\\\PBL5\\\\Code\\\\data-2\\\\Crying\\\\untitled20.wav',\n",
       " 'D:\\\\HK2-Năm 3\\\\PBL5\\\\Code\\\\data-2\\\\Crying\\\\untitled21.wav',\n",
       " 'D:\\\\HK2-Năm 3\\\\PBL5\\\\Code\\\\data-2\\\\Crying\\\\untitled22.wav',\n",
       " 'D:\\\\HK2-Năm 3\\\\PBL5\\\\Code\\\\data-2\\\\Crying\\\\untitled23.wav',\n",
       " 'D:\\\\HK2-Năm 3\\\\PBL5\\\\Code\\\\data-2\\\\Crying\\\\untitled24.wav',\n",
       " 'D:\\\\HK2-Năm 3\\\\PBL5\\\\Code\\\\data-2\\\\Crying\\\\untitled25.wav',\n",
       " 'D:\\\\HK2-Năm 3\\\\PBL5\\\\Code\\\\data-2\\\\Crying\\\\untitled26.wav',\n",
       " 'D:\\\\HK2-Năm 3\\\\PBL5\\\\Code\\\\data-2\\\\Crying\\\\untitled27.wav',\n",
       " 'D:\\\\HK2-Năm 3\\\\PBL5\\\\Code\\\\data-2\\\\Crying\\\\untitled28.wav',\n",
       " 'D:\\\\HK2-Năm 3\\\\PBL5\\\\Code\\\\data-2\\\\Crying\\\\untitled29.wav',\n",
       " 'D:\\\\HK2-Năm 3\\\\PBL5\\\\Code\\\\data-2\\\\Crying\\\\untitled3.wav',\n",
       " 'D:\\\\HK2-Năm 3\\\\PBL5\\\\Code\\\\data-2\\\\Crying\\\\untitled30.wav',\n",
       " 'D:\\\\HK2-Năm 3\\\\PBL5\\\\Code\\\\data-2\\\\Crying\\\\untitled31.wav',\n",
       " 'D:\\\\HK2-Năm 3\\\\PBL5\\\\Code\\\\data-2\\\\Crying\\\\untitled32.wav',\n",
       " 'D:\\\\HK2-Năm 3\\\\PBL5\\\\Code\\\\data-2\\\\Crying\\\\untitled33.wav',\n",
       " 'D:\\\\HK2-Năm 3\\\\PBL5\\\\Code\\\\data-2\\\\Crying\\\\untitled34.wav',\n",
       " 'D:\\\\HK2-Năm 3\\\\PBL5\\\\Code\\\\data-2\\\\Crying\\\\untitled35.wav',\n",
       " 'D:\\\\HK2-Năm 3\\\\PBL5\\\\Code\\\\data-2\\\\Crying\\\\untitled36.wav',\n",
       " 'D:\\\\HK2-Năm 3\\\\PBL5\\\\Code\\\\data-2\\\\Crying\\\\untitled37.wav',\n",
       " 'D:\\\\HK2-Năm 3\\\\PBL5\\\\Code\\\\data-2\\\\Crying\\\\untitled38.wav',\n",
       " 'D:\\\\HK2-Năm 3\\\\PBL5\\\\Code\\\\data-2\\\\Crying\\\\untitled4.wav',\n",
       " 'D:\\\\HK2-Năm 3\\\\PBL5\\\\Code\\\\data-2\\\\Crying\\\\untitled5.wav',\n",
       " 'D:\\\\HK2-Năm 3\\\\PBL5\\\\Code\\\\data-2\\\\Crying\\\\untitled6.wav',\n",
       " 'D:\\\\HK2-Năm 3\\\\PBL5\\\\Code\\\\data-2\\\\Crying\\\\untitled7.wav',\n",
       " 'D:\\\\HK2-Năm 3\\\\PBL5\\\\Code\\\\data-2\\\\Crying\\\\untitled8.wav',\n",
       " 'D:\\\\HK2-Năm 3\\\\PBL5\\\\Code\\\\data-2\\\\Crying\\\\untitled9.wav']"
      ]
     },
     "execution_count": 4,
     "metadata": {},
     "output_type": "execute_result"
    }
   ],
   "source": [
    "baby_cry"
   ]
  },
  {
   "cell_type": "code",
   "execution_count": null,
   "metadata": {},
   "outputs": [
    {
     "data": {
      "text/plain": [
       "104"
      ]
     },
     "execution_count": 5,
     "metadata": {},
     "output_type": "execute_result"
    }
   ],
   "source": [
    "len(baby_cry)"
   ]
  },
  {
   "cell_type": "code",
   "execution_count": null,
   "metadata": {},
   "outputs": [],
   "source": [
    "non_babycry=[]\n",
    "for each in range(0,len(nonbabycry)) :\n",
    "    x='D:\\\\HK2-Năm 3\\\\PBL5\\\\Code\\\\data-2\\\\Noise' + '\\\\' + nonbabycry[each] \n",
    "    non_babycry.append(x)"
   ]
  },
  {
   "cell_type": "code",
   "execution_count": null,
   "metadata": {},
   "outputs": [
    {
     "data": {
      "text/plain": [
       "115"
      ]
     },
     "execution_count": 7,
     "metadata": {},
     "output_type": "execute_result"
    }
   ],
   "source": [
    "len(non_babycry)"
   ]
  },
  {
   "cell_type": "code",
   "execution_count": null,
   "metadata": {},
   "outputs": [],
   "source": [
    "baby_silence=[]\n",
    "for each in range(0,len(babysilence)) :\n",
    "    silence='D:\\\\HK2-Năm 3\\\\PBL5\\\\Code\\\\data-2\\\\Silence' + '\\\\' + babysilence[each] \n",
    "    baby_silence.append(silence)\n"
   ]
  },
  {
   "cell_type": "code",
   "execution_count": null,
   "metadata": {},
   "outputs": [],
   "source": [
    "baby_laugh=[]\n",
    "for each in range(0,len(babylaugh)) :\n",
    "    laugh='D:\\\\HK2-Năm 3\\\\PBL5\\\\Code\\\\data-2\\\\Laugh' + '\\\\' + babylaugh[each] \n",
    "    baby_laugh.append(laugh)\n",
    "  "
   ]
  },
  {
   "cell_type": "code",
   "execution_count": null,
   "metadata": {},
   "outputs": [],
   "source": [
    "nonbaby_cry=baby_silence+baby_laugh+non_babycry"
   ]
  },
  {
   "cell_type": "code",
   "execution_count": null,
   "metadata": {},
   "outputs": [
    {
     "data": {
      "text/plain": [
       "284"
      ]
     },
     "execution_count": 11,
     "metadata": {},
     "output_type": "execute_result"
    }
   ],
   "source": [
    "len(nonbaby_cry)"
   ]
  },
  {
   "cell_type": "code",
   "execution_count": null,
   "metadata": {},
   "outputs": [],
   "source": [
    "def butter_lowpass(cutoff,fs,order=5):\n",
    "    nyq=0.5*fs\n",
    "    normal_cutoff=cutoff/nyq\n",
    "    b,a=butter(order,normal_cutoff,btype='low',analog=False)\n",
    "    return b,a"
   ]
  },
  {
   "cell_type": "code",
   "execution_count": null,
   "metadata": {},
   "outputs": [],
   "source": [
    "def butter_lowpass_filter(data,cutoff,fs,order=5):\n",
    "    b,a=butter_lowpass(cutoff,fs,order=order)\n",
    "    y=lfilter(b,a,data)\n",
    "    return y"
   ]
  },
  {
   "cell_type": "code",
   "execution_count": null,
   "metadata": {},
   "outputs": [],
   "source": [
    "def Mfcc(audiofile):\n",
    "    s,r=sf.read(audiofile)\n",
    "    #print(len(s.shape))\n",
    "    #if len(s.shape)==2:\n",
    "     #   s=s[0,:]\n",
    "    #print(len(s.shape))\n",
    "    s=butter_lowpass_filter(s,11025,44100,order=3)\n",
    "    x=np.array_split(s,64)\n",
    "    #print(x)\n",
    "    logg=np.zeros((64,12))\n",
    "    for i in range(len(x)):\n",
    "        \n",
    "        \n",
    "        m=np.mean(mfcc(x[i],r, numcep=12,nfft=2048),axis=0)\n",
    "        #print(np.shape(m))\n",
    "        xx= m\n",
    "        logg[i,:]=m\n",
    "\n",
    "    return logg\n"
   ]
  },
  {
   "cell_type": "code",
   "execution_count": null,
   "metadata": {},
   "outputs": [],
   "source": [
    "r=Mfcc(baby_cry[10])"
   ]
  },
  {
   "cell_type": "code",
   "execution_count": null,
   "metadata": {},
   "outputs": [
    {
     "data": {
      "text/plain": [
       "(64, 12)"
      ]
     },
     "execution_count": 16,
     "metadata": {},
     "output_type": "execute_result"
    }
   ],
   "source": [
    "np.shape(r)"
   ]
  },
  {
   "cell_type": "code",
   "execution_count": null,
   "metadata": {},
   "outputs": [
    {
     "data": {
      "text/plain": [
       "array([[-5.77636303e+00,  4.65038652e+00, -1.61655244e+01,\n",
       "        -2.81170500e+01,  3.88372099e+01, -8.06853507e+00,\n",
       "         1.16680993e+01, -1.53355061e+01,  1.69454288e+01,\n",
       "        -1.88668941e+01, -2.40648216e+00, -3.81837720e+01],\n",
       "       [-6.32830780e+00,  1.18587395e+00, -1.78281415e+01,\n",
       "        -2.74418589e+01,  3.28769206e+01, -1.00971053e+01,\n",
       "         9.72965963e+00, -1.16130178e+01,  2.03713294e+01,\n",
       "        -1.33053736e+01, -1.17327650e+00, -2.92161576e+01],\n",
       "       [-4.35410798e+00,  9.76528251e+00, -1.38082773e+01,\n",
       "        -2.97617491e+01,  3.83412206e+01, -1.67091899e+01,\n",
       "         1.08932433e+01, -2.04817411e+01,  1.39198330e+01,\n",
       "        -1.88960914e+01, -2.50132648e+00, -3.70626523e+01],\n",
       "       [-1.46092049e+00,  1.38432890e+01, -2.00029364e+01,\n",
       "        -4.24920491e+01,  3.99087037e+01, -3.24222936e+01,\n",
       "         1.29670626e+01, -2.90269017e+01,  3.24260697e+00,\n",
       "        -2.57064021e+01,  8.36021130e-01, -4.46944750e+01],\n",
       "       [-9.02470169e-01,  1.19748582e+01, -2.23146328e+01,\n",
       "        -4.39478506e+01,  3.55452756e+01, -3.98195832e+01,\n",
       "         1.42767657e+01, -2.75192459e+01,  2.05655189e+00,\n",
       "        -1.38831247e+01,  1.11005396e+01, -3.95420650e+01],\n",
       "       [-1.00905367e+00,  1.07388555e+01, -2.47008393e+01,\n",
       "        -4.34277384e+01,  3.83511271e+01, -4.28846096e+01,\n",
       "         1.80981534e+01, -1.94718938e+01,  5.27527203e+00,\n",
       "        -1.39504105e+01,  1.15577760e+01, -3.92159659e+01],\n",
       "       [-1.54319375e+00,  1.20575690e+01, -2.26391501e+01,\n",
       "        -4.02683313e+01,  4.56182666e+01, -4.46065423e+01,\n",
       "         1.71406510e+01, -2.06051472e+01,  1.48469130e+00,\n",
       "        -1.18433924e+01,  1.17808290e+01, -3.29190345e+01],\n",
       "       [-5.36342602e+00,  3.49891938e+00, -1.63748552e+01,\n",
       "        -2.49412545e+01,  3.59777461e+01, -1.93355474e+01,\n",
       "         1.29621553e+01, -1.87165482e+01, -9.43904410e-01,\n",
       "        -1.56842219e+01,  4.17726290e+00, -3.28139626e+01],\n",
       "       [-4.80595120e+00,  8.28780126e-02, -2.42472696e+01,\n",
       "        -3.32461560e+01,  4.23073068e+01, -1.57771223e+01,\n",
       "         1.23891748e+01, -1.60974441e+01,  1.85795004e+01,\n",
       "        -9.70546847e+00,  8.36298133e+00, -3.07244010e+01],\n",
       "       [-7.32634506e+00, -6.37188155e-01, -1.26201083e+01,\n",
       "        -1.84075805e+01,  2.25767728e+01, -1.32904614e+01,\n",
       "         6.37069254e+00, -1.37662741e+01,  3.80156400e+00,\n",
       "        -4.36122541e+00,  1.10750178e+01, -1.42972419e+01],\n",
       "       [-1.35033193e+00,  1.16344789e+01, -1.83599062e+01,\n",
       "        -3.87898043e+01,  3.51187935e+01, -4.19666908e+01,\n",
       "         7.62428266e+00, -3.83098744e+01, -7.69200196e+00,\n",
       "        -5.70912297e+00,  2.14756335e+01, -3.86270518e+01],\n",
       "       [-1.57190682e+00,  9.19808595e+00, -2.14140893e+01,\n",
       "        -3.58755570e+01,  4.20242911e+01, -4.70362444e+01,\n",
       "         1.75111976e+01, -2.43904928e+01, -5.23100244e+00,\n",
       "        -3.54279816e+00,  1.31755673e+01, -3.37455558e+01],\n",
       "       [-2.79138037e+00,  3.31183576e+00, -1.95047240e+01,\n",
       "        -2.16733578e+01,  5.07373098e+01, -4.53588035e+01,\n",
       "         2.10847309e+01, -1.29915823e+01, -7.24632852e+00,\n",
       "        -1.10848397e+01, -3.59853071e+00, -3.76044377e+01],\n",
       "       [-8.39021241e+00, -9.34544380e-01, -4.35463608e+00,\n",
       "        -7.03191323e+00,  1.36915807e+01, -1.40053717e+01,\n",
       "         1.20494674e+01, -7.07054302e+00, -5.53988300e+00,\n",
       "        -2.43730258e+00,  2.14313046e-01, -2.11807964e+01],\n",
       "       [-8.94308550e+00, -2.62947254e+00, -7.49141598e+00,\n",
       "        -1.37132828e+01,  1.14767593e+01, -1.34549833e+00,\n",
       "         2.44117313e+00, -1.04835530e+01,  9.05022213e+00,\n",
       "        -2.77866851e+00,  1.02677882e+00, -9.07078585e+00],\n",
       "       [-8.77489664e+00, -1.86369407e+00, -6.42689054e+00,\n",
       "        -1.27701596e+01,  8.90976089e+00, -4.39153480e+00,\n",
       "         6.51552487e+00, -6.20860830e+00,  5.94629762e+00,\n",
       "        -2.35554781e+00,  6.01027826e+00, -2.38496090e+00],\n",
       "       [-4.15328388e+00,  1.14694590e+00, -2.31397845e+01,\n",
       "        -2.67191796e+01,  5.07915588e+01, -3.05236104e+01,\n",
       "         2.31532434e+01, -1.36002219e+01, -3.80470062e+00,\n",
       "        -1.06206967e+01,  2.97902472e+00, -3.21771225e+01],\n",
       "       [-4.48727322e+00,  2.85090092e+00, -2.49166235e+01,\n",
       "        -3.31846376e+01,  4.03873046e+01, -3.87285391e+01,\n",
       "         1.17545472e+01, -1.58821714e+01,  1.01918709e+00,\n",
       "        -1.17192350e+01,  1.86424954e+01, -2.28257158e+01],\n",
       "       [-5.71610925e+00, -3.46391568e+00, -1.85973075e+01,\n",
       "        -1.62920673e+01,  3.77821932e+01, -2.82206426e+01,\n",
       "         1.93749628e+01, -7.74289297e+00, -9.16458058e+00,\n",
       "        -7.26479242e+00,  1.63217833e+01, -1.30785178e+01],\n",
       "       [-8.42494318e+00, -3.00619134e+00, -9.42777227e+00,\n",
       "        -1.62066260e+01,  1.24553307e+01, -7.49079350e+00,\n",
       "         1.97524891e+00, -1.15135968e+01,  9.96279951e+00,\n",
       "        -1.30142651e+00,  4.03258003e+00, -9.92610942e+00],\n",
       "       [-7.08055153e+00,  2.69948235e+00, -1.26158887e+01,\n",
       "        -2.68631711e+01,  2.46630231e+01, -7.13095015e+00,\n",
       "         3.47758092e+00, -1.73570478e+01,  2.06330584e+01,\n",
       "        -9.43431673e+00, -3.01180542e+00, -2.22397483e+01],\n",
       "       [-9.75207305e+00, -3.41213742e+00, -7.57548548e-01,\n",
       "        -5.67602741e+00, -1.91602389e+00, -2.80360050e+00,\n",
       "         3.53791166e+00, -2.98808865e+00,  3.00865494e+00,\n",
       "         3.63393070e-01,  4.63813928e-01,  8.92226296e-02],\n",
       "       [-5.49637903e+00,  5.31494722e+00, -1.58597712e+01,\n",
       "        -3.10618669e+01,  2.85240616e+01, -2.40455794e+01,\n",
       "         2.29270443e+00, -2.34149872e+01,  6.45500593e+00,\n",
       "        -1.80694415e+01,  1.40629303e+00, -1.85104243e+01],\n",
       "       [-3.56861693e+00,  9.62404672e+00, -2.12789842e+01,\n",
       "        -4.21105590e+01,  3.95978048e+01, -2.27522293e+01,\n",
       "         1.18333314e+01, -3.00108241e+01, -2.94777479e+00,\n",
       "        -3.01693705e+01,  1.23565526e+01, -1.14109755e+01],\n",
       "       [-2.54467637e+00,  1.50331437e+01, -1.52249455e+01,\n",
       "        -4.34732704e+01,  3.84402813e+01, -1.00243136e+01,\n",
       "         2.22642776e+01, -3.15848742e+01, -1.39778917e+00,\n",
       "        -4.01601330e+01,  7.93080816e+00, -2.40377513e+01],\n",
       "       [-9.20111276e-01,  8.19918238e+00, -2.33719179e+01,\n",
       "        -4.95875396e+01,  4.34481460e+01, -8.53337248e+00,\n",
       "         1.56562192e+01, -4.35103493e+01,  2.34209371e-01,\n",
       "        -3.44759241e+01,  1.06023820e+01, -1.87856479e+01],\n",
       "       [ 4.42763051e-02,  7.43321332e+00, -2.31463418e+01,\n",
       "        -5.11625922e+01,  4.01155040e+01, -6.39088222e+00,\n",
       "         1.86547663e+01, -4.30546400e+01,  3.96892970e-01,\n",
       "        -3.31527126e+01,  2.06713256e+01, -1.01145082e+01],\n",
       "       [-7.53985713e-02,  5.74058464e+00, -2.40852391e+01,\n",
       "        -4.90766803e+01,  4.14753494e+01, -4.76976236e+00,\n",
       "         1.64418361e+01, -4.60243984e+01,  5.76303236e-02,\n",
       "        -2.86470875e+01,  2.18404973e+01, -1.16282551e+01],\n",
       "       [-2.25241504e-01,  7.19916701e+00, -2.30242416e+01,\n",
       "        -4.95257534e+01,  4.05451458e+01, -4.39397240e+00,\n",
       "         2.19101024e+01, -4.00822128e+01,  1.45058783e+00,\n",
       "        -2.68175299e+01,  2.59619325e+01, -1.01283879e+01],\n",
       "       [-2.37330233e-01,  7.25779984e+00, -2.72493891e+01,\n",
       "        -5.57258174e+01,  4.19623040e+01, -8.22304675e+00,\n",
       "         1.93909787e+01, -3.78519332e+01,  1.10084343e+01,\n",
       "        -2.64639975e+01,  1.47694658e+01, -1.86029091e+01],\n",
       "       [-1.70682769e-01,  8.15729968e+00, -2.87702761e+01,\n",
       "        -5.88413208e+01,  3.82905946e+01, -1.46331666e+01,\n",
       "         1.88643506e+01, -3.59793933e+01,  1.50762758e+01,\n",
       "        -1.81691145e+01,  2.01431604e+01, -1.99376963e+01],\n",
       "       [-5.74811862e-01,  1.07572495e+01, -2.59638189e+01,\n",
       "        -5.17133584e+01,  4.11493631e+01, -2.73796895e+01,\n",
       "         1.46522885e+01, -2.85589951e+01,  1.15462511e+01,\n",
       "        -2.43108487e+01,  1.64636750e+01, -1.64094555e+01],\n",
       "       [-1.75684203e+00,  4.03192613e+00, -2.71859362e+01,\n",
       "        -3.65853316e+01,  5.72302987e+01, -2.24915730e+01,\n",
       "         1.38032162e+01, -2.77133054e+01,  3.61712904e+00,\n",
       "        -3.33235969e+01,  8.29455377e+00, -1.84518975e+01],\n",
       "       [-2.46610998e+00,  1.28307986e+01, -1.81949577e+01,\n",
       "        -4.20761391e+01,  4.12555486e+01, -2.22996922e+01,\n",
       "         1.13648577e+01, -2.97935299e+01,  5.97869126e+00,\n",
       "        -3.93926573e+01,  2.17392163e-01, -1.84728269e+01],\n",
       "       [-8.08940286e+00,  2.41099906e+00, -6.01082264e+00,\n",
       "        -1.78996044e+01,  1.51873850e+01, -1.22422625e+00,\n",
       "         6.06885952e+00, -1.42532314e+01,  2.94549249e+00,\n",
       "        -1.91820003e+01, -5.06975863e+00, -1.14913238e+01],\n",
       "       [-9.61676276e+00, -2.81191220e+00, -1.27044521e+00,\n",
       "        -6.32733943e+00,  6.16745610e-01, -2.21625972e+00,\n",
       "         2.93244914e+00, -3.34125427e+00,  3.22843458e+00,\n",
       "        -2.19032921e+00,  1.29025795e+00, -7.61752971e-01],\n",
       "       [-9.77203781e+00, -4.00788282e+00, -2.81167588e+00,\n",
       "        -7.14175854e+00,  4.51033003e-01, -2.32206756e+00,\n",
       "         3.59085835e+00, -1.88869392e+00,  4.24148593e+00,\n",
       "        -1.26457171e+00,  3.92622669e+00,  4.22048042e+00],\n",
       "       [-9.61588888e+00, -4.10522367e+00, -3.66015439e+00,\n",
       "        -7.67414980e+00,  9.11497196e-01, -5.76786747e+00,\n",
       "        -7.08068185e-02, -5.49019269e+00,  3.63030738e+00,\n",
       "        -8.16598846e-01,  4.48466844e+00,  5.53466474e+00],\n",
       "       [-9.52735051e+00, -2.71941986e+00, -2.47860444e+00,\n",
       "        -7.47381572e+00,  1.53448056e+00, -3.94218811e+00,\n",
       "         4.44203643e+00, -1.31532417e+00,  6.89333317e+00,\n",
       "         1.25213343e+00,  5.92840762e+00,  3.42625782e+00],\n",
       "       [-9.63535146e+00, -3.19190439e+00, -3.18468320e+00,\n",
       "        -9.80563587e+00, -1.40894800e+00, -3.44786166e+00,\n",
       "         2.82493051e+00, -4.65824733e+00,  3.32909572e+00,\n",
       "        -1.48359831e+00,  5.48928822e+00,  3.98615807e+00],\n",
       "       [-9.50740198e+00, -3.73910435e+00, -4.50750080e+00,\n",
       "        -9.07674257e+00,  3.04913286e+00, -3.00296015e+00,\n",
       "         3.31690164e+00, -3.21902371e+00,  5.97125769e+00,\n",
       "        -5.78621311e-01,  5.77580027e+00,  3.26500289e+00],\n",
       "       [-9.47480400e+00, -1.97568211e+00, -2.06155198e+00,\n",
       "        -8.55281697e+00,  1.04156449e+00, -2.92855700e+00,\n",
       "         2.35142705e+00, -4.86211332e+00,  4.02987836e+00,\n",
       "        -1.78352141e+00,  5.54384134e+00,  2.52453318e+00],\n",
       "       [-3.12648820e+00,  5.78121158e+00, -2.61609420e+01,\n",
       "        -5.08322461e+01,  2.93926380e+01, -2.50483634e+01,\n",
       "         1.79326824e+01, -6.27854560e+00,  3.20511450e+01,\n",
       "        -1.87270480e+01,  1.01054427e+01, -1.09809393e+01],\n",
       "       [ 4.02071099e-01,  6.68560883e+00, -2.90141173e+01,\n",
       "        -5.48223536e+01,  3.38719037e+01, -3.38485364e+01,\n",
       "         1.31476621e+01, -6.90746985e+00,  4.00899563e+01,\n",
       "        -2.24781170e+01,  8.19117298e+00, -8.09432411e+00],\n",
       "       [ 3.63322968e-01,  6.35014932e+00, -3.02207814e+01,\n",
       "        -5.53828221e+01,  3.20955324e+01, -3.95906938e+01,\n",
       "         5.81976805e+00, -1.34314159e+01,  3.20838063e+01,\n",
       "        -2.51142377e+01,  5.84586769e+00, -1.47892963e+01],\n",
       "       [ 2.45120790e-01,  8.66826000e+00, -2.99344407e+01,\n",
       "        -5.39100455e+01,  4.11921903e+01, -4.14139645e+01,\n",
       "         7.00605041e+00, -1.42819711e+01,  2.90299470e+01,\n",
       "        -3.25996538e+01,  1.53607180e+00, -2.01982151e+01],\n",
       "       [ 6.43969253e-01,  8.20586816e+00, -2.91455301e+01,\n",
       "        -5.39732931e+01,  4.40765210e+01, -3.19618580e+01,\n",
       "         1.06669937e+01, -1.63619022e+01,  2.91943123e+01,\n",
       "        -3.39960972e+01, -5.92453086e+00, -2.57144760e+01],\n",
       "       [ 4.51697018e-01,  1.03442310e+01, -2.75224134e+01,\n",
       "        -5.63470936e+01,  4.66019745e+01, -2.17739988e+01,\n",
       "         1.78302970e+01, -2.09325361e+01,  2.96661880e+01,\n",
       "        -3.00901455e+01, -4.54475676e+00, -3.20664563e+01],\n",
       "       [ 2.08698853e-01,  1.06537485e+01, -2.78898826e+01,\n",
       "        -5.74647019e+01,  4.49245333e+01, -2.07771940e+01,\n",
       "         2.15648381e+01, -2.01729604e+01,  2.98194979e+01,\n",
       "        -2.67297765e+01, -1.07017474e+00, -3.51062683e+01],\n",
       "       [ 2.86510353e-01,  7.68038985e+00, -2.56544445e+01,\n",
       "        -5.30199598e+01,  4.36750535e+01, -1.77142765e+01,\n",
       "         1.79802643e+01, -2.26501656e+01,  3.78990197e+01,\n",
       "        -2.19982234e+01, -6.99861348e+00, -3.42234999e+01],\n",
       "       [ 2.12569931e-01,  5.43189413e+00, -2.61028953e+01,\n",
       "        -4.96549555e+01,  4.96053175e+01, -2.12900455e+01,\n",
       "         1.44275187e+01, -2.22811073e+01,  4.13516555e+01,\n",
       "        -2.12704893e+01, -1.13833538e+01, -3.78826663e+01],\n",
       "       [-5.21555589e-01,  7.90390435e+00, -2.47631468e+01,\n",
       "        -4.75661652e+01,  4.59953505e+01, -3.10888966e+01,\n",
       "         1.09012879e+01, -1.11711761e+01,  4.18161934e+01,\n",
       "        -2.64342892e+01, -1.13912816e+01, -3.57401245e+01],\n",
       "       [-1.26155609e+00,  1.18223842e+01, -2.40255368e+01,\n",
       "        -4.30199112e+01,  4.77956312e+01, -4.16152938e+01,\n",
       "         1.37578004e+01,  1.32928065e+00,  3.61724700e+01,\n",
       "        -3.28370288e+01, -3.75652306e+00, -3.24333357e+01],\n",
       "       [-1.92509002e+00,  1.34282818e+01, -2.34540799e+01,\n",
       "        -4.59541338e+01,  4.17221577e+01, -3.88743390e+01,\n",
       "         1.47199652e+01, -2.78162571e+00,  2.91251238e+01,\n",
       "        -3.43539908e+01, -1.82006178e+00, -2.90287511e+01],\n",
       "       [-2.42715588e+00,  1.48847821e+01, -2.00455509e+01,\n",
       "        -4.55894228e+01,  3.59463156e+01, -3.49776657e+01,\n",
       "         1.60299597e+01, -4.25044333e+00,  2.90294276e+01,\n",
       "        -2.41859561e+01, -1.45581313e+00, -3.14666879e+01],\n",
       "       [-1.71598229e+00,  1.18734016e+01, -2.21781373e+01,\n",
       "        -4.25737300e+01,  3.93538083e+01, -4.23249041e+01,\n",
       "         1.67715310e+01,  2.30036012e-01,  2.74186432e+01,\n",
       "        -2.36521714e+01, -6.71665007e+00, -3.11938341e+01],\n",
       "       [-1.45301426e+00,  9.73596365e+00, -2.26480245e+01,\n",
       "        -4.22622379e+01,  3.91801235e+01, -3.67805734e+01,\n",
       "         1.20260732e+01, -5.69135681e+00,  3.44723380e+01,\n",
       "        -2.01275769e+01, -4.93659546e+00, -3.69372015e+01],\n",
       "       [-1.21859041e+00,  1.10124980e+01, -2.40749303e+01,\n",
       "        -4.53473439e+01,  4.01636399e+01, -3.80996868e+01,\n",
       "         1.00905390e+01, -9.88374137e+00,  3.16239267e+01,\n",
       "        -2.31442342e+01, -7.78340194e-01, -3.64161252e+01],\n",
       "       [-9.53581915e-01,  1.02325854e+01, -2.64546030e+01,\n",
       "        -4.81607811e+01,  4.14553596e+01, -3.61936851e+01,\n",
       "         1.12196959e+01, -1.24720264e+01,  2.93038291e+01,\n",
       "        -2.06108740e+01,  7.92673945e+00, -2.63758447e+01],\n",
       "       [-1.29380587e+00,  1.05518831e+01, -2.66845951e+01,\n",
       "        -4.86343268e+01,  4.05431673e+01, -3.85790248e+01,\n",
       "         8.59218212e+00, -1.59789251e+01,  2.53170109e+01,\n",
       "        -2.11880899e+01,  1.16574964e+01, -2.40095633e+01],\n",
       "       [-1.97899084e+00,  7.50464477e+00, -2.74435666e+01,\n",
       "        -4.63705768e+01,  3.85663890e+01, -3.62144073e+01,\n",
       "         1.22376226e+01, -1.22227687e+01,  1.76524828e+01,\n",
       "        -2.38794699e+01,  7.99797192e+00, -2.41950208e+01],\n",
       "       [-1.29725164e+00,  1.05819674e+01, -2.73958183e+01,\n",
       "        -5.09712402e+01,  3.57072363e+01, -3.52715576e+01,\n",
       "         1.27039802e+01, -1.60100864e+01,  1.96860756e+01,\n",
       "        -2.42157081e+01,  1.36312924e+01, -2.45725220e+01],\n",
       "       [-1.36621977e+00,  1.10788744e+01, -2.60799850e+01,\n",
       "        -5.18741998e+01,  3.61690985e+01, -3.27542253e+01,\n",
       "         1.39662269e+01, -1.67037005e+01,  2.19644780e+01,\n",
       "        -2.00177188e+01,  1.11439524e+01, -2.84133593e+01],\n",
       "       [-2.01045493e+00,  1.34961886e+01, -2.36938421e+01,\n",
       "        -4.90819236e+01,  3.67907123e+01, -3.81620265e+01,\n",
       "         1.01166327e+01, -1.85880814e+01,  1.85698075e+01,\n",
       "        -1.98348253e+01,  1.14602087e+01, -2.27067405e+01]])"
      ]
     },
     "execution_count": 17,
     "metadata": {},
     "output_type": "execute_result"
    }
   ],
   "source": [
    "r"
   ]
  },
  {
   "cell_type": "code",
   "execution_count": null,
   "metadata": {},
   "outputs": [
    {
     "name": "stdout",
     "output_type": "stream",
     "text": [
      "D:\\HK2-Năm 3\\PBL5\\Code\\data-2\\Crying\\01A_Crying_sample.wav\n",
      "D:\\HK2-Năm 3\\PBL5\\Code\\data-2\\Crying\\01B_Crying_sample.wav\n",
      "D:\\HK2-Năm 3\\PBL5\\Code\\data-2\\Crying\\02A_Crying_sample.wav\n",
      "D:\\HK2-Năm 3\\PBL5\\Code\\data-2\\Crying\\02B_Crying_sample.wav\n",
      "D:\\HK2-Năm 3\\PBL5\\Code\\data-2\\Crying\\03A_Crying_sample.wav\n",
      "D:\\HK2-Năm 3\\PBL5\\Code\\data-2\\Crying\\03B_Crying_sample.wav\n",
      "D:\\HK2-Năm 3\\PBL5\\Code\\data-2\\Crying\\04A_Crying_sample.wav\n",
      "D:\\HK2-Năm 3\\PBL5\\Code\\data-2\\Crying\\04B_Crying_sample.wav\n",
      "D:\\HK2-Năm 3\\PBL5\\Code\\data-2\\Crying\\05A_Crying_sample.wav\n",
      "D:\\HK2-Năm 3\\PBL5\\Code\\data-2\\Crying\\05B_Crying_sample.wav\n",
      "D:\\HK2-Năm 3\\PBL5\\Code\\data-2\\Crying\\06A_Crying_sample.wav\n",
      "D:\\HK2-Năm 3\\PBL5\\Code\\data-2\\Crying\\06B_Crying_sample.wav\n",
      "D:\\HK2-Năm 3\\PBL5\\Code\\data-2\\Crying\\07A_Crying_sample.wav\n",
      "D:\\HK2-Năm 3\\PBL5\\Code\\data-2\\Crying\\07B_Crying_sample.wav\n",
      "D:\\HK2-Năm 3\\PBL5\\Code\\data-2\\Crying\\08A_Crying_sample.wav\n",
      "D:\\HK2-Năm 3\\PBL5\\Code\\data-2\\Crying\\08B_Crying_sample.wav\n",
      "D:\\HK2-Năm 3\\PBL5\\Code\\data-2\\Crying\\09A_Crying_sample.wav\n",
      "D:\\HK2-Năm 3\\PBL5\\Code\\data-2\\Crying\\09B_Crying_sample.wav\n",
      "D:\\HK2-Năm 3\\PBL5\\Code\\data-2\\Crying\\10A_Crying_sample.wav\n",
      "D:\\HK2-Năm 3\\PBL5\\Code\\data-2\\Crying\\10B_Crying_sample.wav\n",
      "D:\\HK2-Năm 3\\PBL5\\Code\\data-2\\Crying\\11A_Crying_sample.wav\n",
      "D:\\HK2-Năm 3\\PBL5\\Code\\data-2\\Crying\\12A_Crying_sample.wav\n",
      "D:\\HK2-Năm 3\\PBL5\\Code\\data-2\\Crying\\13A_Crying_sample.wav\n",
      "D:\\HK2-Năm 3\\PBL5\\Code\\data-2\\Crying\\14A_Crying_sample.wav\n",
      "D:\\HK2-Năm 3\\PBL5\\Code\\data-2\\Crying\\15A_Crying_sample.wav\n",
      "D:\\HK2-Năm 3\\PBL5\\Code\\data-2\\Crying\\16A_Crying_sample.wav\n",
      "D:\\HK2-Năm 3\\PBL5\\Code\\data-2\\Crying\\17A_Crying_sample.wav\n",
      "D:\\HK2-Năm 3\\PBL5\\Code\\data-2\\Crying\\18A_Crying_sample.wav\n",
      "D:\\HK2-Năm 3\\PBL5\\Code\\data-2\\Crying\\19A_Crying_sample.wav\n",
      "D:\\HK2-Năm 3\\PBL5\\Code\\data-2\\Crying\\20A_Crying_sample.wav\n",
      "D:\\HK2-Năm 3\\PBL5\\Code\\data-2\\Crying\\21A_Crying_sample.wav\n",
      "D:\\HK2-Năm 3\\PBL5\\Code\\data-2\\Crying\\22A_Crying_sample.wav\n",
      "D:\\HK2-Năm 3\\PBL5\\Code\\data-2\\Crying\\23A_Crying_sample.wav\n",
      "D:\\HK2-Năm 3\\PBL5\\Code\\data-2\\Crying\\24A_Crying_sample.wav\n",
      "D:\\HK2-Năm 3\\PBL5\\Code\\data-2\\Crying\\25A_Crying_sample.wav\n",
      "D:\\HK2-Năm 3\\PBL5\\Code\\data-2\\Crying\\26A_Crying_sample.wav\n",
      "D:\\HK2-Năm 3\\PBL5\\Code\\data-2\\Crying\\27A_Crying_sample.wav\n",
      "D:\\HK2-Năm 3\\PBL5\\Code\\data-2\\Crying\\28A_Crying_sample.wav\n",
      "D:\\HK2-Năm 3\\PBL5\\Code\\data-2\\Crying\\29A_Crying_sample.wav\n",
      "D:\\HK2-Năm 3\\PBL5\\Code\\data-2\\Crying\\30A_Crying_sample.wav\n",
      "D:\\HK2-Năm 3\\PBL5\\Code\\data-2\\Crying\\31A_Crying_sample.wav\n",
      "D:\\HK2-Năm 3\\PBL5\\Code\\data-2\\Crying\\32A_Crying_sample.wav\n",
      "D:\\HK2-Năm 3\\PBL5\\Code\\data-2\\Crying\\33A_Crying_sample.wav\n",
      "D:\\HK2-Năm 3\\PBL5\\Code\\data-2\\Crying\\34A_Crying_sample.wav\n",
      "D:\\HK2-Năm 3\\PBL5\\Code\\data-2\\Crying\\38A_Crying_sample.wav\n",
      "D:\\HK2-Năm 3\\PBL5\\Code\\data-2\\Crying\\39A_Crying_sample.wav\n",
      "D:\\HK2-Năm 3\\PBL5\\Code\\data-2\\Crying\\40A_Crying_sample.wav\n",
      "D:\\HK2-Năm 3\\PBL5\\Code\\data-2\\Crying\\41A_Crying_sample.wav\n",
      "D:\\HK2-Năm 3\\PBL5\\Code\\data-2\\Crying\\42A_Crying_sample.wav\n",
      "D:\\HK2-Năm 3\\PBL5\\Code\\data-2\\Crying\\43A_Crying_sample.wav\n",
      "D:\\HK2-Năm 3\\PBL5\\Code\\data-2\\Crying\\44A_Crying_sample.wav\n",
      "D:\\HK2-Năm 3\\PBL5\\Code\\data-2\\Crying\\45A_Crying_sample.wav\n",
      "D:\\HK2-Năm 3\\PBL5\\Code\\data-2\\Crying\\46A_Crying_sample.wav\n",
      "D:\\HK2-Năm 3\\PBL5\\Code\\data-2\\Crying\\47A_Crying_sample.wav\n",
      "D:\\HK2-Năm 3\\PBL5\\Code\\data-2\\Crying\\48A_Crying_sample.wav\n",
      "D:\\HK2-Năm 3\\PBL5\\Code\\data-2\\Crying\\49A_Crying_sample.wav\n",
      "D:\\HK2-Năm 3\\PBL5\\Code\\data-2\\Crying\\50A_Crying_sample.wav\n",
      "D:\\HK2-Năm 3\\PBL5\\Code\\data-2\\Crying\\A_Crying_1.wav\n",
      "D:\\HK2-Năm 3\\PBL5\\Code\\data-2\\Crying\\A_Crying_2.wav\n",
      "D:\\HK2-Năm 3\\PBL5\\Code\\data-2\\Crying\\A_Crying_3.wav\n",
      "D:\\HK2-Năm 3\\PBL5\\Code\\data-2\\Crying\\A_Crying_4.wav\n",
      "D:\\HK2-Năm 3\\PBL5\\Code\\data-2\\Crying\\A_Crying_5.wav\n",
      "D:\\HK2-Năm 3\\PBL5\\Code\\data-2\\Crying\\A_Crying_6.wav\n",
      "D:\\HK2-Năm 3\\PBL5\\Code\\data-2\\Crying\\A_Crying_7.wav\n",
      "D:\\HK2-Năm 3\\PBL5\\Code\\data-2\\Crying\\A_Crying_8.wav\n",
      "D:\\HK2-Năm 3\\PBL5\\Code\\data-2\\Crying\\A_Crying_9.wav\n",
      "D:\\HK2-Năm 3\\PBL5\\Code\\data-2\\Crying\\untitled.wav\n",
      "D:\\HK2-Năm 3\\PBL5\\Code\\data-2\\Crying\\untitled10.wav\n",
      "D:\\HK2-Năm 3\\PBL5\\Code\\data-2\\Crying\\untitled11.wav\n",
      "D:\\HK2-Năm 3\\PBL5\\Code\\data-2\\Crying\\untitled12.wav\n",
      "D:\\HK2-Năm 3\\PBL5\\Code\\data-2\\Crying\\untitled13.wav\n",
      "D:\\HK2-Năm 3\\PBL5\\Code\\data-2\\Crying\\untitled14.wav\n",
      "D:\\HK2-Năm 3\\PBL5\\Code\\data-2\\Crying\\untitled15.wav\n",
      "D:\\HK2-Năm 3\\PBL5\\Code\\data-2\\Crying\\untitled16.wav\n",
      "D:\\HK2-Năm 3\\PBL5\\Code\\data-2\\Crying\\untitled17.wav\n",
      "D:\\HK2-Năm 3\\PBL5\\Code\\data-2\\Crying\\untitled18.wav\n",
      "D:\\HK2-Năm 3\\PBL5\\Code\\data-2\\Crying\\untitled19.wav\n",
      "D:\\HK2-Năm 3\\PBL5\\Code\\data-2\\Crying\\untitled2.wav\n",
      "D:\\HK2-Năm 3\\PBL5\\Code\\data-2\\Crying\\untitled20.wav\n",
      "D:\\HK2-Năm 3\\PBL5\\Code\\data-2\\Crying\\untitled21.wav\n",
      "D:\\HK2-Năm 3\\PBL5\\Code\\data-2\\Crying\\untitled22.wav\n",
      "D:\\HK2-Năm 3\\PBL5\\Code\\data-2\\Crying\\untitled23.wav\n",
      "D:\\HK2-Năm 3\\PBL5\\Code\\data-2\\Crying\\untitled24.wav\n",
      "D:\\HK2-Năm 3\\PBL5\\Code\\data-2\\Crying\\untitled25.wav\n",
      "D:\\HK2-Năm 3\\PBL5\\Code\\data-2\\Crying\\untitled26.wav\n",
      "D:\\HK2-Năm 3\\PBL5\\Code\\data-2\\Crying\\untitled27.wav\n",
      "D:\\HK2-Năm 3\\PBL5\\Code\\data-2\\Crying\\untitled28.wav\n",
      "D:\\HK2-Năm 3\\PBL5\\Code\\data-2\\Crying\\untitled29.wav\n",
      "D:\\HK2-Năm 3\\PBL5\\Code\\data-2\\Crying\\untitled3.wav\n",
      "D:\\HK2-Năm 3\\PBL5\\Code\\data-2\\Crying\\untitled30.wav\n",
      "D:\\HK2-Năm 3\\PBL5\\Code\\data-2\\Crying\\untitled31.wav\n",
      "D:\\HK2-Năm 3\\PBL5\\Code\\data-2\\Crying\\untitled32.wav\n",
      "D:\\HK2-Năm 3\\PBL5\\Code\\data-2\\Crying\\untitled33.wav\n",
      "D:\\HK2-Năm 3\\PBL5\\Code\\data-2\\Crying\\untitled34.wav\n",
      "D:\\HK2-Năm 3\\PBL5\\Code\\data-2\\Crying\\untitled35.wav\n",
      "D:\\HK2-Năm 3\\PBL5\\Code\\data-2\\Crying\\untitled36.wav\n",
      "D:\\HK2-Năm 3\\PBL5\\Code\\data-2\\Crying\\untitled37.wav\n",
      "D:\\HK2-Năm 3\\PBL5\\Code\\data-2\\Crying\\untitled38.wav\n",
      "D:\\HK2-Năm 3\\PBL5\\Code\\data-2\\Crying\\untitled4.wav\n",
      "D:\\HK2-Năm 3\\PBL5\\Code\\data-2\\Crying\\untitled5.wav\n",
      "D:\\HK2-Năm 3\\PBL5\\Code\\data-2\\Crying\\untitled6.wav\n",
      "D:\\HK2-Năm 3\\PBL5\\Code\\data-2\\Crying\\untitled7.wav\n",
      "D:\\HK2-Năm 3\\PBL5\\Code\\data-2\\Crying\\untitled8.wav\n",
      "D:\\HK2-Năm 3\\PBL5\\Code\\data-2\\Crying\\untitled9.wav\n"
     ]
    }
   ],
   "source": [
    "data=np.zeros((len(nonbaby_cry) + len(baby_cry),64,12))\n",
    "output=[]\n",
    "for i in range(0,len(baby_cry)):\n",
    "       print(baby_cry[i])\n",
    "       r=Mfcc(baby_cry[i])\n",
    "       \n",
    "       #r=list(r)\n",
    "       data[i,:,:]=r\n",
    "       output.append(1) \n",
    "        \n",
    "all=baby_cry+nonbaby_cry\n",
    "for i in range(len(baby_cry)-1,len(all)-1):\n",
    "       #r=list(r)\n",
    "       #print(all[i]) \n",
    "       r=Mfcc(all[i])\n",
    "       \n",
    "       data[i,:,:]=r\n",
    "       output.append(0)  "
   ]
  },
  {
   "cell_type": "code",
   "execution_count": null,
   "metadata": {},
   "outputs": [
    {
     "data": {
      "text/plain": [
       "388"
      ]
     },
     "execution_count": 19,
     "metadata": {},
     "output_type": "execute_result"
    }
   ],
   "source": [
    "len(data)"
   ]
  },
  {
   "cell_type": "code",
   "execution_count": null,
   "metadata": {},
   "outputs": [],
   "source": [
    "input=data"
   ]
  },
  {
   "cell_type": "code",
   "execution_count": null,
   "metadata": {},
   "outputs": [],
   "source": [
    "from sklearn.model_selection import train_test_split\n",
    "X_train, X_temp, y_train, y_temp = train_test_split(input, output, test_size=0.3, random_state=None)\n",
    "X_val, X_test, y_val, y_test = train_test_split(X_temp, y_temp, stratify = y_temp, test_size=0.5, random_state=None)"
   ]
  },
  {
   "cell_type": "code",
   "execution_count": null,
   "metadata": {},
   "outputs": [
    {
     "name": "stdout",
     "output_type": "stream",
     "text": [
      "Shape of X_train: (271, 64, 12)\n",
      "Shape of X_val: (58, 64, 12)\n",
      "Shape of X_test: (59, 64, 12)\n"
     ]
    }
   ],
   "source": [
    "print('Shape of X_train:',X_train.shape)\n",
    "print('Shape of X_val:',X_val.shape)\n",
    "print('Shape of X_test:',X_test.shape)"
   ]
  },
  {
   "cell_type": "code",
   "execution_count": null,
   "metadata": {},
   "outputs": [],
   "source": [
    "from keras.layers import Reshape, Flatten, Dropout, Concatenate, BatchNormalization\n",
    "from keras.models import Sequential,model_from_json\n",
    "from keras.layers import Conv2D,Conv1D,MaxPooling1D,GlobalAveragePooling1D,GlobalMaxPooling1D\n",
    "from keras.layers import MaxPooling2D\n",
    "from keras.layers import Flatten,Dropout\n",
    "from keras import optimizers, callbacks\n",
    "import numpy as np\n",
    "from keras.layers import Dense,Activation\n",
    "from keras.preprocessing import image\n",
    "from keras.preprocessing.image import ImageDataGenerator\n",
    "from tensorflow.keras.utils import img_to_array\n"
   ]
  },
  {
   "cell_type": "code",
   "execution_count": null,
   "metadata": {},
   "outputs": [],
   "source": [
    "model1 = Sequential()\n",
    "\n",
    "model1.add(Conv1D(10, 2, activation='relu', input_shape=(64,12)))\n",
    "model1.add(Conv1D(6,2,padding='valid', activation='relu',strides=1))\n",
    "model1.add(Dropout(0.2))\n",
    "model1.add(BatchNormalization(epsilon=0.001, momentum=0.9, weights=None))\n",
    "\n",
    "\n",
    "model1.add(GlobalMaxPooling1D())\n",
    "model1.add(Dropout(0.2))\n",
    "model1.add(Dense(40))\n",
    "model1.add(Dropout(0.2))\n",
    "model1.add(Activation('relu'))\n",
    "model1.add(BatchNormalization(epsilon=0.001, momentum=0.9, weights=None))\n",
    "\n",
    "model1.add(Dense(1))\n",
    "model1.add(Activation('sigmoid'))"
   ]
  },
  {
   "cell_type": "code",
   "execution_count": null,
   "metadata": {},
   "outputs": [],
   "source": [
    "from keras.optimizers import Adam\n",
    "model1.compile(loss='binary_crossentropy',optimizer='adam',metrics=['accuracy'])"
   ]
  },
  {
   "cell_type": "code",
   "execution_count": null,
   "metadata": {},
   "outputs": [
    {
     "name": "stdout",
     "output_type": "stream",
     "text": [
      "Epoch 1/100\n",
      "28/28 - 3s - loss: 0.8037 - accuracy: 0.5277 - val_loss: 0.6285 - val_accuracy: 0.6207 - 3s/epoch - 89ms/step\n",
      "Epoch 2/100\n",
      "28/28 - 0s - loss: 0.6788 - accuracy: 0.6531 - val_loss: 0.5605 - val_accuracy: 0.7069 - 114ms/epoch - 4ms/step\n",
      "Epoch 3/100\n",
      "28/28 - 0s - loss: 0.5999 - accuracy: 0.7122 - val_loss: 0.5440 - val_accuracy: 0.7069 - 128ms/epoch - 5ms/step\n",
      "Epoch 4/100\n",
      "28/28 - 0s - loss: 0.5725 - accuracy: 0.6900 - val_loss: 0.5121 - val_accuracy: 0.7069 - 108ms/epoch - 4ms/step\n",
      "Epoch 5/100\n",
      "28/28 - 0s - loss: 0.5062 - accuracy: 0.7638 - val_loss: 0.4776 - val_accuracy: 0.7069 - 118ms/epoch - 4ms/step\n",
      "Epoch 6/100\n",
      "28/28 - 0s - loss: 0.4940 - accuracy: 0.7749 - val_loss: 0.4370 - val_accuracy: 0.7931 - 113ms/epoch - 4ms/step\n",
      "Epoch 7/100\n",
      "28/28 - 0s - loss: 0.4706 - accuracy: 0.7823 - val_loss: 0.3960 - val_accuracy: 0.7931 - 109ms/epoch - 4ms/step\n",
      "Epoch 8/100\n",
      "28/28 - 0s - loss: 0.4149 - accuracy: 0.7897 - val_loss: 0.3584 - val_accuracy: 0.7931 - 110ms/epoch - 4ms/step\n",
      "Epoch 9/100\n",
      "28/28 - 0s - loss: 0.4060 - accuracy: 0.7970 - val_loss: 0.3468 - val_accuracy: 0.8276 - 167ms/epoch - 6ms/step\n",
      "Epoch 10/100\n",
      "28/28 - 0s - loss: 0.4231 - accuracy: 0.8118 - val_loss: 0.2951 - val_accuracy: 0.9138 - 136ms/epoch - 5ms/step\n",
      "Epoch 11/100\n",
      "28/28 - 0s - loss: 0.3935 - accuracy: 0.8339 - val_loss: 0.3130 - val_accuracy: 0.8621 - 149ms/epoch - 5ms/step\n",
      "Epoch 12/100\n",
      "28/28 - 0s - loss: 0.3713 - accuracy: 0.8266 - val_loss: 0.2879 - val_accuracy: 0.8966 - 112ms/epoch - 4ms/step\n",
      "Epoch 13/100\n",
      "28/28 - 0s - loss: 0.3367 - accuracy: 0.8524 - val_loss: 0.3012 - val_accuracy: 0.8621 - 125ms/epoch - 4ms/step\n",
      "Epoch 14/100\n",
      "28/28 - 0s - loss: 0.3159 - accuracy: 0.8745 - val_loss: 0.2861 - val_accuracy: 0.8621 - 112ms/epoch - 4ms/step\n",
      "Epoch 15/100\n",
      "28/28 - 0s - loss: 0.3338 - accuracy: 0.8266 - val_loss: 0.2390 - val_accuracy: 0.9138 - 106ms/epoch - 4ms/step\n",
      "Epoch 16/100\n",
      "28/28 - 0s - loss: 0.3095 - accuracy: 0.8413 - val_loss: 0.3147 - val_accuracy: 0.8276 - 105ms/epoch - 4ms/step\n",
      "Epoch 17/100\n",
      "28/28 - 0s - loss: 0.3646 - accuracy: 0.8450 - val_loss: 0.2746 - val_accuracy: 0.8621 - 102ms/epoch - 4ms/step\n",
      "Epoch 18/100\n",
      "28/28 - 0s - loss: 0.3104 - accuracy: 0.8745 - val_loss: 0.2447 - val_accuracy: 0.9138 - 100ms/epoch - 4ms/step\n",
      "Epoch 19/100\n",
      "28/28 - 0s - loss: 0.3085 - accuracy: 0.8561 - val_loss: 0.2467 - val_accuracy: 0.8966 - 102ms/epoch - 4ms/step\n",
      "Epoch 20/100\n",
      "28/28 - 0s - loss: 0.3137 - accuracy: 0.8708 - val_loss: 0.2534 - val_accuracy: 0.8621 - 102ms/epoch - 4ms/step\n",
      "Epoch 21/100\n",
      "28/28 - 0s - loss: 0.2547 - accuracy: 0.8967 - val_loss: 0.2190 - val_accuracy: 0.8793 - 102ms/epoch - 4ms/step\n",
      "Epoch 22/100\n",
      "28/28 - 0s - loss: 0.3106 - accuracy: 0.8487 - val_loss: 0.2242 - val_accuracy: 0.8966 - 114ms/epoch - 4ms/step\n",
      "Epoch 23/100\n",
      "28/28 - 0s - loss: 0.2685 - accuracy: 0.8672 - val_loss: 0.2238 - val_accuracy: 0.8966 - 103ms/epoch - 4ms/step\n",
      "Epoch 24/100\n",
      "28/28 - 0s - loss: 0.2537 - accuracy: 0.8930 - val_loss: 0.2590 - val_accuracy: 0.8621 - 103ms/epoch - 4ms/step\n",
      "Epoch 25/100\n",
      "28/28 - 0s - loss: 0.2480 - accuracy: 0.9004 - val_loss: 0.2427 - val_accuracy: 0.8621 - 102ms/epoch - 4ms/step\n",
      "Epoch 26/100\n",
      "28/28 - 0s - loss: 0.2953 - accuracy: 0.8708 - val_loss: 0.2763 - val_accuracy: 0.8448 - 110ms/epoch - 4ms/step\n",
      "Epoch 27/100\n",
      "28/28 - 0s - loss: 0.2517 - accuracy: 0.9004 - val_loss: 0.2072 - val_accuracy: 0.9310 - 108ms/epoch - 4ms/step\n",
      "Epoch 28/100\n",
      "28/28 - 0s - loss: 0.2454 - accuracy: 0.8819 - val_loss: 0.2233 - val_accuracy: 0.8793 - 104ms/epoch - 4ms/step\n",
      "Epoch 29/100\n",
      "28/28 - 0s - loss: 0.2510 - accuracy: 0.8819 - val_loss: 0.2048 - val_accuracy: 0.8966 - 105ms/epoch - 4ms/step\n",
      "Epoch 30/100\n",
      "28/28 - 0s - loss: 0.2213 - accuracy: 0.9151 - val_loss: 0.1955 - val_accuracy: 0.9310 - 106ms/epoch - 4ms/step\n",
      "Epoch 31/100\n",
      "28/28 - 0s - loss: 0.1818 - accuracy: 0.9373 - val_loss: 0.1901 - val_accuracy: 0.9310 - 116ms/epoch - 4ms/step\n",
      "Epoch 32/100\n",
      "28/28 - 0s - loss: 0.2199 - accuracy: 0.9151 - val_loss: 0.1874 - val_accuracy: 0.9310 - 115ms/epoch - 4ms/step\n",
      "Epoch 33/100\n",
      "28/28 - 0s - loss: 0.2154 - accuracy: 0.9188 - val_loss: 0.2166 - val_accuracy: 0.8966 - 118ms/epoch - 4ms/step\n",
      "Epoch 34/100\n",
      "28/28 - 0s - loss: 0.2175 - accuracy: 0.9114 - val_loss: 0.1928 - val_accuracy: 0.9310 - 117ms/epoch - 4ms/step\n",
      "Epoch 35/100\n",
      "28/28 - 0s - loss: 0.2745 - accuracy: 0.8856 - val_loss: 0.1926 - val_accuracy: 0.9483 - 103ms/epoch - 4ms/step\n",
      "Epoch 36/100\n",
      "28/28 - 0s - loss: 0.1899 - accuracy: 0.9336 - val_loss: 0.2200 - val_accuracy: 0.8793 - 130ms/epoch - 5ms/step\n",
      "Epoch 37/100\n",
      "28/28 - 0s - loss: 0.1920 - accuracy: 0.9151 - val_loss: 0.1810 - val_accuracy: 0.9483 - 124ms/epoch - 4ms/step\n",
      "Epoch 38/100\n",
      "28/28 - 0s - loss: 0.2268 - accuracy: 0.9188 - val_loss: 0.2199 - val_accuracy: 0.8793 - 102ms/epoch - 4ms/step\n",
      "Epoch 39/100\n",
      "28/28 - 0s - loss: 0.1929 - accuracy: 0.9225 - val_loss: 0.2318 - val_accuracy: 0.8793 - 103ms/epoch - 4ms/step\n",
      "Epoch 40/100\n",
      "28/28 - 0s - loss: 0.1575 - accuracy: 0.9520 - val_loss: 0.1787 - val_accuracy: 0.9310 - 119ms/epoch - 4ms/step\n",
      "Epoch 41/100\n",
      "28/28 - 0s - loss: 0.2084 - accuracy: 0.9151 - val_loss: 0.2085 - val_accuracy: 0.8793 - 103ms/epoch - 4ms/step\n",
      "Epoch 42/100\n",
      "28/28 - 0s - loss: 0.2042 - accuracy: 0.9041 - val_loss: 0.1759 - val_accuracy: 0.9138 - 105ms/epoch - 4ms/step\n",
      "Epoch 43/100\n",
      "28/28 - 0s - loss: 0.1862 - accuracy: 0.9299 - val_loss: 0.1841 - val_accuracy: 0.9138 - 109ms/epoch - 4ms/step\n",
      "Epoch 44/100\n",
      "28/28 - 0s - loss: 0.1762 - accuracy: 0.9336 - val_loss: 0.2013 - val_accuracy: 0.8966 - 110ms/epoch - 4ms/step\n",
      "Epoch 45/100\n",
      "28/28 - 0s - loss: 0.1506 - accuracy: 0.9299 - val_loss: 0.2051 - val_accuracy: 0.8966 - 113ms/epoch - 4ms/step\n",
      "Epoch 46/100\n",
      "28/28 - 0s - loss: 0.1509 - accuracy: 0.9410 - val_loss: 0.2022 - val_accuracy: 0.8966 - 119ms/epoch - 4ms/step\n",
      "Epoch 47/100\n",
      "28/28 - 0s - loss: 0.1581 - accuracy: 0.9557 - val_loss: 0.2042 - val_accuracy: 0.8793 - 108ms/epoch - 4ms/step\n",
      "Epoch 48/100\n",
      "28/28 - 0s - loss: 0.1662 - accuracy: 0.9410 - val_loss: 0.2428 - val_accuracy: 0.8621 - 109ms/epoch - 4ms/step\n",
      "Epoch 49/100\n",
      "28/28 - 0s - loss: 0.1427 - accuracy: 0.9446 - val_loss: 0.2196 - val_accuracy: 0.8793 - 131ms/epoch - 5ms/step\n",
      "Epoch 50/100\n",
      "28/28 - 0s - loss: 0.1495 - accuracy: 0.9520 - val_loss: 0.1825 - val_accuracy: 0.8966 - 110ms/epoch - 4ms/step\n",
      "Epoch 51/100\n",
      "28/28 - 0s - loss: 0.1490 - accuracy: 0.9520 - val_loss: 0.2069 - val_accuracy: 0.8793 - 104ms/epoch - 4ms/step\n",
      "Epoch 52/100\n",
      "28/28 - 0s - loss: 0.1491 - accuracy: 0.9446 - val_loss: 0.2147 - val_accuracy: 0.8621 - 107ms/epoch - 4ms/step\n",
      "Epoch 53/100\n",
      "28/28 - 0s - loss: 0.1322 - accuracy: 0.9557 - val_loss: 0.1646 - val_accuracy: 0.9310 - 131ms/epoch - 5ms/step\n",
      "Epoch 54/100\n",
      "28/28 - 0s - loss: 0.1517 - accuracy: 0.9336 - val_loss: 0.2179 - val_accuracy: 0.8793 - 105ms/epoch - 4ms/step\n",
      "Epoch 55/100\n",
      "28/28 - 0s - loss: 0.1362 - accuracy: 0.9520 - val_loss: 0.1747 - val_accuracy: 0.9138 - 106ms/epoch - 4ms/step\n",
      "Epoch 56/100\n",
      "28/28 - 0s - loss: 0.1328 - accuracy: 0.9520 - val_loss: 0.2051 - val_accuracy: 0.8966 - 120ms/epoch - 4ms/step\n",
      "Epoch 57/100\n",
      "28/28 - 0s - loss: 0.1385 - accuracy: 0.9446 - val_loss: 0.2002 - val_accuracy: 0.8966 - 118ms/epoch - 4ms/step\n",
      "Epoch 58/100\n",
      "28/28 - 0s - loss: 0.1351 - accuracy: 0.9446 - val_loss: 0.1991 - val_accuracy: 0.8966 - 108ms/epoch - 4ms/step\n",
      "Epoch 59/100\n",
      "28/28 - 0s - loss: 0.1205 - accuracy: 0.9520 - val_loss: 0.1857 - val_accuracy: 0.9138 - 104ms/epoch - 4ms/step\n",
      "Epoch 60/100\n",
      "28/28 - 0s - loss: 0.0985 - accuracy: 0.9779 - val_loss: 0.2370 - val_accuracy: 0.8621 - 107ms/epoch - 4ms/step\n",
      "Epoch 61/100\n",
      "28/28 - 0s - loss: 0.1483 - accuracy: 0.9446 - val_loss: 0.2314 - val_accuracy: 0.8793 - 130ms/epoch - 5ms/step\n",
      "Epoch 62/100\n",
      "28/28 - 0s - loss: 0.1249 - accuracy: 0.9557 - val_loss: 0.1966 - val_accuracy: 0.9138 - 109ms/epoch - 4ms/step\n",
      "Epoch 63/100\n",
      "28/28 - 0s - loss: 0.1364 - accuracy: 0.9446 - val_loss: 0.1466 - val_accuracy: 0.9138 - 106ms/epoch - 4ms/step\n",
      "Epoch 64/100\n",
      "28/28 - 0s - loss: 0.1433 - accuracy: 0.9373 - val_loss: 0.1720 - val_accuracy: 0.9138 - 108ms/epoch - 4ms/step\n",
      "Epoch 65/100\n",
      "28/28 - 0s - loss: 0.1381 - accuracy: 0.9557 - val_loss: 0.1725 - val_accuracy: 0.8966 - 105ms/epoch - 4ms/step\n",
      "Epoch 66/100\n",
      "28/28 - 0s - loss: 0.1186 - accuracy: 0.9483 - val_loss: 0.2075 - val_accuracy: 0.8966 - 121ms/epoch - 4ms/step\n",
      "Epoch 67/100\n",
      "28/28 - 0s - loss: 0.1034 - accuracy: 0.9594 - val_loss: 0.1757 - val_accuracy: 0.9138 - 169ms/epoch - 6ms/step\n",
      "Epoch 68/100\n",
      "28/28 - 0s - loss: 0.0975 - accuracy: 0.9705 - val_loss: 0.2064 - val_accuracy: 0.8966 - 101ms/epoch - 4ms/step\n",
      "Epoch 69/100\n",
      "28/28 - 0s - loss: 0.1736 - accuracy: 0.9410 - val_loss: 0.1570 - val_accuracy: 0.9310 - 110ms/epoch - 4ms/step\n",
      "Epoch 70/100\n",
      "28/28 - 0s - loss: 0.1137 - accuracy: 0.9594 - val_loss: 0.1678 - val_accuracy: 0.9138 - 111ms/epoch - 4ms/step\n",
      "Epoch 71/100\n",
      "28/28 - 0s - loss: 0.1467 - accuracy: 0.9336 - val_loss: 0.1723 - val_accuracy: 0.8966 - 99ms/epoch - 4ms/step\n",
      "Epoch 72/100\n",
      "28/28 - 0s - loss: 0.1276 - accuracy: 0.9594 - val_loss: 0.1804 - val_accuracy: 0.8966 - 103ms/epoch - 4ms/step\n",
      "Epoch 73/100\n",
      "28/28 - 0s - loss: 0.1181 - accuracy: 0.9557 - val_loss: 0.1640 - val_accuracy: 0.8966 - 102ms/epoch - 4ms/step\n",
      "Epoch 74/100\n",
      "28/28 - 0s - loss: 0.0836 - accuracy: 0.9742 - val_loss: 0.1864 - val_accuracy: 0.8966 - 101ms/epoch - 4ms/step\n",
      "Epoch 75/100\n",
      "28/28 - 0s - loss: 0.1406 - accuracy: 0.9373 - val_loss: 0.1943 - val_accuracy: 0.8966 - 116ms/epoch - 4ms/step\n",
      "Epoch 76/100\n",
      "28/28 - 0s - loss: 0.0854 - accuracy: 0.9705 - val_loss: 0.1672 - val_accuracy: 0.8966 - 104ms/epoch - 4ms/step\n",
      "Epoch 77/100\n",
      "28/28 - 0s - loss: 0.0852 - accuracy: 0.9742 - val_loss: 0.1660 - val_accuracy: 0.8966 - 104ms/epoch - 4ms/step\n",
      "Epoch 78/100\n",
      "28/28 - 0s - loss: 0.0917 - accuracy: 0.9705 - val_loss: 0.1927 - val_accuracy: 0.8966 - 113ms/epoch - 4ms/step\n",
      "Epoch 79/100\n",
      "28/28 - 0s - loss: 0.1145 - accuracy: 0.9520 - val_loss: 0.1601 - val_accuracy: 0.8966 - 108ms/epoch - 4ms/step\n",
      "Epoch 80/100\n",
      "28/28 - 0s - loss: 0.1056 - accuracy: 0.9557 - val_loss: 0.1521 - val_accuracy: 0.8966 - 108ms/epoch - 4ms/step\n",
      "Epoch 81/100\n",
      "28/28 - 0s - loss: 0.1260 - accuracy: 0.9594 - val_loss: 0.2111 - val_accuracy: 0.8966 - 109ms/epoch - 4ms/step\n",
      "Epoch 82/100\n",
      "28/28 - 0s - loss: 0.1049 - accuracy: 0.9631 - val_loss: 0.1599 - val_accuracy: 0.9138 - 110ms/epoch - 4ms/step\n",
      "Epoch 83/100\n",
      "28/28 - 0s - loss: 0.0791 - accuracy: 0.9852 - val_loss: 0.1808 - val_accuracy: 0.8966 - 107ms/epoch - 4ms/step\n",
      "Epoch 84/100\n",
      "28/28 - 0s - loss: 0.0960 - accuracy: 0.9742 - val_loss: 0.1764 - val_accuracy: 0.8966 - 125ms/epoch - 4ms/step\n",
      "Epoch 85/100\n",
      "28/28 - 0s - loss: 0.1057 - accuracy: 0.9705 - val_loss: 0.2018 - val_accuracy: 0.8966 - 106ms/epoch - 4ms/step\n",
      "Epoch 86/100\n",
      "28/28 - 0s - loss: 0.1251 - accuracy: 0.9668 - val_loss: 0.2089 - val_accuracy: 0.8966 - 101ms/epoch - 4ms/step\n",
      "Epoch 87/100\n",
      "28/28 - 0s - loss: 0.1272 - accuracy: 0.9594 - val_loss: 0.1875 - val_accuracy: 0.8966 - 109ms/epoch - 4ms/step\n",
      "Epoch 88/100\n",
      "28/28 - 0s - loss: 0.0765 - accuracy: 0.9705 - val_loss: 0.1819 - val_accuracy: 0.8966 - 103ms/epoch - 4ms/step\n",
      "Epoch 89/100\n",
      "28/28 - 0s - loss: 0.1041 - accuracy: 0.9631 - val_loss: 0.1821 - val_accuracy: 0.8966 - 104ms/epoch - 4ms/step\n",
      "Epoch 90/100\n",
      "28/28 - 0s - loss: 0.1259 - accuracy: 0.9594 - val_loss: 0.2302 - val_accuracy: 0.8966 - 106ms/epoch - 4ms/step\n",
      "Epoch 91/100\n",
      "28/28 - 0s - loss: 0.1009 - accuracy: 0.9668 - val_loss: 0.1967 - val_accuracy: 0.8966 - 102ms/epoch - 4ms/step\n",
      "Epoch 92/100\n",
      "28/28 - 0s - loss: 0.1268 - accuracy: 0.9557 - val_loss: 0.1785 - val_accuracy: 0.9138 - 101ms/epoch - 4ms/step\n",
      "Epoch 93/100\n",
      "28/28 - 0s - loss: 0.1095 - accuracy: 0.9594 - val_loss: 0.1893 - val_accuracy: 0.8966 - 119ms/epoch - 4ms/step\n",
      "Epoch 94/100\n",
      "28/28 - 0s - loss: 0.0922 - accuracy: 0.9705 - val_loss: 0.1937 - val_accuracy: 0.9138 - 103ms/epoch - 4ms/step\n",
      "Epoch 95/100\n",
      "28/28 - 0s - loss: 0.1030 - accuracy: 0.9557 - val_loss: 0.2069 - val_accuracy: 0.8793 - 105ms/epoch - 4ms/step\n",
      "Epoch 96/100\n",
      "28/28 - 0s - loss: 0.0988 - accuracy: 0.9557 - val_loss: 0.2313 - val_accuracy: 0.9138 - 107ms/epoch - 4ms/step\n",
      "Epoch 97/100\n",
      "28/28 - 0s - loss: 0.1018 - accuracy: 0.9557 - val_loss: 0.2258 - val_accuracy: 0.9138 - 106ms/epoch - 4ms/step\n",
      "Epoch 98/100\n",
      "28/28 - 0s - loss: 0.1174 - accuracy: 0.9520 - val_loss: 0.1591 - val_accuracy: 0.9138 - 109ms/epoch - 4ms/step\n",
      "Epoch 99/100\n",
      "28/28 - 0s - loss: 0.1103 - accuracy: 0.9557 - val_loss: 0.2228 - val_accuracy: 0.8966 - 105ms/epoch - 4ms/step\n",
      "Epoch 100/100\n",
      "28/28 - 0s - loss: 0.1004 - accuracy: 0.9594 - val_loss: 0.1731 - val_accuracy: 0.9138 - 106ms/epoch - 4ms/step\n"
     ]
    }
   ],
   "source": [
    "train_x = np.asarray(X_train)\n",
    "train_y = np.asarray(y_train)\n",
    "validation_x = np.asarray(X_val)\n",
    "validation_y = np.asarray(y_val)\n",
    "history = model1.fit(train_x, train_y, epochs=100, validation_data=(validation_x,validation_y),batch_size=10, shuffle=False,verbose=2)\n"
   ]
  },
  {
   "cell_type": "code",
   "execution_count": null,
   "metadata": {},
   "outputs": [
    {
     "name": "stdout",
     "output_type": "stream",
     "text": [
      "2/2 [==============================] - 0s 6ms/step - loss: 0.1731 - accuracy: 0.9138\n"
     ]
    },
    {
     "data": {
      "text/plain": [
       "[0.1731400191783905, 0.9137930870056152]"
      ]
     },
     "execution_count": 27,
     "metadata": {},
     "output_type": "execute_result"
    }
   ],
   "source": [
    "\n",
    "\n",
    "model1.evaluate(validation_x,validation_y)\n",
    "# print(validation_x)"
   ]
  },
  {
   "cell_type": "code",
   "execution_count": null,
   "metadata": {},
   "outputs": [
    {
     "name": "stdout",
     "output_type": "stream",
     "text": [
      "2/2 [==============================] - 0s 5ms/step - loss: 0.1540 - accuracy: 0.9661\n"
     ]
    },
    {
     "data": {
      "text/plain": [
       "[0.15403099358081818, 0.9661017060279846]"
      ]
     },
     "execution_count": 28,
     "metadata": {},
     "output_type": "execute_result"
    }
   ],
   "source": [
    "test_x = np.asarray(X_test)\n",
    "test_y = np.asarray(y_test)\n",
    "model1.evaluate(test_x,test_y)"
   ]
  },
  {
   "cell_type": "code",
   "execution_count": null,
   "metadata": {},
   "outputs": [],
   "source": [
    "from keras.layers import Reshape, Flatten, Dropout, Concatenate, BatchNormalization\n",
    "\n",
    "model2 = Sequential()\n",
    "model2.add(Conv1D(64, 2, activation='relu', input_shape=(64, 12))) # first convolutional layer\n",
    "model2.add(Conv1D(40,2,padding='valid', activation='relu',strides=1)) # second convolutional layer\n",
    "model2.add(Dropout(0.4))\n",
    "model2.add(GlobalMaxPooling1D())\n",
    "model2.add(Dense(40))\n",
    "model2.add(Dropout(0.4))\n",
    "model2.add(Activation('relu'))\n",
    "model2.add(BatchNormalization(epsilon=0.001, momentum=0.9, weights=None))\n",
    "model2.add(Dense(1))# fully connected layer model predicts 1 or 0\n",
    "model2.add(Activation('sigmoid'))"
   ]
  },
  {
   "cell_type": "code",
   "execution_count": null,
   "metadata": {},
   "outputs": [],
   "source": [
    "from keras.optimizers import Adam\n",
    "model2.compile(loss='binary_crossentropy',optimizer='adam',metrics=['accuracy'])"
   ]
  },
  {
   "cell_type": "code",
   "execution_count": null,
   "metadata": {},
   "outputs": [
    {
     "name": "stdout",
     "output_type": "stream",
     "text": [
      "Model: \"sequential_2\"\n",
      "_________________________________________________________________\n",
      " Layer (type)                Output Shape              Param #   \n",
      "=================================================================\n",
      " conv1d_4 (Conv1D)           (None, 63, 64)            1600      \n",
      "                                                                 \n",
      " conv1d_5 (Conv1D)           (None, 62, 40)            5160      \n",
      "                                                                 \n",
      " dropout_5 (Dropout)         (None, 62, 40)            0         \n",
      "                                                                 \n",
      " global_max_pooling1d_2 (Glo  (None, 40)               0         \n",
      " balMaxPooling1D)                                                \n",
      "                                                                 \n",
      " dense_4 (Dense)             (None, 40)                1640      \n",
      "                                                                 \n",
      " dropout_6 (Dropout)         (None, 40)                0         \n",
      "                                                                 \n",
      " activation_4 (Activation)   (None, 40)                0         \n",
      "                                                                 \n",
      " batch_normalization_3 (Batc  (None, 40)               160       \n",
      " hNormalization)                                                 \n",
      "                                                                 \n",
      " dense_5 (Dense)             (None, 1)                 41        \n",
      "                                                                 \n",
      " activation_5 (Activation)   (None, 1)                 0         \n",
      "                                                                 \n",
      "=================================================================\n",
      "Total params: 8,601\n",
      "Trainable params: 8,521\n",
      "Non-trainable params: 80\n",
      "_________________________________________________________________\n"
     ]
    }
   ],
   "source": [
    "model2.summary()"
   ]
  },
  {
   "cell_type": "code",
   "execution_count": null,
   "metadata": {},
   "outputs": [
    {
     "name": "stdout",
     "output_type": "stream",
     "text": [
      "Epoch 1/100\n",
      "28/28 - 2s - loss: 0.7263 - accuracy: 0.6162 - val_loss: 0.5488 - val_accuracy: 0.7586 - 2s/epoch - 60ms/step\n",
      "Epoch 2/100\n",
      "28/28 - 0s - loss: 0.5631 - accuracy: 0.6974 - val_loss: 0.4705 - val_accuracy: 0.8448 - 159ms/epoch - 6ms/step\n",
      "Epoch 3/100\n",
      "28/28 - 0s - loss: 0.4548 - accuracy: 0.8081 - val_loss: 0.4086 - val_accuracy: 0.8793 - 164ms/epoch - 6ms/step\n",
      "Epoch 4/100\n",
      "28/28 - 0s - loss: 0.3549 - accuracy: 0.8893 - val_loss: 0.3350 - val_accuracy: 0.9310 - 243ms/epoch - 9ms/step\n",
      "Epoch 5/100\n",
      "28/28 - 0s - loss: 0.3146 - accuracy: 0.8930 - val_loss: 0.3001 - val_accuracy: 0.9483 - 137ms/epoch - 5ms/step\n",
      "Epoch 6/100\n",
      "28/28 - 0s - loss: 0.2525 - accuracy: 0.9188 - val_loss: 0.2467 - val_accuracy: 1.0000 - 161ms/epoch - 6ms/step\n",
      "Epoch 7/100\n",
      "28/28 - 0s - loss: 0.2138 - accuracy: 0.9336 - val_loss: 0.2269 - val_accuracy: 1.0000 - 127ms/epoch - 5ms/step\n",
      "Epoch 8/100\n",
      "28/28 - 0s - loss: 0.2383 - accuracy: 0.9151 - val_loss: 1.8532 - val_accuracy: 0.8793 - 118ms/epoch - 4ms/step\n",
      "Epoch 9/100\n",
      "28/28 - 0s - loss: 0.2272 - accuracy: 0.9077 - val_loss: 0.2686 - val_accuracy: 0.9655 - 118ms/epoch - 4ms/step\n",
      "Epoch 10/100\n",
      "28/28 - 0s - loss: 0.2004 - accuracy: 0.9410 - val_loss: 0.2619 - val_accuracy: 0.9483 - 136ms/epoch - 5ms/step\n",
      "Epoch 11/100\n",
      "28/28 - 0s - loss: 0.1998 - accuracy: 0.9262 - val_loss: 0.2302 - val_accuracy: 0.9310 - 142ms/epoch - 5ms/step\n",
      "Epoch 12/100\n",
      "28/28 - 0s - loss: 0.2101 - accuracy: 0.9336 - val_loss: 0.2890 - val_accuracy: 0.9138 - 124ms/epoch - 4ms/step\n",
      "Epoch 13/100\n",
      "28/28 - 0s - loss: 0.1946 - accuracy: 0.9373 - val_loss: 0.4255 - val_accuracy: 0.7759 - 118ms/epoch - 4ms/step\n",
      "Epoch 14/100\n",
      "28/28 - 0s - loss: 0.1939 - accuracy: 0.9336 - val_loss: 0.2084 - val_accuracy: 0.9483 - 120ms/epoch - 4ms/step\n",
      "Epoch 15/100\n",
      "28/28 - 0s - loss: 0.1669 - accuracy: 0.9557 - val_loss: 0.2081 - val_accuracy: 0.9655 - 123ms/epoch - 4ms/step\n",
      "Epoch 16/100\n",
      "28/28 - 0s - loss: 0.1639 - accuracy: 0.9410 - val_loss: 0.1800 - val_accuracy: 0.9655 - 122ms/epoch - 4ms/step\n",
      "Epoch 17/100\n",
      "28/28 - 0s - loss: 0.1524 - accuracy: 0.9410 - val_loss: 0.1766 - val_accuracy: 0.9655 - 122ms/epoch - 4ms/step\n",
      "Epoch 18/100\n",
      "28/28 - 0s - loss: 0.1243 - accuracy: 0.9594 - val_loss: 0.1465 - val_accuracy: 0.9828 - 154ms/epoch - 6ms/step\n",
      "Epoch 19/100\n",
      "28/28 - 0s - loss: 0.1301 - accuracy: 0.9557 - val_loss: 0.1603 - val_accuracy: 0.9655 - 164ms/epoch - 6ms/step\n",
      "Epoch 20/100\n",
      "28/28 - 0s - loss: 0.1336 - accuracy: 0.9594 - val_loss: 0.1504 - val_accuracy: 0.9828 - 138ms/epoch - 5ms/step\n",
      "Epoch 21/100\n",
      "28/28 - 0s - loss: 0.1327 - accuracy: 0.9483 - val_loss: 0.1366 - val_accuracy: 1.0000 - 150ms/epoch - 5ms/step\n",
      "Epoch 22/100\n",
      "28/28 - 0s - loss: 0.1151 - accuracy: 0.9705 - val_loss: 0.6192 - val_accuracy: 0.9483 - 139ms/epoch - 5ms/step\n",
      "Epoch 23/100\n",
      "28/28 - 0s - loss: 0.1259 - accuracy: 0.9631 - val_loss: 0.1327 - val_accuracy: 0.9655 - 129ms/epoch - 5ms/step\n",
      "Epoch 24/100\n",
      "28/28 - 0s - loss: 0.1080 - accuracy: 0.9779 - val_loss: 0.1167 - val_accuracy: 1.0000 - 125ms/epoch - 4ms/step\n",
      "Epoch 25/100\n",
      "28/28 - 0s - loss: 0.0880 - accuracy: 0.9742 - val_loss: 0.1039 - val_accuracy: 1.0000 - 141ms/epoch - 5ms/step\n",
      "Epoch 26/100\n",
      "28/28 - 0s - loss: 0.0758 - accuracy: 0.9779 - val_loss: 0.1014 - val_accuracy: 0.9828 - 126ms/epoch - 5ms/step\n",
      "Epoch 27/100\n",
      "28/28 - 0s - loss: 0.0852 - accuracy: 0.9815 - val_loss: 0.0998 - val_accuracy: 0.9828 - 150ms/epoch - 5ms/step\n",
      "Epoch 28/100\n",
      "28/28 - 0s - loss: 0.1011 - accuracy: 0.9815 - val_loss: 0.0905 - val_accuracy: 0.9828 - 124ms/epoch - 4ms/step\n",
      "Epoch 29/100\n",
      "28/28 - 0s - loss: 0.0774 - accuracy: 0.9779 - val_loss: 0.0977 - val_accuracy: 0.9828 - 122ms/epoch - 4ms/step\n",
      "Epoch 30/100\n",
      "28/28 - 0s - loss: 0.0645 - accuracy: 0.9779 - val_loss: 0.0878 - val_accuracy: 0.9655 - 158ms/epoch - 6ms/step\n",
      "Epoch 31/100\n",
      "28/28 - 0s - loss: 0.0865 - accuracy: 0.9742 - val_loss: 0.0835 - val_accuracy: 0.9828 - 128ms/epoch - 5ms/step\n",
      "Epoch 32/100\n",
      "28/28 - 0s - loss: 0.0706 - accuracy: 0.9815 - val_loss: 0.0762 - val_accuracy: 0.9828 - 150ms/epoch - 5ms/step\n",
      "Epoch 33/100\n",
      "28/28 - 0s - loss: 0.0435 - accuracy: 1.0000 - val_loss: 0.0761 - val_accuracy: 0.9828 - 132ms/epoch - 5ms/step\n",
      "Epoch 34/100\n",
      "28/28 - 0s - loss: 0.0668 - accuracy: 0.9705 - val_loss: 0.1171 - val_accuracy: 0.9655 - 134ms/epoch - 5ms/step\n",
      "Epoch 35/100\n",
      "28/28 - 0s - loss: 0.0679 - accuracy: 0.9742 - val_loss: 0.0872 - val_accuracy: 0.9828 - 132ms/epoch - 5ms/step\n",
      "Epoch 36/100\n",
      "28/28 - 0s - loss: 0.0553 - accuracy: 0.9779 - val_loss: 0.0660 - val_accuracy: 1.0000 - 132ms/epoch - 5ms/step\n",
      "Epoch 37/100\n",
      "28/28 - 0s - loss: 0.1265 - accuracy: 0.9520 - val_loss: 0.1186 - val_accuracy: 0.9828 - 134ms/epoch - 5ms/step\n",
      "Epoch 38/100\n",
      "28/28 - 0s - loss: 0.1033 - accuracy: 0.9631 - val_loss: 0.0951 - val_accuracy: 1.0000 - 136ms/epoch - 5ms/step\n",
      "Epoch 39/100\n",
      "28/28 - 0s - loss: 0.0730 - accuracy: 0.9852 - val_loss: 0.1014 - val_accuracy: 0.9828 - 149ms/epoch - 5ms/step\n",
      "Epoch 40/100\n",
      "28/28 - 0s - loss: 0.0899 - accuracy: 0.9815 - val_loss: 0.0910 - val_accuracy: 0.9828 - 160ms/epoch - 6ms/step\n",
      "Epoch 41/100\n",
      "28/28 - 0s - loss: 0.0776 - accuracy: 0.9742 - val_loss: 0.0986 - val_accuracy: 1.0000 - 139ms/epoch - 5ms/step\n",
      "Epoch 42/100\n",
      "28/28 - 0s - loss: 0.0923 - accuracy: 0.9668 - val_loss: 0.0866 - val_accuracy: 1.0000 - 155ms/epoch - 6ms/step\n",
      "Epoch 43/100\n",
      "28/28 - 0s - loss: 0.0722 - accuracy: 0.9815 - val_loss: 0.0859 - val_accuracy: 0.9828 - 128ms/epoch - 5ms/step\n",
      "Epoch 44/100\n",
      "28/28 - 0s - loss: 0.0565 - accuracy: 0.9963 - val_loss: 0.0754 - val_accuracy: 1.0000 - 157ms/epoch - 6ms/step\n",
      "Epoch 45/100\n",
      "28/28 - 0s - loss: 0.0638 - accuracy: 0.9852 - val_loss: 0.0522 - val_accuracy: 1.0000 - 133ms/epoch - 5ms/step\n",
      "Epoch 46/100\n",
      "28/28 - 0s - loss: 0.0576 - accuracy: 0.9889 - val_loss: 0.0778 - val_accuracy: 0.9828 - 167ms/epoch - 6ms/step\n",
      "Epoch 47/100\n",
      "28/28 - 0s - loss: 0.0845 - accuracy: 0.9705 - val_loss: 0.2113 - val_accuracy: 0.9483 - 130ms/epoch - 5ms/step\n",
      "Epoch 48/100\n",
      "28/28 - 0s - loss: 0.0763 - accuracy: 0.9889 - val_loss: 0.0690 - val_accuracy: 1.0000 - 140ms/epoch - 5ms/step\n",
      "Epoch 49/100\n",
      "28/28 - 0s - loss: 0.0752 - accuracy: 0.9852 - val_loss: 0.0981 - val_accuracy: 0.9828 - 142ms/epoch - 5ms/step\n",
      "Epoch 50/100\n",
      "28/28 - 0s - loss: 0.0776 - accuracy: 0.9779 - val_loss: 0.0790 - val_accuracy: 0.9828 - 136ms/epoch - 5ms/step\n",
      "Epoch 51/100\n",
      "28/28 - 0s - loss: 0.0552 - accuracy: 0.9963 - val_loss: 0.0951 - val_accuracy: 0.9828 - 132ms/epoch - 5ms/step\n",
      "Epoch 52/100\n",
      "28/28 - 0s - loss: 0.0598 - accuracy: 0.9815 - val_loss: 0.0581 - val_accuracy: 0.9828 - 127ms/epoch - 5ms/step\n",
      "Epoch 53/100\n",
      "28/28 - 0s - loss: 0.0656 - accuracy: 0.9742 - val_loss: 0.0949 - val_accuracy: 0.9828 - 139ms/epoch - 5ms/step\n",
      "Epoch 54/100\n",
      "28/28 - 0s - loss: 0.0525 - accuracy: 0.9889 - val_loss: 0.0682 - val_accuracy: 0.9828 - 127ms/epoch - 5ms/step\n",
      "Epoch 55/100\n",
      "28/28 - 0s - loss: 0.0482 - accuracy: 0.9926 - val_loss: 0.1093 - val_accuracy: 0.9828 - 130ms/epoch - 5ms/step\n",
      "Epoch 56/100\n",
      "28/28 - 0s - loss: 0.0749 - accuracy: 0.9779 - val_loss: 0.0396 - val_accuracy: 1.0000 - 129ms/epoch - 5ms/step\n",
      "Epoch 57/100\n",
      "28/28 - 0s - loss: 0.0417 - accuracy: 0.9889 - val_loss: 0.0568 - val_accuracy: 0.9828 - 125ms/epoch - 4ms/step\n",
      "Epoch 58/100\n",
      "28/28 - 0s - loss: 0.0500 - accuracy: 0.9926 - val_loss: 0.0380 - val_accuracy: 1.0000 - 126ms/epoch - 5ms/step\n",
      "Epoch 59/100\n",
      "28/28 - 0s - loss: 0.0342 - accuracy: 0.9963 - val_loss: 0.0443 - val_accuracy: 1.0000 - 152ms/epoch - 5ms/step\n",
      "Epoch 60/100\n",
      "28/28 - 0s - loss: 0.0307 - accuracy: 1.0000 - val_loss: 0.0555 - val_accuracy: 1.0000 - 141ms/epoch - 5ms/step\n",
      "Epoch 61/100\n",
      "28/28 - 0s - loss: 0.0375 - accuracy: 0.9963 - val_loss: 0.0495 - val_accuracy: 1.0000 - 140ms/epoch - 5ms/step\n",
      "Epoch 62/100\n",
      "28/28 - 0s - loss: 0.0252 - accuracy: 0.9963 - val_loss: 0.0629 - val_accuracy: 0.9828 - 135ms/epoch - 5ms/step\n",
      "Epoch 63/100\n",
      "28/28 - 0s - loss: 0.0340 - accuracy: 0.9815 - val_loss: 0.0431 - val_accuracy: 1.0000 - 135ms/epoch - 5ms/step\n",
      "Epoch 64/100\n",
      "28/28 - 0s - loss: 0.0254 - accuracy: 0.9963 - val_loss: 0.0428 - val_accuracy: 1.0000 - 133ms/epoch - 5ms/step\n",
      "Epoch 65/100\n",
      "28/28 - 0s - loss: 0.0224 - accuracy: 0.9963 - val_loss: 0.0382 - val_accuracy: 1.0000 - 133ms/epoch - 5ms/step\n",
      "Epoch 66/100\n",
      "28/28 - 0s - loss: 0.0347 - accuracy: 0.9926 - val_loss: 0.0687 - val_accuracy: 0.9828 - 133ms/epoch - 5ms/step\n",
      "Epoch 67/100\n",
      "28/28 - 0s - loss: 0.0380 - accuracy: 0.9889 - val_loss: 0.0297 - val_accuracy: 1.0000 - 124ms/epoch - 4ms/step\n",
      "Epoch 68/100\n",
      "28/28 - 0s - loss: 0.0219 - accuracy: 1.0000 - val_loss: 0.0337 - val_accuracy: 1.0000 - 148ms/epoch - 5ms/step\n",
      "Epoch 69/100\n",
      "28/28 - 0s - loss: 0.0215 - accuracy: 0.9963 - val_loss: 0.0326 - val_accuracy: 1.0000 - 126ms/epoch - 5ms/step\n",
      "Epoch 70/100\n",
      "28/28 - 0s - loss: 0.0206 - accuracy: 0.9963 - val_loss: 0.0462 - val_accuracy: 0.9828 - 155ms/epoch - 6ms/step\n",
      "Epoch 71/100\n",
      "28/28 - 0s - loss: 0.0270 - accuracy: 0.9889 - val_loss: 0.0352 - val_accuracy: 1.0000 - 129ms/epoch - 5ms/step\n",
      "Epoch 72/100\n",
      "28/28 - 0s - loss: 0.0265 - accuracy: 0.9963 - val_loss: 0.0274 - val_accuracy: 1.0000 - 143ms/epoch - 5ms/step\n",
      "Epoch 73/100\n",
      "28/28 - 0s - loss: 0.0293 - accuracy: 0.9889 - val_loss: 0.0250 - val_accuracy: 1.0000 - 136ms/epoch - 5ms/step\n",
      "Epoch 74/100\n",
      "28/28 - 0s - loss: 0.0167 - accuracy: 1.0000 - val_loss: 0.0298 - val_accuracy: 1.0000 - 135ms/epoch - 5ms/step\n",
      "Epoch 75/100\n",
      "28/28 - 0s - loss: 0.0239 - accuracy: 0.9963 - val_loss: 0.0507 - val_accuracy: 0.9828 - 150ms/epoch - 5ms/step\n",
      "Epoch 76/100\n",
      "28/28 - 0s - loss: 0.0206 - accuracy: 0.9963 - val_loss: 0.0213 - val_accuracy: 1.0000 - 130ms/epoch - 5ms/step\n",
      "Epoch 77/100\n",
      "28/28 - 0s - loss: 0.0251 - accuracy: 0.9963 - val_loss: 0.0317 - val_accuracy: 1.0000 - 137ms/epoch - 5ms/step\n",
      "Epoch 78/100\n",
      "28/28 - 0s - loss: 0.0193 - accuracy: 0.9963 - val_loss: 0.0280 - val_accuracy: 1.0000 - 158ms/epoch - 6ms/step\n",
      "Epoch 79/100\n",
      "28/28 - 0s - loss: 0.0241 - accuracy: 0.9926 - val_loss: 0.0335 - val_accuracy: 1.0000 - 145ms/epoch - 5ms/step\n",
      "Epoch 80/100\n",
      "28/28 - 0s - loss: 0.0869 - accuracy: 0.9631 - val_loss: 0.2952 - val_accuracy: 0.8448 - 132ms/epoch - 5ms/step\n",
      "Epoch 81/100\n",
      "28/28 - 0s - loss: 0.0683 - accuracy: 0.9779 - val_loss: 0.0625 - val_accuracy: 0.9828 - 128ms/epoch - 5ms/step\n",
      "Epoch 82/100\n",
      "28/28 - 0s - loss: 0.0303 - accuracy: 0.9889 - val_loss: 0.0457 - val_accuracy: 1.0000 - 145ms/epoch - 5ms/step\n",
      "Epoch 83/100\n",
      "28/28 - 0s - loss: 0.0309 - accuracy: 0.9889 - val_loss: 0.0513 - val_accuracy: 0.9828 - 123ms/epoch - 4ms/step\n",
      "Epoch 84/100\n",
      "28/28 - 0s - loss: 0.0328 - accuracy: 0.9889 - val_loss: 0.0371 - val_accuracy: 1.0000 - 126ms/epoch - 5ms/step\n",
      "Epoch 85/100\n",
      "28/28 - 0s - loss: 0.0297 - accuracy: 0.9963 - val_loss: 0.0594 - val_accuracy: 0.9828 - 128ms/epoch - 5ms/step\n",
      "Epoch 86/100\n",
      "28/28 - 0s - loss: 0.0155 - accuracy: 1.0000 - val_loss: 0.0377 - val_accuracy: 0.9828 - 128ms/epoch - 5ms/step\n",
      "Epoch 87/100\n",
      "28/28 - 0s - loss: 0.0288 - accuracy: 0.9963 - val_loss: 0.0240 - val_accuracy: 1.0000 - 125ms/epoch - 4ms/step\n",
      "Epoch 88/100\n",
      "28/28 - 0s - loss: 0.0210 - accuracy: 0.9963 - val_loss: 0.0455 - val_accuracy: 0.9828 - 131ms/epoch - 5ms/step\n",
      "Epoch 89/100\n",
      "28/28 - 0s - loss: 0.0186 - accuracy: 1.0000 - val_loss: 0.0376 - val_accuracy: 1.0000 - 142ms/epoch - 5ms/step\n",
      "Epoch 90/100\n",
      "28/28 - 0s - loss: 0.0213 - accuracy: 0.9963 - val_loss: 0.0479 - val_accuracy: 0.9828 - 140ms/epoch - 5ms/step\n",
      "Epoch 91/100\n",
      "28/28 - 0s - loss: 0.0306 - accuracy: 0.9926 - val_loss: 0.0553 - val_accuracy: 0.9828 - 135ms/epoch - 5ms/step\n",
      "Epoch 92/100\n",
      "28/28 - 0s - loss: 0.0243 - accuracy: 0.9889 - val_loss: 0.0250 - val_accuracy: 1.0000 - 136ms/epoch - 5ms/step\n",
      "Epoch 93/100\n",
      "28/28 - 0s - loss: 0.0339 - accuracy: 0.9852 - val_loss: 0.0194 - val_accuracy: 1.0000 - 135ms/epoch - 5ms/step\n",
      "Epoch 94/100\n",
      "28/28 - 0s - loss: 0.0308 - accuracy: 0.9926 - val_loss: 0.0306 - val_accuracy: 1.0000 - 136ms/epoch - 5ms/step\n",
      "Epoch 95/100\n",
      "28/28 - 0s - loss: 0.0270 - accuracy: 0.9889 - val_loss: 0.0343 - val_accuracy: 1.0000 - 128ms/epoch - 5ms/step\n",
      "Epoch 96/100\n",
      "28/28 - 0s - loss: 0.0365 - accuracy: 0.9963 - val_loss: 0.0666 - val_accuracy: 0.9828 - 126ms/epoch - 5ms/step\n",
      "Epoch 97/100\n",
      "28/28 - 0s - loss: 0.0294 - accuracy: 0.9852 - val_loss: 0.0553 - val_accuracy: 0.9828 - 194ms/epoch - 7ms/step\n",
      "Epoch 98/100\n",
      "28/28 - 0s - loss: 0.0246 - accuracy: 0.9926 - val_loss: 0.0248 - val_accuracy: 1.0000 - 126ms/epoch - 5ms/step\n",
      "Epoch 99/100\n",
      "28/28 - 0s - loss: 0.0178 - accuracy: 1.0000 - val_loss: 0.0608 - val_accuracy: 0.9828 - 128ms/epoch - 5ms/step\n",
      "Epoch 100/100\n",
      "28/28 - 0s - loss: 0.0184 - accuracy: 1.0000 - val_loss: 0.0796 - val_accuracy: 0.9828 - 129ms/epoch - 5ms/step\n"
     ]
    }
   ],
   "source": [
    "history = model2.fit(train_x, train_y, epochs=100, validation_data=(validation_x,validation_y),batch_size=10, shuffle=False,verbose=2)\n"
   ]
  },
  {
   "cell_type": "code",
   "execution_count": null,
   "metadata": {},
   "outputs": [
    {
     "name": "stdout",
     "output_type": "stream",
     "text": [
      "2/2 [==============================] - 0s 6ms/step - loss: 0.0796 - accuracy: 0.9828\n"
     ]
    },
    {
     "data": {
      "text/plain": [
       "[0.07960830628871918, 0.982758641242981]"
      ]
     },
     "execution_count": 34,
     "metadata": {},
     "output_type": "execute_result"
    }
   ],
   "source": [
    "model2.evaluate(validation_x,validation_y)"
   ]
  },
  {
   "cell_type": "code",
   "execution_count": null,
   "metadata": {},
   "outputs": [
    {
     "name": "stdout",
     "output_type": "stream",
     "text": [
      "2/2 [==============================] - 0s 5ms/step - loss: 0.0310 - accuracy: 1.0000\n"
     ]
    },
    {
     "data": {
      "text/plain": [
       "[0.031028207391500473, 1.0]"
      ]
     },
     "execution_count": 35,
     "metadata": {},
     "output_type": "execute_result"
    }
   ],
   "source": [
    "model2.evaluate(test_x,test_y)"
   ]
  },
  {
   "cell_type": "code",
   "execution_count": null,
   "metadata": {},
   "outputs": [
    {
     "name": "stdout",
     "output_type": "stream",
     "text": [
      "9/9 [==============================] - 0s 3ms/step - loss: 0.0300 - accuracy: 0.9963\n"
     ]
    },
    {
     "data": {
      "text/plain": [
       "[0.03004251793026924, 0.9963099360466003]"
      ]
     },
     "execution_count": 36,
     "metadata": {},
     "output_type": "execute_result"
    }
   ],
   "source": [
    "model2.evaluate(train_x,train_y)"
   ]
  },
  {
   "cell_type": "code",
   "execution_count": null,
   "metadata": {},
   "outputs": [
    {
     "name": "stdout",
     "output_type": "stream",
     "text": [
      "dict_keys(['loss', 'accuracy', 'val_loss', 'val_accuracy'])\n"
     ]
    },
    {
     "data": {
      "image/png": "[encoded data removed]",
      "text/plain": [
       "<Figure size 640x480 with 1 Axes>"
      ]
     },
     "metadata": {},
     "output_type": "display_data"
    },
    {
     "data": {
      "image/png": "[encoded data removed]",
      "text/plain": [
       "<Figure size 640x480 with 1 Axes>"
      ]
     },
     "metadata": {},
     "output_type": "display_data"
    }
   ],
   "source": [
    "print(history.history.keys())\n",
    "#  \"Accuracy\"\n",
    "plt.plot(history.history['accuracy'])\n",
    "plt.plot(history.history['val_accuracy'])\n",
    "plt.title('model accuracy')\n",
    "plt.ylabel('accuracy')\n",
    "plt.xlabel('epoch')\n",
    "plt.legend(['train', 'test'], loc='upper left')\n",
    "plt.show()\n",
    "# \"Loss\"\n",
    "plt.plot(history.history['loss'])\n",
    "plt.plot(history.history['val_loss'])\n",
    "plt.title('model loss')\n",
    "plt.ylabel('loss')\n",
    "plt.xlabel('epoch')\n",
    "plt.legend(['train', 'test'], loc='upper left')\n",
    "plt.show()"
   ]
  },
  {
   "cell_type": "code",
   "execution_count": null,
   "metadata": {},
   "outputs": [],
   "source": [
    "model3 = Sequential()\n",
    "model3.add(Conv1D(64, 2, input_shape=(64, 12)))\n",
    "model3.add(Activation('relu'))\n",
    "model3.add(Conv1D(64, 2))\n",
    "model3.add(Activation('relu'))\n",
    "model3.add(MaxPooling1D())\n",
    "model3.add(Conv1D(128, 2))\n",
    "model3.add(Activation('relu'))\n",
    "model3.add(Conv1D(128, 2))\n",
    "model3.add(Activation('relu'))\n",
    "model3.add(GlobalAveragePooling1D())\n",
    "model3.add(Dropout(0.5))\n",
    "model3.add(Dense(1))\n",
    "model3.add(Activation('sigmoid'))\n"
   ]
  },
  {
   "cell_type": "code",
   "execution_count": null,
   "metadata": {},
   "outputs": [],
   "source": [
    "from keras.optimizers import Adam\n",
    "model3.compile(loss='binary_crossentropy',optimizer='adam',metrics=['accuracy'])"
   ]
  },
  {
   "cell_type": "code",
   "execution_count": null,
   "metadata": {},
   "outputs": [
    {
     "name": "stdout",
     "output_type": "stream",
     "text": [
      "Epoch 1/100\n",
      "28/28 - 2s - loss: 0.6824 - accuracy: 0.7897 - val_loss: 0.2215 - val_accuracy: 0.9138 - 2s/epoch - 64ms/step\n",
      "Epoch 2/100\n",
      "28/28 - 0s - loss: 0.2311 - accuracy: 0.9114 - val_loss: 0.1218 - val_accuracy: 0.9483 - 230ms/epoch - 8ms/step\n",
      "Epoch 3/100\n",
      "28/28 - 0s - loss: 0.1278 - accuracy: 0.9446 - val_loss: 0.0721 - val_accuracy: 1.0000 - 194ms/epoch - 7ms/step\n",
      "Epoch 4/100\n",
      "28/28 - 0s - loss: 0.1085 - accuracy: 0.9520 - val_loss: 0.0949 - val_accuracy: 0.9655 - 198ms/epoch - 7ms/step\n",
      "Epoch 5/100\n",
      "28/28 - 0s - loss: 0.0787 - accuracy: 0.9779 - val_loss: 0.0614 - val_accuracy: 0.9828 - 262ms/epoch - 9ms/step\n",
      "Epoch 6/100\n",
      "28/28 - 0s - loss: 0.0539 - accuracy: 0.9926 - val_loss: 0.0471 - val_accuracy: 0.9828 - 234ms/epoch - 8ms/step\n",
      "Epoch 7/100\n",
      "28/28 - 0s - loss: 0.0452 - accuracy: 0.9852 - val_loss: 0.0622 - val_accuracy: 0.9655 - 181ms/epoch - 6ms/step\n",
      "Epoch 8/100\n",
      "28/28 - 0s - loss: 0.0326 - accuracy: 0.9926 - val_loss: 0.0124 - val_accuracy: 1.0000 - 212ms/epoch - 8ms/step\n",
      "Epoch 9/100\n",
      "28/28 - 0s - loss: 0.0466 - accuracy: 0.9815 - val_loss: 0.2723 - val_accuracy: 0.9310 - 189ms/epoch - 7ms/step\n",
      "Epoch 10/100\n",
      "28/28 - 0s - loss: 0.0398 - accuracy: 0.9852 - val_loss: 0.0424 - val_accuracy: 0.9655 - 166ms/epoch - 6ms/step\n",
      "Epoch 11/100\n",
      "28/28 - 0s - loss: 0.0491 - accuracy: 0.9779 - val_loss: 0.0123 - val_accuracy: 1.0000 - 161ms/epoch - 6ms/step\n",
      "Epoch 12/100\n",
      "28/28 - 0s - loss: 0.0354 - accuracy: 0.9889 - val_loss: 0.2375 - val_accuracy: 0.9828 - 162ms/epoch - 6ms/step\n",
      "Epoch 13/100\n",
      "28/28 - 0s - loss: 0.0703 - accuracy: 0.9815 - val_loss: 0.1393 - val_accuracy: 0.9310 - 285ms/epoch - 10ms/step\n",
      "Epoch 14/100\n",
      "28/28 - 0s - loss: 0.0276 - accuracy: 0.9852 - val_loss: 0.1697 - val_accuracy: 0.9655 - 261ms/epoch - 9ms/step\n",
      "Epoch 15/100\n",
      "28/28 - 0s - loss: 0.0228 - accuracy: 0.9963 - val_loss: 0.0597 - val_accuracy: 0.9655 - 210ms/epoch - 7ms/step\n",
      "Epoch 16/100\n",
      "28/28 - 0s - loss: 0.0086 - accuracy: 0.9963 - val_loss: 0.0816 - val_accuracy: 0.9655 - 182ms/epoch - 7ms/step\n",
      "Epoch 17/100\n",
      "28/28 - 0s - loss: 0.0026 - accuracy: 1.0000 - val_loss: 0.0484 - val_accuracy: 0.9655 - 162ms/epoch - 6ms/step\n",
      "Epoch 18/100\n",
      "28/28 - 0s - loss: 0.0021 - accuracy: 1.0000 - val_loss: 0.0571 - val_accuracy: 0.9655 - 158ms/epoch - 6ms/step\n",
      "Epoch 19/100\n",
      "28/28 - 0s - loss: 0.0019 - accuracy: 1.0000 - val_loss: 0.0372 - val_accuracy: 0.9828 - 180ms/epoch - 6ms/step\n",
      "Epoch 20/100\n",
      "28/28 - 0s - loss: 0.0014 - accuracy: 1.0000 - val_loss: 0.0474 - val_accuracy: 0.9828 - 161ms/epoch - 6ms/step\n",
      "Epoch 21/100\n",
      "28/28 - 0s - loss: 9.9150e-04 - accuracy: 1.0000 - val_loss: 0.0486 - val_accuracy: 0.9828 - 162ms/epoch - 6ms/step\n",
      "Epoch 22/100\n",
      "28/28 - 0s - loss: 0.0014 - accuracy: 1.0000 - val_loss: 0.0618 - val_accuracy: 0.9828 - 175ms/epoch - 6ms/step\n",
      "Epoch 23/100\n",
      "28/28 - 0s - loss: 0.0021 - accuracy: 1.0000 - val_loss: 0.1053 - val_accuracy: 0.9655 - 179ms/epoch - 6ms/step\n",
      "Epoch 24/100\n",
      "28/28 - 0s - loss: 0.0020 - accuracy: 1.0000 - val_loss: 0.0641 - val_accuracy: 0.9655 - 172ms/epoch - 6ms/step\n",
      "Epoch 25/100\n",
      "28/28 - 0s - loss: 8.6230e-04 - accuracy: 1.0000 - val_loss: 0.0531 - val_accuracy: 0.9828 - 186ms/epoch - 7ms/step\n",
      "Epoch 26/100\n",
      "28/28 - 0s - loss: 9.2818e-04 - accuracy: 1.0000 - val_loss: 0.0652 - val_accuracy: 0.9655 - 172ms/epoch - 6ms/step\n",
      "Epoch 27/100\n",
      "28/28 - 0s - loss: 0.0010 - accuracy: 1.0000 - val_loss: 0.0435 - val_accuracy: 0.9828 - 169ms/epoch - 6ms/step\n",
      "Epoch 28/100\n",
      "28/28 - 0s - loss: 7.3057e-04 - accuracy: 1.0000 - val_loss: 0.0357 - val_accuracy: 0.9828 - 170ms/epoch - 6ms/step\n",
      "Epoch 29/100\n",
      "28/28 - 0s - loss: 5.5976e-04 - accuracy: 1.0000 - val_loss: 0.0399 - val_accuracy: 0.9828 - 163ms/epoch - 6ms/step\n",
      "Epoch 30/100\n",
      "28/28 - 0s - loss: 6.1070e-04 - accuracy: 1.0000 - val_loss: 0.0424 - val_accuracy: 0.9828 - 162ms/epoch - 6ms/step\n",
      "Epoch 31/100\n",
      "28/28 - 0s - loss: 7.6393e-04 - accuracy: 1.0000 - val_loss: 0.0477 - val_accuracy: 0.9655 - 179ms/epoch - 6ms/step\n",
      "Epoch 32/100\n",
      "28/28 - 0s - loss: 3.9538e-04 - accuracy: 1.0000 - val_loss: 0.0640 - val_accuracy: 0.9828 - 163ms/epoch - 6ms/step\n",
      "Epoch 33/100\n",
      "28/28 - 0s - loss: 4.3545e-04 - accuracy: 1.0000 - val_loss: 0.0539 - val_accuracy: 0.9828 - 160ms/epoch - 6ms/step\n",
      "Epoch 34/100\n",
      "28/28 - 0s - loss: 3.5261e-04 - accuracy: 1.0000 - val_loss: 0.0535 - val_accuracy: 0.9828 - 166ms/epoch - 6ms/step\n",
      "Epoch 35/100\n",
      "28/28 - 0s - loss: 3.3204e-04 - accuracy: 1.0000 - val_loss: 0.0517 - val_accuracy: 0.9828 - 166ms/epoch - 6ms/step\n",
      "Epoch 36/100\n",
      "28/28 - 0s - loss: 2.3308e-04 - accuracy: 1.0000 - val_loss: 0.0496 - val_accuracy: 0.9828 - 177ms/epoch - 6ms/step\n",
      "Epoch 37/100\n",
      "28/28 - 0s - loss: 3.0878e-04 - accuracy: 1.0000 - val_loss: 0.0511 - val_accuracy: 0.9828 - 186ms/epoch - 7ms/step\n",
      "Epoch 38/100\n",
      "28/28 - 0s - loss: 1.6613e-04 - accuracy: 1.0000 - val_loss: 0.0493 - val_accuracy: 0.9828 - 168ms/epoch - 6ms/step\n",
      "Epoch 39/100\n",
      "28/28 - 0s - loss: 2.2434e-04 - accuracy: 1.0000 - val_loss: 0.0500 - val_accuracy: 0.9828 - 170ms/epoch - 6ms/step\n",
      "Epoch 40/100\n",
      "28/28 - 0s - loss: 1.7277e-04 - accuracy: 1.0000 - val_loss: 0.0531 - val_accuracy: 0.9828 - 163ms/epoch - 6ms/step\n",
      "Epoch 41/100\n",
      "28/28 - 0s - loss: 1.9292e-04 - accuracy: 1.0000 - val_loss: 0.0572 - val_accuracy: 0.9828 - 185ms/epoch - 7ms/step\n",
      "Epoch 42/100\n",
      "28/28 - 0s - loss: 1.3941e-04 - accuracy: 1.0000 - val_loss: 0.0595 - val_accuracy: 0.9828 - 178ms/epoch - 6ms/step\n",
      "Epoch 43/100\n",
      "28/28 - 0s - loss: 2.2038e-04 - accuracy: 1.0000 - val_loss: 0.0645 - val_accuracy: 0.9828 - 163ms/epoch - 6ms/step\n",
      "Epoch 44/100\n",
      "28/28 - 0s - loss: 3.2415e-05 - accuracy: 1.0000 - val_loss: 0.0657 - val_accuracy: 0.9828 - 186ms/epoch - 7ms/step\n",
      "Epoch 45/100\n",
      "28/28 - 0s - loss: 5.6988e-05 - accuracy: 1.0000 - val_loss: 0.0643 - val_accuracy: 0.9828 - 227ms/epoch - 8ms/step\n",
      "Epoch 46/100\n",
      "28/28 - 0s - loss: 7.4244e-05 - accuracy: 1.0000 - val_loss: 0.0705 - val_accuracy: 0.9828 - 251ms/epoch - 9ms/step\n",
      "Epoch 47/100\n",
      "28/28 - 0s - loss: 1.5908e-04 - accuracy: 1.0000 - val_loss: 0.0414 - val_accuracy: 0.9828 - 254ms/epoch - 9ms/step\n",
      "Epoch 48/100\n",
      "28/28 - 0s - loss: 6.9844e-05 - accuracy: 1.0000 - val_loss: 0.0390 - val_accuracy: 0.9828 - 265ms/epoch - 9ms/step\n",
      "Epoch 49/100\n",
      "28/28 - 0s - loss: 4.6883e-05 - accuracy: 1.0000 - val_loss: 0.0420 - val_accuracy: 0.9828 - 181ms/epoch - 6ms/step\n",
      "Epoch 50/100\n",
      "28/28 - 0s - loss: 9.3439e-05 - accuracy: 1.0000 - val_loss: 0.0447 - val_accuracy: 0.9828 - 185ms/epoch - 7ms/step\n",
      "Epoch 51/100\n",
      "28/28 - 0s - loss: 2.6188e-05 - accuracy: 1.0000 - val_loss: 0.0457 - val_accuracy: 0.9828 - 182ms/epoch - 6ms/step\n",
      "Epoch 52/100\n",
      "28/28 - 0s - loss: 6.1290e-05 - accuracy: 1.0000 - val_loss: 0.0483 - val_accuracy: 0.9828 - 184ms/epoch - 7ms/step\n",
      "Epoch 53/100\n",
      "28/28 - 0s - loss: 2.3575e-05 - accuracy: 1.0000 - val_loss: 0.0494 - val_accuracy: 0.9828 - 185ms/epoch - 7ms/step\n",
      "Epoch 54/100\n",
      "28/28 - 0s - loss: 2.2346e-05 - accuracy: 1.0000 - val_loss: 0.0481 - val_accuracy: 0.9828 - 201ms/epoch - 7ms/step\n",
      "Epoch 55/100\n",
      "28/28 - 0s - loss: 6.0990e-05 - accuracy: 1.0000 - val_loss: 0.0514 - val_accuracy: 0.9828 - 189ms/epoch - 7ms/step\n",
      "Epoch 56/100\n",
      "28/28 - 0s - loss: 2.6841e-05 - accuracy: 1.0000 - val_loss: 0.0514 - val_accuracy: 0.9828 - 177ms/epoch - 6ms/step\n",
      "Epoch 57/100\n",
      "28/28 - 0s - loss: 1.4820e-04 - accuracy: 1.0000 - val_loss: 0.0573 - val_accuracy: 0.9828 - 192ms/epoch - 7ms/step\n",
      "Epoch 58/100\n",
      "28/28 - 0s - loss: 9.6134e-06 - accuracy: 1.0000 - val_loss: 0.0576 - val_accuracy: 0.9828 - 202ms/epoch - 7ms/step\n",
      "Epoch 59/100\n",
      "28/28 - 0s - loss: 9.0999e-05 - accuracy: 1.0000 - val_loss: 0.0584 - val_accuracy: 0.9655 - 200ms/epoch - 7ms/step\n",
      "Epoch 60/100\n",
      "28/28 - 0s - loss: 2.4576e-05 - accuracy: 1.0000 - val_loss: 0.0573 - val_accuracy: 0.9655 - 172ms/epoch - 6ms/step\n",
      "Epoch 61/100\n",
      "28/28 - 0s - loss: 2.6560e-05 - accuracy: 1.0000 - val_loss: 0.0514 - val_accuracy: 0.9828 - 158ms/epoch - 6ms/step\n",
      "Epoch 62/100\n",
      "28/28 - 0s - loss: 1.2332e-05 - accuracy: 1.0000 - val_loss: 0.0500 - val_accuracy: 0.9828 - 173ms/epoch - 6ms/step\n",
      "Epoch 63/100\n",
      "28/28 - 0s - loss: 4.0438e-05 - accuracy: 1.0000 - val_loss: 0.0496 - val_accuracy: 0.9828 - 168ms/epoch - 6ms/step\n",
      "Epoch 64/100\n",
      "28/28 - 0s - loss: 1.2552e-05 - accuracy: 1.0000 - val_loss: 0.0496 - val_accuracy: 0.9828 - 183ms/epoch - 7ms/step\n",
      "Epoch 65/100\n",
      "28/28 - 0s - loss: 6.6760e-06 - accuracy: 1.0000 - val_loss: 0.0506 - val_accuracy: 0.9828 - 190ms/epoch - 7ms/step\n",
      "Epoch 66/100\n",
      "28/28 - 0s - loss: 2.0548e-05 - accuracy: 1.0000 - val_loss: 0.0489 - val_accuracy: 0.9828 - 178ms/epoch - 6ms/step\n",
      "Epoch 67/100\n",
      "28/28 - 0s - loss: 1.4792e-05 - accuracy: 1.0000 - val_loss: 0.0491 - val_accuracy: 0.9828 - 171ms/epoch - 6ms/step\n",
      "Epoch 68/100\n",
      "28/28 - 0s - loss: 3.4593e-06 - accuracy: 1.0000 - val_loss: 0.0492 - val_accuracy: 0.9828 - 190ms/epoch - 7ms/step\n",
      "Epoch 69/100\n",
      "28/28 - 0s - loss: 1.2722e-05 - accuracy: 1.0000 - val_loss: 0.0477 - val_accuracy: 0.9828 - 171ms/epoch - 6ms/step\n",
      "Epoch 70/100\n",
      "28/28 - 0s - loss: 2.8985e-06 - accuracy: 1.0000 - val_loss: 0.0474 - val_accuracy: 0.9828 - 171ms/epoch - 6ms/step\n",
      "Epoch 71/100\n",
      "28/28 - 0s - loss: 1.0968e-05 - accuracy: 1.0000 - val_loss: 0.0474 - val_accuracy: 0.9828 - 173ms/epoch - 6ms/step\n",
      "Epoch 72/100\n",
      "28/28 - 0s - loss: 1.3368e-05 - accuracy: 1.0000 - val_loss: 0.0537 - val_accuracy: 0.9828 - 166ms/epoch - 6ms/step\n",
      "Epoch 73/100\n",
      "28/28 - 0s - loss: 3.4834e-05 - accuracy: 1.0000 - val_loss: 0.0473 - val_accuracy: 0.9828 - 179ms/epoch - 6ms/step\n",
      "Epoch 74/100\n",
      "28/28 - 0s - loss: 5.9128e-06 - accuracy: 1.0000 - val_loss: 0.0484 - val_accuracy: 0.9828 - 178ms/epoch - 6ms/step\n",
      "Epoch 75/100\n",
      "28/28 - 0s - loss: 8.7041e-06 - accuracy: 1.0000 - val_loss: 0.0498 - val_accuracy: 0.9828 - 163ms/epoch - 6ms/step\n",
      "Epoch 76/100\n",
      "28/28 - 0s - loss: 7.1093e-06 - accuracy: 1.0000 - val_loss: 0.0544 - val_accuracy: 0.9828 - 174ms/epoch - 6ms/step\n",
      "Epoch 77/100\n",
      "28/28 - 0s - loss: 1.3820e-05 - accuracy: 1.0000 - val_loss: 0.0562 - val_accuracy: 0.9828 - 185ms/epoch - 7ms/step\n",
      "Epoch 78/100\n",
      "28/28 - 0s - loss: 2.2882e-05 - accuracy: 1.0000 - val_loss: 0.0582 - val_accuracy: 0.9828 - 202ms/epoch - 7ms/step\n",
      "Epoch 79/100\n",
      "28/28 - 0s - loss: 1.4664e-05 - accuracy: 1.0000 - val_loss: 0.0516 - val_accuracy: 0.9828 - 190ms/epoch - 7ms/step\n",
      "Epoch 80/100\n",
      "28/28 - 0s - loss: 8.8213e-05 - accuracy: 1.0000 - val_loss: 0.0525 - val_accuracy: 0.9655 - 174ms/epoch - 6ms/step\n",
      "Epoch 81/100\n",
      "28/28 - 0s - loss: 5.6359e-05 - accuracy: 1.0000 - val_loss: 0.0281 - val_accuracy: 0.9828 - 198ms/epoch - 7ms/step\n",
      "Epoch 82/100\n",
      "28/28 - 0s - loss: 3.3352e-05 - accuracy: 1.0000 - val_loss: 0.0256 - val_accuracy: 0.9828 - 218ms/epoch - 8ms/step\n",
      "Epoch 83/100\n",
      "28/28 - 0s - loss: 1.2235e-06 - accuracy: 1.0000 - val_loss: 0.0245 - val_accuracy: 0.9828 - 179ms/epoch - 6ms/step\n",
      "Epoch 84/100\n",
      "28/28 - 0s - loss: 8.0624e-06 - accuracy: 1.0000 - val_loss: 0.0246 - val_accuracy: 0.9828 - 237ms/epoch - 8ms/step\n",
      "Epoch 85/100\n",
      "28/28 - 0s - loss: 1.4111e-05 - accuracy: 1.0000 - val_loss: 0.0344 - val_accuracy: 0.9828 - 184ms/epoch - 7ms/step\n",
      "Epoch 86/100\n",
      "28/28 - 0s - loss: 1.1978e-04 - accuracy: 1.0000 - val_loss: 0.0825 - val_accuracy: 0.9655 - 173ms/epoch - 6ms/step\n",
      "Epoch 87/100\n",
      "28/28 - 0s - loss: 1.3384e-05 - accuracy: 1.0000 - val_loss: 0.0666 - val_accuracy: 0.9655 - 177ms/epoch - 6ms/step\n",
      "Epoch 88/100\n",
      "28/28 - 0s - loss: 1.4418e-05 - accuracy: 1.0000 - val_loss: 0.0610 - val_accuracy: 0.9655 - 202ms/epoch - 7ms/step\n",
      "Epoch 89/100\n",
      "28/28 - 0s - loss: 2.9362e-06 - accuracy: 1.0000 - val_loss: 0.0599 - val_accuracy: 0.9655 - 277ms/epoch - 10ms/step\n",
      "Epoch 90/100\n",
      "28/28 - 0s - loss: 1.0098e-05 - accuracy: 1.0000 - val_loss: 0.0617 - val_accuracy: 0.9655 - 233ms/epoch - 8ms/step\n",
      "Epoch 91/100\n",
      "28/28 - 0s - loss: 5.4164e-06 - accuracy: 1.0000 - val_loss: 0.0605 - val_accuracy: 0.9655 - 193ms/epoch - 7ms/step\n",
      "Epoch 92/100\n",
      "28/28 - 0s - loss: 4.4460e-06 - accuracy: 1.0000 - val_loss: 0.0600 - val_accuracy: 0.9655 - 215ms/epoch - 8ms/step\n",
      "Epoch 93/100\n",
      "28/28 - 0s - loss: 2.0411e-06 - accuracy: 1.0000 - val_loss: 0.0596 - val_accuracy: 0.9655 - 184ms/epoch - 7ms/step\n",
      "Epoch 94/100\n",
      "28/28 - 0s - loss: 2.2848e-06 - accuracy: 1.0000 - val_loss: 0.0598 - val_accuracy: 0.9655 - 234ms/epoch - 8ms/step\n",
      "Epoch 95/100\n",
      "28/28 - 0s - loss: 3.5236e-06 - accuracy: 1.0000 - val_loss: 0.0598 - val_accuracy: 0.9655 - 206ms/epoch - 7ms/step\n",
      "Epoch 96/100\n",
      "28/28 - 0s - loss: 5.0159e-07 - accuracy: 1.0000 - val_loss: 0.0597 - val_accuracy: 0.9655 - 174ms/epoch - 6ms/step\n",
      "Epoch 97/100\n",
      "28/28 - 0s - loss: 3.1895e-05 - accuracy: 1.0000 - val_loss: 0.0499 - val_accuracy: 0.9828 - 197ms/epoch - 7ms/step\n",
      "Epoch 98/100\n",
      "28/28 - 0s - loss: 1.1653e-06 - accuracy: 1.0000 - val_loss: 0.0491 - val_accuracy: 0.9828 - 263ms/epoch - 9ms/step\n",
      "Epoch 99/100\n",
      "28/28 - 0s - loss: 5.2956e-06 - accuracy: 1.0000 - val_loss: 0.0404 - val_accuracy: 0.9828 - 223ms/epoch - 8ms/step\n",
      "Epoch 100/100\n",
      "28/28 - 0s - loss: 3.8394e-06 - accuracy: 1.0000 - val_loss: 0.0391 - val_accuracy: 0.9828 - 227ms/epoch - 8ms/step\n"
     ]
    }
   ],
   "source": [
    "history = model3.fit(train_x, train_y, epochs=100, validation_data=(validation_x,validation_y),batch_size=10, shuffle=False,verbose=2)\n"
   ]
  },
  {
   "cell_type": "code",
   "execution_count": null,
   "metadata": {},
   "outputs": [
    {
     "name": "stdout",
     "output_type": "stream",
     "text": [
      "2/2 [==============================] - 0s 8ms/step - loss: 0.0391 - accuracy: 0.9828\n"
     ]
    },
    {
     "data": {
      "text/plain": [
       "[0.03914039582014084, 0.982758641242981]"
      ]
     },
     "execution_count": 41,
     "metadata": {},
     "output_type": "execute_result"
    }
   ],
   "source": [
    "model3.evaluate(validation_x,validation_y)"
   ]
  },
  {
   "cell_type": "code",
   "execution_count": null,
   "metadata": {},
   "outputs": [
    {
     "name": "stdout",
     "output_type": "stream",
     "text": [
      "2/2 [==============================] - 0s 7ms/step - loss: 1.2792e-05 - accuracy: 1.0000\n"
     ]
    },
    {
     "data": {
      "text/plain": [
       "[1.2791970220860094e-05, 1.0]"
      ]
     },
     "execution_count": 42,
     "metadata": {},
     "output_type": "execute_result"
    }
   ],
   "source": [
    "model3.evaluate(test_x,test_y)"
   ]
  },
  {
   "cell_type": "code",
   "execution_count": null,
   "metadata": {},
   "outputs": [
    {
     "name": "stdout",
     "output_type": "stream",
     "text": [
      "9/9 [==============================] - 0s 4ms/step - loss: 1.1420e-06 - accuracy: 1.0000\n"
     ]
    },
    {
     "data": {
      "text/plain": [
       "[1.1420494274716475e-06, 1.0]"
      ]
     },
     "execution_count": 43,
     "metadata": {},
     "output_type": "execute_result"
    }
   ],
   "source": [
    "model3.evaluate(train_x,train_y)"
   ]
  },
  {
   "cell_type": "code",
   "execution_count": null,
   "metadata": {},
   "outputs": [
    {
     "name": "stdout",
     "output_type": "stream",
     "text": [
      "dict_keys(['loss', 'accuracy', 'val_loss', 'val_accuracy'])\n"
     ]
    },
    {
     "data": {
      "image/png": "[encoded data removed]",
      "text/plain": [
       "<Figure size 640x480 with 1 Axes>"
      ]
     },
     "metadata": {},
     "output_type": "display_data"
    },
    {
     "data": {
      "image/png": "[encoded data removed]",
      "text/plain": [
       "<Figure size 640x480 with 1 Axes>"
      ]
     },
     "metadata": {},
     "output_type": "display_data"
    }
   ],
   "source": [
    "print(history.history.keys())\n",
    "#  \"Accuracy\"\n",
    "plt.plot(history.history['accuracy'])\n",
    "plt.plot(history.history['val_accuracy'])\n",
    "plt.title('model accuracy')\n",
    "plt.ylabel('accuracy')\n",
    "plt.xlabel('epoch')\n",
    "plt.legend(['train', 'validation'], loc='upper left')\n",
    "plt.show()\n",
    "# \"Loss\"\n",
    "plt.plot(history.history['loss'])\n",
    "plt.plot(history.history['val_loss'])\n",
    "plt.title('model loss')\n",
    "plt.ylabel('loss')\n",
    "plt.xlabel('epoch')\n",
    "plt.legend(['train', 'validation'], loc='upper left')\n",
    "plt.show()"
   ]
  },
  {
   "cell_type": "code",
   "execution_count": null,
   "metadata": {},
   "outputs": [],
   "source": [
    "model4 = Sequential()\n",
    "model4.add(Conv1D(64, 2, input_shape=(64, 12)))\n",
    "model4.add(Activation('relu'))\n",
    "model4.add(Conv1D(64, 2))\n",
    "model4.add(Activation('relu'))\n",
    "model4.add(MaxPooling1D(3))\n",
    "model4.add(Conv1D(128, 2))\n",
    "model4.add(Activation('relu'))\n",
    "model4.add(Conv1D(128, 2))\n",
    "model4.add(Activation('relu'))\n",
    "model4.add(GlobalAveragePooling1D())\n",
    "model4.add(Dropout(0.2))\n",
    "model4.add(Dense(1))\n",
    "model4.add(Activation('sigmoid'))\n"
   ]
  },
  {
   "cell_type": "code",
   "execution_count": null,
   "metadata": {},
   "outputs": [
    {
     "name": "stderr",
     "output_type": "stream",
     "text": [
      "c:\\Program Files\\Python37\\lib\\site-packages\\keras\\optimizers\\optimizer_v2\\adam.py:117: UserWarning: The `lr` argument is deprecated, use `learning_rate` instead.\n",
      "  super().__init__(name, **kwargs)\n"
     ]
    }
   ],
   "source": [
    "model4.compile(loss='binary_crossentropy',optimizer=Adam(lr=0.0001),metrics=['accuracy'])"
   ]
  },
  {
   "cell_type": "code",
   "execution_count": null,
   "metadata": {},
   "outputs": [
    {
     "name": "stdout",
     "output_type": "stream",
     "text": [
      "Epoch 1/100\n",
      "28/28 - 1s - loss: 0.5393 - accuracy: 0.7823 - val_loss: 0.2180 - val_accuracy: 0.9310 - 1s/epoch - 37ms/step\n",
      "Epoch 2/100\n",
      "28/28 - 0s - loss: 0.2535 - accuracy: 0.9004 - val_loss: 0.1686 - val_accuracy: 0.9310 - 170ms/epoch - 6ms/step\n",
      "Epoch 3/100\n",
      "28/28 - 0s - loss: 0.2418 - accuracy: 0.9041 - val_loss: 0.1453 - val_accuracy: 0.9483 - 167ms/epoch - 6ms/step\n",
      "Epoch 4/100\n",
      "28/28 - 0s - loss: 0.1866 - accuracy: 0.9336 - val_loss: 0.1389 - val_accuracy: 0.9310 - 179ms/epoch - 6ms/step\n",
      "Epoch 5/100\n",
      "28/28 - 0s - loss: 0.1169 - accuracy: 0.9520 - val_loss: 0.1115 - val_accuracy: 0.9483 - 169ms/epoch - 6ms/step\n",
      "Epoch 6/100\n",
      "28/28 - 0s - loss: 0.1018 - accuracy: 0.9668 - val_loss: 0.1045 - val_accuracy: 0.9655 - 184ms/epoch - 7ms/step\n",
      "Epoch 7/100\n",
      "28/28 - 0s - loss: 0.0959 - accuracy: 0.9668 - val_loss: 0.1053 - val_accuracy: 0.9655 - 213ms/epoch - 8ms/step\n",
      "Epoch 8/100\n",
      "28/28 - 0s - loss: 0.0864 - accuracy: 0.9668 - val_loss: 0.0951 - val_accuracy: 0.9655 - 222ms/epoch - 8ms/step\n",
      "Epoch 9/100\n",
      "28/28 - 0s - loss: 0.0694 - accuracy: 0.9779 - val_loss: 0.0833 - val_accuracy: 0.9655 - 255ms/epoch - 9ms/step\n",
      "Epoch 10/100\n",
      "28/28 - 0s - loss: 0.0721 - accuracy: 0.9779 - val_loss: 0.0857 - val_accuracy: 0.9828 - 159ms/epoch - 6ms/step\n",
      "Epoch 11/100\n",
      "28/28 - 0s - loss: 0.0792 - accuracy: 0.9779 - val_loss: 0.0919 - val_accuracy: 0.9655 - 175ms/epoch - 6ms/step\n",
      "Epoch 12/100\n",
      "28/28 - 0s - loss: 0.0533 - accuracy: 0.9779 - val_loss: 0.0958 - val_accuracy: 0.9655 - 164ms/epoch - 6ms/step\n",
      "Epoch 13/100\n",
      "28/28 - 0s - loss: 0.0417 - accuracy: 0.9889 - val_loss: 0.0781 - val_accuracy: 0.9655 - 161ms/epoch - 6ms/step\n",
      "Epoch 14/100\n",
      "28/28 - 0s - loss: 0.0424 - accuracy: 0.9852 - val_loss: 0.0713 - val_accuracy: 0.9655 - 172ms/epoch - 6ms/step\n",
      "Epoch 15/100\n",
      "28/28 - 0s - loss: 0.0422 - accuracy: 0.9852 - val_loss: 0.0863 - val_accuracy: 0.9655 - 177ms/epoch - 6ms/step\n",
      "Epoch 16/100\n",
      "28/28 - 0s - loss: 0.0404 - accuracy: 0.9889 - val_loss: 0.0691 - val_accuracy: 0.9655 - 185ms/epoch - 7ms/step\n",
      "Epoch 17/100\n",
      "28/28 - 0s - loss: 0.0415 - accuracy: 0.9889 - val_loss: 0.0666 - val_accuracy: 0.9828 - 196ms/epoch - 7ms/step\n",
      "Epoch 18/100\n",
      "28/28 - 0s - loss: 0.0354 - accuracy: 0.9889 - val_loss: 0.0701 - val_accuracy: 0.9655 - 180ms/epoch - 6ms/step\n",
      "Epoch 19/100\n",
      "28/28 - 0s - loss: 0.0288 - accuracy: 0.9815 - val_loss: 0.0723 - val_accuracy: 0.9655 - 162ms/epoch - 6ms/step\n",
      "Epoch 20/100\n",
      "28/28 - 0s - loss: 0.0281 - accuracy: 0.9889 - val_loss: 0.0998 - val_accuracy: 0.9655 - 158ms/epoch - 6ms/step\n",
      "Epoch 21/100\n",
      "28/28 - 0s - loss: 0.0200 - accuracy: 1.0000 - val_loss: 0.0673 - val_accuracy: 0.9655 - 155ms/epoch - 6ms/step\n",
      "Epoch 22/100\n",
      "28/28 - 0s - loss: 0.0126 - accuracy: 1.0000 - val_loss: 0.0659 - val_accuracy: 0.9655 - 166ms/epoch - 6ms/step\n",
      "Epoch 23/100\n",
      "28/28 - 0s - loss: 0.0135 - accuracy: 1.0000 - val_loss: 0.0633 - val_accuracy: 0.9655 - 191ms/epoch - 7ms/step\n",
      "Epoch 24/100\n",
      "28/28 - 0s - loss: 0.0203 - accuracy: 0.9926 - val_loss: 0.0664 - val_accuracy: 0.9655 - 192ms/epoch - 7ms/step\n",
      "Epoch 25/100\n",
      "28/28 - 0s - loss: 0.0216 - accuracy: 0.9963 - val_loss: 0.0720 - val_accuracy: 0.9655 - 168ms/epoch - 6ms/step\n",
      "Epoch 26/100\n",
      "28/28 - 0s - loss: 0.0190 - accuracy: 0.9963 - val_loss: 0.0829 - val_accuracy: 0.9828 - 166ms/epoch - 6ms/step\n",
      "Epoch 27/100\n",
      "28/28 - 0s - loss: 0.0138 - accuracy: 0.9963 - val_loss: 0.0595 - val_accuracy: 0.9655 - 187ms/epoch - 7ms/step\n",
      "Epoch 28/100\n",
      "28/28 - 0s - loss: 0.0131 - accuracy: 1.0000 - val_loss: 0.0759 - val_accuracy: 0.9655 - 182ms/epoch - 7ms/step\n",
      "Epoch 29/100\n",
      "28/28 - 0s - loss: 0.0110 - accuracy: 0.9963 - val_loss: 0.0748 - val_accuracy: 0.9655 - 186ms/epoch - 7ms/step\n",
      "Epoch 30/100\n",
      "28/28 - 0s - loss: 0.0134 - accuracy: 0.9963 - val_loss: 0.0630 - val_accuracy: 0.9828 - 186ms/epoch - 7ms/step\n",
      "Epoch 31/100\n",
      "28/28 - 0s - loss: 0.0163 - accuracy: 1.0000 - val_loss: 0.0492 - val_accuracy: 0.9828 - 164ms/epoch - 6ms/step\n",
      "Epoch 32/100\n",
      "28/28 - 0s - loss: 0.0075 - accuracy: 1.0000 - val_loss: 0.0557 - val_accuracy: 0.9828 - 161ms/epoch - 6ms/step\n",
      "Epoch 33/100\n",
      "28/28 - 0s - loss: 0.0083 - accuracy: 1.0000 - val_loss: 0.0612 - val_accuracy: 0.9828 - 158ms/epoch - 6ms/step\n",
      "Epoch 34/100\n",
      "28/28 - 0s - loss: 0.0058 - accuracy: 1.0000 - val_loss: 0.0600 - val_accuracy: 0.9655 - 170ms/epoch - 6ms/step\n",
      "Epoch 35/100\n",
      "28/28 - 0s - loss: 0.0089 - accuracy: 1.0000 - val_loss: 0.0640 - val_accuracy: 0.9828 - 162ms/epoch - 6ms/step\n",
      "Epoch 36/100\n",
      "28/28 - 0s - loss: 0.0122 - accuracy: 0.9963 - val_loss: 0.0850 - val_accuracy: 0.9655 - 160ms/epoch - 6ms/step\n",
      "Epoch 37/100\n",
      "28/28 - 0s - loss: 0.0114 - accuracy: 0.9963 - val_loss: 0.0629 - val_accuracy: 0.9828 - 165ms/epoch - 6ms/step\n",
      "Epoch 38/100\n",
      "28/28 - 0s - loss: 0.0070 - accuracy: 1.0000 - val_loss: 0.0495 - val_accuracy: 0.9828 - 173ms/epoch - 6ms/step\n",
      "Epoch 39/100\n",
      "28/28 - 0s - loss: 0.0052 - accuracy: 1.0000 - val_loss: 0.0559 - val_accuracy: 0.9828 - 166ms/epoch - 6ms/step\n",
      "Epoch 40/100\n",
      "28/28 - 0s - loss: 0.0069 - accuracy: 1.0000 - val_loss: 0.0652 - val_accuracy: 0.9828 - 185ms/epoch - 7ms/step\n",
      "Epoch 41/100\n",
      "28/28 - 0s - loss: 0.0044 - accuracy: 1.0000 - val_loss: 0.0638 - val_accuracy: 0.9828 - 167ms/epoch - 6ms/step\n",
      "Epoch 42/100\n",
      "28/28 - 0s - loss: 0.0044 - accuracy: 1.0000 - val_loss: 0.0611 - val_accuracy: 0.9828 - 167ms/epoch - 6ms/step\n",
      "Epoch 43/100\n",
      "28/28 - 0s - loss: 0.0055 - accuracy: 1.0000 - val_loss: 0.0657 - val_accuracy: 0.9828 - 161ms/epoch - 6ms/step\n",
      "Epoch 44/100\n",
      "28/28 - 0s - loss: 0.0054 - accuracy: 1.0000 - val_loss: 0.0832 - val_accuracy: 0.9828 - 158ms/epoch - 6ms/step\n",
      "Epoch 45/100\n",
      "28/28 - 0s - loss: 0.0053 - accuracy: 1.0000 - val_loss: 0.0778 - val_accuracy: 0.9655 - 163ms/epoch - 6ms/step\n",
      "Epoch 46/100\n",
      "28/28 - 0s - loss: 0.0046 - accuracy: 1.0000 - val_loss: 0.0796 - val_accuracy: 0.9655 - 191ms/epoch - 7ms/step\n",
      "Epoch 47/100\n",
      "28/28 - 0s - loss: 0.0041 - accuracy: 1.0000 - val_loss: 0.0762 - val_accuracy: 0.9655 - 161ms/epoch - 6ms/step\n",
      "Epoch 48/100\n",
      "28/28 - 0s - loss: 0.0039 - accuracy: 1.0000 - val_loss: 0.0760 - val_accuracy: 0.9655 - 164ms/epoch - 6ms/step\n",
      "Epoch 49/100\n",
      "28/28 - 0s - loss: 0.0036 - accuracy: 1.0000 - val_loss: 0.0779 - val_accuracy: 0.9828 - 168ms/epoch - 6ms/step\n",
      "Epoch 50/100\n",
      "28/28 - 0s - loss: 0.0036 - accuracy: 1.0000 - val_loss: 0.0768 - val_accuracy: 0.9655 - 168ms/epoch - 6ms/step\n",
      "Epoch 51/100\n",
      "28/28 - 0s - loss: 0.0034 - accuracy: 1.0000 - val_loss: 0.0780 - val_accuracy: 0.9655 - 171ms/epoch - 6ms/step\n",
      "Epoch 52/100\n",
      "28/28 - 0s - loss: 0.0029 - accuracy: 1.0000 - val_loss: 0.0773 - val_accuracy: 0.9828 - 182ms/epoch - 6ms/step\n",
      "Epoch 53/100\n",
      "28/28 - 0s - loss: 0.0075 - accuracy: 0.9963 - val_loss: 0.0702 - val_accuracy: 0.9828 - 167ms/epoch - 6ms/step\n",
      "Epoch 54/100\n",
      "28/28 - 0s - loss: 0.0072 - accuracy: 1.0000 - val_loss: 0.0776 - val_accuracy: 0.9655 - 162ms/epoch - 6ms/step\n",
      "Epoch 55/100\n",
      "28/28 - 0s - loss: 0.0036 - accuracy: 1.0000 - val_loss: 0.0770 - val_accuracy: 0.9828 - 157ms/epoch - 6ms/step\n",
      "Epoch 56/100\n",
      "28/28 - 0s - loss: 0.0029 - accuracy: 1.0000 - val_loss: 0.0734 - val_accuracy: 0.9828 - 159ms/epoch - 6ms/step\n",
      "Epoch 57/100\n",
      "28/28 - 0s - loss: 0.0032 - accuracy: 1.0000 - val_loss: 0.0691 - val_accuracy: 0.9828 - 163ms/epoch - 6ms/step\n",
      "Epoch 58/100\n",
      "28/28 - 0s - loss: 0.0031 - accuracy: 1.0000 - val_loss: 0.0723 - val_accuracy: 0.9828 - 168ms/epoch - 6ms/step\n",
      "Epoch 59/100\n",
      "28/28 - 0s - loss: 0.0025 - accuracy: 1.0000 - val_loss: 0.0718 - val_accuracy: 0.9828 - 161ms/epoch - 6ms/step\n",
      "Epoch 60/100\n",
      "28/28 - 0s - loss: 0.0030 - accuracy: 1.0000 - val_loss: 0.0724 - val_accuracy: 0.9828 - 165ms/epoch - 6ms/step\n",
      "Epoch 61/100\n",
      "28/28 - 0s - loss: 0.0029 - accuracy: 1.0000 - val_loss: 0.0760 - val_accuracy: 0.9828 - 188ms/epoch - 7ms/step\n",
      "Epoch 62/100\n",
      "28/28 - 0s - loss: 0.0043 - accuracy: 1.0000 - val_loss: 0.0690 - val_accuracy: 0.9655 - 234ms/epoch - 8ms/step\n",
      "Epoch 63/100\n",
      "28/28 - 0s - loss: 0.0029 - accuracy: 1.0000 - val_loss: 0.0739 - val_accuracy: 0.9828 - 181ms/epoch - 6ms/step\n",
      "Epoch 64/100\n",
      "28/28 - 0s - loss: 0.0024 - accuracy: 1.0000 - val_loss: 0.0740 - val_accuracy: 0.9828 - 173ms/epoch - 6ms/step\n",
      "Epoch 65/100\n",
      "28/28 - 0s - loss: 0.0034 - accuracy: 1.0000 - val_loss: 0.0825 - val_accuracy: 0.9828 - 164ms/epoch - 6ms/step\n",
      "Epoch 66/100\n",
      "28/28 - 0s - loss: 0.0030 - accuracy: 1.0000 - val_loss: 0.0589 - val_accuracy: 0.9828 - 172ms/epoch - 6ms/step\n",
      "Epoch 67/100\n",
      "28/28 - 0s - loss: 0.0027 - accuracy: 1.0000 - val_loss: 0.0602 - val_accuracy: 0.9828 - 161ms/epoch - 6ms/step\n",
      "Epoch 68/100\n",
      "28/28 - 0s - loss: 0.0026 - accuracy: 1.0000 - val_loss: 0.0655 - val_accuracy: 0.9828 - 161ms/epoch - 6ms/step\n",
      "Epoch 69/100\n",
      "28/28 - 0s - loss: 0.0021 - accuracy: 1.0000 - val_loss: 0.0683 - val_accuracy: 0.9828 - 172ms/epoch - 6ms/step\n",
      "Epoch 70/100\n",
      "28/28 - 0s - loss: 0.0021 - accuracy: 1.0000 - val_loss: 0.0663 - val_accuracy: 0.9828 - 161ms/epoch - 6ms/step\n",
      "Epoch 71/100\n",
      "28/28 - 0s - loss: 0.0028 - accuracy: 1.0000 - val_loss: 0.0610 - val_accuracy: 0.9828 - 165ms/epoch - 6ms/step\n",
      "Epoch 72/100\n",
      "28/28 - 0s - loss: 0.0046 - accuracy: 1.0000 - val_loss: 0.0889 - val_accuracy: 0.9828 - 166ms/epoch - 6ms/step\n",
      "Epoch 73/100\n",
      "28/28 - 0s - loss: 0.0027 - accuracy: 1.0000 - val_loss: 0.0824 - val_accuracy: 0.9655 - 169ms/epoch - 6ms/step\n",
      "Epoch 74/100\n",
      "28/28 - 0s - loss: 0.0153 - accuracy: 0.9963 - val_loss: 0.0665 - val_accuracy: 0.9828 - 171ms/epoch - 6ms/step\n",
      "Epoch 75/100\n",
      "28/28 - 0s - loss: 0.0099 - accuracy: 0.9963 - val_loss: 0.1673 - val_accuracy: 0.9655 - 185ms/epoch - 7ms/step\n",
      "Epoch 76/100\n",
      "28/28 - 0s - loss: 0.0135 - accuracy: 0.9963 - val_loss: 0.1213 - val_accuracy: 0.9828 - 165ms/epoch - 6ms/step\n",
      "Epoch 77/100\n",
      "28/28 - 0s - loss: 0.0146 - accuracy: 0.9926 - val_loss: 0.1163 - val_accuracy: 0.9828 - 174ms/epoch - 6ms/step\n",
      "Epoch 78/100\n",
      "28/28 - 0s - loss: 0.0043 - accuracy: 1.0000 - val_loss: 0.0612 - val_accuracy: 0.9828 - 168ms/epoch - 6ms/step\n",
      "Epoch 79/100\n",
      "28/28 - 0s - loss: 0.0018 - accuracy: 1.0000 - val_loss: 0.0562 - val_accuracy: 0.9828 - 157ms/epoch - 6ms/step\n",
      "Epoch 80/100\n",
      "28/28 - 0s - loss: 0.0020 - accuracy: 1.0000 - val_loss: 0.0543 - val_accuracy: 0.9828 - 163ms/epoch - 6ms/step\n",
      "Epoch 81/100\n",
      "28/28 - 0s - loss: 0.0020 - accuracy: 1.0000 - val_loss: 0.0565 - val_accuracy: 0.9828 - 175ms/epoch - 6ms/step\n",
      "Epoch 82/100\n",
      "28/28 - 0s - loss: 0.0019 - accuracy: 1.0000 - val_loss: 0.0620 - val_accuracy: 0.9828 - 157ms/epoch - 6ms/step\n",
      "Epoch 83/100\n",
      "28/28 - 0s - loss: 0.0020 - accuracy: 1.0000 - val_loss: 0.0675 - val_accuracy: 0.9828 - 165ms/epoch - 6ms/step\n",
      "Epoch 84/100\n",
      "28/28 - 0s - loss: 0.0019 - accuracy: 1.0000 - val_loss: 0.0642 - val_accuracy: 0.9828 - 172ms/epoch - 6ms/step\n",
      "Epoch 85/100\n",
      "28/28 - 0s - loss: 0.0017 - accuracy: 1.0000 - val_loss: 0.0611 - val_accuracy: 0.9828 - 170ms/epoch - 6ms/step\n",
      "Epoch 86/100\n",
      "28/28 - 0s - loss: 0.0020 - accuracy: 1.0000 - val_loss: 0.0620 - val_accuracy: 0.9828 - 183ms/epoch - 7ms/step\n",
      "Epoch 87/100\n",
      "28/28 - 0s - loss: 0.0019 - accuracy: 1.0000 - val_loss: 0.0603 - val_accuracy: 0.9828 - 179ms/epoch - 6ms/step\n",
      "Epoch 88/100\n",
      "28/28 - 0s - loss: 0.0016 - accuracy: 1.0000 - val_loss: 0.0579 - val_accuracy: 0.9828 - 196ms/epoch - 7ms/step\n",
      "Epoch 89/100\n",
      "28/28 - 0s - loss: 0.0020 - accuracy: 1.0000 - val_loss: 0.0633 - val_accuracy: 0.9828 - 162ms/epoch - 6ms/step\n",
      "Epoch 90/100\n",
      "28/28 - 0s - loss: 0.0019 - accuracy: 1.0000 - val_loss: 0.0664 - val_accuracy: 0.9828 - 172ms/epoch - 6ms/step\n",
      "Epoch 91/100\n",
      "28/28 - 0s - loss: 0.0020 - accuracy: 1.0000 - val_loss: 0.0761 - val_accuracy: 0.9828 - 172ms/epoch - 6ms/step\n",
      "Epoch 92/100\n",
      "28/28 - 0s - loss: 0.0016 - accuracy: 1.0000 - val_loss: 0.0698 - val_accuracy: 0.9828 - 209ms/epoch - 7ms/step\n",
      "Epoch 93/100\n",
      "28/28 - 0s - loss: 0.0016 - accuracy: 1.0000 - val_loss: 0.0736 - val_accuracy: 0.9828 - 166ms/epoch - 6ms/step\n",
      "Epoch 94/100\n",
      "28/28 - 0s - loss: 0.0015 - accuracy: 1.0000 - val_loss: 0.0750 - val_accuracy: 0.9828 - 164ms/epoch - 6ms/step\n",
      "Epoch 95/100\n",
      "28/28 - 0s - loss: 0.0014 - accuracy: 1.0000 - val_loss: 0.0680 - val_accuracy: 0.9828 - 167ms/epoch - 6ms/step\n",
      "Epoch 96/100\n",
      "28/28 - 0s - loss: 0.0016 - accuracy: 1.0000 - val_loss: 0.0655 - val_accuracy: 0.9828 - 163ms/epoch - 6ms/step\n",
      "Epoch 97/100\n",
      "28/28 - 0s - loss: 0.0018 - accuracy: 1.0000 - val_loss: 0.0730 - val_accuracy: 0.9828 - 170ms/epoch - 6ms/step\n",
      "Epoch 98/100\n",
      "28/28 - 0s - loss: 0.0016 - accuracy: 1.0000 - val_loss: 0.0673 - val_accuracy: 0.9828 - 184ms/epoch - 7ms/step\n",
      "Epoch 99/100\n",
      "28/28 - 0s - loss: 0.0013 - accuracy: 1.0000 - val_loss: 0.0654 - val_accuracy: 0.9828 - 169ms/epoch - 6ms/step\n",
      "Epoch 100/100\n",
      "28/28 - 0s - loss: 0.0013 - accuracy: 1.0000 - val_loss: 0.0659 - val_accuracy: 0.9828 - 160ms/epoch - 6ms/step\n"
     ]
    }
   ],
   "source": [
    "history = model4.fit(train_x, train_y, epochs=100, validation_data=(validation_x,validation_y),batch_size=10, shuffle=False,verbose=2)\n"
   ]
  },
  {
   "cell_type": "code",
   "execution_count": null,
   "metadata": {},
   "outputs": [
    {
     "name": "stdout",
     "output_type": "stream",
     "text": [
      "2/2 [==============================] - 0s 4ms/step - loss: 0.0659 - accuracy: 0.9828\n"
     ]
    },
    {
     "data": {
      "text/plain": [
       "[0.06594116240739822, 0.982758641242981]"
      ]
     },
     "execution_count": 48,
     "metadata": {},
     "output_type": "execute_result"
    }
   ],
   "source": [
    "model4.evaluate(validation_x,validation_y)"
   ]
  },
  {
   "cell_type": "code",
   "execution_count": null,
   "metadata": {},
   "outputs": [
    {
     "name": "stdout",
     "output_type": "stream",
     "text": [
      "2/2 [==============================] - 0s 6ms/step - loss: 5.9616e-04 - accuracy: 1.0000\n"
     ]
    },
    {
     "data": {
      "text/plain": [
       "[0.0005961587885394692, 1.0]"
      ]
     },
     "execution_count": 49,
     "metadata": {},
     "output_type": "execute_result"
    }
   ],
   "source": [
    "model4.evaluate(test_x,test_y)"
   ]
  },
  {
   "cell_type": "code",
   "execution_count": null,
   "metadata": {},
   "outputs": [
    {
     "name": "stdout",
     "output_type": "stream",
     "text": [
      "9/9 [==============================] - 0s 4ms/step - loss: 0.0012 - accuracy: 1.0000\n"
     ]
    },
    {
     "data": {
      "text/plain": [
       "[0.0012067218776792288, 1.0]"
      ]
     },
     "execution_count": 50,
     "metadata": {},
     "output_type": "execute_result"
    }
   ],
   "source": [
    "model4.evaluate(train_x,train_y)"
   ]
  },
  {
   "cell_type": "code",
   "execution_count": null,
   "metadata": {},
   "outputs": [
    {
     "name": "stdout",
     "output_type": "stream",
     "text": [
      "dict_keys(['loss', 'accuracy', 'val_loss', 'val_accuracy'])\n"
     ]
    },
    {
     "data": {
      "image/png": "[encoded data removed]",
      "text/plain": [
       "<Figure size 640x480 with 1 Axes>"
      ]
     },
     "metadata": {},
     "output_type": "display_data"
    },
    {
     "data": {
      "image/png": "[encoded data removed]",
      "text/plain": [
       "<Figure size 640x480 with 1 Axes>"
      ]
     },
     "metadata": {},
     "output_type": "display_data"
    }
   ],
   "source": [
    "print(history.history.keys())\n",
    "#  \"Accuracy\"\n",
    "plt.plot(history.history['accuracy'])\n",
    "plt.plot(history.history['val_accuracy'])\n",
    "plt.title('model accuracy')\n",
    "plt.ylabel('accuracy')\n",
    "plt.xlabel('epoch')\n",
    "plt.legend(['train', 'validation'], loc='upper left')\n",
    "plt.show()\n",
    "# \"Loss\"\n",
    "plt.plot(history.history['loss'])\n",
    "plt.plot(history.history['val_loss'])\n",
    "plt.title('model loss')\n",
    "plt.ylabel('loss')\n",
    "plt.xlabel('epoch')\n",
    "plt.legend(['train', 'validation'], loc='upper left')\n",
    "plt.show()"
   ]
  },
  {
   "cell_type": "code",
   "execution_count": null,
   "metadata": {},
   "outputs": [],
   "source": [
    "from sklearn.metrics import confusion_matrix, classification_report\n",
    "import seaborn as sns"
   ]
  },
  {
   "cell_type": "code",
   "execution_count": null,
   "metadata": {},
   "outputs": [],
   "source": [
    "def plot_confusion_matrix(test_y, predicted_y):\n",
    "    # Confusion matrix\n",
    "    C = confusion_matrix(test_y, predicted_y)\n",
    "    # Recall matrix\n",
    "    A = (((C.T)/(C.sum(axis=1))).T)\n",
    "    # Precision matrix\n",
    "    B = (C/C.sum(axis=0))\n",
    "    plt.figure(figsize=(20,4))\n",
    "    labels = ['non-babycry(0)','babycry(1)']\n",
    "    cmap=sns.light_palette(\"purple\")\n",
    "    plt.subplot(1,3,1)\n",
    "    sns.heatmap(C, annot=True, cmap=cmap,fmt=\"d\", xticklabels = labels, yticklabels=labels)\n",
    "    plt.xlabel('Predicted Class')\n",
    "    plt.ylabel('Orignal Class')\n",
    "    plt.title('Confusion matrix')\n",
    "    plt.subplot(1,3,2)\n",
    "    sns.heatmap(A, annot=True, cmap=cmap, xticklabels = labels, yticklabels=labels)\n",
    "    plt.xlabel('Predicted Class')\n",
    "    plt.ylabel('Orignal Class')\n",
    "    plt.title('Recall matrix')\n",
    "    plt.subplot(1,3,3)\n",
    "    sns.heatmap(B, annot=True, cmap=cmap, xticklabels = labels, yticklabels=labels)\n",
    "    plt.xlabel('Predicted Class')\n",
    "    plt.ylabel('Orignal Class')\n",
    "    plt.title('Precision matrix')\n",
    "    plt.show()"
   ]
  },
  {
   "cell_type": "code",
   "execution_count": null,
   "metadata": {},
   "outputs": [
    {
     "name": "stdout",
     "output_type": "stream",
     "text": [
      "2/2 [==============================] - 0s 4ms/step\n"
     ]
    }
   ],
   "source": [
    "y = model2.predict(test_x)"
   ]
  },
  {
   "cell_type": "code",
   "execution_count": null,
   "metadata": {},
   "outputs": [
    {
     "data": {
      "image/png": "[encoded data removed]",
      "text/plain": [
       "<Figure size 2000x400 with 6 Axes>"
      ]
     },
     "metadata": {},
     "output_type": "display_data"
    }
   ],
   "source": [
    "plot_confusion_matrix(test_y, y.round())"
   ]
  },
  {
   "cell_type": "code",
   "execution_count": null,
   "metadata": {},
   "outputs": [],
   "source": [
    "with open('cnn.json','w') as f:\n",
    "    f.write(model2.to_json())"
   ]
  },
  {
   "cell_type": "code",
   "execution_count": null,
   "metadata": {},
   "outputs": [],
   "source": [
    "model2.save_weights(\"cnn.h5\")"
   ]
  }
 ],
 "metadata": {
  "kernelspec": {
   "display_name": "Python 3",
   "language": "python",
   "name": "python3"
  },
  "language_info": {
   "codemirror_mode": {
    "name": "ipython",
    "version": 3
   },
   "file_extension": ".py",
   "mimetype": "text/x-python",
   "name": "python",
   "nbconvert_exporter": "python",
   "pygments_lexer": "ipython3",
   "version": "3.7.9"
  }
 },
 "nbformat": 4,
 "nbformat_minor": 2
}
